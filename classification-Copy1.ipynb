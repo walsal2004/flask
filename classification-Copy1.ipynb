{
 "cells": [
  {
   "cell_type": "code",
   "execution_count": 79,
   "metadata": {},
   "outputs": [],
   "source": [
    "from pydna import readers\n",
    "from pydna.assembly import Assembly\n",
    "from pydna.dseqrecord import Dseqrecord"
   ]
  },
  {
   "cell_type": "code",
   "execution_count": 145,
   "metadata": {},
   "outputs": [],
   "source": [
    "def readFasta(filename):\n",
    "    sequences = []\n",
    "    \n",
    "    with open(filename) as fh:\n",
    "        while True:\n",
    "            fh.readline()\n",
    "            seq = fh.readline().rstrip()\n",
    "            fh.readline()\n",
    "            if len(seq) == 0:\n",
    "                break\n",
    "            sequences.append(seq)\n",
    "            \n",
    "        return sequences"
   ]
  },
  {
   "cell_type": "code",
   "execution_count": 110,
   "metadata": {},
   "outputs": [],
   "source": [
    "seqs = readFasta('clear_ls_orchid.fasta') "
   ]
  },
  {
   "cell_type": "code",
   "execution_count": 146,
   "metadata": {},
   "outputs": [],
   "source": [
    "seqs = readFasta('SRR8483185.fasta')"
   ]
  },
  {
   "cell_type": "code",
   "execution_count": 168,
   "metadata": {},
   "outputs": [
    {
     "data": {
      "text/plain": [
       "['NNNCTGCTCNCCAGGTTCAGCNCTGCCCCTACCCTCATTTTGCNNCCCNGNTCNGNCTCCNNTGTNNNNN',\n",
       " 'NNNTCAGGGCAGGGGTCTTGGAGCTCTTCCGCTGACCTGAGCCTCCCACCTGCTCCCCAGGTTCANNNNN',\n",
       " 'NNNTCAGGGCAGGGGTCTTGGAGCTCTTCCGCTGACCTGAGCCTCCCACCTGCTCCCCAGGTTCANNNNN',\n",
       " 'NNNCACCTCAGGGCAGGGGTCTTGGAGCTCTTCCGCTGACCTGAGCCTCCCACCTGCTCCCCAGGNNNNN',\n",
       " 'NNNGGCTAAGTCCCCCATGTACCNCCTCTCCCCNATCCTCCATTTGCTTGTCAGCAAAATGGCAANNNNN',\n",
       " 'NNNAGGGGTCTTGGAGCTCTTCCGCTGACCTGAGCCTCCCACCTGCTCCCCAGGNTCAGCCCNGCNNNNN',\n",
       " 'NNNAGGGGTCTTGGAGCTCTTCCGCTGACCTGAGCCTCCCACCTGCTCCCCAGGTTCAGCCCTGCNNNNN',\n",
       " 'NNNTCAGGGCAGGGGTCTTGGAGCTCTTCCGCTGACCTGAGCCTCCCACCTGCTCCCCAGGTTCANNNNN',\n",
       " 'NNNTGACCTGAGCCTCCCACCTGCTCCCCAGGTTCAGCCCTGCCCCNACCCTCATTTTGCTNCCCNNNNN',\n",
       " 'NNNCCCCAGGTTCAGCCCTGCCCCTACCCNCATTTTNCTCCCCAGCNCNGNCNCCNTTGTACCCCNNNNN',\n",
       " 'NNNAGAGTGAACAGCTAAGAGCCTGCAGCCAAGCGGTGAGTCTCCTCGGGCCTCCCCTCCCAACCNNNNN',\n",
       " 'NNNTCTGGAGCCTCTTTGCTCCCAGTAGCCCTATTCCAAGATGTTCTGGGGAGAGTGAACAGCTANNNNN',\n",
       " 'NNNGGTTTTCCATGAGCCTCCCACCTGCTCCCCAGGTTCAGCCCTGCCCCNACCCNCATTTTGCTNNNNN',\n",
       " 'NNNGGAGAAGGGCCTTGGCATCTGACCACCTCAGGGCAGGGGTCTTGGAGCTCTTCCGCTGACCTNNNNN',\n",
       " 'NNNGACCACCTCAGGGCAGGGGTCTTGGAGCTCTTCCGCTGACCTGAGCCTCCCACCTGCTCCCCNNNNN',\n",
       " 'NNNGGAGAAGGGCCTTGGCATCTGACCACCTCAGGGCAGGGGTCTTGGAGCTCTTCCGCTGACCTNNNNN',\n",
       " 'NNNTGAGCCTCCCACCTGCTCCCCAGGTTCAGCCCTGCCCCNACCCTCATTTTGCNCCCCNGCTCNNNNN',\n",
       " 'NNNGCTCTTCCGCTGACCTGAGCCTCCCACCTGCTCCCCAGGNTCAGCCCNGCCCCAACCCNCNTNNNNN',\n",
       " 'NNNGCTCTTCCGCTGACCTGAGCCTCCCACCTGCTCCCCAGGTTCAGCCCTGCCCCNACCCNCATNNNNN',\n",
       " 'NNNGCTCTTCCGCTGACCTGAGCCTCCCACCTGCTCCCCAGGTTCAGCCCTGNCCCNACCCNCATNNNNN',\n",
       " 'NNNGCTCTTCCGCTGACCTGAGCCTCCCACCTGCTCCCCAGGTTNAGCCCTGCCCCTACCCTCATNNNNN',\n",
       " 'NNNTGAGTCTTTTCCCCTACCCTCATTTTGCTNCCCNGCNNNGACTCCATTNTACCCCNCNCCCCNNNNN',\n",
       " 'NNNGCCCGGGGCCTGGAGTGACTGAGCAAGAACANGGGGGTGGGGTCTGCAAGGGGATGTGAGAGNNNNN',\n",
       " 'NNNGCTCTTCCGCTGACCTGAGCCTCCCACCTGCTCCCCAGGTTCAGCCCTGCCCCNACCCGCATNNNNN',\n",
       " 'NNNGCTCTTCCGCTGACCTGAGCCTCCCACCTGCTCCCCNGGTTCAGCCCTGCCCCNACCCNCATNNNNN',\n",
       " 'NNNCCCTGCCCTGAAGCTGGGTCTTCAGCTTCCGCTTGGCACCTGAGGGAGAAGGGCCTTGGCATNNNNN',\n",
       " 'NNNCAGGGGTCTTGGAGCTCTTCCGCTGACCTGAGCCTCCCACCTGCTCCCCAGGTTCAGCCCNGNNNNN',\n",
       " 'NNNCCCTGCCCTGAAGCTGGGTCTTCAGCTTCCGCTTGGCACCTGAGGGAGAAGGGCCTTGGCATNNNNN',\n",
       " 'NNNCCCTACCCTCATTTTGCTCCCCAGCTCTGACNCCTTTGTACCCCNCACCGCNGCCCNGCCCCNNNNN',\n",
       " 'NNNTTCATCCTCCGTGAGCCTCCCACCTGCTCCCCAGGTTCAGACCTGCCCCNACCCNCANTTTGNNNNN',\n",
       " 'NNNCCCTACCCTCATTTTGCTCCCCAGCTCTGACTCCTTTGTACCCCNCACCGCNGCCCNGCCCCNNNNN',\n",
       " 'NNNGGGGTTACCAGGTTCAGCCCTGCCCCTACCCTCATTTTGCTCCCCAGCTCTGNCTCCNTTGTNNNNN',\n",
       " 'NNNGGCAGGGGTCTTGGAGCTCTTCCGCTGACCTNAGCCNCCCACCTNCTCCCCAGGNTNANCCCNNNNN',\n",
       " 'NNNCCTCCAGTGTGGCTTCCCTGCCCTGAAGCTGGGTCTTCAGCTTCCGCTTGGCACCTGAGGGANNNNN',\n",
       " 'NNNCAGGGGTCTTGGAGCTCTTCCGCTGACCTGAGCCTCCCACCTGCTCCCCAGGNTCAGCCCTGNNNNN',\n",
       " 'NNNGGCAGGGGTCTTGGAGCTCTTCCGCTGACCTGAGCCTCCCACCTGCTCCCCAGGTTCAGCCCNNNNN',\n",
       " 'NNNGCTGGGGGTCCGCCCCTACCCTCATTTTGCTCCCCAGCTCNGACTCCNTTGTACCCCNCACCNNNNN',\n",
       " 'NNNGGTGTTTATACTGAAATCAGGTGATTATCACCGCCTGTGCTGGATCCAGAAAATCCTGCATCNNNNN',\n",
       " 'NNNGCCAAGCGGTGAGTCTCCTCGGGCCTCCCCTCCCAACCCCGACCTCCAGTGTGGCTTCCCTGNNNNN',\n",
       " 'NNNACCTGCTCCCCAGGTTCAGCCCTGCCCCNACCCTCATTTTGCTCCCCAGCNCTGGCNCCTTTNNNNN',\n",
       " 'NNNTCATTTTGCTCCCCAGCTCTGACTCCTTTGTACCCCTCACCGCAGCCCTGGCCCCCGGGGCCNNNNN',\n",
       " 'NNNTACCCTCATTTTGCTCCCCAGCNCNGACNCCTTTGTANCCCNCACCGCANCCCNGCNCCCCNNNNNN',\n",
       " 'NNNACCTGCTCCCCAGGTTCNGCCCNGCCCCNACCCNCATTTTNCTCCCCCGNNNNGNCTCCNTTNNNNN',\n",
       " 'NNNCTTCCGCTGACCTGAGCCTCCCACCTGCTCCCCAGGTTCAGCCCTGCCCCNACCCNCATTTTNNNNN',\n",
       " 'NNNGGTTCAGCCCTGCCCCTACCCTCATTTTGCTCCCCAGCTCTGACTCCTTTGTACCCCTCACCNNNNN',\n",
       " 'NNNTCTTTCTGGCATGGTCAACCCCACCTGAAGATCTGGCACCGCCACAGTCTCAACAAAGCCCCNNNNN',\n",
       " 'NNNCCTACCCTCATTTTGCTCCCCAGCTCTGACTCCTTTGTACCCCTCACCGCNGCCCNGNCCCCNNNNN',\n",
       " 'NNNTCAGCCCTGCCCCTACCCTCATTTTGCTCCCCAGCTCTGNCTCCTTTGTACCCCNCACCGCNNNNNN',\n",
       " 'NNNAGGTTCAGCCCTGCCCCTACCCTCATTTTGCTCCCCAGCNCTGACTCCTTTGTACCCCTCACNNNNN',\n",
       " 'NNNAGGTTCAGCCCTGCCCCTACCCTCATTTTGCTCCCCAGCNNTGACNCCNTTGTACCCCNCACNNNNN',\n",
       " 'NNNAAGCGGTGAGTCTCCTCGGGCCTCCCCTCCCAACCCCGACCTCCAGTGTGGCTTCCCTGCCCNNNNN',\n",
       " 'NNNACCTGCTCCCCAGGTTCAGCCCTGCCCCTACCCTCATTTTGCTCCCCAGCTCTGACTCCTTTNNNNN',\n",
       " 'NNNCCCACCTGCTCCCCAGGTTCAGCCCTGNCCCTACCCTCATTTTGCTCCCCAGCTCTGACTCCNNNNN',\n",
       " 'NNNTCATTTTGCTCCCCAGCTCTGACTCCTTTGTACCCCTCACCGCAGCCCTGCCCCCCTGAGCANNNNN',\n",
       " 'NNNCAGGTTCAGCCCTGCCCCTACCCTCATTTTGCTCCCCAGCTCTGACTCCTTTGTACCCCTCANNNNN',\n",
       " 'NNNCTGAAGCTGGGTCTTCAGCTTCCGCTTGGCACCTGAGGGAGAAGGGCCTTGGCATCTGACCANNNNN',\n",
       " 'NNNTGTTTTGGGCGGGGATGTAGTAGAATCCTCTTGCTAAATGGCTGTACCTGCCATGTAACCTGNNNNN',\n",
       " 'NNNCAGGTTCAGCCCTGCCCCTACCCTCATTTTGCTCCCCAGCTCTGACTCCTTTGTACCCCTCANNNNN',\n",
       " 'NNNCCCCCTGAGCAGCCAGACCCCCGGGCCCTGCAGTGCGCAGCCTTTAACTCCCAGGAATTCATNNNNN',\n",
       " 'NNNGCTTCCGCTTGGCACCTGAGGGAGAAGGGCCTTGGCATCTGACCACCTCAGGGCAGGGGTCTNNNNN',\n",
       " 'NNNCCCCCCTGAGCAGCCAGACCCCCGGGCCCTGCAGTGCGCAGCCTTTAACTCCCAGGAATTCANNNNN',\n",
       " 'NNNCAGGTTCAGCCCTGCCCCTACCCTCATTTTGCTCCCCAGCTCTGACTCCTTTGTACCCCTCANNNNN',\n",
       " 'NNNCCCCCTGAGCAGCCAGACCCCCGGGCCCTGCAGTGCGCAGCCTTTAACTCCCAGGAATTCATNNNNN',\n",
       " 'NNNCCCCCTGAGCAGCCAGACCCCCGGGCCCTGCAGTGCGCAGCCTTTAACTCCCAGGAATTCATNNNNN',\n",
       " 'NNNGCTTCCGCTTGGCACCTGAGGGAGAAGGGCCTTGGCATCTGACCACCTCAGGGCAGGGGTCTNNNNN',\n",
       " 'NNNCCTGCTCCCCAGGTTCAGCCCTGCCCCTACCCTCATTTTGCTCCCCNGCNCTGACNCCNTTGNNNNN',\n",
       " 'NNNCTGAAGCTGGGTCTTCAGCTTCCGCTTGGCACCTGAGGGAGAAGGGCCTTGGCATCTGACCANNNNN',\n",
       " 'NNNTTTGCTCCCCAGCTCTGACTCCTTTGTACCCCTCACCGCAGCCCNGCCCCNCNGNGCNGCCANNNNN',\n",
       " 'NNNGCNCNNCNGGGCCCGGGGGNCNGNCNGCCCNGGGNNCCNGGGCTGCGGTGAGGGGTACAAAGNNNNN',\n",
       " 'NNNCTCCCAACCCCGACCTCCAGTGTGGCTTCCCTGCCCTGAAGCTGGGTCTTCAGCTTCCGCTTNNNNN',\n",
       " 'NNNCTACCCTCATTTTGCTCCCCAGCTCTGACTCCTTTGTACCCCNCACCGCAGNCCNGCCCCCCNNNNN',\n",
       " 'NNNCTACCCTCATTTTGCTCCCCAGCTCTGACTCCTTTGTACCCCTCACCNCNGCCCNGNCCCCCNNNNN',\n",
       " 'NNNTCAGCCCTGCCCCTACCCTCATTTTGCTCCCCAGCTCTGACTCCTTTGTACCCCNCACCGCANNNNN',\n",
       " 'NNNCCTCATTTTGCTCCCCAGCTCTGACTCCTTTGTACCCCTCACCGCAGCCCTGCCCCCCTGGGNNNNN',\n",
       " 'NNNTCATTTTGCTCCCCAGCTCTGACTCCNTTGTACCCCNCACCGCNGCCCNGCNCNCCNGAGCANNNNN',\n",
       " 'NNNCAGCTCTGACTCCTTTGTACCCCTCACCGCAGCCCTGCCCCCCNGNGCNGCCNGNCCCCCGGNNNNN',\n",
       " 'NNNTTTCTCTGACTCCTTTGTACCCCTCACCGCAGCCCTGCCCCCCNGNGCNGCCAGNCCCCCGGNNNNN',\n",
       " 'NNNAGCTCTGACTCCTTTGTACCCCTCACCGCAGCCCTGCCCCCCNGNGCNGCCAGNCCCCCGGGNNNNN',\n",
       " 'NNNAGCTCTGACTCCTTTGTACCCCTCACCGCAGCCCTGCCCCCCNGNGCNGCCAGNCCCCCGGGNNNNN',\n",
       " 'NNNAGCTCTGACTCCTTTGTACCCCTCACCGCAGCCCTGCCCCCCNGAGCAGCCAGNCCCCCGGGNNNNN',\n",
       " 'NNNCCCTACCCTCATTTTGCTCCCCAGCNCTGACTCCTTTGTACCCCNCACCGCAGCCCNGCCCCNNNNN',\n",
       " 'NNNTTCCTGAGGGACACAGCCCTCATTTTGCTCCCCAGCTCTGACTCCTTTGTACCCCTCACCGCNNNNN',\n",
       " 'NNNAGGTTCAGCCCTGCCCCTACCCTCATTTTGCTCCCCNGCNCTGACTCCNTTGTACCCCNCACNNNNN',\n",
       " 'NNNCATTTTGCTCCCCAGCTCTGACTCCTTTGTACCCCTCACCGCAGCCCNGNCCCCCNGNGCNGNNNNN',\n",
       " 'NNNCATTTTGCTCCCCAGCTCTGACTCCTTTGTACCCCTCACCGCAGCCCTGCCCCCCTGNGCNGNNNNN',\n",
       " 'NNNAGGTTCAGCCCTGCCCCTACCCTCATTTTGCTCCCCAGCTCTGACTCCTTTGTACCCCTCNCNNNNN',\n",
       " 'NNNCTGCTCCCCAGGTTCAGCCCTGCCCCNACCCNCATTTTNCNCCCCNGCNNNGNCNCCNTTGTNNNNN',\n",
       " 'NNNCCCTACCCTCATTTTGCTCCCCAGCTCTGACTCCTTTGTACCCCNCACCGCNGCCCNGCCCCNNNNN',\n",
       " 'NNNAGGTTCAGCCCTGCCCCTACCCTCATTTTGCTCCCCAGCTCTGNCTCCTTTGTACCCCNCNCNNNNN',\n",
       " 'NNNCCCTGCCCCTACCCTCATTTTGCTCCCCAGCTCTGACTCCTTTGTACCCCNCACCGCNGCCCNNNNN',\n",
       " 'NNNAGGTTCAGCCCTGCCCCTACCCTCATTTTGCTCCCCAGCTCTGACTCCNTTGTACCCCNCACNNNNN',\n",
       " 'NNNCTCTGACTCCTTTGTACCCCTCACCGCAGCCCTGCCCCCCTGNGCNGCCNGNCCCCCGGGCCNNNNN',\n",
       " 'NNNAGGTTCAGCCCTGCCCCTACCCTCATTTTGCTCCCCAGCNCNGACNCCTTTGTACCCCTCNCNNNNN',\n",
       " 'NNNAACCCCGACCTCCAGTGTGGCTTCCCTGCCCTGAAGCTGGGTCTTCAGCTTCCGCTTGGCACNNNNN',\n",
       " 'NNNCCCCTACCCTCATTTTGCTCCCCAGCTCTGACTCCTTTGTACCCCNCACCGCNGCCCNGCCCNNNNN',\n",
       " 'NNNCCCTACCCTCATTTTGCTCCCCAGCTCTGACTCCTTTGTACCCCTCACCGCAGCCCTGNCCCNNNNN',\n",
       " 'NNNAGGTTCAGCCCTGCCCCNACCCTCATTTTGCTCCCCAGCTCTGACNCCNTTGTACCCCNCNCNNNNN',\n",
       " 'NNNTGTCACCCAGGCTAGAGTGCAGTGGCATGATCTCAGCTCACCGCAGCCCTGCCNNNCTGAGCNNNNN',\n",
       " 'NNNCCTACCCTCATTTTGCTCCCCAGCTCTGACTCCTTTGTACCCCTCACCGCAGCCCTGCCCCCNNNNN',\n",
       " 'NNNCCTACCCTCATTTTGCTCCCCAGCTCTGACTCCTTTGTACCCCTCNCCGCAGCCCTGCCCCCNNNNN']"
      ]
     },
     "execution_count": 168,
     "metadata": {},
     "output_type": "execute_result"
    }
   ],
   "source": [
    "seqs[3000:3100]"
   ]
  },
  {
   "cell_type": "code",
   "execution_count": 148,
   "metadata": {},
   "outputs": [
    {
     "data": {
      "text/plain": [
       "106270"
      ]
     },
     "execution_count": 148,
     "metadata": {},
     "output_type": "execute_result"
    }
   ],
   "source": [
    "len(seqs)"
   ]
  },
  {
   "cell_type": "code",
   "execution_count": 149,
   "metadata": {},
   "outputs": [],
   "source": [
    "seqrecord = []\n",
    "for seq in seqs:\n",
    "    record = Dseqrecord(seq)\n",
    "    seqrecord.append(record)"
   ]
  },
  {
   "cell_type": "code",
   "execution_count": 150,
   "metadata": {},
   "outputs": [
    {
     "data": {
      "text/plain": [
       "[Dseqrecord(-70),\n",
       " Dseqrecord(-70),\n",
       " Dseqrecord(-70),\n",
       " Dseqrecord(-70),\n",
       " Dseqrecord(-70),\n",
       " Dseqrecord(-70),\n",
       " Dseqrecord(-70),\n",
       " Dseqrecord(-70),\n",
       " Dseqrecord(-70),\n",
       " Dseqrecord(-70)]"
      ]
     },
     "execution_count": 150,
     "metadata": {},
     "output_type": "execute_result"
    }
   ],
   "source": [
    "seqrecord[0:10]"
   ]
  },
  {
   "cell_type": "code",
   "execution_count": 184,
   "metadata": {},
   "outputs": [],
   "source": [
    "x = Assembly(seqrecord[4000:4300], limit=70, max_nodes = 10)"
   ]
  },
  {
   "cell_type": "code",
   "execution_count": 185,
   "metadata": {},
   "outputs": [
    {
     "data": {
      "text/plain": [
       "Assembly:\n",
       "Sequences........................: [70] [70] [70] [70] [70] [70] [70] [70] [70] [70] [70] [70] [70] [70] [70] [70] [70] [70] [70] [70] [70] [70] [70] [70] [70] [70] [70] [70] [70] [70] [70] [70] [70] [70] [70] [70] [70] [70] [70] [70] [70] [70] [70] [70] [70] [70] [70] [70] [70] [70] [70] [70] [70] [70] [70] [70] [70] [70] [70] [70] [70] [70] [70] [70] [70] [70] [70] [70] [70] [70] [70] [70] [70] [70] [70] [70] [70] [70] [70] [70] [70] [70] [70] [70] [70] [70] [70] [70] [70] [70] [70] [70] [70] [70] [70] [70] [70] [70] [70] [70] [70] [70] [70] [70] [70] [70] [70] [70] [70] [70] [70] [70] [70] [70] [70] [70] [70] [70] [70] [70] [70] [70] [70] [70] [70] [70] [70] [70] [70] [70] [70] [70] [70] [70] [70] [70] [70] [70] [70] [70] [70] [70] [70] [70] [70] [70] [70] [70] [70] [70] [70] [70] [70] [70] [70] [70] [70] [70] [70] [70] [70] [70] [70] [70] [70] [70] [70] [70] [70] [70] [70] [70] [70] [70] [70] [70] [70] [70] [70] [70] [70] [70] [70] [70] [70] [70] [70] [70] [70] [70] [70] [70] [70] [70] [70] [70] [70] [70] [70] [70] [70] [70] [70] [70] [70] [70] [70] [70] [70] [70] [70] [70] [70] [70] [70] [70] [70] [70] [70] [70] [70] [70] [70] [70] [70] [70] [70] [70] [70] [70] [70] [70] [70] [70] [70] [70] [70] [70] [70] [70] [70] [70] [70] [70] [70] [70] [70] [70] [70] [70] [70] [70] [70] [70] [70] [70] [70] [70] [70] [70] [70] [70] [70] [70] [70] [70] [70] [70] [70] [70] [70] [70] [70] [70] [70] [70] [70] [70] [70] [70] [70] [70] [70] [70] [70] [70] [70] [70] [70] [70] [70] [70] [70] [70] [70] [70] [70] [70] [70] [70]\n",
       "Sequences with shared homologies.: [70] [70] [70] [70] [70] [70] [70] [70] [70] [70] [70] [70] [70] [70] [70] [70] [70] [70] [70] [70] [70] [70] [70] [70] [70] [70] [70] [70] [70] [70] [70] [70] [70] [70] [70] [70] [70] [70] [70] [70] [70] [70] [70] [70] [70] [70] [70] [70] [70] [70] [70] [70] [70] [70] [70] [70] [70] [70] [70] [70] [70] [70] [70] [70]\n",
       "Homology limit (bp)..............: 70\n",
       "Number of overlaps...............: 424\n",
       "Nodes in graph(incl. 5' & 3')....: 66\n",
       "Only terminal overlaps...........: No\n",
       "Circular products................: \n",
       "Linear products..................: "
      ]
     },
     "execution_count": 185,
     "metadata": {},
     "output_type": "execute_result"
    }
   ],
   "source": [
    "x"
   ]
  },
  {
   "cell_type": "code",
   "execution_count": 183,
   "metadata": {},
   "outputs": [
    {
     "data": {
      "text/plain": [
       "False"
      ]
     },
     "execution_count": 183,
     "metadata": {},
     "output_type": "execute_result"
    }
   ],
   "source": [
    "x.only_terminal_overlaps"
   ]
  },
  {
   "cell_type": "code",
   "execution_count": 179,
   "metadata": {},
   "outputs": [
    {
     "ename": "IndexError",
     "evalue": "list index out of range",
     "output_type": "error",
     "traceback": [
      "\u001b[0;31m---------------------------------------------------------------------------\u001b[0m",
      "\u001b[0;31mIndexError\u001b[0m                                Traceback (most recent call last)",
      "\u001b[0;32m<ipython-input-179-2e327ceb6380>\u001b[0m in \u001b[0;36m<module>\u001b[0;34m()\u001b[0m\n\u001b[0;32m----> 1\u001b[0;31m \u001b[0mx\u001b[0m\u001b[0;34m.\u001b[0m\u001b[0mcircular_products\u001b[0m\u001b[0;34m[\u001b[0m\u001b[0;36m0\u001b[0m\u001b[0;34m]\u001b[0m\u001b[0;34m.\u001b[0m\u001b[0mseq\u001b[0m\u001b[0;34m.\u001b[0m\u001b[0mwatson\u001b[0m\u001b[0;34m\u001b[0m\u001b[0m\n\u001b[0m",
      "\u001b[0;31mIndexError\u001b[0m: list index out of range"
     ]
    }
   ],
   "source": [
    "x.circular_products[0].seq.watson"
   ]
  },
  {
   "cell_type": "code",
   "execution_count": 159,
   "metadata": {},
   "outputs": [],
   "source": [
    "a = Dseqrecord(\"acgatgctatactgCCCCCtgtgctgtgctcta\")\n",
    "b = Dseqrecord(\"tgtgctgtgctctaTTTTTtattctggctgtatc\")\n",
    "c = Dseqrecord(\"tattctggctgtatcGGGGGtacgatgctatactg\")"
   ]
  },
  {
   "cell_type": "code",
   "execution_count": 160,
   "metadata": {},
   "outputs": [],
   "source": [
    "x = Assembly((a,b,c), limit=8)"
   ]
  },
  {
   "cell_type": "code",
   "execution_count": 161,
   "metadata": {},
   "outputs": [
    {
     "data": {
      "text/plain": [
       "Assembly:\n",
       "Sequences........................: [33] [34] [35]\n",
       "Sequences with shared homologies.: [33] [34] [35]\n",
       "Homology limit (bp)..............: 8\n",
       "Number of overlaps...............: 3\n",
       "Nodes in graph(incl. 5' & 3')....: 5\n",
       "Only terminal overlaps...........: No\n",
       "Circular products................: [59]\n",
       "Linear products..................: [74] [73] [73] [54] [54] [53] [15] [14] [14]"
      ]
     },
     "execution_count": 161,
     "metadata": {},
     "output_type": "execute_result"
    }
   ],
   "source": [
    "x"
   ]
  },
  {
   "cell_type": "code",
   "execution_count": 162,
   "metadata": {},
   "outputs": [
    {
     "data": {
      "text/plain": [
       "'CCCCCtgtgctgtgctctaTTTTTtattctggctgtatcGGGGGtacgatgctatactg'"
      ]
     },
     "execution_count": 162,
     "metadata": {},
     "output_type": "execute_result"
    }
   ],
   "source": [
    "x.circular_products[0].seq.watson"
   ]
  },
  {
   "cell_type": "code",
   "execution_count": 102,
   "metadata": {},
   "outputs": [
    {
     "data": {
      "text/plain": [
       "'CCCCCtgtgctgtgctctaTTTTTtattctggctgtatcGGGGGtacgatgctatactg'"
      ]
     },
     "execution_count": 102,
     "metadata": {},
     "output_type": "execute_result"
    }
   ],
   "source": [
    "x.circular_products[0].seq.watson"
   ]
  },
  {
   "cell_type": "code",
   "execution_count": 103,
   "metadata": {},
   "outputs": [
    {
     "data": {
      "text/plain": [
       "59"
      ]
     },
     "execution_count": 103,
     "metadata": {},
     "output_type": "execute_result"
    }
   ],
   "source": [
    "len(x.circular_products[0].seq.watson)"
   ]
  },
  {
   "cell_type": "code",
   "execution_count": 63,
   "metadata": {},
   "outputs": [],
   "source": [
    "a = 'acgatgctatactgCCCCCtgtgctgtgctcta'"
   ]
  },
  {
   "cell_type": "code",
   "execution_count": 64,
   "metadata": {},
   "outputs": [
    {
     "data": {
      "text/plain": [
       "33"
      ]
     },
     "execution_count": 64,
     "metadata": {},
     "output_type": "execute_result"
    }
   ],
   "source": [
    "len(a)"
   ]
  },
  {
   "cell_type": "code",
   "execution_count": 49,
   "metadata": {},
   "outputs": [
    {
     "data": {
      "text/plain": [
       "3"
      ]
     },
     "execution_count": 49,
     "metadata": {},
     "output_type": "execute_result"
    }
   ],
   "source": []
  }
 ],
 "metadata": {
  "kernelspec": {
   "display_name": "Python 3",
   "language": "python",
   "name": "python3"
  },
  "language_info": {
   "codemirror_mode": {
    "name": "ipython",
    "version": 3
   },
   "file_extension": ".py",
   "mimetype": "text/x-python",
   "name": "python",
   "nbconvert_exporter": "python",
   "pygments_lexer": "ipython3",
   "version": "3.6.5"
  }
 },
 "nbformat": 4,
 "nbformat_minor": 2
}
