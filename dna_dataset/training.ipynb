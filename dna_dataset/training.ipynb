{
 "cells": [
  {
   "cell_type": "code",
   "execution_count": 1,
   "metadata": {},
   "outputs": [],
   "source": [
    "import pandas as pd\n",
    "import numpy as np\n",
    "import pandas as pd\n",
    "import matplotlib.pyplot as plt\n",
    "%matplotlib inline\n",
    "#df.to_pickle('finalDataFrame')## where to save dataframe\n",
    "df = pd.read_pickle('finalDataFrame')\n"
   ]
  },
  {
   "cell_type": "code",
   "execution_count": 2,
   "metadata": {},
   "outputs": [
    {
     "data": {
      "text/html": [
       "<div>\n",
       "<style scoped>\n",
       "    .dataframe tbody tr th:only-of-type {\n",
       "        vertical-align: middle;\n",
       "    }\n",
       "\n",
       "    .dataframe tbody tr th {\n",
       "        vertical-align: top;\n",
       "    }\n",
       "\n",
       "    .dataframe thead th {\n",
       "        text-align: right;\n",
       "    }\n",
       "</style>\n",
       "<table border=\"1\" class=\"dataframe\">\n",
       "  <thead>\n",
       "    <tr style=\"text-align: right;\">\n",
       "      <th></th>\n",
       "      <th>Class</th>\n",
       "      <th>sequence</th>\n",
       "    </tr>\n",
       "  </thead>\n",
       "  <tbody>\n",
       "    <tr>\n",
       "      <th>94388</th>\n",
       "      <td>1</td>\n",
       "      <td>CTAACCCAGTGCAGTCCCAGTCTTGGTGTTCTCTCCCCCTCCTTCC...</td>\n",
       "    </tr>\n",
       "    <tr>\n",
       "      <th>90267</th>\n",
       "      <td>1</td>\n",
       "      <td>GGCATCACCAGCACTCTGCTCTGAGAAAGAGTTCTGTACTGCACCG...</td>\n",
       "    </tr>\n",
       "    <tr>\n",
       "      <th>62887</th>\n",
       "      <td>1</td>\n",
       "      <td>TACAGCTCAGCCGCCGCGGCTGCCGCTGCCGCCGCCAGCCCCAGGC...</td>\n",
       "    </tr>\n",
       "    <tr>\n",
       "      <th>55917</th>\n",
       "      <td>1</td>\n",
       "      <td>TCACCAAATGGTCCATCCAGCACCCGGGGGGCCAGCGGGTCATCGG...</td>\n",
       "    </tr>\n",
       "    <tr>\n",
       "      <th>14508</th>\n",
       "      <td>1</td>\n",
       "      <td>ACTTTTTTCAGTATTTGGTAGAACTGGGTTTGTCCTTCAGCTCACT...</td>\n",
       "    </tr>\n",
       "    <tr>\n",
       "      <th>34015</th>\n",
       "      <td>1</td>\n",
       "      <td>CCACTGAACTACGTAGCTCTTCTTGGAGGGATCTGAGATGTTTCCT...</td>\n",
       "    </tr>\n",
       "    <tr>\n",
       "      <th>15119</th>\n",
       "      <td>1</td>\n",
       "      <td>TCGAAAGACCCTAGCCTTAGATAAAACTGAGCAAGAGGCTTTGGAG...</td>\n",
       "    </tr>\n",
       "    <tr>\n",
       "      <th>16966</th>\n",
       "      <td>1</td>\n",
       "      <td>TAGTGGAAGCTGAGGAAGTGTCGGTGACAGGAAGAGGGGTGGGTGA...</td>\n",
       "    </tr>\n",
       "    <tr>\n",
       "      <th>16644</th>\n",
       "      <td>1</td>\n",
       "      <td>GTGGATGCTGAGGAAGGGCTGGTGACAGGAAGAGGGGTGGCGTGAA...</td>\n",
       "    </tr>\n",
       "    <tr>\n",
       "      <th>53709</th>\n",
       "      <td>1</td>\n",
       "      <td>GAGAAGGTCGGGCGCGAGTGCTTCTTCTTCCCGTCCTTGTCCAGGA...</td>\n",
       "    </tr>\n",
       "    <tr>\n",
       "      <th>38222</th>\n",
       "      <td>1</td>\n",
       "      <td>GAAGCTGCCAGGGACGGAGATGAGGAAGGCGTGGAGGTTCTGAGGA...</td>\n",
       "    </tr>\n",
       "    <tr>\n",
       "      <th>73604</th>\n",
       "      <td>1</td>\n",
       "      <td>GGACAGTGTAGCTACTGGGGCTGCCCCTGGGGAGCTGGAGGCAAGC...</td>\n",
       "    </tr>\n",
       "    <tr>\n",
       "      <th>96949</th>\n",
       "      <td>1</td>\n",
       "      <td>AGGCACCCGGCACCGCACCCGGCACCATGCCCGACTAAGTTTTGTA...</td>\n",
       "    </tr>\n",
       "    <tr>\n",
       "      <th>14383</th>\n",
       "      <td>0</td>\n",
       "      <td>AATCTAAAAGTAAATCTGAAAGAGCTAACATACAGTTAGCAGCGAC...</td>\n",
       "    </tr>\n",
       "    <tr>\n",
       "      <th>76929</th>\n",
       "      <td>1</td>\n",
       "      <td>CGCACGCCTGTAATCCCAGCTACTCGGGAGGCTGAAGCAGGAGAAT...</td>\n",
       "    </tr>\n",
       "    <tr>\n",
       "      <th>72204</th>\n",
       "      <td>1</td>\n",
       "      <td>TTTTTGAAGAACAGCTGCCATAGAAAACCATGCCAATGGATTGCTT...</td>\n",
       "    </tr>\n",
       "    <tr>\n",
       "      <th>34545</th>\n",
       "      <td>1</td>\n",
       "      <td>ATACAAAAAATTAGCTCGGCGCAGTGGCTCACGCCTGTAATCCCAG...</td>\n",
       "    </tr>\n",
       "    <tr>\n",
       "      <th>78585</th>\n",
       "      <td>1</td>\n",
       "      <td>GGAAGCTACCTGGCTTGGGCATCCAATCACCGCTCTGTTTGTACCC...</td>\n",
       "    </tr>\n",
       "    <tr>\n",
       "      <th>32705</th>\n",
       "      <td>1</td>\n",
       "      <td>CCTCTTCCTCATCACTGGCCCAGGGCCCCCAAGCACCCCCATTAAA...</td>\n",
       "    </tr>\n",
       "    <tr>\n",
       "      <th>97919</th>\n",
       "      <td>1</td>\n",
       "      <td>AATGAATGACTTTTAACGAGATTTTCTCCCCTCTCTCTCTCTCATT...</td>\n",
       "    </tr>\n",
       "    <tr>\n",
       "      <th>28204</th>\n",
       "      <td>1</td>\n",
       "      <td>CACAATGCAAATCAGATCACACCCTGTCTCTCTGAAGGCTGCCGGC...</td>\n",
       "    </tr>\n",
       "    <tr>\n",
       "      <th>83462</th>\n",
       "      <td>1</td>\n",
       "      <td>CTGCAAATGTGAAGAATGTGGCAAAGCTTTTAAGCATTTCTCAGCC...</td>\n",
       "    </tr>\n",
       "    <tr>\n",
       "      <th>74668</th>\n",
       "      <td>1</td>\n",
       "      <td>ACAATGAAATCTCTAAGGCAGGGGCAAAATGCTGCTAGCCTCTTTG...</td>\n",
       "    </tr>\n",
       "    <tr>\n",
       "      <th>9502</th>\n",
       "      <td>0</td>\n",
       "      <td>TCATCTGGATTATACATATTTCGCAATGAAAGAGAGGAAGAAAAGG...</td>\n",
       "    </tr>\n",
       "    <tr>\n",
       "      <th>44180</th>\n",
       "      <td>1</td>\n",
       "      <td>AAGAGGGGTGGCGTGACCTGTGGATGCTGAGGAAGTGTCGGTGACA...</td>\n",
       "    </tr>\n",
       "    <tr>\n",
       "      <th>46488</th>\n",
       "      <td>1</td>\n",
       "      <td>GGACGAGTTTGATGGCAGAAGTTTCCGGAGTGGCTACAGCGAGAGG...</td>\n",
       "    </tr>\n",
       "    <tr>\n",
       "      <th>29334</th>\n",
       "      <td>1</td>\n",
       "      <td>TAACATGGTGAAACTCCATCTCTACTAAAAATAAAAAAATTAGCTG...</td>\n",
       "    </tr>\n",
       "    <tr>\n",
       "      <th>18169</th>\n",
       "      <td>1</td>\n",
       "      <td>GGTTGTGCCTGTGGTTGCTGGTATTCGGTGACATGAAGAGGGTGGC...</td>\n",
       "    </tr>\n",
       "    <tr>\n",
       "      <th>21051</th>\n",
       "      <td>1</td>\n",
       "      <td>GGAAGGGCTAGTGACAGGAAGAGGCGTGGTGTCACCTGTGGATACT...</td>\n",
       "    </tr>\n",
       "    <tr>\n",
       "      <th>18644</th>\n",
       "      <td>0</td>\n",
       "      <td>ATGCCTATTGGATCCAAAGAGAGGCCAACATTTTTTGAAATTTTTA...</td>\n",
       "    </tr>\n",
       "    <tr>\n",
       "      <th>...</th>\n",
       "      <td>...</td>\n",
       "      <td>...</td>\n",
       "    </tr>\n",
       "    <tr>\n",
       "      <th>97790</th>\n",
       "      <td>1</td>\n",
       "      <td>GTAATCCCAGCTACTCGGGAGGCTGAGGCAGGAGAATCGCTTGAAC...</td>\n",
       "    </tr>\n",
       "    <tr>\n",
       "      <th>87652</th>\n",
       "      <td>1</td>\n",
       "      <td>AGGTGCGACTCGCTGAGTCTCAGGCTCAAGCTTTAATCTCTGCGAA...</td>\n",
       "    </tr>\n",
       "    <tr>\n",
       "      <th>4699</th>\n",
       "      <td>1</td>\n",
       "      <td>AATCTAAAAGTAAATCTGAAAGAGCTAACATACAGTTAGCAGCGAC...</td>\n",
       "    </tr>\n",
       "    <tr>\n",
       "      <th>75541</th>\n",
       "      <td>1</td>\n",
       "      <td>AAATCTTGGTAGGGTTGGGTAGTTGCCACTGGTGTCTGGCTTCTGA...</td>\n",
       "    </tr>\n",
       "    <tr>\n",
       "      <th>79103</th>\n",
       "      <td>1</td>\n",
       "      <td>CAAAGTGAGGAGCCAAATGTTATTCATCATGACAATAGGAAAAATG...</td>\n",
       "    </tr>\n",
       "    <tr>\n",
       "      <th>19153</th>\n",
       "      <td>1</td>\n",
       "      <td>CAGGAAGAGAGGTGGCATGACCGTGGATGCTGAGGAAGGAAGGACA...</td>\n",
       "    </tr>\n",
       "    <tr>\n",
       "      <th>81488</th>\n",
       "      <td>1</td>\n",
       "      <td>GGAAATGCATGTCCTATACTCTGTTTGTGAGCCCCGAGGCTGAAGG...</td>\n",
       "    </tr>\n",
       "    <tr>\n",
       "      <th>13933</th>\n",
       "      <td>1</td>\n",
       "      <td>GTCGTAATCGTCCTCCATCTCCTGCTTGATGTGGATGTTGCCCACT...</td>\n",
       "    </tr>\n",
       "    <tr>\n",
       "      <th>32483</th>\n",
       "      <td>1</td>\n",
       "      <td>ATTTTTTCTTGCGACGACCCCGGGAGAAGCTTCGAGCCCTCCCTTC...</td>\n",
       "    </tr>\n",
       "    <tr>\n",
       "      <th>16847</th>\n",
       "      <td>0</td>\n",
       "      <td>GGCATTCTGAGAAACTTCTTCGTGATGTGTGCATTCATCTCACAGA...</td>\n",
       "    </tr>\n",
       "    <tr>\n",
       "      <th>17030</th>\n",
       "      <td>1</td>\n",
       "      <td>TCGTTTGACAGGAAGAGGGGTGGCGTGACCTGTGGATGCTGAGGAA...</td>\n",
       "    </tr>\n",
       "    <tr>\n",
       "      <th>78230</th>\n",
       "      <td>1</td>\n",
       "      <td>CTTGTGTCACCCAGGCTGGAGTGCAGTGGAATGAGGAAGGGTCACT...</td>\n",
       "    </tr>\n",
       "    <tr>\n",
       "      <th>25718</th>\n",
       "      <td>1</td>\n",
       "      <td>CTAATATGATTTTTTGTAGAAATGGGGTCTTGCTCACAACAAAGCC...</td>\n",
       "    </tr>\n",
       "    <tr>\n",
       "      <th>67153</th>\n",
       "      <td>1</td>\n",
       "      <td>AGATTAGCCAGGTGTGGTGGCACGTGACTGTAATCCCAGCTACTCG...</td>\n",
       "    </tr>\n",
       "    <tr>\n",
       "      <th>29011</th>\n",
       "      <td>1</td>\n",
       "      <td>TCGAAACAATGTCCAAGTTTCAACTGGCAATTTCTCTGGGGATGCT...</td>\n",
       "    </tr>\n",
       "    <tr>\n",
       "      <th>13142</th>\n",
       "      <td>1</td>\n",
       "      <td>AAGTCTCTCCCAAGGATGTGGGAAGGTGGCTTATGTTGTTTGATGA...</td>\n",
       "    </tr>\n",
       "    <tr>\n",
       "      <th>39294</th>\n",
       "      <td>1</td>\n",
       "      <td>AGTGATTCATTCCTGTAATCCCAGCACTTTGGGAGGCTGAGACAGG...</td>\n",
       "    </tr>\n",
       "    <tr>\n",
       "      <th>64257</th>\n",
       "      <td>1</td>\n",
       "      <td>TACTCAAGAGGCTGAGGCAGGAGAATCGCTTGAACCCGGGAGGCGG...</td>\n",
       "    </tr>\n",
       "    <tr>\n",
       "      <th>22594</th>\n",
       "      <td>1</td>\n",
       "      <td>GTGACAGGAAGAGGGGTGGCCTGACCTGTGGATGCTGAGGAAGTGT...</td>\n",
       "    </tr>\n",
       "    <tr>\n",
       "      <th>47847</th>\n",
       "      <td>1</td>\n",
       "      <td>TTGATCCAGTGGCGGCGGGAGAGGATCTGGCCCGCGCTGCAGCCCA...</td>\n",
       "    </tr>\n",
       "    <tr>\n",
       "      <th>86647</th>\n",
       "      <td>1</td>\n",
       "      <td>AAAAAGATCTATGATGAGGTTACGTGGCTCCATAACTTTGGAAAAG...</td>\n",
       "    </tr>\n",
       "    <tr>\n",
       "      <th>7601</th>\n",
       "      <td>1</td>\n",
       "      <td>CCTCCTACCCTAGGGTGGTCTTCCTGACCTGGGCAGTATCTTTGAC...</td>\n",
       "    </tr>\n",
       "    <tr>\n",
       "      <th>3695</th>\n",
       "      <td>1</td>\n",
       "      <td>GTAAAATTAGTTATATGGTACACATTGTTATTTCTAATATGAGAAC...</td>\n",
       "    </tr>\n",
       "    <tr>\n",
       "      <th>83331</th>\n",
       "      <td>1</td>\n",
       "      <td>AAAGCTTTTAAGCACTCCTCAACCCTTACTACACATAAGATGATTC...</td>\n",
       "    </tr>\n",
       "    <tr>\n",
       "      <th>55075</th>\n",
       "      <td>1</td>\n",
       "      <td>GGGATCTCTACACCCCTTCCTCCAGCCCCAGAAACCCAGAAACCAG...</td>\n",
       "    </tr>\n",
       "    <tr>\n",
       "      <th>73815</th>\n",
       "      <td>1</td>\n",
       "      <td>CAGGACCAGTCCCAGGGGCCAGAGGCGGATTATTGCCTCCAGGAGC...</td>\n",
       "    </tr>\n",
       "    <tr>\n",
       "      <th>91029</th>\n",
       "      <td>1</td>\n",
       "      <td>AGTCTCGCTCTGTTGCCCAGGCTGGAGTGCAGTGGCGTGATCTCGG...</td>\n",
       "    </tr>\n",
       "    <tr>\n",
       "      <th>14966</th>\n",
       "      <td>1</td>\n",
       "      <td>CGGCTCACTGCAACCTCCTCCTCCCGGGTTCAAGCGATTCTCCTGC...</td>\n",
       "    </tr>\n",
       "    <tr>\n",
       "      <th>12014</th>\n",
       "      <td>1</td>\n",
       "      <td>CACAAACAAATGGAAGAACATTCCATGCTCATGGGTAGGAAGAATC...</td>\n",
       "    </tr>\n",
       "    <tr>\n",
       "      <th>104222</th>\n",
       "      <td>1</td>\n",
       "      <td>AGGAGGTTCTTGGTGGCGCCGCTCTCCGCGAAGCTGCCAGGGACGG...</td>\n",
       "    </tr>\n",
       "  </tbody>\n",
       "</table>\n",
       "<p>100 rows × 2 columns</p>\n",
       "</div>"
      ],
      "text/plain": [
       "        Class                                           sequence\n",
       "94388       1  CTAACCCAGTGCAGTCCCAGTCTTGGTGTTCTCTCCCCCTCCTTCC...\n",
       "90267       1  GGCATCACCAGCACTCTGCTCTGAGAAAGAGTTCTGTACTGCACCG...\n",
       "62887       1  TACAGCTCAGCCGCCGCGGCTGCCGCTGCCGCCGCCAGCCCCAGGC...\n",
       "55917       1  TCACCAAATGGTCCATCCAGCACCCGGGGGGCCAGCGGGTCATCGG...\n",
       "14508       1  ACTTTTTTCAGTATTTGGTAGAACTGGGTTTGTCCTTCAGCTCACT...\n",
       "34015       1  CCACTGAACTACGTAGCTCTTCTTGGAGGGATCTGAGATGTTTCCT...\n",
       "15119       1  TCGAAAGACCCTAGCCTTAGATAAAACTGAGCAAGAGGCTTTGGAG...\n",
       "16966       1  TAGTGGAAGCTGAGGAAGTGTCGGTGACAGGAAGAGGGGTGGGTGA...\n",
       "16644       1  GTGGATGCTGAGGAAGGGCTGGTGACAGGAAGAGGGGTGGCGTGAA...\n",
       "53709       1  GAGAAGGTCGGGCGCGAGTGCTTCTTCTTCCCGTCCTTGTCCAGGA...\n",
       "38222       1  GAAGCTGCCAGGGACGGAGATGAGGAAGGCGTGGAGGTTCTGAGGA...\n",
       "73604       1  GGACAGTGTAGCTACTGGGGCTGCCCCTGGGGAGCTGGAGGCAAGC...\n",
       "96949       1  AGGCACCCGGCACCGCACCCGGCACCATGCCCGACTAAGTTTTGTA...\n",
       "14383       0  AATCTAAAAGTAAATCTGAAAGAGCTAACATACAGTTAGCAGCGAC...\n",
       "76929       1  CGCACGCCTGTAATCCCAGCTACTCGGGAGGCTGAAGCAGGAGAAT...\n",
       "72204       1  TTTTTGAAGAACAGCTGCCATAGAAAACCATGCCAATGGATTGCTT...\n",
       "34545       1  ATACAAAAAATTAGCTCGGCGCAGTGGCTCACGCCTGTAATCCCAG...\n",
       "78585       1  GGAAGCTACCTGGCTTGGGCATCCAATCACCGCTCTGTTTGTACCC...\n",
       "32705       1  CCTCTTCCTCATCACTGGCCCAGGGCCCCCAAGCACCCCCATTAAA...\n",
       "97919       1  AATGAATGACTTTTAACGAGATTTTCTCCCCTCTCTCTCTCTCATT...\n",
       "28204       1  CACAATGCAAATCAGATCACACCCTGTCTCTCTGAAGGCTGCCGGC...\n",
       "83462       1  CTGCAAATGTGAAGAATGTGGCAAAGCTTTTAAGCATTTCTCAGCC...\n",
       "74668       1  ACAATGAAATCTCTAAGGCAGGGGCAAAATGCTGCTAGCCTCTTTG...\n",
       "9502        0  TCATCTGGATTATACATATTTCGCAATGAAAGAGAGGAAGAAAAGG...\n",
       "44180       1  AAGAGGGGTGGCGTGACCTGTGGATGCTGAGGAAGTGTCGGTGACA...\n",
       "46488       1  GGACGAGTTTGATGGCAGAAGTTTCCGGAGTGGCTACAGCGAGAGG...\n",
       "29334       1  TAACATGGTGAAACTCCATCTCTACTAAAAATAAAAAAATTAGCTG...\n",
       "18169       1  GGTTGTGCCTGTGGTTGCTGGTATTCGGTGACATGAAGAGGGTGGC...\n",
       "21051       1  GGAAGGGCTAGTGACAGGAAGAGGCGTGGTGTCACCTGTGGATACT...\n",
       "18644       0  ATGCCTATTGGATCCAAAGAGAGGCCAACATTTTTTGAAATTTTTA...\n",
       "...       ...                                                ...\n",
       "97790       1  GTAATCCCAGCTACTCGGGAGGCTGAGGCAGGAGAATCGCTTGAAC...\n",
       "87652       1  AGGTGCGACTCGCTGAGTCTCAGGCTCAAGCTTTAATCTCTGCGAA...\n",
       "4699        1  AATCTAAAAGTAAATCTGAAAGAGCTAACATACAGTTAGCAGCGAC...\n",
       "75541       1  AAATCTTGGTAGGGTTGGGTAGTTGCCACTGGTGTCTGGCTTCTGA...\n",
       "79103       1  CAAAGTGAGGAGCCAAATGTTATTCATCATGACAATAGGAAAAATG...\n",
       "19153       1  CAGGAAGAGAGGTGGCATGACCGTGGATGCTGAGGAAGGAAGGACA...\n",
       "81488       1  GGAAATGCATGTCCTATACTCTGTTTGTGAGCCCCGAGGCTGAAGG...\n",
       "13933       1  GTCGTAATCGTCCTCCATCTCCTGCTTGATGTGGATGTTGCCCACT...\n",
       "32483       1  ATTTTTTCTTGCGACGACCCCGGGAGAAGCTTCGAGCCCTCCCTTC...\n",
       "16847       0  GGCATTCTGAGAAACTTCTTCGTGATGTGTGCATTCATCTCACAGA...\n",
       "17030       1  TCGTTTGACAGGAAGAGGGGTGGCGTGACCTGTGGATGCTGAGGAA...\n",
       "78230       1  CTTGTGTCACCCAGGCTGGAGTGCAGTGGAATGAGGAAGGGTCACT...\n",
       "25718       1  CTAATATGATTTTTTGTAGAAATGGGGTCTTGCTCACAACAAAGCC...\n",
       "67153       1  AGATTAGCCAGGTGTGGTGGCACGTGACTGTAATCCCAGCTACTCG...\n",
       "29011       1  TCGAAACAATGTCCAAGTTTCAACTGGCAATTTCTCTGGGGATGCT...\n",
       "13142       1  AAGTCTCTCCCAAGGATGTGGGAAGGTGGCTTATGTTGTTTGATGA...\n",
       "39294       1  AGTGATTCATTCCTGTAATCCCAGCACTTTGGGAGGCTGAGACAGG...\n",
       "64257       1  TACTCAAGAGGCTGAGGCAGGAGAATCGCTTGAACCCGGGAGGCGG...\n",
       "22594       1  GTGACAGGAAGAGGGGTGGCCTGACCTGTGGATGCTGAGGAAGTGT...\n",
       "47847       1  TTGATCCAGTGGCGGCGGGAGAGGATCTGGCCCGCGCTGCAGCCCA...\n",
       "86647       1  AAAAAGATCTATGATGAGGTTACGTGGCTCCATAACTTTGGAAAAG...\n",
       "7601        1  CCTCCTACCCTAGGGTGGTCTTCCTGACCTGGGCAGTATCTTTGAC...\n",
       "3695        1  GTAAAATTAGTTATATGGTACACATTGTTATTTCTAATATGAGAAC...\n",
       "83331       1  AAAGCTTTTAAGCACTCCTCAACCCTTACTACACATAAGATGATTC...\n",
       "55075       1  GGGATCTCTACACCCCTTCCTCCAGCCCCAGAAACCCAGAAACCAG...\n",
       "73815       1  CAGGACCAGTCCCAGGGGCCAGAGGCGGATTATTGCCTCCAGGAGC...\n",
       "91029       1  AGTCTCGCTCTGTTGCCCAGGCTGGAGTGCAGTGGCGTGATCTCGG...\n",
       "14966       1  CGGCTCACTGCAACCTCCTCCTCCCGGGTTCAAGCGATTCTCCTGC...\n",
       "12014       1  CACAAACAAATGGAAGAACATTCCATGCTCATGGGTAGGAAGAATC...\n",
       "104222      1  AGGAGGTTCTTGGTGGCGCCGCTCTCCGCGAAGCTGCCAGGGACGG...\n",
       "\n",
       "[100 rows x 2 columns]"
      ]
     },
     "execution_count": 2,
     "metadata": {},
     "output_type": "execute_result"
    }
   ],
   "source": [
    "df.head(100)"
   ]
  },
  {
   "cell_type": "code",
   "execution_count": 3,
   "metadata": {},
   "outputs": [],
   "source": [
    "import numpy as np\n",
    "import pandas as pd\n",
    "import matplotlib.pyplot as plt\n",
    "%matplotlib inline"
   ]
  },
  {
   "cell_type": "code",
   "execution_count": 4,
   "metadata": {},
   "outputs": [],
   "source": [
    "# function to convert sequence strings into k-mer words, default size = 8 (hexamer words)\n",
    "def getKmers(sequence, size=4):\n",
    "    return [sequence[x:x+size].lower() for x in range(len(sequence) - size + 1)]"
   ]
  },
  {
   "cell_type": "code",
   "execution_count": 5,
   "metadata": {},
   "outputs": [],
   "source": [
    "df['words'] = df.apply(lambda x: getKmers(x['sequence']), axis=1)\n",
    "df = df.drop('sequence', axis=1)"
   ]
  },
  {
   "cell_type": "code",
   "execution_count": 6,
   "metadata": {},
   "outputs": [
    {
     "data": {
      "text/html": [
       "<div>\n",
       "<style scoped>\n",
       "    .dataframe tbody tr th:only-of-type {\n",
       "        vertical-align: middle;\n",
       "    }\n",
       "\n",
       "    .dataframe tbody tr th {\n",
       "        vertical-align: top;\n",
       "    }\n",
       "\n",
       "    .dataframe thead th {\n",
       "        text-align: right;\n",
       "    }\n",
       "</style>\n",
       "<table border=\"1\" class=\"dataframe\">\n",
       "  <thead>\n",
       "    <tr style=\"text-align: right;\">\n",
       "      <th></th>\n",
       "      <th>Class</th>\n",
       "      <th>words</th>\n",
       "    </tr>\n",
       "  </thead>\n",
       "  <tbody>\n",
       "    <tr>\n",
       "      <th>94388</th>\n",
       "      <td>1</td>\n",
       "      <td>[ctaa, taac, aacc, accc, ccca, ccag, cagt, agt...</td>\n",
       "    </tr>\n",
       "    <tr>\n",
       "      <th>90267</th>\n",
       "      <td>1</td>\n",
       "      <td>[ggca, gcat, catc, atca, tcac, cacc, acca, cca...</td>\n",
       "    </tr>\n",
       "    <tr>\n",
       "      <th>62887</th>\n",
       "      <td>1</td>\n",
       "      <td>[taca, acag, cagc, agct, gctc, ctca, tcag, cag...</td>\n",
       "    </tr>\n",
       "    <tr>\n",
       "      <th>55917</th>\n",
       "      <td>1</td>\n",
       "      <td>[tcac, cacc, acca, ccaa, caaa, aaat, aatg, atg...</td>\n",
       "    </tr>\n",
       "    <tr>\n",
       "      <th>14508</th>\n",
       "      <td>1</td>\n",
       "      <td>[actt, cttt, tttt, tttt, tttt, tttc, ttca, tca...</td>\n",
       "    </tr>\n",
       "  </tbody>\n",
       "</table>\n",
       "</div>"
      ],
      "text/plain": [
       "       Class                                              words\n",
       "94388      1  [ctaa, taac, aacc, accc, ccca, ccag, cagt, agt...\n",
       "90267      1  [ggca, gcat, catc, atca, tcac, cacc, acca, cca...\n",
       "62887      1  [taca, acag, cagc, agct, gctc, ctca, tcag, cag...\n",
       "55917      1  [tcac, cacc, acca, ccaa, caaa, aaat, aatg, atg...\n",
       "14508      1  [actt, cttt, tttt, tttt, tttt, tttc, ttca, tca..."
      ]
     },
     "execution_count": 6,
     "metadata": {},
     "output_type": "execute_result"
    }
   ],
   "source": [
    "df.head()"
   ]
  },
  {
   "cell_type": "code",
   "execution_count": 7,
   "metadata": {},
   "outputs": [],
   "source": [
    "df_texts = list(df['words'])\n",
    "for item in range(len(df_texts)):\n",
    "    df_texts[item] = ' '.join(df_texts[item])\n",
    "y_h = df.iloc[:, 0].values               "
   ]
  },
  {
   "cell_type": "code",
   "execution_count": 8,
   "metadata": {},
   "outputs": [
    {
     "data": {
      "text/plain": [
       "'ctaa taac aacc accc ccca ccag cagt agtg gtgc tgca gcag cagt agtc gtcc tccc ccca ccag cagt agtc gtct tctt cttg ttgg tggt ggtg gtgt tgtt gttc ttct tctc ctct tctc ctcc tccc cccc cccc ccct cctc ctcc tcct cctt cttc ttcc tcca ccag cagc agct gctc ctcc tcca ccag cagg aggc ggca gcag cagc agct gctt ctta ttaa taac aaca acaa caaa aaaa aaag aagt agtc gtct tctc ctct tctc ctcc tccc ccct cctg ctgg tggt ggta gtaa taat aatc atcc tcca ccag cagg aggt ggta gtaa taaa aaat aatc atct tctt cttc ttct tctg ctgg tgga ggat gatc atct tctt ctta ttat tatc atcc tcca ccaa caag aaga agac gacc acca ccat catc atca tcaa caag aagg aggt'"
      ]
     },
     "execution_count": 8,
     "metadata": {},
     "output_type": "execute_result"
    }
   ],
   "source": [
    "df_texts[0]"
   ]
  },
  {
   "cell_type": "code",
   "execution_count": 9,
   "metadata": {},
   "outputs": [
    {
     "data": {
      "text/plain": [
       "'ggca gcat catc atca tcac cacc acca ccag cagc agca gcac cact actc ctct tctg ctgc tgct gctc ctct tctg ctga tgag gaga agaa gaaa aaag aaga agag gagt agtt gttc ttct tctg ctgt tgta gtac tact actg ctgc tgca gcac cacc accg ccgt cgtc gtcc tcct cctt cttg ttgg tggc ggca gcag caga agaa gaag aagg aggc ggca gcac cact actg ctga tgag gaga agac gacg acgg cggt ggtg gtga tgaa gaaa aaac aacc acct cctg ctgc tgct gctc ctct tctt cttc ttcc tcct cctt cttg ttga tgat gatg atgc tgcg gcgc cgca gcag caga agag gagg aggc ggcc gccc cccg ccgt cgta gtag tagc agcc gccc ccca ccac cacg acgt cgtc gtct tctc ctcc tcca ccag cagg aggc ggcc'"
      ]
     },
     "execution_count": 9,
     "metadata": {},
     "output_type": "execute_result"
    }
   ],
   "source": [
    "df_texts[1]"
   ]
  },
  {
   "cell_type": "code",
   "execution_count": 10,
   "metadata": {},
   "outputs": [
    {
     "data": {
      "text/html": [
       "<div>\n",
       "<style scoped>\n",
       "    .dataframe tbody tr th:only-of-type {\n",
       "        vertical-align: middle;\n",
       "    }\n",
       "\n",
       "    .dataframe tbody tr th {\n",
       "        vertical-align: top;\n",
       "    }\n",
       "\n",
       "    .dataframe thead th {\n",
       "        text-align: right;\n",
       "    }\n",
       "</style>\n",
       "<table border=\"1\" class=\"dataframe\">\n",
       "  <thead>\n",
       "    <tr style=\"text-align: right;\">\n",
       "      <th></th>\n",
       "      <th>Class</th>\n",
       "      <th>words</th>\n",
       "    </tr>\n",
       "  </thead>\n",
       "  <tbody>\n",
       "    <tr>\n",
       "      <th>94388</th>\n",
       "      <td>1</td>\n",
       "      <td>[ctaa, taac, aacc, accc, ccca, ccag, cagt, agt...</td>\n",
       "    </tr>\n",
       "    <tr>\n",
       "      <th>90267</th>\n",
       "      <td>1</td>\n",
       "      <td>[ggca, gcat, catc, atca, tcac, cacc, acca, cca...</td>\n",
       "    </tr>\n",
       "    <tr>\n",
       "      <th>62887</th>\n",
       "      <td>1</td>\n",
       "      <td>[taca, acag, cagc, agct, gctc, ctca, tcag, cag...</td>\n",
       "    </tr>\n",
       "    <tr>\n",
       "      <th>55917</th>\n",
       "      <td>1</td>\n",
       "      <td>[tcac, cacc, acca, ccaa, caaa, aaat, aatg, atg...</td>\n",
       "    </tr>\n",
       "    <tr>\n",
       "      <th>14508</th>\n",
       "      <td>1</td>\n",
       "      <td>[actt, cttt, tttt, tttt, tttt, tttc, ttca, tca...</td>\n",
       "    </tr>\n",
       "  </tbody>\n",
       "</table>\n",
       "</div>"
      ],
      "text/plain": [
       "       Class                                              words\n",
       "94388      1  [ctaa, taac, aacc, accc, ccca, ccag, cagt, agt...\n",
       "90267      1  [ggca, gcat, catc, atca, tcac, cacc, acca, cca...\n",
       "62887      1  [taca, acag, cagc, agct, gctc, ctca, tcag, cag...\n",
       "55917      1  [tcac, cacc, acca, ccaa, caaa, aaat, aatg, atg...\n",
       "14508      1  [actt, cttt, tttt, tttt, tttt, tttc, ttca, tca..."
      ]
     },
     "execution_count": 10,
     "metadata": {},
     "output_type": "execute_result"
    }
   ],
   "source": [
    "df.head()"
   ]
  },
  {
   "cell_type": "code",
   "execution_count": 11,
   "metadata": {},
   "outputs": [
    {
     "data": {
      "text/plain": [
       "array([1, 1, 1, ..., 1, 1, 1])"
      ]
     },
     "execution_count": 11,
     "metadata": {},
     "output_type": "execute_result"
    }
   ],
   "source": [
    "y_h"
   ]
  },
  {
   "cell_type": "code",
   "execution_count": 12,
   "metadata": {},
   "outputs": [
    {
     "data": {
      "text/plain": [
       "129158"
      ]
     },
     "execution_count": 12,
     "metadata": {},
     "output_type": "execute_result"
    }
   ],
   "source": [
    "len(y_h)"
   ]
  },
  {
   "cell_type": "code",
   "execution_count": 13,
   "metadata": {},
   "outputs": [],
   "source": [
    "# Creating the Bag of Words model using CountVectorizer()\n",
    "# This is equivalent to k-mer counting\n",
    "# The n-gram size of 4 was previously determined by testing\n",
    "from sklearn.feature_extraction.text import CountVectorizer\n",
    "cv = CountVectorizer(ngram_range=(4,4))\n",
    "X = cv.fit_transform(df_texts)"
   ]
  },
  {
   "cell_type": "code",
   "execution_count": 14,
   "metadata": {},
   "outputs": [
    {
     "name": "stdout",
     "output_type": "stream",
     "text": [
      "(129158, 16384)\n"
     ]
    }
   ],
   "source": [
    "print(X.shape)\n"
   ]
  },
  {
   "cell_type": "code",
   "execution_count": 15,
   "metadata": {},
   "outputs": [
    {
     "data": {
      "text/plain": [
       "<matplotlib.axes._subplots.AxesSubplot at 0x7f149613eb70>"
      ]
     },
     "execution_count": 15,
     "metadata": {},
     "output_type": "execute_result"
    },
    {
     "data": {
      "image/png": "[encoded data removed]",
      "text/plain": [
       "<Figure size 432x288 with 1 Axes>"
      ]
     },
     "metadata": {},
     "output_type": "display_data"
    }
   ],
   "source": [
    "df['Class'].value_counts().sort_index().plot.bar()\n"
   ]
  },
  {
   "cell_type": "code",
   "execution_count": 16,
   "metadata": {},
   "outputs": [],
   "source": [
    "# Splitting the human dataset into the training set and test set\n",
    "from sklearn.model_selection import train_test_split\n",
    "X_train, X_test, y_train, y_test = train_test_split(X, \n",
    "                                                    y_h, \n",
    "                                                    test_size = 0.20, \n",
    "                                                    random_state=1)"
   ]
  },
  {
   "cell_type": "code",
   "execution_count": 17,
   "metadata": {},
   "outputs": [
    {
     "name": "stdout",
     "output_type": "stream",
     "text": [
      "(103326, 16384)\n",
      "(25832, 16384)\n"
     ]
    }
   ],
   "source": [
    "print(X_train.shape)\n",
    "print(X_test.shape)"
   ]
  },
  {
   "cell_type": "code",
   "execution_count": 18,
   "metadata": {},
   "outputs": [
    {
     "data": {
      "text/plain": [
       "array([0, 1, 1, ..., 1, 1, 1])"
      ]
     },
     "execution_count": 18,
     "metadata": {},
     "output_type": "execute_result"
    }
   ],
   "source": [
    "y_test"
   ]
  },
  {
   "cell_type": "markdown",
   "metadata": {},
   "source": [
    "# Naive Bayes"
   ]
  },
  {
   "cell_type": "code",
   "execution_count": 19,
   "metadata": {},
   "outputs": [
    {
     "data": {
      "text/plain": [
       "MultinomialNB(alpha=0.1, class_prior=None, fit_prior=True)"
      ]
     },
     "execution_count": 19,
     "metadata": {},
     "output_type": "execute_result"
    }
   ],
   "source": [
    "### Multinomial Naive Bayes Classifier ###\n",
    "# The alpha parameter was determined by grid search previously\n",
    "from sklearn.naive_bayes import MultinomialNB\n",
    "classifier = MultinomialNB(alpha=0.1)\n",
    "classifier.fit(X_train, y_train)"
   ]
  },
  {
   "cell_type": "code",
   "execution_count": 20,
   "metadata": {},
   "outputs": [],
   "source": [
    "y_pred = classifier.predict(X_test)\n"
   ]
  },
  {
   "cell_type": "code",
   "execution_count": 21,
   "metadata": {},
   "outputs": [
    {
     "data": {
      "text/plain": [
       "array([0, 1, 1, ..., 1, 1, 1])"
      ]
     },
     "execution_count": 21,
     "metadata": {},
     "output_type": "execute_result"
    }
   ],
   "source": [
    "y_pred"
   ]
  },
  {
   "cell_type": "code",
   "execution_count": 22,
   "metadata": {},
   "outputs": [
    {
     "name": "stdout",
     "output_type": "stream",
     "text": [
      "Confusion matrix\n",
      "\n",
      "Predicted     0      1\n",
      "Actual                \n",
      "0          1954      0\n",
      "1          1380  22498\n",
      "accuracy = 0.947 \n",
      "precision = 0.969 \n",
      "recall = 0.947 \n",
      "f1 = 0.953\n"
     ]
    }
   ],
   "source": [
    "from sklearn.metrics import accuracy_score, f1_score, precision_score, recall_score\n",
    "print(\"Confusion matrix\\n\")\n",
    "print(pd.crosstab(pd.Series(y_test, name='Actual'), pd.Series(y_pred, name='Predicted')))\n",
    "def get_metrics(y_test, y_predicted):\n",
    "    accuracy = accuracy_score(y_test, y_predicted)\n",
    "    precision = precision_score(y_test, y_predicted, average='weighted')\n",
    "    recall = recall_score(y_test, y_predicted, average='weighted')\n",
    "    f1 = f1_score(y_test, y_predicted, average='weighted')\n",
    "    return accuracy, precision, recall, f1\n",
    "accuracy, precision, recall, f1 = get_metrics(y_test, y_pred)\n",
    "print(\"accuracy = %.3f \\nprecision = %.3f \\nrecall = %.3f \\nf1 = %.3f\" % (accuracy, precision, recall, f1))"
   ]
  },
  {
   "cell_type": "code",
   "execution_count": 23,
   "metadata": {},
   "outputs": [],
   "source": [
    "#file = open('MultinomialNB.pickle', 'wb')\n",
    "#pickle.dump(X, file)  #<=== Add this\n",
    "#pickle.dump(classifier, file)\n",
    "import pickle\n",
    "\n",
    "\n",
    "\n",
    "tuple_objects = (classifier, cv)\n",
    "pickle.dump(tuple_objects, open(\"tuple_model.pkl\", 'wb'))\n"
   ]
  },
  {
   "cell_type": "markdown",
   "metadata": {},
   "source": [
    "# SVM"
   ]
  },
  {
   "cell_type": "code",
   "execution_count": 24,
   "metadata": {},
   "outputs": [
    {
     "name": "stdout",
     "output_type": "stream",
     "text": [
      "# Tuning hyper-parameters for precision\n",
      "\n",
      "Best parameters set found on development set:\n",
      "\n",
      "{'C': 1, 'gamma': 0.001, 'kernel': 'rbf'}\n",
      "\n",
      "Grid scores on development set:\n",
      "\n",
      "1.000 (+/-0.000) for {'C': 1, 'gamma': 0.001, 'kernel': 'rbf'}\n",
      "1.000 (+/-0.000) for {'C': 1, 'gamma': 0.0001, 'kernel': 'rbf'}\n",
      "1.000 (+/-0.000) for {'C': 10, 'gamma': 0.001, 'kernel': 'rbf'}\n",
      "1.000 (+/-0.000) for {'C': 10, 'gamma': 0.0001, 'kernel': 'rbf'}\n",
      "1.000 (+/-0.000) for {'C': 100, 'gamma': 0.001, 'kernel': 'rbf'}\n",
      "1.000 (+/-0.000) for {'C': 100, 'gamma': 0.0001, 'kernel': 'rbf'}\n",
      "1.000 (+/-0.000) for {'C': 1000, 'gamma': 0.001, 'kernel': 'rbf'}\n",
      "1.000 (+/-0.000) for {'C': 1000, 'gamma': 0.0001, 'kernel': 'rbf'}\n",
      "1.000 (+/-0.000) for {'C': 1, 'kernel': 'linear'}\n",
      "1.000 (+/-0.000) for {'C': 10, 'kernel': 'linear'}\n",
      "1.000 (+/-0.000) for {'C': 100, 'kernel': 'linear'}\n",
      "1.000 (+/-0.000) for {'C': 1000, 'kernel': 'linear'}\n",
      "\n",
      "Detailed classification report:\n",
      "\n",
      "The model is trained on the full development set.\n",
      "The scores are computed on the full evaluation set.\n",
      "\n",
      "             precision    recall  f1-score   support\n",
      "\n",
      "          0       1.00      1.00      1.00      1954\n",
      "          1       1.00      1.00      1.00     23878\n",
      "\n",
      "avg / total       1.00      1.00      1.00     25832\n",
      "\n",
      "\n",
      "# Tuning hyper-parameters for recall\n",
      "\n",
      "Best parameters set found on development set:\n",
      "\n",
      "{'C': 1, 'gamma': 0.001, 'kernel': 'rbf'}\n",
      "\n",
      "Grid scores on development set:\n",
      "\n",
      "1.000 (+/-0.000) for {'C': 1, 'gamma': 0.001, 'kernel': 'rbf'}\n",
      "1.000 (+/-0.000) for {'C': 1, 'gamma': 0.0001, 'kernel': 'rbf'}\n",
      "1.000 (+/-0.000) for {'C': 10, 'gamma': 0.001, 'kernel': 'rbf'}\n",
      "1.000 (+/-0.000) for {'C': 10, 'gamma': 0.0001, 'kernel': 'rbf'}\n",
      "1.000 (+/-0.000) for {'C': 100, 'gamma': 0.001, 'kernel': 'rbf'}\n",
      "1.000 (+/-0.000) for {'C': 100, 'gamma': 0.0001, 'kernel': 'rbf'}\n",
      "1.000 (+/-0.000) for {'C': 1000, 'gamma': 0.001, 'kernel': 'rbf'}\n",
      "1.000 (+/-0.000) for {'C': 1000, 'gamma': 0.0001, 'kernel': 'rbf'}\n",
      "1.000 (+/-0.000) for {'C': 1, 'kernel': 'linear'}\n",
      "1.000 (+/-0.000) for {'C': 10, 'kernel': 'linear'}\n",
      "1.000 (+/-0.000) for {'C': 100, 'kernel': 'linear'}\n",
      "1.000 (+/-0.000) for {'C': 1000, 'kernel': 'linear'}\n",
      "\n",
      "Detailed classification report:\n",
      "\n",
      "The model is trained on the full development set.\n",
      "The scores are computed on the full evaluation set.\n",
      "\n",
      "             precision    recall  f1-score   support\n",
      "\n",
      "          0       1.00      1.00      1.00      1954\n",
      "          1       1.00      1.00      1.00     23878\n",
      "\n",
      "avg / total       1.00      1.00      1.00     25832\n",
      "\n",
      "\n"
     ]
    }
   ],
   "source": [
    "from sklearn.model_selection import train_test_split\n",
    "from sklearn.model_selection import GridSearchCV\n",
    "from sklearn.metrics import classification_report\n",
    "from sklearn.svm import SVC\n",
    "\n",
    "\n",
    "tuned_parameters = [{'kernel': ['rbf'], 'gamma': [1e-3, 1e-4],\n",
    "                     'C': [1, 10, 100, 1000]},\n",
    "                    {'kernel': ['linear'], 'C': [1, 10, 100, 1000]}]\n",
    "\n",
    "scores = ['precision', 'recall']\n",
    "\n",
    "\n",
    "for score in scores:\n",
    "    print(\"# Tuning hyper-parameters for %s\" % score)\n",
    "    print()\n",
    "\n",
    "    clf = GridSearchCV(SVC(), tuned_parameters, cv=5,\n",
    "                       scoring='%s_macro' % score)\n",
    "    clf.fit(X_train, y_train)\n",
    "\n",
    "    print(\"Best parameters set found on development set:\")\n",
    "    print()\n",
    "    print(clf.best_params_)\n",
    "    print()\n",
    "    print(\"Grid scores on development set:\")\n",
    "    print()\n",
    "    means = clf.cv_results_['mean_test_score']\n",
    "    stds = clf.cv_results_['std_test_score']\n",
    "    for mean, std, params in zip(means, stds, clf.cv_results_['params']):\n",
    "        print(\"%0.3f (+/-%0.03f) for %r\"\n",
    "              % (mean, std * 2, params))\n",
    "    print()\n",
    "\n",
    "    print(\"Detailed classification report:\")\n",
    "    print()\n",
    "    print(\"The model is trained on the full development set.\")\n",
    "    print(\"The scores are computed on the full evaluation set.\")\n",
    "    print()\n",
    "    y_true, y_pred = y_test, clf.predict(X_test)\n",
    "    print(classification_report(y_true, y_pred))\n",
    "    print()"
   ]
  },
  {
   "cell_type": "code",
   "execution_count": 25,
   "metadata": {},
   "outputs": [
    {
     "data": {
      "text/plain": [
       "SVC(C=10, cache_size=200, class_weight=None, coef0=0.0,\n",
       "  decision_function_shape='ovr', degree=3, gamma=0.0001, kernel='rbf',\n",
       "  max_iter=-1, probability=False, random_state=None, shrinking=True,\n",
       "  tol=0.001, verbose=False)"
      ]
     },
     "execution_count": 25,
     "metadata": {},
     "output_type": "execute_result"
    }
   ],
   "source": [
    "from sklearn import svm\n",
    "clf = svm.SVC(C = 10, gamma= 0.0001, kernel = 'rbf')\n",
    "clf.fit(X_train, y_train)"
   ]
  },
  {
   "cell_type": "code",
   "execution_count": 26,
   "metadata": {},
   "outputs": [],
   "source": [
    "y_pred = clf.predict(X_test)"
   ]
  },
  {
   "cell_type": "code",
   "execution_count": 27,
   "metadata": {},
   "outputs": [
    {
     "data": {
      "text/plain": [
       "array([0, 1, 1, ..., 1, 1, 1])"
      ]
     },
     "execution_count": 27,
     "metadata": {},
     "output_type": "execute_result"
    }
   ],
   "source": [
    "y_pred"
   ]
  },
  {
   "cell_type": "code",
   "execution_count": 28,
   "metadata": {},
   "outputs": [
    {
     "name": "stdout",
     "output_type": "stream",
     "text": [
      "Confusion matrix\n",
      "\n",
      "Predicted     0      1\n",
      "Actual                \n",
      "0          1954      0\n",
      "1             0  23878\n",
      "accuracy = 1.000 \n",
      "precision = 1.000 \n",
      "recall = 1.000 \n",
      "f1 = 1.000\n"
     ]
    }
   ],
   "source": [
    "from sklearn.metrics import accuracy_score, f1_score, precision_score, recall_score\n",
    "print(\"Confusion matrix\\n\")\n",
    "print(pd.crosstab(pd.Series(y_test, name='Actual'), pd.Series(y_pred, name='Predicted')))\n",
    "def get_metrics(y_test, y_predicted):\n",
    "    accuracy = accuracy_score(y_test, y_predicted)\n",
    "    precision = precision_score(y_test, y_predicted, average='weighted')\n",
    "    recall = recall_score(y_test, y_predicted, average='weighted')\n",
    "    f1 = f1_score(y_test, y_predicted, average='weighted')\n",
    "    return accuracy, precision, recall, f1\n",
    "accuracy, precision, recall, f1 = get_metrics(y_test, y_pred)\n",
    "print(\"accuracy = %.3f \\nprecision = %.3f \\nrecall = %.3f \\nf1 = %.3f\" % (accuracy, precision, recall, f1))"
   ]
  },
  {
   "cell_type": "markdown",
   "metadata": {},
   "source": [
    "# Neural Network"
   ]
  },
  {
   "cell_type": "code",
   "execution_count": 29,
   "metadata": {},
   "outputs": [
    {
     "data": {
      "text/plain": [
       "MLPClassifier(activation='relu', alpha=1e-05, batch_size='auto', beta_1=0.9,\n",
       "       beta_2=0.999, early_stopping=False, epsilon=1e-08,\n",
       "       hidden_layer_sizes=(5, 2), learning_rate='constant',\n",
       "       learning_rate_init=0.001, max_iter=200, momentum=0.9,\n",
       "       nesterovs_momentum=True, power_t=0.5, random_state=1, shuffle=True,\n",
       "       solver='lbfgs', tol=0.0001, validation_fraction=0.1, verbose=False,\n",
       "       warm_start=False)"
      ]
     },
     "execution_count": 29,
     "metadata": {},
     "output_type": "execute_result"
    }
   ],
   "source": [
    "from sklearn.neural_network import MLPClassifier\n",
    "\n",
    "NNclassifier = MLPClassifier(solver='lbfgs', alpha=1e-5,\n",
    "                     hidden_layer_sizes=(5, 2), random_state=1)\n",
    "\n",
    "NNclassifier.fit(X_train, y_train)                         \n"
   ]
  },
  {
   "cell_type": "code",
   "execution_count": 30,
   "metadata": {},
   "outputs": [],
   "source": [
    "y_pred = NNclassifier.predict(X_test)"
   ]
  },
  {
   "cell_type": "code",
   "execution_count": 31,
   "metadata": {},
   "outputs": [
    {
     "name": "stdout",
     "output_type": "stream",
     "text": [
      "Confusion matrix\n",
      "\n",
      "Predicted     0      1\n",
      "Actual                \n",
      "0          1954      0\n",
      "1             0  23878\n",
      "accuracy = 1.000 \n",
      "precision = 1.000 \n",
      "recall = 1.000 \n",
      "f1 = 1.000\n"
     ]
    }
   ],
   "source": [
    "from sklearn.metrics import accuracy_score, f1_score, precision_score, recall_score\n",
    "print(\"Confusion matrix\\n\")\n",
    "print(pd.crosstab(pd.Series(y_test, name='Actual'), pd.Series(y_pred, name='Predicted')))\n",
    "def get_metrics(y_test, y_predicted):\n",
    "    accuracy = accuracy_score(y_test, y_predicted)\n",
    "    precision = precision_score(y_test, y_predicted, average='weighted')\n",
    "    recall = recall_score(y_test, y_predicted, average='weighted')\n",
    "    f1 = f1_score(y_test, y_predicted, average='weighted')\n",
    "    return accuracy, precision, recall, f1\n",
    "accuracy, precision, recall, f1 = get_metrics(y_test, y_pred)\n",
    "print(\"accuracy = %.3f \\nprecision = %.3f \\nrecall = %.3f \\nf1 = %.3f\" % (accuracy, precision, recall, f1))"
   ]
  },
  {
   "cell_type": "code",
   "execution_count": 32,
   "metadata": {},
   "outputs": [
    {
     "data": {
      "text/plain": [
       "array([0, 1, 1, ..., 1, 1, 1])"
      ]
     },
     "execution_count": 32,
     "metadata": {},
     "output_type": "execute_result"
    }
   ],
   "source": [
    "y_pred"
   ]
  },
  {
   "cell_type": "markdown",
   "metadata": {},
   "source": [
    "# Random Forest Classifier"
   ]
  },
  {
   "cell_type": "code",
   "execution_count": 33,
   "metadata": {},
   "outputs": [
    {
     "name": "stderr",
     "output_type": "stream",
     "text": [
      "/home/ubuntu/anaconda3/lib/python3.6/site-packages/sklearn/ensemble/weight_boosting.py:29: DeprecationWarning: numpy.core.umath_tests is an internal NumPy module and should not be imported. It will be removed in a future NumPy release.\n",
      "  from numpy.core.umath_tests import inner1d\n"
     ]
    },
    {
     "data": {
      "text/plain": [
       "RandomForestClassifier(bootstrap=True, class_weight=None, criterion='gini',\n",
       "            max_depth=2, max_features='auto', max_leaf_nodes=None,\n",
       "            min_impurity_decrease=0.0, min_impurity_split=None,\n",
       "            min_samples_leaf=1, min_samples_split=2,\n",
       "            min_weight_fraction_leaf=0.0, n_estimators=100, n_jobs=1,\n",
       "            oob_score=False, random_state=0, verbose=0, warm_start=False)"
      ]
     },
     "execution_count": 33,
     "metadata": {},
     "output_type": "execute_result"
    }
   ],
   "source": [
    ">>> from sklearn.ensemble import RandomForestClassifier\n",
    "\n",
    "RFC = RandomForestClassifier(n_estimators=100, max_depth=2,\n",
    "                              random_state=0)\n",
    "RFC.fit(X_train, y_train)                         \n"
   ]
  },
  {
   "cell_type": "code",
   "execution_count": 34,
   "metadata": {},
   "outputs": [],
   "source": [
    "y_pred = RFC.predict(X_test)"
   ]
  },
  {
   "cell_type": "code",
   "execution_count": 35,
   "metadata": {},
   "outputs": [
    {
     "name": "stdout",
     "output_type": "stream",
     "text": [
      "Confusion matrix\n",
      "\n",
      "Predicted     0      1\n",
      "Actual                \n",
      "0          1954      0\n",
      "1             0  23878\n",
      "accuracy = 1.000 \n",
      "precision = 1.000 \n",
      "recall = 1.000 \n",
      "f1 = 1.000\n"
     ]
    }
   ],
   "source": [
    "from sklearn.metrics import accuracy_score, f1_score, precision_score, recall_score\n",
    "print(\"Confusion matrix\\n\")\n",
    "print(pd.crosstab(pd.Series(y_test, name='Actual'), pd.Series(y_pred, name='Predicted')))\n",
    "def get_metrics(y_test, y_predicted):\n",
    "    accuracy = accuracy_score(y_test, y_predicted)\n",
    "    precision = precision_score(y_test, y_predicted, average='weighted')\n",
    "    recall = recall_score(y_test, y_predicted, average='weighted')\n",
    "    f1 = f1_score(y_test, y_predicted, average='weighted')\n",
    "    return accuracy, precision, recall, f1\n",
    "accuracy, precision, recall, f1 = get_metrics(y_test, y_pred)\n",
    "print(\"accuracy = %.3f \\nprecision = %.3f \\nrecall = %.3f \\nf1 = %.3f\" % (accuracy, precision, recall, f1))"
   ]
  },
  {
   "cell_type": "code",
   "execution_count": null,
   "metadata": {},
   "outputs": [],
   "source": []
  },
  {
   "cell_type": "code",
   "execution_count": null,
   "metadata": {},
   "outputs": [],
   "source": []
  },
  {
   "cell_type": "code",
   "execution_count": null,
   "metadata": {},
   "outputs": [],
   "source": []
  }
 ],
 "metadata": {
  "kernelspec": {
   "display_name": "Python 3",
   "language": "python",
   "name": "python3"
  },
  "language_info": {
   "codemirror_mode": {
    "name": "ipython",
    "version": 3
   },
   "file_extension": ".py",
   "mimetype": "text/x-python",
   "name": "python",
   "nbconvert_exporter": "python",
   "pygments_lexer": "ipython3",
   "version": "3.6.5"
  }
 },
 "nbformat": 4,
 "nbformat_minor": 2
}
