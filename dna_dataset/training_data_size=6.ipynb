{
 "cells": [
  {
   "cell_type": "code",
   "execution_count": 1,
   "metadata": {},
   "outputs": [],
   "source": [
    "def readFasta(filename):\n",
    "    sequences = []\n",
    "    \n",
    "    with open(filename) as fh:\n",
    "        while True:\n",
    "            fh.readline()\n",
    "            seq = fh.readline().rstrip()\n",
    "            if len(seq) == 0:\n",
    "                break\n",
    "            sequences.append(seq)\n",
    "            \n",
    "        return sequences"
   ]
  },
  {
   "cell_type": "code",
   "execution_count": 2,
   "metadata": {},
   "outputs": [],
   "source": [
    "def readFastq(filename):\n",
    "    sequences = []\n",
    "    \n",
    "    with open(filename) as fh:\n",
    "        while True:\n",
    "            fh.readline()\n",
    "            seq = fh.readline().rstrip()\n",
    "            fh.readline()\n",
    "            fh.readline()\n",
    "            if len(seq) == 0:\n",
    "                break\n",
    "            sequences.append(seq)\n",
    "            \n",
    "        return sequences"
   ]
  },
  {
   "cell_type": "code",
   "execution_count": 3,
   "metadata": {},
   "outputs": [],
   "source": [
    "seqs = readFastq('SRR8483185-Copy1.trimmed.fastq')\n",
    "seqs= [i.replace('N', '') for i in seqs]"
   ]
  },
  {
   "cell_type": "code",
   "execution_count": 4,
   "metadata": {},
   "outputs": [],
   "source": [
    "import pandas as pd\n",
    "\n",
    "newDf = pd.DataFrame()\n",
    "number = 1\n",
    "elements = 109138\n",
    "\n",
    "thelist = [number] * elements\n",
    "\n",
    "#newDf.assign(sequence=seqs)\n",
    "newDf['sequence'] = seqs\n",
    "\n",
    "newDf['Class'] = thelist\n"
   ]
  },
  {
   "cell_type": "code",
   "execution_count": 5,
   "metadata": {},
   "outputs": [
    {
     "data": {
      "text/html": [
       "<div>\n",
       "<style scoped>\n",
       "    .dataframe tbody tr th:only-of-type {\n",
       "        vertical-align: middle;\n",
       "    }\n",
       "\n",
       "    .dataframe tbody tr th {\n",
       "        vertical-align: top;\n",
       "    }\n",
       "\n",
       "    .dataframe thead th {\n",
       "        text-align: right;\n",
       "    }\n",
       "</style>\n",
       "<table border=\"1\" class=\"dataframe\">\n",
       "  <thead>\n",
       "    <tr style=\"text-align: right;\">\n",
       "      <th></th>\n",
       "      <th>sequence</th>\n",
       "      <th>Class</th>\n",
       "    </tr>\n",
       "  </thead>\n",
       "  <tbody>\n",
       "    <tr>\n",
       "      <th>0</th>\n",
       "      <td>TTAGTCGAAGAGCAGGAAAATGAAAGAATGACAACAAAAAAGAATA...</td>\n",
       "      <td>1</td>\n",
       "    </tr>\n",
       "    <tr>\n",
       "      <th>1</th>\n",
       "      <td>GCCAGATGTGGTGGCTCACATCTGTAATCCAGCACTTTCAGAGGCT...</td>\n",
       "      <td>1</td>\n",
       "    </tr>\n",
       "    <tr>\n",
       "      <th>2</th>\n",
       "      <td>ACCTATAATCCCAGCACTTTGGGAGGCTGAGGTGAGTGGATCAGGA...</td>\n",
       "      <td>1</td>\n",
       "    </tr>\n",
       "    <tr>\n",
       "      <th>3</th>\n",
       "      <td>CTTGTCACACAGGCTGGCACCTTTGCCCAGAGCAGGCACCAAGACT...</td>\n",
       "      <td>1</td>\n",
       "    </tr>\n",
       "    <tr>\n",
       "      <th>4</th>\n",
       "      <td>CTAAGAGTATAAAAAGTTCAGGCGACCTCCAGGGGCTTTTGCCTAC...</td>\n",
       "      <td>1</td>\n",
       "    </tr>\n",
       "    <tr>\n",
       "      <th>5</th>\n",
       "      <td>TAAGAATACAAAAATTAGCTGGGCGTGGTGATGGGCATCTGTAATC...</td>\n",
       "      <td>1</td>\n",
       "    </tr>\n",
       "    <tr>\n",
       "      <th>6</th>\n",
       "      <td>CCTGCCCAAACAGGACAGGCAGGAAAAACTGGCTTGGTTCTGAGTA...</td>\n",
       "      <td>1</td>\n",
       "    </tr>\n",
       "    <tr>\n",
       "      <th>7</th>\n",
       "      <td>GAGAGGAGATGCCCAGGCCTGGCGGCCGGCGCACGCGGGTTCTCTG...</td>\n",
       "      <td>1</td>\n",
       "    </tr>\n",
       "    <tr>\n",
       "      <th>8</th>\n",
       "      <td>CATGGTGATAATTGGGCTCATGAACCCATGACCTCAGCTTCATCAG...</td>\n",
       "      <td>1</td>\n",
       "    </tr>\n",
       "    <tr>\n",
       "      <th>9</th>\n",
       "      <td>GAAAATCACTAATAAAAACTTGTTGGTTTTGCGGCTTGGGGGGCAT...</td>\n",
       "      <td>1</td>\n",
       "    </tr>\n",
       "    <tr>\n",
       "      <th>10</th>\n",
       "      <td>TGGAATCGAATGGAATGGAATGCAATGGAATGGAATAGAATGGAAT...</td>\n",
       "      <td>1</td>\n",
       "    </tr>\n",
       "    <tr>\n",
       "      <th>11</th>\n",
       "      <td>TGGAATGGAATGGAATTGAAAGGAATGGAATGAATCGAATGGAATG...</td>\n",
       "      <td>1</td>\n",
       "    </tr>\n",
       "    <tr>\n",
       "      <th>12</th>\n",
       "      <td>GGAATGGAATGGAATGCAATGCATTGGAACAGACTGGAATGTAATG...</td>\n",
       "      <td>1</td>\n",
       "    </tr>\n",
       "    <tr>\n",
       "      <th>13</th>\n",
       "      <td>GGTTTTTTGTAGTTTGTACTGAATCACACACCATGCTGCTTCCATG...</td>\n",
       "      <td>1</td>\n",
       "    </tr>\n",
       "    <tr>\n",
       "      <th>14</th>\n",
       "      <td>TCACGCCAGGTCCACAGAGGCACCCACGCCCGCCAAAAGGATGCCA...</td>\n",
       "      <td>1</td>\n",
       "    </tr>\n",
       "    <tr>\n",
       "      <th>15</th>\n",
       "      <td>GCGCGGCCAGGCGCCTCCCCGGCCCCCGCGACCCAACTCCAGCCCG...</td>\n",
       "      <td>1</td>\n",
       "    </tr>\n",
       "    <tr>\n",
       "      <th>16</th>\n",
       "      <td>AGCCAGGACGGCAACCTTCCCACCCTCATATCCAGCGTCCACCGCA...</td>\n",
       "      <td>1</td>\n",
       "    </tr>\n",
       "    <tr>\n",
       "      <th>17</th>\n",
       "      <td>TCCTAGGGCTCCTGGACGGAAGGGGTCCCCGGTCCCGCCTCCTAGG...</td>\n",
       "      <td>1</td>\n",
       "    </tr>\n",
       "    <tr>\n",
       "      <th>18</th>\n",
       "      <td>ATGATTTTTCCGTGTTGGTCAGGCTGGTCTCGAATTCCTGACCTCA...</td>\n",
       "      <td>1</td>\n",
       "    </tr>\n",
       "    <tr>\n",
       "      <th>19</th>\n",
       "      <td>GAACAACACTGGGCATCTTCTCACGTGTGCATTTGTTATCCATGTA...</td>\n",
       "      <td>1</td>\n",
       "    </tr>\n",
       "    <tr>\n",
       "      <th>20</th>\n",
       "      <td>GAATCGCTTGAACCCGGGAGGTAAAGGTTATGGTGAGCCAAGATCA...</td>\n",
       "      <td>1</td>\n",
       "    </tr>\n",
       "    <tr>\n",
       "      <th>21</th>\n",
       "      <td>GGGTGTGTGTTCCGCTCGCCTCTGCCGCGTGTCTGTCCCTTTCTCT...</td>\n",
       "      <td>1</td>\n",
       "    </tr>\n",
       "    <tr>\n",
       "      <th>22</th>\n",
       "      <td>GCGGGGGCTTCACCTGCAGCTGCCCGGCAGGCAGGGGAGGCGCCGT...</td>\n",
       "      <td>1</td>\n",
       "    </tr>\n",
       "    <tr>\n",
       "      <th>23</th>\n",
       "      <td>CCGGGGGCAGGGCGGCCACCCTTGCCTGTGTGGGGAAGATGAAGAA...</td>\n",
       "      <td>1</td>\n",
       "    </tr>\n",
       "    <tr>\n",
       "      <th>24</th>\n",
       "      <td>CCCCGCCCCCCCCGGGGGGGGGGGGGACCCCTGCCAGTTCCATGAG...</td>\n",
       "      <td>1</td>\n",
       "    </tr>\n",
       "    <tr>\n",
       "      <th>25</th>\n",
       "      <td>ATTCTCGGCTCACTGCAAGCTCCGCCTCCCGGGTTCACGCCATTCT...</td>\n",
       "      <td>1</td>\n",
       "    </tr>\n",
       "    <tr>\n",
       "      <th>26</th>\n",
       "      <td>ACCACAGCTTCCAAAAGTCACACTCTTCACGTTTTATTTTATTTTT...</td>\n",
       "      <td>1</td>\n",
       "    </tr>\n",
       "    <tr>\n",
       "      <th>27</th>\n",
       "      <td>GGCAACGCGAAAAGCGTCCGGGACGTGGGGCTTGTGGGGCGCCGGG...</td>\n",
       "      <td>1</td>\n",
       "    </tr>\n",
       "    <tr>\n",
       "      <th>28</th>\n",
       "      <td>CTCTCCAACCACAGCTTCCAAAAGTCACACTCTTCACGTTTTATTT...</td>\n",
       "      <td>1</td>\n",
       "    </tr>\n",
       "    <tr>\n",
       "      <th>29</th>\n",
       "      <td>GATGTCGGCTCACTGCAACCTCCGCCTCCCGGGTTCAAGCGATTCT...</td>\n",
       "      <td>1</td>\n",
       "    </tr>\n",
       "    <tr>\n",
       "      <th>...</th>\n",
       "      <td>...</td>\n",
       "      <td>...</td>\n",
       "    </tr>\n",
       "    <tr>\n",
       "      <th>109108</th>\n",
       "      <td>CTCAGATTCGGGACTGGATTCAGACGTGTGCTCTCGATCTCCACGA...</td>\n",
       "      <td>1</td>\n",
       "    </tr>\n",
       "    <tr>\n",
       "      <th>109109</th>\n",
       "      <td>TCTGCTTCTCTTGGCGTGACCTGTGGATGCTGAGAATGAGAGTAGA...</td>\n",
       "      <td>1</td>\n",
       "    </tr>\n",
       "    <tr>\n",
       "      <th>109110</th>\n",
       "      <td>CACCTCCCCAGCTGCTGCAGTGCCCCCC</td>\n",
       "      <td>1</td>\n",
       "    </tr>\n",
       "    <tr>\n",
       "      <th>109111</th>\n",
       "      <td>TCACCTTCAGGGCTCCCAGGGCCCAGGCT</td>\n",
       "      <td>1</td>\n",
       "    </tr>\n",
       "    <tr>\n",
       "      <th>109112</th>\n",
       "      <td>GGGGGTATGCCCGCTCCGGGTAGAGGGGGGG</td>\n",
       "      <td>1</td>\n",
       "    </tr>\n",
       "    <tr>\n",
       "      <th>109113</th>\n",
       "      <td>TGCTGAGGAAGTGTCGGTGACAGGAAGAGGG</td>\n",
       "      <td>1</td>\n",
       "    </tr>\n",
       "    <tr>\n",
       "      <th>109114</th>\n",
       "      <td>CTGAGGAAGTGTCGGTGACAGGAAGAGGGGG</td>\n",
       "      <td>1</td>\n",
       "    </tr>\n",
       "    <tr>\n",
       "      <th>109115</th>\n",
       "      <td>CCTGTCACCAGCCTTTCCTCAGTATCCA</td>\n",
       "      <td>1</td>\n",
       "    </tr>\n",
       "    <tr>\n",
       "      <th>109116</th>\n",
       "      <td>GTGACAGGAAGAGGGGTGGCGTGACCTGTGGA</td>\n",
       "      <td>1</td>\n",
       "    </tr>\n",
       "    <tr>\n",
       "      <th>109117</th>\n",
       "      <td>CTGAGGAAGTGTCGGTGACAGGAAGAGGGGG</td>\n",
       "      <td>1</td>\n",
       "    </tr>\n",
       "    <tr>\n",
       "      <th>109118</th>\n",
       "      <td>CCGCTTCCTGTCACCGACACTTCCTCAGC</td>\n",
       "      <td>1</td>\n",
       "    </tr>\n",
       "    <tr>\n",
       "      <th>109119</th>\n",
       "      <td>GAGAAGTGTCGGTGACAGGAAGCGGGGT</td>\n",
       "      <td>1</td>\n",
       "    </tr>\n",
       "    <tr>\n",
       "      <th>109120</th>\n",
       "      <td>CTCAGCATCCACAGGTCACGCCACCCCTCTTCCT</td>\n",
       "      <td>1</td>\n",
       "    </tr>\n",
       "    <tr>\n",
       "      <th>109121</th>\n",
       "      <td>GAGGAGTGCGTGACCTGTGGATGCTGAG</td>\n",
       "      <td>1</td>\n",
       "    </tr>\n",
       "    <tr>\n",
       "      <th>109122</th>\n",
       "      <td>AAGTGCTGGTGACAGGAAGAGGGGTGG</td>\n",
       "      <td>1</td>\n",
       "    </tr>\n",
       "    <tr>\n",
       "      <th>109123</th>\n",
       "      <td>GGTCACGCCACCTCTCTTCCTGTCACCGACAC</td>\n",
       "      <td>1</td>\n",
       "    </tr>\n",
       "    <tr>\n",
       "      <th>109124</th>\n",
       "      <td>CACAGGTCAGGCCACCCCTCTTCTGTCACC</td>\n",
       "      <td>1</td>\n",
       "    </tr>\n",
       "    <tr>\n",
       "      <th>109125</th>\n",
       "      <td>ACCAGCCTTTCCTCAGTATCCACAGGTGACACC</td>\n",
       "      <td>1</td>\n",
       "    </tr>\n",
       "    <tr>\n",
       "      <th>109126</th>\n",
       "      <td>ACAGGTCACACCACCCCTCTTCTGTCACCGA</td>\n",
       "      <td>1</td>\n",
       "    </tr>\n",
       "    <tr>\n",
       "      <th>109127</th>\n",
       "      <td>TAGCAGCAACAGCAGTGATAGCAGTGAAA</td>\n",
       "      <td>1</td>\n",
       "    </tr>\n",
       "    <tr>\n",
       "      <th>109128</th>\n",
       "      <td>TCCCTTCCTTCCCCTCTTTCCTGTGGCATCTCTTCTT</td>\n",
       "      <td>1</td>\n",
       "    </tr>\n",
       "    <tr>\n",
       "      <th>109129</th>\n",
       "      <td>ACTGCTGTTAGCTCCAGTTTACTCACCTG</td>\n",
       "      <td>1</td>\n",
       "    </tr>\n",
       "    <tr>\n",
       "      <th>109130</th>\n",
       "      <td>CTGCCCGGGCCCTCCTCCTCCTCTTCGTTC</td>\n",
       "      <td>1</td>\n",
       "    </tr>\n",
       "    <tr>\n",
       "      <th>109131</th>\n",
       "      <td>CTGCCCGGGCCCTCCTCCTCCTCTTCGTTC</td>\n",
       "      <td>1</td>\n",
       "    </tr>\n",
       "    <tr>\n",
       "      <th>109132</th>\n",
       "      <td>TGAGGGCTCTGTTCTGTTCCATTGGTC</td>\n",
       "      <td>1</td>\n",
       "    </tr>\n",
       "    <tr>\n",
       "      <th>109133</th>\n",
       "      <td>CTAAGCTGCAGGAGATCTACCAGGAGCTGACC</td>\n",
       "      <td>1</td>\n",
       "    </tr>\n",
       "    <tr>\n",
       "      <th>109134</th>\n",
       "      <td>CTAAGCTGCAGGAGATCTACCAGGAGCTGACC</td>\n",
       "      <td>1</td>\n",
       "    </tr>\n",
       "    <tr>\n",
       "      <th>109135</th>\n",
       "      <td>CAGGGTGGAGTCTGTGCAGTGATCAGTAAATCCTG</td>\n",
       "      <td>1</td>\n",
       "    </tr>\n",
       "    <tr>\n",
       "      <th>109136</th>\n",
       "      <td>CTATGTCCCCCACCCAGACTAACCCCGGCAAG</td>\n",
       "      <td>1</td>\n",
       "    </tr>\n",
       "    <tr>\n",
       "      <th>109137</th>\n",
       "      <td>CTAGACTGCACACAGCATGGGGACCCT</td>\n",
       "      <td>1</td>\n",
       "    </tr>\n",
       "  </tbody>\n",
       "</table>\n",
       "<p>109138 rows × 2 columns</p>\n",
       "</div>"
      ],
      "text/plain": [
       "                                                 sequence  Class\n",
       "0       TTAGTCGAAGAGCAGGAAAATGAAAGAATGACAACAAAAAAGAATA...      1\n",
       "1       GCCAGATGTGGTGGCTCACATCTGTAATCCAGCACTTTCAGAGGCT...      1\n",
       "2       ACCTATAATCCCAGCACTTTGGGAGGCTGAGGTGAGTGGATCAGGA...      1\n",
       "3       CTTGTCACACAGGCTGGCACCTTTGCCCAGAGCAGGCACCAAGACT...      1\n",
       "4       CTAAGAGTATAAAAAGTTCAGGCGACCTCCAGGGGCTTTTGCCTAC...      1\n",
       "5       TAAGAATACAAAAATTAGCTGGGCGTGGTGATGGGCATCTGTAATC...      1\n",
       "6       CCTGCCCAAACAGGACAGGCAGGAAAAACTGGCTTGGTTCTGAGTA...      1\n",
       "7       GAGAGGAGATGCCCAGGCCTGGCGGCCGGCGCACGCGGGTTCTCTG...      1\n",
       "8       CATGGTGATAATTGGGCTCATGAACCCATGACCTCAGCTTCATCAG...      1\n",
       "9       GAAAATCACTAATAAAAACTTGTTGGTTTTGCGGCTTGGGGGGCAT...      1\n",
       "10      TGGAATCGAATGGAATGGAATGCAATGGAATGGAATAGAATGGAAT...      1\n",
       "11      TGGAATGGAATGGAATTGAAAGGAATGGAATGAATCGAATGGAATG...      1\n",
       "12      GGAATGGAATGGAATGCAATGCATTGGAACAGACTGGAATGTAATG...      1\n",
       "13      GGTTTTTTGTAGTTTGTACTGAATCACACACCATGCTGCTTCCATG...      1\n",
       "14      TCACGCCAGGTCCACAGAGGCACCCACGCCCGCCAAAAGGATGCCA...      1\n",
       "15      GCGCGGCCAGGCGCCTCCCCGGCCCCCGCGACCCAACTCCAGCCCG...      1\n",
       "16      AGCCAGGACGGCAACCTTCCCACCCTCATATCCAGCGTCCACCGCA...      1\n",
       "17      TCCTAGGGCTCCTGGACGGAAGGGGTCCCCGGTCCCGCCTCCTAGG...      1\n",
       "18      ATGATTTTTCCGTGTTGGTCAGGCTGGTCTCGAATTCCTGACCTCA...      1\n",
       "19      GAACAACACTGGGCATCTTCTCACGTGTGCATTTGTTATCCATGTA...      1\n",
       "20      GAATCGCTTGAACCCGGGAGGTAAAGGTTATGGTGAGCCAAGATCA...      1\n",
       "21      GGGTGTGTGTTCCGCTCGCCTCTGCCGCGTGTCTGTCCCTTTCTCT...      1\n",
       "22      GCGGGGGCTTCACCTGCAGCTGCCCGGCAGGCAGGGGAGGCGCCGT...      1\n",
       "23      CCGGGGGCAGGGCGGCCACCCTTGCCTGTGTGGGGAAGATGAAGAA...      1\n",
       "24      CCCCGCCCCCCCCGGGGGGGGGGGGGACCCCTGCCAGTTCCATGAG...      1\n",
       "25      ATTCTCGGCTCACTGCAAGCTCCGCCTCCCGGGTTCACGCCATTCT...      1\n",
       "26      ACCACAGCTTCCAAAAGTCACACTCTTCACGTTTTATTTTATTTTT...      1\n",
       "27      GGCAACGCGAAAAGCGTCCGGGACGTGGGGCTTGTGGGGCGCCGGG...      1\n",
       "28      CTCTCCAACCACAGCTTCCAAAAGTCACACTCTTCACGTTTTATTT...      1\n",
       "29      GATGTCGGCTCACTGCAACCTCCGCCTCCCGGGTTCAAGCGATTCT...      1\n",
       "...                                                   ...    ...\n",
       "109108  CTCAGATTCGGGACTGGATTCAGACGTGTGCTCTCGATCTCCACGA...      1\n",
       "109109  TCTGCTTCTCTTGGCGTGACCTGTGGATGCTGAGAATGAGAGTAGA...      1\n",
       "109110                       CACCTCCCCAGCTGCTGCAGTGCCCCCC      1\n",
       "109111                      TCACCTTCAGGGCTCCCAGGGCCCAGGCT      1\n",
       "109112                    GGGGGTATGCCCGCTCCGGGTAGAGGGGGGG      1\n",
       "109113                    TGCTGAGGAAGTGTCGGTGACAGGAAGAGGG      1\n",
       "109114                    CTGAGGAAGTGTCGGTGACAGGAAGAGGGGG      1\n",
       "109115                       CCTGTCACCAGCCTTTCCTCAGTATCCA      1\n",
       "109116                   GTGACAGGAAGAGGGGTGGCGTGACCTGTGGA      1\n",
       "109117                    CTGAGGAAGTGTCGGTGACAGGAAGAGGGGG      1\n",
       "109118                      CCGCTTCCTGTCACCGACACTTCCTCAGC      1\n",
       "109119                       GAGAAGTGTCGGTGACAGGAAGCGGGGT      1\n",
       "109120                 CTCAGCATCCACAGGTCACGCCACCCCTCTTCCT      1\n",
       "109121                       GAGGAGTGCGTGACCTGTGGATGCTGAG      1\n",
       "109122                        AAGTGCTGGTGACAGGAAGAGGGGTGG      1\n",
       "109123                   GGTCACGCCACCTCTCTTCCTGTCACCGACAC      1\n",
       "109124                     CACAGGTCAGGCCACCCCTCTTCTGTCACC      1\n",
       "109125                  ACCAGCCTTTCCTCAGTATCCACAGGTGACACC      1\n",
       "109126                    ACAGGTCACACCACCCCTCTTCTGTCACCGA      1\n",
       "109127                      TAGCAGCAACAGCAGTGATAGCAGTGAAA      1\n",
       "109128              TCCCTTCCTTCCCCTCTTTCCTGTGGCATCTCTTCTT      1\n",
       "109129                      ACTGCTGTTAGCTCCAGTTTACTCACCTG      1\n",
       "109130                     CTGCCCGGGCCCTCCTCCTCCTCTTCGTTC      1\n",
       "109131                     CTGCCCGGGCCCTCCTCCTCCTCTTCGTTC      1\n",
       "109132                        TGAGGGCTCTGTTCTGTTCCATTGGTC      1\n",
       "109133                   CTAAGCTGCAGGAGATCTACCAGGAGCTGACC      1\n",
       "109134                   CTAAGCTGCAGGAGATCTACCAGGAGCTGACC      1\n",
       "109135                CAGGGTGGAGTCTGTGCAGTGATCAGTAAATCCTG      1\n",
       "109136                   CTATGTCCCCCACCCAGACTAACCCCGGCAAG      1\n",
       "109137                        CTAGACTGCACACAGCATGGGGACCCT      1\n",
       "\n",
       "[109138 rows x 2 columns]"
      ]
     },
     "execution_count": 5,
     "metadata": {},
     "output_type": "execute_result"
    }
   ],
   "source": [
    "newDf"
   ]
  },
  {
   "cell_type": "code",
   "execution_count": 6,
   "metadata": {},
   "outputs": [],
   "source": [
    "#newDf = newDf[0:41892]"
   ]
  },
  {
   "cell_type": "code",
   "execution_count": 7,
   "metadata": {},
   "outputs": [],
   "source": [
    "seqs2 = readFastq('SRR8483193.fastq')\n",
    "seqs2= [i.replace('N', '') for i in seqs2]"
   ]
  },
  {
   "cell_type": "code",
   "execution_count": 8,
   "metadata": {},
   "outputs": [],
   "source": [
    "#seqs2 = readFastq('SRR020192.fastq')\n",
    "#seqs2= [i.replace('N', '') for i in seqs2]"
   ]
  },
  {
   "cell_type": "code",
   "execution_count": 9,
   "metadata": {},
   "outputs": [
    {
     "data": {
      "text/plain": [
       "45663"
      ]
     },
     "execution_count": 9,
     "metadata": {},
     "output_type": "execute_result"
    }
   ],
   "source": [
    "len(seqs2)"
   ]
  },
  {
   "cell_type": "code",
   "execution_count": 10,
   "metadata": {},
   "outputs": [],
   "source": [
    "import pandas as pd\n",
    "\n",
    "newDf1 = pd.DataFrame()\n",
    "number = 0\n",
    "elements = len(seqs2)\n",
    "\n",
    "thelist = [number] * elements\n",
    "\n",
    "#newDf.assign(sequence=seqs)\n",
    "newDf1['sequence'] = seqs2\n",
    "\n",
    "newDf1['Class'] = thelist\n"
   ]
  },
  {
   "cell_type": "code",
   "execution_count": 11,
   "metadata": {},
   "outputs": [
    {
     "data": {
      "text/html": [
       "<div>\n",
       "<style scoped>\n",
       "    .dataframe tbody tr th:only-of-type {\n",
       "        vertical-align: middle;\n",
       "    }\n",
       "\n",
       "    .dataframe tbody tr th {\n",
       "        vertical-align: top;\n",
       "    }\n",
       "\n",
       "    .dataframe thead th {\n",
       "        text-align: right;\n",
       "    }\n",
       "</style>\n",
       "<table border=\"1\" class=\"dataframe\">\n",
       "  <thead>\n",
       "    <tr style=\"text-align: right;\">\n",
       "      <th></th>\n",
       "      <th>sequence</th>\n",
       "      <th>Class</th>\n",
       "    </tr>\n",
       "  </thead>\n",
       "  <tbody>\n",
       "    <tr>\n",
       "      <th>76879</th>\n",
       "      <td>GGATTGAGACATATCTCCGCACTGCTCCCGAGGTGATCCAACTCTT...</td>\n",
       "      <td>1</td>\n",
       "    </tr>\n",
       "    <tr>\n",
       "      <th>108731</th>\n",
       "      <td>AGGACAAACGGCGCCAGGAGCCCCTGCGGCAGCCTAGCCCTCAGCG...</td>\n",
       "      <td>1</td>\n",
       "    </tr>\n",
       "    <tr>\n",
       "      <th>40078</th>\n",
       "      <td>GGAGCCTGGTCTGCAGCGGCGAGGTGCTCAGGGAACAGGGAGCTTG...</td>\n",
       "      <td>0</td>\n",
       "    </tr>\n",
       "    <tr>\n",
       "      <th>91753</th>\n",
       "      <td>TGCCCCCGCCATCCTTTGTTTTTATGCTTGCCTGCCTCACTCAGCC...</td>\n",
       "      <td>1</td>\n",
       "    </tr>\n",
       "    <tr>\n",
       "      <th>101986</th>\n",
       "      <td>GAGAGTAGAACAGGGCAGGCACAGGGCCCTTACCCTGCAGTGGCGA...</td>\n",
       "      <td>1</td>\n",
       "    </tr>\n",
       "    <tr>\n",
       "      <th>20891</th>\n",
       "      <td>CCGGATGGGCGAGTCGGGGTCCGGGGACAGCCCAACGTAGCTCTTC...</td>\n",
       "      <td>0</td>\n",
       "    </tr>\n",
       "    <tr>\n",
       "      <th>71012</th>\n",
       "      <td>AAATCTGTAAGGAATCACTGTCAGGAATCTACAGGACTTGGCTCTT...</td>\n",
       "      <td>1</td>\n",
       "    </tr>\n",
       "    <tr>\n",
       "      <th>23582</th>\n",
       "      <td>CCACATACATACCACACACATACACACCACACACACCATACACACA...</td>\n",
       "      <td>1</td>\n",
       "    </tr>\n",
       "    <tr>\n",
       "      <th>45843</th>\n",
       "      <td>CTAAGGGTGCTAGAAAGCCTGGATCGCTTTAATTCAATCAAGGCAT...</td>\n",
       "      <td>1</td>\n",
       "    </tr>\n",
       "    <tr>\n",
       "      <th>1147</th>\n",
       "      <td>ACCTCCAGGGTGCTAGACTTGCGATGCCGCGCAAGCTGACAGGCTG...</td>\n",
       "      <td>0</td>\n",
       "    </tr>\n",
       "    <tr>\n",
       "      <th>373</th>\n",
       "      <td>AGTGCAGGGCCTGCTGGCACCTTCCTTGCTGTAGACCTTCTCATCA...</td>\n",
       "      <td>0</td>\n",
       "    </tr>\n",
       "    <tr>\n",
       "      <th>16984</th>\n",
       "      <td>GAAGAAGTGATTTACTGGGTCTGACAACCTGTTTAACATTTCAGGA...</td>\n",
       "      <td>0</td>\n",
       "    </tr>\n",
       "    <tr>\n",
       "      <th>3794</th>\n",
       "      <td>TATCAGAGAAAGGTTCAACACTGTGAGTTGAATGCAAGCATCAGAA...</td>\n",
       "      <td>0</td>\n",
       "    </tr>\n",
       "    <tr>\n",
       "      <th>79178</th>\n",
       "      <td>AGACTGCACACAGCACGGGGACCCTGGGACCAGCCCACAGAACATT...</td>\n",
       "      <td>1</td>\n",
       "    </tr>\n",
       "    <tr>\n",
       "      <th>12687</th>\n",
       "      <td>TACATCACTGTTCCCGTGTGATTGAACACCACGCGAACTGATCCAG...</td>\n",
       "      <td>0</td>\n",
       "    </tr>\n",
       "    <tr>\n",
       "      <th>19383</th>\n",
       "      <td>TAGGTTGTACATGTAAACATATTTTAGTAGGCATTTGTATGGAGTT...</td>\n",
       "      <td>0</td>\n",
       "    </tr>\n",
       "    <tr>\n",
       "      <th>25948</th>\n",
       "      <td>ACCCAGGACCCGGCGGCCGCCACACGCACTCTCGCTCCCGCAGCTC...</td>\n",
       "      <td>1</td>\n",
       "    </tr>\n",
       "    <tr>\n",
       "      <th>37488</th>\n",
       "      <td>GGGTGGCGTGACCGGTGGATGCTGAGGAAGCTGGTGACAGGAAGAG...</td>\n",
       "      <td>1</td>\n",
       "    </tr>\n",
       "    <tr>\n",
       "      <th>40569</th>\n",
       "      <td>TTTTTTCATCCTCCTCCTGTCTAGAGGCTGAGGAATAAGCTGATTA...</td>\n",
       "      <td>0</td>\n",
       "    </tr>\n",
       "    <tr>\n",
       "      <th>7386</th>\n",
       "      <td>TACTTTGTCTACAGCAACGAGAGCGTCCGGCCTACACGCCCTTTGA...</td>\n",
       "      <td>0</td>\n",
       "    </tr>\n",
       "    <tr>\n",
       "      <th>21191</th>\n",
       "      <td>ATAGGAGCTCTACAAATATTACCAGCTGCAGAGTGAGGACACTTGC...</td>\n",
       "      <td>0</td>\n",
       "    </tr>\n",
       "    <tr>\n",
       "      <th>7710</th>\n",
       "      <td>GAAACAGGAAGGCGGCCTGGGCACGGTGGCTCACGCCTGTAATCCC...</td>\n",
       "      <td>1</td>\n",
       "    </tr>\n",
       "    <tr>\n",
       "      <th>3814</th>\n",
       "      <td>GGAACTAGCTGAACCCCCTTCCCTGGCCCACCTGTGAGTGTCTAGA...</td>\n",
       "      <td>1</td>\n",
       "    </tr>\n",
       "    <tr>\n",
       "      <th>14616</th>\n",
       "      <td>TTGGTTTTATCCAGTACCCTCTGGTTTTCTGGTATTTGCAAATTAA...</td>\n",
       "      <td>0</td>\n",
       "    </tr>\n",
       "    <tr>\n",
       "      <th>43021</th>\n",
       "      <td>CATTCATCGAGATTCCTGTTTGCGAGCCCTGGCGTCCATTTTTTGC...</td>\n",
       "      <td>0</td>\n",
       "    </tr>\n",
       "    <tr>\n",
       "      <th>28568</th>\n",
       "      <td>GGTGGCCACCGAACGCGGCGATGTGCAGCGCGCTCCAGCCGTCGCG...</td>\n",
       "      <td>0</td>\n",
       "    </tr>\n",
       "    <tr>\n",
       "      <th>17290</th>\n",
       "      <td>GTGATTTACTGGGTCTGACAACCTGTTTAACATTTCAGGATCAAAC...</td>\n",
       "      <td>0</td>\n",
       "    </tr>\n",
       "    <tr>\n",
       "      <th>63552</th>\n",
       "      <td>CAAGTTCTTCAAGCAGCGCTCCAGGTCGTGTCACGACCTCTCGGTG...</td>\n",
       "      <td>1</td>\n",
       "    </tr>\n",
       "    <tr>\n",
       "      <th>55796</th>\n",
       "      <td>AGGGCGAGGGGGCCGCCGAGCGCGAGGTGTCGGTGCCCACCTTCAG...</td>\n",
       "      <td>1</td>\n",
       "    </tr>\n",
       "    <tr>\n",
       "      <th>108368</th>\n",
       "      <td>GGACGGTCTCTTTGTTTTTCCGATTCTTCCTTCGGCCCGTGGGCTG...</td>\n",
       "      <td>1</td>\n",
       "    </tr>\n",
       "    <tr>\n",
       "      <th>...</th>\n",
       "      <td>...</td>\n",
       "      <td>...</td>\n",
       "    </tr>\n",
       "    <tr>\n",
       "      <th>1180</th>\n",
       "      <td>AGGAGCCCACCTCCCCAGCTGCTGCAGTGCCCACCCCAGAGGAGCC...</td>\n",
       "      <td>1</td>\n",
       "    </tr>\n",
       "    <tr>\n",
       "      <th>25825</th>\n",
       "      <td>GAATGAACATAAAAAAATTCATACTGGAGAGAAACCCTACAAATGT...</td>\n",
       "      <td>1</td>\n",
       "    </tr>\n",
       "    <tr>\n",
       "      <th>27815</th>\n",
       "      <td>CTCTAATCTTCTGCCCCTCTGGCCACATCTATCCTCAAATAGAGAC...</td>\n",
       "      <td>1</td>\n",
       "    </tr>\n",
       "    <tr>\n",
       "      <th>40705</th>\n",
       "      <td>TGAAAATGTAATAGAAAAGAAAATTCTATTTGCTGAGGAGAAATTC...</td>\n",
       "      <td>1</td>\n",
       "    </tr>\n",
       "    <tr>\n",
       "      <th>41050</th>\n",
       "      <td>GGAGAAATTCAAGCTGGCTGCAGAAATTTGCATAAGTTACAGGGAG...</td>\n",
       "      <td>1</td>\n",
       "    </tr>\n",
       "    <tr>\n",
       "      <th>42789</th>\n",
       "      <td>GGATATAAAAAAGATCTATGATGAGGTTACGTGGCTCCATAACTTT...</td>\n",
       "      <td>0</td>\n",
       "    </tr>\n",
       "    <tr>\n",
       "      <th>7979</th>\n",
       "      <td>TGCCTCCTGGGTTCAAGCAATTCTCCTGCCTCAGCCTCCTGAGTTG...</td>\n",
       "      <td>0</td>\n",
       "    </tr>\n",
       "    <tr>\n",
       "      <th>97356</th>\n",
       "      <td>TGTGGGAGCTGAGCGAGGAGGGCGTGTACGGCCAGGACTCGCCGCT...</td>\n",
       "      <td>1</td>\n",
       "    </tr>\n",
       "    <tr>\n",
       "      <th>9350</th>\n",
       "      <td>ACATCTTTGTGATGTTTGTATTCAGGACACAGAGTTGAACATTCCC...</td>\n",
       "      <td>1</td>\n",
       "    </tr>\n",
       "    <tr>\n",
       "      <th>3328</th>\n",
       "      <td>GTGGGGTGTCTGGAGCCATCTCTTGACTGCTCCTGAGCAGATCCAC...</td>\n",
       "      <td>1</td>\n",
       "    </tr>\n",
       "    <tr>\n",
       "      <th>88802</th>\n",
       "      <td>ATGGTGGTGTGCATCGGCAGTCCTAGCTACTCCAGAGGCTGAGGTG...</td>\n",
       "      <td>1</td>\n",
       "    </tr>\n",
       "    <tr>\n",
       "      <th>99487</th>\n",
       "      <td>TTTTCATTTATCTAATAAATTCAGATCAGGTTACATAAGCTTAACA...</td>\n",
       "      <td>1</td>\n",
       "    </tr>\n",
       "    <tr>\n",
       "      <th>36577</th>\n",
       "      <td>GTATCTTTCTTTTTAGACAATTCGCCAGAAGTTTCCCCTCCTAACA...</td>\n",
       "      <td>1</td>\n",
       "    </tr>\n",
       "    <tr>\n",
       "      <th>9753</th>\n",
       "      <td>TTATTGGTCCACATTTCCCCATCCTGGTCTCCTATTGCCTTTGCTC...</td>\n",
       "      <td>1</td>\n",
       "    </tr>\n",
       "    <tr>\n",
       "      <th>74922</th>\n",
       "      <td>AGTCGTCCAGAGGCCTGGGGCCCATTGTTGCTGAGAAGTCGGCTGC...</td>\n",
       "      <td>1</td>\n",
       "    </tr>\n",
       "    <tr>\n",
       "      <th>25357</th>\n",
       "      <td>TGTTTAACTCTCTTTCTTTTCCTTTTGGGTGGAGCCCTTTGAGGAA...</td>\n",
       "      <td>0</td>\n",
       "    </tr>\n",
       "    <tr>\n",
       "      <th>36463</th>\n",
       "      <td>GTAATCCTAGCACTTTGAGAGGCCGAGGTGGGCGGATTGCCTGAGC...</td>\n",
       "      <td>1</td>\n",
       "    </tr>\n",
       "    <tr>\n",
       "      <th>70431</th>\n",
       "      <td>TCTCTCCAAATTCCATTTGGCAGCTTCTGCGTTTAAACTGCTTTTC...</td>\n",
       "      <td>1</td>\n",
       "    </tr>\n",
       "    <tr>\n",
       "      <th>106206</th>\n",
       "      <td>CCCGCGTAGGTGCCGCTGGCGGAGATGAACATGCCGGCCGAGTGGG...</td>\n",
       "      <td>1</td>\n",
       "    </tr>\n",
       "    <tr>\n",
       "      <th>5721</th>\n",
       "      <td>TACCTTTGCAGATGGGACTGAGTTGAGGATCTGGATGGGAGGTTAT...</td>\n",
       "      <td>1</td>\n",
       "    </tr>\n",
       "    <tr>\n",
       "      <th>10960</th>\n",
       "      <td>AAGTTCGGAAAATTTGCAGCCTGACAATGTGATAGAAAAGAAAAAT...</td>\n",
       "      <td>1</td>\n",
       "    </tr>\n",
       "    <tr>\n",
       "      <th>96306</th>\n",
       "      <td>ATCTGCCATTGATGGCCATTTACTGAGAGGAATTTAGTCTTCAACT...</td>\n",
       "      <td>1</td>\n",
       "    </tr>\n",
       "    <tr>\n",
       "      <th>88177</th>\n",
       "      <td>TAAAAATACAAAAATTAGCCAGGCATGGTGGCAAATGCCTGTAATC...</td>\n",
       "      <td>1</td>\n",
       "    </tr>\n",
       "    <tr>\n",
       "      <th>35401</th>\n",
       "      <td>AAGACAATGAGGAAAATGTCCCCAGGGAATGTTAGAGGTCTTCATG...</td>\n",
       "      <td>1</td>\n",
       "    </tr>\n",
       "    <tr>\n",
       "      <th>904</th>\n",
       "      <td>TACTGCAGCTGTCAGAGTGTCCACCCCAGAGGAGCCCGCCTCCCCA...</td>\n",
       "      <td>1</td>\n",
       "    </tr>\n",
       "    <tr>\n",
       "      <th>44770</th>\n",
       "      <td>CCTTGAGTGCCTCGCCCACGCCCACGGCAAAGATGCGGATGCCAGC...</td>\n",
       "      <td>1</td>\n",
       "    </tr>\n",
       "    <tr>\n",
       "      <th>21743</th>\n",
       "      <td>CAGACTAAGTATTCACTCACAGTTCATTCAGAGTTCAACATTTACT...</td>\n",
       "      <td>0</td>\n",
       "    </tr>\n",
       "    <tr>\n",
       "      <th>90338</th>\n",
       "      <td>ATCACCAGCACTCTGCTCTGAGAAAGAGTTCTGTACTGCACCGTCC...</td>\n",
       "      <td>1</td>\n",
       "    </tr>\n",
       "    <tr>\n",
       "      <th>31289</th>\n",
       "      <td>CCTTGGGGTTGCTCTTTTCCTCCGGCATCGGCACGTCCTGGTATTG...</td>\n",
       "      <td>0</td>\n",
       "    </tr>\n",
       "    <tr>\n",
       "      <th>39359</th>\n",
       "      <td>ATAAAAACCAGACAGAATCATTCTCAGAAAATTCTTTGTGATGTGT...</td>\n",
       "      <td>1</td>\n",
       "    </tr>\n",
       "  </tbody>\n",
       "</table>\n",
       "<p>154801 rows × 2 columns</p>\n",
       "</div>"
      ],
      "text/plain": [
       "                                                 sequence  Class\n",
       "76879   GGATTGAGACATATCTCCGCACTGCTCCCGAGGTGATCCAACTCTT...      1\n",
       "108731  AGGACAAACGGCGCCAGGAGCCCCTGCGGCAGCCTAGCCCTCAGCG...      1\n",
       "40078   GGAGCCTGGTCTGCAGCGGCGAGGTGCTCAGGGAACAGGGAGCTTG...      0\n",
       "91753   TGCCCCCGCCATCCTTTGTTTTTATGCTTGCCTGCCTCACTCAGCC...      1\n",
       "101986  GAGAGTAGAACAGGGCAGGCACAGGGCCCTTACCCTGCAGTGGCGA...      1\n",
       "20891   CCGGATGGGCGAGTCGGGGTCCGGGGACAGCCCAACGTAGCTCTTC...      0\n",
       "71012   AAATCTGTAAGGAATCACTGTCAGGAATCTACAGGACTTGGCTCTT...      1\n",
       "23582   CCACATACATACCACACACATACACACCACACACACCATACACACA...      1\n",
       "45843   CTAAGGGTGCTAGAAAGCCTGGATCGCTTTAATTCAATCAAGGCAT...      1\n",
       "1147    ACCTCCAGGGTGCTAGACTTGCGATGCCGCGCAAGCTGACAGGCTG...      0\n",
       "373     AGTGCAGGGCCTGCTGGCACCTTCCTTGCTGTAGACCTTCTCATCA...      0\n",
       "16984   GAAGAAGTGATTTACTGGGTCTGACAACCTGTTTAACATTTCAGGA...      0\n",
       "3794    TATCAGAGAAAGGTTCAACACTGTGAGTTGAATGCAAGCATCAGAA...      0\n",
       "79178   AGACTGCACACAGCACGGGGACCCTGGGACCAGCCCACAGAACATT...      1\n",
       "12687   TACATCACTGTTCCCGTGTGATTGAACACCACGCGAACTGATCCAG...      0\n",
       "19383   TAGGTTGTACATGTAAACATATTTTAGTAGGCATTTGTATGGAGTT...      0\n",
       "25948   ACCCAGGACCCGGCGGCCGCCACACGCACTCTCGCTCCCGCAGCTC...      1\n",
       "37488   GGGTGGCGTGACCGGTGGATGCTGAGGAAGCTGGTGACAGGAAGAG...      1\n",
       "40569   TTTTTTCATCCTCCTCCTGTCTAGAGGCTGAGGAATAAGCTGATTA...      0\n",
       "7386    TACTTTGTCTACAGCAACGAGAGCGTCCGGCCTACACGCCCTTTGA...      0\n",
       "21191   ATAGGAGCTCTACAAATATTACCAGCTGCAGAGTGAGGACACTTGC...      0\n",
       "7710    GAAACAGGAAGGCGGCCTGGGCACGGTGGCTCACGCCTGTAATCCC...      1\n",
       "3814    GGAACTAGCTGAACCCCCTTCCCTGGCCCACCTGTGAGTGTCTAGA...      1\n",
       "14616   TTGGTTTTATCCAGTACCCTCTGGTTTTCTGGTATTTGCAAATTAA...      0\n",
       "43021   CATTCATCGAGATTCCTGTTTGCGAGCCCTGGCGTCCATTTTTTGC...      0\n",
       "28568   GGTGGCCACCGAACGCGGCGATGTGCAGCGCGCTCCAGCCGTCGCG...      0\n",
       "17290   GTGATTTACTGGGTCTGACAACCTGTTTAACATTTCAGGATCAAAC...      0\n",
       "63552   CAAGTTCTTCAAGCAGCGCTCCAGGTCGTGTCACGACCTCTCGGTG...      1\n",
       "55796   AGGGCGAGGGGGCCGCCGAGCGCGAGGTGTCGGTGCCCACCTTCAG...      1\n",
       "108368  GGACGGTCTCTTTGTTTTTCCGATTCTTCCTTCGGCCCGTGGGCTG...      1\n",
       "...                                                   ...    ...\n",
       "1180    AGGAGCCCACCTCCCCAGCTGCTGCAGTGCCCACCCCAGAGGAGCC...      1\n",
       "25825   GAATGAACATAAAAAAATTCATACTGGAGAGAAACCCTACAAATGT...      1\n",
       "27815   CTCTAATCTTCTGCCCCTCTGGCCACATCTATCCTCAAATAGAGAC...      1\n",
       "40705   TGAAAATGTAATAGAAAAGAAAATTCTATTTGCTGAGGAGAAATTC...      1\n",
       "41050   GGAGAAATTCAAGCTGGCTGCAGAAATTTGCATAAGTTACAGGGAG...      1\n",
       "42789   GGATATAAAAAAGATCTATGATGAGGTTACGTGGCTCCATAACTTT...      0\n",
       "7979    TGCCTCCTGGGTTCAAGCAATTCTCCTGCCTCAGCCTCCTGAGTTG...      0\n",
       "97356   TGTGGGAGCTGAGCGAGGAGGGCGTGTACGGCCAGGACTCGCCGCT...      1\n",
       "9350    ACATCTTTGTGATGTTTGTATTCAGGACACAGAGTTGAACATTCCC...      1\n",
       "3328    GTGGGGTGTCTGGAGCCATCTCTTGACTGCTCCTGAGCAGATCCAC...      1\n",
       "88802   ATGGTGGTGTGCATCGGCAGTCCTAGCTACTCCAGAGGCTGAGGTG...      1\n",
       "99487   TTTTCATTTATCTAATAAATTCAGATCAGGTTACATAAGCTTAACA...      1\n",
       "36577   GTATCTTTCTTTTTAGACAATTCGCCAGAAGTTTCCCCTCCTAACA...      1\n",
       "9753    TTATTGGTCCACATTTCCCCATCCTGGTCTCCTATTGCCTTTGCTC...      1\n",
       "74922   AGTCGTCCAGAGGCCTGGGGCCCATTGTTGCTGAGAAGTCGGCTGC...      1\n",
       "25357   TGTTTAACTCTCTTTCTTTTCCTTTTGGGTGGAGCCCTTTGAGGAA...      0\n",
       "36463   GTAATCCTAGCACTTTGAGAGGCCGAGGTGGGCGGATTGCCTGAGC...      1\n",
       "70431   TCTCTCCAAATTCCATTTGGCAGCTTCTGCGTTTAAACTGCTTTTC...      1\n",
       "106206  CCCGCGTAGGTGCCGCTGGCGGAGATGAACATGCCGGCCGAGTGGG...      1\n",
       "5721    TACCTTTGCAGATGGGACTGAGTTGAGGATCTGGATGGGAGGTTAT...      1\n",
       "10960   AAGTTCGGAAAATTTGCAGCCTGACAATGTGATAGAAAAGAAAAAT...      1\n",
       "96306   ATCTGCCATTGATGGCCATTTACTGAGAGGAATTTAGTCTTCAACT...      1\n",
       "88177   TAAAAATACAAAAATTAGCCAGGCATGGTGGCAAATGCCTGTAATC...      1\n",
       "35401   AAGACAATGAGGAAAATGTCCCCAGGGAATGTTAGAGGTCTTCATG...      1\n",
       "904     TACTGCAGCTGTCAGAGTGTCCACCCCAGAGGAGCCCGCCTCCCCA...      1\n",
       "44770   CCTTGAGTGCCTCGCCCACGCCCACGGCAAAGATGCGGATGCCAGC...      1\n",
       "21743   CAGACTAAGTATTCACTCACAGTTCATTCAGAGTTCAACATTTACT...      0\n",
       "90338   ATCACCAGCACTCTGCTCTGAGAAAGAGTTCTGTACTGCACCGTCC...      1\n",
       "31289   CCTTGGGGTTGCTCTTTTCCTCCGGCATCGGCACGTCCTGGTATTG...      0\n",
       "39359   ATAAAAACCAGACAGAATCATTCTCAGAAAATTCTTTGTGATGTGT...      1\n",
       "\n",
       "[154801 rows x 2 columns]"
      ]
     },
     "execution_count": 11,
     "metadata": {},
     "output_type": "execute_result"
    }
   ],
   "source": [
    "frames = [newDf1, newDf]\n",
    "finalDataSet = pd.concat(frames)\n",
    "finalDataSet1 = finalDataSet.sample(frac=1)\n",
    "finalDataSet1"
   ]
  },
  {
   "cell_type": "code",
   "execution_count": 12,
   "metadata": {},
   "outputs": [],
   "source": [
    "#from xgboost import XGBClassifier\n",
    "from sklearn.model_selection import train_test_split\n",
    "from sklearn.metrics import accuracy_score\n",
    "from sklearn.metrics import confusion_matrix\n",
    "from matplotlib import pyplot as plt"
   ]
  },
  {
   "cell_type": "code",
   "execution_count": 13,
   "metadata": {},
   "outputs": [],
   "source": [
    "#df = df_test\n",
    "\n",
    "df = finalDataSet1"
   ]
  },
  {
   "cell_type": "code",
   "execution_count": 14,
   "metadata": {},
   "outputs": [],
   "source": [
    "df.to_pickle('finaldata')  # where to save it, usually as a .pkl\n"
   ]
  },
  {
   "cell_type": "code",
   "execution_count": 15,
   "metadata": {},
   "outputs": [],
   "source": [
    "import numpy as np\n",
    "import pandas as pd\n",
    "import matplotlib.pyplot as plt\n",
    "%matplotlib inline"
   ]
  },
  {
   "cell_type": "code",
   "execution_count": 16,
   "metadata": {},
   "outputs": [],
   "source": [
    "# function to convert sequence strings into k-mer words, default size = 8 (hexamer words)\n",
    "def getKmers(sequence, size=6):\n",
    "    return [sequence[x:x+size].lower() for x in range(len(sequence) - size + 1)]"
   ]
  },
  {
   "cell_type": "code",
   "execution_count": 17,
   "metadata": {},
   "outputs": [],
   "source": [
    "df['words'] = df.apply(lambda x: getKmers(x['sequence']), axis=1)\n",
    "df = df.drop('sequence', axis=1)"
   ]
  },
  {
   "cell_type": "code",
   "execution_count": 18,
   "metadata": {},
   "outputs": [
    {
     "data": {
      "text/html": [
       "<div>\n",
       "<style scoped>\n",
       "    .dataframe tbody tr th:only-of-type {\n",
       "        vertical-align: middle;\n",
       "    }\n",
       "\n",
       "    .dataframe tbody tr th {\n",
       "        vertical-align: top;\n",
       "    }\n",
       "\n",
       "    .dataframe thead th {\n",
       "        text-align: right;\n",
       "    }\n",
       "</style>\n",
       "<table border=\"1\" class=\"dataframe\">\n",
       "  <thead>\n",
       "    <tr style=\"text-align: right;\">\n",
       "      <th></th>\n",
       "      <th>Class</th>\n",
       "      <th>words</th>\n",
       "    </tr>\n",
       "  </thead>\n",
       "  <tbody>\n",
       "    <tr>\n",
       "      <th>76879</th>\n",
       "      <td>1</td>\n",
       "      <td>[ggattg, gattga, attgag, ttgaga, tgagac, gagac...</td>\n",
       "    </tr>\n",
       "    <tr>\n",
       "      <th>108731</th>\n",
       "      <td>1</td>\n",
       "      <td>[aggaca, ggacaa, gacaaa, acaaac, caaacg, aaacg...</td>\n",
       "    </tr>\n",
       "    <tr>\n",
       "      <th>40078</th>\n",
       "      <td>0</td>\n",
       "      <td>[ggagcc, gagcct, agcctg, gcctgg, cctggt, ctggt...</td>\n",
       "    </tr>\n",
       "    <tr>\n",
       "      <th>91753</th>\n",
       "      <td>1</td>\n",
       "      <td>[tgcccc, gccccc, cccccg, ccccgc, cccgcc, ccgcc...</td>\n",
       "    </tr>\n",
       "    <tr>\n",
       "      <th>101986</th>\n",
       "      <td>1</td>\n",
       "      <td>[gagagt, agagta, gagtag, agtaga, gtagaa, tagaa...</td>\n",
       "    </tr>\n",
       "  </tbody>\n",
       "</table>\n",
       "</div>"
      ],
      "text/plain": [
       "        Class                                              words\n",
       "76879       1  [ggattg, gattga, attgag, ttgaga, tgagac, gagac...\n",
       "108731      1  [aggaca, ggacaa, gacaaa, acaaac, caaacg, aaacg...\n",
       "40078       0  [ggagcc, gagcct, agcctg, gcctgg, cctggt, ctggt...\n",
       "91753       1  [tgcccc, gccccc, cccccg, ccccgc, cccgcc, ccgcc...\n",
       "101986      1  [gagagt, agagta, gagtag, agtaga, gtagaa, tagaa..."
      ]
     },
     "execution_count": 18,
     "metadata": {},
     "output_type": "execute_result"
    }
   ],
   "source": [
    "df.head()"
   ]
  },
  {
   "cell_type": "code",
   "execution_count": 19,
   "metadata": {},
   "outputs": [
    {
     "data": {
      "text/plain": [
       "154801"
      ]
     },
     "execution_count": 19,
     "metadata": {},
     "output_type": "execute_result"
    }
   ],
   "source": [
    "len(df)"
   ]
  },
  {
   "cell_type": "code",
   "execution_count": 20,
   "metadata": {},
   "outputs": [],
   "source": [
    "df_texts = list(df['words'])\n",
    "for item in range(len(df_texts)):\n",
    "    df_texts[item] = ' '.join(df_texts[item])\n",
    "y_h = df.iloc[:, 0].values               "
   ]
  },
  {
   "cell_type": "code",
   "execution_count": 21,
   "metadata": {},
   "outputs": [
    {
     "data": {
      "text/plain": [
       "'ggattg gattga attgag ttgaga tgagac gagaca agacat gacata acatat catatc atatct tatctc atctcc tctccg ctccgc tccgca ccgcac cgcact gcactg cactgc actgct ctgctc tgctcc gctccc ctcccg tcccga cccgag ccgagg cgaggt gaggtg aggtga ggtgat gtgatc tgatcc gatcca atccaa tccaac ccaact caactc aactct actctt ctcttg tcttgc cttgcc ttgcct tgcctg gcctgg cctggt ctggtc tggtct ggtctc gtctct tctctg ctctgc tctgcc ctgcct tgccta gcctaa cctaac ctaacc taaccc aaccca acccag cccagg ccaggt caggtg aggtga ggtgat gtgata tgatat gatata atataa tataac ataact taactc aactct actctt ctcttg tcttgt cttgtc ttgtct tgtcta gtctag tctagg ctaggc taggct aggctc ggctct gctctg ctctgc tctgcc ctgcct tgccta gcctac cctaca ctacag tacagg acaggg cagggt agggtg gggtgc ggtgcc gtgcct tgcctt gccttt cctttg ctttga tttgac ttgaca tgacat gacata acatat catatc atatct tatctc atctct tctctg ctctgc tctgca'"
      ]
     },
     "execution_count": 21,
     "metadata": {},
     "output_type": "execute_result"
    }
   ],
   "source": [
    "df_texts[0]"
   ]
  },
  {
   "cell_type": "code",
   "execution_count": 22,
   "metadata": {},
   "outputs": [
    {
     "data": {
      "text/plain": [
       "'aggaca ggacaa gacaaa acaaac caaacg aaacgg aacggc acggcg cggcgc ggcgcc gcgcca cgccag gccagg ccagga caggag aggagc ggagcc gagccc agcccc gcccct cccctg ccctgc cctgcg ctgcgg tgcggc gcggca cggcag ggcagc gcagcc cagcct agccta gcctag cctagc ctagcc tagccc agccct gccctc ccctca cctcag ctcagc tcagcg cagcgg agcggg gcgggg cgggga ggggag gggagc ggagcc gagccg agccgg gccggg ccgggg cggggc ggggcc gggccc ggcccc gccccg'"
      ]
     },
     "execution_count": 22,
     "metadata": {},
     "output_type": "execute_result"
    }
   ],
   "source": [
    "df_texts[1]"
   ]
  },
  {
   "cell_type": "code",
   "execution_count": 23,
   "metadata": {},
   "outputs": [
    {
     "data": {
      "text/html": [
       "<div>\n",
       "<style scoped>\n",
       "    .dataframe tbody tr th:only-of-type {\n",
       "        vertical-align: middle;\n",
       "    }\n",
       "\n",
       "    .dataframe tbody tr th {\n",
       "        vertical-align: top;\n",
       "    }\n",
       "\n",
       "    .dataframe thead th {\n",
       "        text-align: right;\n",
       "    }\n",
       "</style>\n",
       "<table border=\"1\" class=\"dataframe\">\n",
       "  <thead>\n",
       "    <tr style=\"text-align: right;\">\n",
       "      <th></th>\n",
       "      <th>Class</th>\n",
       "      <th>words</th>\n",
       "    </tr>\n",
       "  </thead>\n",
       "  <tbody>\n",
       "    <tr>\n",
       "      <th>76879</th>\n",
       "      <td>1</td>\n",
       "      <td>[ggattg, gattga, attgag, ttgaga, tgagac, gagac...</td>\n",
       "    </tr>\n",
       "    <tr>\n",
       "      <th>108731</th>\n",
       "      <td>1</td>\n",
       "      <td>[aggaca, ggacaa, gacaaa, acaaac, caaacg, aaacg...</td>\n",
       "    </tr>\n",
       "    <tr>\n",
       "      <th>40078</th>\n",
       "      <td>0</td>\n",
       "      <td>[ggagcc, gagcct, agcctg, gcctgg, cctggt, ctggt...</td>\n",
       "    </tr>\n",
       "    <tr>\n",
       "      <th>91753</th>\n",
       "      <td>1</td>\n",
       "      <td>[tgcccc, gccccc, cccccg, ccccgc, cccgcc, ccgcc...</td>\n",
       "    </tr>\n",
       "    <tr>\n",
       "      <th>101986</th>\n",
       "      <td>1</td>\n",
       "      <td>[gagagt, agagta, gagtag, agtaga, gtagaa, tagaa...</td>\n",
       "    </tr>\n",
       "  </tbody>\n",
       "</table>\n",
       "</div>"
      ],
      "text/plain": [
       "        Class                                              words\n",
       "76879       1  [ggattg, gattga, attgag, ttgaga, tgagac, gagac...\n",
       "108731      1  [aggaca, ggacaa, gacaaa, acaaac, caaacg, aaacg...\n",
       "40078       0  [ggagcc, gagcct, agcctg, gcctgg, cctggt, ctggt...\n",
       "91753       1  [tgcccc, gccccc, cccccg, ccccgc, cccgcc, ccgcc...\n",
       "101986      1  [gagagt, agagta, gagtag, agtaga, gtagaa, tagaa..."
      ]
     },
     "execution_count": 23,
     "metadata": {},
     "output_type": "execute_result"
    }
   ],
   "source": [
    "df.head()"
   ]
  },
  {
   "cell_type": "code",
   "execution_count": 24,
   "metadata": {},
   "outputs": [
    {
     "data": {
      "text/plain": [
       "array([1, 1, 0, ..., 1, 0, 1])"
      ]
     },
     "execution_count": 24,
     "metadata": {},
     "output_type": "execute_result"
    }
   ],
   "source": [
    "y_h"
   ]
  },
  {
   "cell_type": "code",
   "execution_count": 25,
   "metadata": {},
   "outputs": [
    {
     "data": {
      "text/plain": [
       "154801"
      ]
     },
     "execution_count": 25,
     "metadata": {},
     "output_type": "execute_result"
    }
   ],
   "source": [
    "len(y_h)"
   ]
  },
  {
   "cell_type": "code",
   "execution_count": 26,
   "metadata": {},
   "outputs": [],
   "source": [
    "# Creating the Bag of Words model using CountVectorizer()\n",
    "# This is equivalent to k-mer counting\n",
    "# The n-gram size of 4 was previously determined by testing\n",
    "from sklearn.feature_extraction.text import CountVectorizer\n",
    "cv = CountVectorizer(ngram_range=(4,4))\n",
    "X = cv.fit_transform(df_texts)"
   ]
  },
  {
   "cell_type": "code",
   "execution_count": 27,
   "metadata": {},
   "outputs": [
    {
     "name": "stdout",
     "output_type": "stream",
     "text": [
      "(154801, 256374)\n"
     ]
    }
   ],
   "source": [
    "print(X.shape)\n"
   ]
  },
  {
   "cell_type": "code",
   "execution_count": 28,
   "metadata": {},
   "outputs": [
    {
     "data": {
      "text/plain": [
       "<matplotlib.axes._subplots.AxesSubplot at 0x7f0846195978>"
      ]
     },
     "execution_count": 28,
     "metadata": {},
     "output_type": "execute_result"
    },
    {
     "data": {
      "image/png": "[encoded data removed]",
      "text/plain": [
       "<Figure size 432x288 with 1 Axes>"
      ]
     },
     "metadata": {},
     "output_type": "display_data"
    }
   ],
   "source": [
    "df['Class'].value_counts().sort_index().plot.bar()\n",
    "    \n",
    "    "
   ]
  },
  {
   "cell_type": "code",
   "execution_count": 29,
   "metadata": {},
   "outputs": [],
   "source": [
    "# Splitting the human dataset into the training set and test set\n",
    "from sklearn.model_selection import train_test_split\n",
    "X_train, X_test, y_train, y_test = train_test_split(X, \n",
    "                                                    y_h, \n",
    "                                                    test_size = 0.40, \n",
    "                                                    random_state=1)"
   ]
  },
  {
   "cell_type": "code",
   "execution_count": 30,
   "metadata": {},
   "outputs": [
    {
     "name": "stdout",
     "output_type": "stream",
     "text": [
      "(92880, 256374)\n",
      "(61921, 256374)\n"
     ]
    }
   ],
   "source": [
    "print(X_train.shape)\n",
    "print(X_test.shape)"
   ]
  },
  {
   "cell_type": "code",
   "execution_count": 31,
   "metadata": {},
   "outputs": [
    {
     "data": {
      "text/plain": [
       "array([0, 1, 1, ..., 1, 0, 1])"
      ]
     },
     "execution_count": 31,
     "metadata": {},
     "output_type": "execute_result"
    }
   ],
   "source": [
    "y_test"
   ]
  },
  {
   "cell_type": "markdown",
   "metadata": {},
   "source": [
    "# Naive Bayes"
   ]
  },
  {
   "cell_type": "code",
   "execution_count": 32,
   "metadata": {},
   "outputs": [
    {
     "data": {
      "text/plain": [
       "MultinomialNB(alpha=0.1, class_prior=None, fit_prior=True)"
      ]
     },
     "execution_count": 32,
     "metadata": {},
     "output_type": "execute_result"
    }
   ],
   "source": [
    "### Multinomial Naive Bayes Classifier ###\n",
    "# The alpha parameter was determined by grid search previously\n",
    "from sklearn.naive_bayes import MultinomialNB\n",
    "classifier = MultinomialNB(alpha=0.1)\n",
    "classifier.fit(X_train, y_train)"
   ]
  },
  {
   "cell_type": "code",
   "execution_count": 33,
   "metadata": {},
   "outputs": [],
   "source": [
    "y_pred = classifier.predict(X_test)\n"
   ]
  },
  {
   "cell_type": "code",
   "execution_count": 34,
   "metadata": {},
   "outputs": [
    {
     "data": {
      "text/plain": [
       "61921"
      ]
     },
     "execution_count": 34,
     "metadata": {},
     "output_type": "execute_result"
    }
   ],
   "source": [
    "len(y_pred)"
   ]
  },
  {
   "cell_type": "code",
   "execution_count": 35,
   "metadata": {},
   "outputs": [
    {
     "data": {
      "text/plain": [
       "(1, 256374)"
      ]
     },
     "execution_count": 35,
     "metadata": {},
     "output_type": "execute_result"
    }
   ],
   "source": [
    "X_test[1].shape"
   ]
  },
  {
   "cell_type": "code",
   "execution_count": 36,
   "metadata": {},
   "outputs": [
    {
     "name": "stdout",
     "output_type": "stream",
     "text": [
      "Confusion matrix\n",
      "\n",
      "Predicted      0      1\n",
      "Actual                 \n",
      "0          16129   1997\n",
      "1           5306  38489\n",
      "accuracy = 0.882 \n",
      "precision = 0.893 \n",
      "recall = 0.882 \n",
      "f1 = 0.885\n"
     ]
    }
   ],
   "source": [
    "from sklearn.metrics import accuracy_score, f1_score, precision_score, recall_score\n",
    "print(\"Confusion matrix\\n\")\n",
    "print(pd.crosstab(pd.Series(y_test, name='Actual'), pd.Series(y_pred, name='Predicted')))\n",
    "def get_metrics(y_test, y_predicted):\n",
    "    accuracy = accuracy_score(y_test, y_predicted)\n",
    "    precision = precision_score(y_test, y_predicted, average='weighted')\n",
    "    recall = recall_score(y_test, y_predicted, average='weighted')\n",
    "    f1 = f1_score(y_test, y_predicted, average='weighted')\n",
    "    return accuracy, precision, recall, f1\n",
    "accuracy, precision, recall, f1 = get_metrics(y_test, y_pred)\n",
    "print(\"accuracy = %.3f \\nprecision = %.3f \\nrecall = %.3f \\nf1 = %.3f\" % (accuracy, precision, recall, f1))"
   ]
  },
  {
   "cell_type": "code",
   "execution_count": 55,
   "metadata": {},
   "outputs": [
    {
     "ename": "KeyboardInterrupt",
     "evalue": "",
     "output_type": "error",
     "traceback": [
      "\u001b[0;31m---------------------------------------------------------------------------\u001b[0m",
      "\u001b[0;31mKeyboardInterrupt\u001b[0m                         Traceback (most recent call last)",
      "\u001b[0;32m<ipython-input-55-282e9d03a7c7>\u001b[0m in \u001b[0;36m<module>\u001b[0;34m()\u001b[0m\n\u001b[1;32m      8\u001b[0m \u001b[0;34m\u001b[0m\u001b[0m\n\u001b[1;32m      9\u001b[0m \u001b[0mtuple_objects\u001b[0m \u001b[0;34m=\u001b[0m \u001b[0;34m(\u001b[0m\u001b[0mclassifier\u001b[0m\u001b[0;34m,\u001b[0m \u001b[0mcv\u001b[0m\u001b[0;34m)\u001b[0m\u001b[0;34m\u001b[0m\u001b[0m\n\u001b[0;32m---> 10\u001b[0;31m \u001b[0mpickle\u001b[0m\u001b[0;34m.\u001b[0m\u001b[0mdump\u001b[0m\u001b[0;34m(\u001b[0m\u001b[0mtuple_objects\u001b[0m\u001b[0;34m,\u001b[0m \u001b[0mopen\u001b[0m\u001b[0;34m(\u001b[0m\u001b[0;34m\"tuple_model.pkl\"\u001b[0m\u001b[0;34m,\u001b[0m \u001b[0;34m'wb'\u001b[0m\u001b[0;34m)\u001b[0m\u001b[0;34m)\u001b[0m\u001b[0;34m\u001b[0m\u001b[0m\n\u001b[0m",
      "\u001b[0;31mKeyboardInterrupt\u001b[0m: "
     ]
    }
   ],
   "source": [
    "import pickle\n",
    "\n",
    "\n",
    "#file = open('MultinomialNB.pickle', 'wb')\n",
    "#pickle.dump(X, file)  #<=== Add this\n",
    "#pickle.dump(classifier, file)\n",
    "\n",
    "\n",
    "tuple_objects = (classifier, cv)\n",
    "pickle.dump(tuple_objects, open(\"tuple_model.pkl\", 'wb'))\n"
   ]
  },
  {
   "cell_type": "markdown",
   "metadata": {},
   "source": [
    "# SVM"
   ]
  },
  {
   "cell_type": "code",
   "execution_count": 46,
   "metadata": {},
   "outputs": [
    {
     "data": {
      "text/plain": [
       "SVC(C=1.0, cache_size=200, class_weight=None, coef0=0.0,\n",
       "  decision_function_shape='ovr', degree=3, gamma='auto', kernel='rbf',\n",
       "  max_iter=-1, probability=False, random_state=None, shrinking=True,\n",
       "  tol=0.001, verbose=False)"
      ]
     },
     "execution_count": 46,
     "metadata": {},
     "output_type": "execute_result"
    }
   ],
   "source": [
    "from sklearn import svm\n",
    "clf = svm.SVC()\n",
    "clf.fit(X_train, y_train)"
   ]
  },
  {
   "cell_type": "code",
   "execution_count": null,
   "metadata": {},
   "outputs": [],
   "source": [
    "y_pred = clf.predict(X_test)"
   ]
  },
  {
   "cell_type": "code",
   "execution_count": null,
   "metadata": {},
   "outputs": [
    {
     "data": {
      "text/plain": [
       "array([1, 1, 1, ..., 1, 1, 1])"
      ]
     },
     "execution_count": 48,
     "metadata": {},
     "output_type": "execute_result"
    }
   ],
   "source": [
    "y_pred"
   ]
  },
  {
   "cell_type": "code",
   "execution_count": null,
   "metadata": {},
   "outputs": [
    {
     "name": "stdout",
     "output_type": "stream",
     "text": [
      "Confusion matrix\n",
      "\n",
      "Predicted      1\n",
      "Actual          \n",
      "0          18126\n",
      "1          43795\n",
      "accuracy = 0.707 \n",
      "precision = 0.500 \n",
      "recall = 0.707 \n",
      "f1 = 0.586\n"
     ]
    },
    {
     "name": "stderr",
     "output_type": "stream",
     "text": [
      "/home/ubuntu/anaconda3/lib/python3.6/site-packages/sklearn/metrics/classification.py:1135: UndefinedMetricWarning: Precision is ill-defined and being set to 0.0 in labels with no predicted samples.\n",
      "  'precision', 'predicted', average, warn_for)\n",
      "/home/ubuntu/anaconda3/lib/python3.6/site-packages/sklearn/metrics/classification.py:1135: UndefinedMetricWarning: F-score is ill-defined and being set to 0.0 in labels with no predicted samples.\n",
      "  'precision', 'predicted', average, warn_for)\n"
     ]
    }
   ],
   "source": [
    "from sklearn.metrics import accuracy_score, f1_score, precision_score, recall_score\n",
    "print(\"Confusion matrix\\n\")\n",
    "print(pd.crosstab(pd.Series(y_test, name='Actual'), pd.Series(y_pred, name='Predicted')))\n",
    "def get_metrics(y_test, y_predicted):\n",
    "    accuracy = accuracy_score(y_test, y_predicted)\n",
    "    precision = precision_score(y_test, y_predicted, average='weighted')\n",
    "    recall = recall_score(y_test, y_predicted, average='weighted')\n",
    "    f1 = f1_score(y_test, y_predicted, average='weighted')\n",
    "    return accuracy, precision, recall, f1\n",
    "accuracy, precision, recall, f1 = get_metrics(y_test, y_pred)\n",
    "print(\"accuracy = %.3f \\nprecision = %.3f \\nrecall = %.3f \\nf1 = %.3f\" % (accuracy, precision, recall, f1))"
   ]
  },
  {
   "cell_type": "markdown",
   "metadata": {},
   "source": [
    "# Neural Network"
   ]
  },
  {
   "cell_type": "code",
   "execution_count": 40,
   "metadata": {},
   "outputs": [
    {
     "data": {
      "text/plain": [
       "MLPClassifier(activation='relu', alpha=1e-05, batch_size='auto', beta_1=0.9,\n",
       "       beta_2=0.999, early_stopping=False, epsilon=1e-08,\n",
       "       hidden_layer_sizes=(5, 2), learning_rate='constant',\n",
       "       learning_rate_init=0.001, max_iter=200, momentum=0.9,\n",
       "       nesterovs_momentum=True, power_t=0.5, random_state=1, shuffle=True,\n",
       "       solver='lbfgs', tol=0.0001, validation_fraction=0.1, verbose=False,\n",
       "       warm_start=False)"
      ]
     },
     "execution_count": 40,
     "metadata": {},
     "output_type": "execute_result"
    }
   ],
   "source": [
    "from sklearn.neural_network import MLPClassifier\n",
    "\n",
    "NNclassifier = MLPClassifier(solver='lbfgs', alpha=1e-5,\n",
    "                     hidden_layer_sizes=(5, 2), random_state=1)\n",
    "\n",
    "NNclassifier.fit(X_train, y_train)                         \n"
   ]
  },
  {
   "cell_type": "code",
   "execution_count": 41,
   "metadata": {},
   "outputs": [],
   "source": [
    "y_pred = NNclassifier.predict(X_test)"
   ]
  },
  {
   "cell_type": "code",
   "execution_count": 42,
   "metadata": {},
   "outputs": [
    {
     "name": "stdout",
     "output_type": "stream",
     "text": [
      "Confusion matrix\n",
      "\n",
      "Predicted      1\n",
      "Actual          \n",
      "0          18126\n",
      "1          43795\n",
      "accuracy = 0.707 \n",
      "precision = 0.500 \n",
      "recall = 0.707 \n",
      "f1 = 0.586\n"
     ]
    },
    {
     "name": "stderr",
     "output_type": "stream",
     "text": [
      "/home/ubuntu/anaconda3/lib/python3.6/site-packages/sklearn/metrics/classification.py:1135: UndefinedMetricWarning: Precision is ill-defined and being set to 0.0 in labels with no predicted samples.\n",
      "  'precision', 'predicted', average, warn_for)\n",
      "/home/ubuntu/anaconda3/lib/python3.6/site-packages/sklearn/metrics/classification.py:1135: UndefinedMetricWarning: F-score is ill-defined and being set to 0.0 in labels with no predicted samples.\n",
      "  'precision', 'predicted', average, warn_for)\n"
     ]
    }
   ],
   "source": [
    "from sklearn.metrics import accuracy_score, f1_score, precision_score, recall_score\n",
    "print(\"Confusion matrix\\n\")\n",
    "print(pd.crosstab(pd.Series(y_test, name='Actual'), pd.Series(y_pred, name='Predicted')))\n",
    "def get_metrics(y_test, y_predicted):\n",
    "    accuracy = accuracy_score(y_test, y_predicted)\n",
    "    precision = precision_score(y_test, y_predicted, average='weighted')\n",
    "    recall = recall_score(y_test, y_predicted, average='weighted')\n",
    "    f1 = f1_score(y_test, y_predicted, average='weighted')\n",
    "    return accuracy, precision, recall, f1\n",
    "accuracy, precision, recall, f1 = get_metrics(y_test, y_pred)\n",
    "print(\"accuracy = %.3f \\nprecision = %.3f \\nrecall = %.3f \\nf1 = %.3f\" % (accuracy, precision, recall, f1))"
   ]
  },
  {
   "cell_type": "code",
   "execution_count": null,
   "metadata": {},
   "outputs": [],
   "source": [
    "y_pred"
   ]
  },
  {
   "cell_type": "markdown",
   "metadata": {},
   "source": [
    "# Random Forest Classifier"
   ]
  },
  {
   "cell_type": "code",
   "execution_count": 37,
   "metadata": {},
   "outputs": [
    {
     "name": "stderr",
     "output_type": "stream",
     "text": [
      "/home/ubuntu/anaconda3/lib/python3.6/site-packages/sklearn/ensemble/weight_boosting.py:29: DeprecationWarning: numpy.core.umath_tests is an internal NumPy module and should not be imported. It will be removed in a future NumPy release.\n",
      "  from numpy.core.umath_tests import inner1d\n"
     ]
    },
    {
     "data": {
      "text/plain": [
       "RandomForestClassifier(bootstrap=True, class_weight=None, criterion='gini',\n",
       "            max_depth=2, max_features='auto', max_leaf_nodes=None,\n",
       "            min_impurity_decrease=0.0, min_impurity_split=None,\n",
       "            min_samples_leaf=1, min_samples_split=2,\n",
       "            min_weight_fraction_leaf=0.0, n_estimators=100, n_jobs=1,\n",
       "            oob_score=False, random_state=0, verbose=0, warm_start=False)"
      ]
     },
     "execution_count": 37,
     "metadata": {},
     "output_type": "execute_result"
    }
   ],
   "source": [
    "from sklearn.ensemble import RandomForestClassifier\n",
    "\n",
    "RFC = RandomForestClassifier(n_estimators=100, max_depth=2,\n",
    "                              random_state=0)\n",
    "RFC.fit(X_train, y_train)                         \n"
   ]
  },
  {
   "cell_type": "code",
   "execution_count": 38,
   "metadata": {},
   "outputs": [],
   "source": [
    "y_pred = RFC.predict(X_test)"
   ]
  },
  {
   "cell_type": "code",
   "execution_count": 39,
   "metadata": {},
   "outputs": [
    {
     "name": "stdout",
     "output_type": "stream",
     "text": [
      "Confusion matrix\n",
      "\n",
      "Predicted    0      1\n",
      "Actual               \n",
      "0          271  17855\n",
      "1            0  43795\n",
      "accuracy = 0.712 \n",
      "precision = 0.795 \n",
      "recall = 0.712 \n",
      "f1 = 0.596\n"
     ]
    }
   ],
   "source": [
    "from sklearn.metrics import accuracy_score, f1_score, precision_score, recall_score\n",
    "print(\"Confusion matrix\\n\")\n",
    "print(pd.crosstab(pd.Series(y_test, name='Actual'), pd.Series(y_pred, name='Predicted')))\n",
    "def get_metrics(y_test, y_predicted):\n",
    "    accuracy = accuracy_score(y_test, y_predicted)\n",
    "    precision = precision_score(y_test, y_predicted, average='weighted')\n",
    "    recall = recall_score(y_test, y_predicted, average='weighted')\n",
    "    f1 = f1_score(y_test, y_predicted, average='weighted')\n",
    "    return accuracy, precision, recall, f1\n",
    "accuracy, precision, recall, f1 = get_metrics(y_test, y_pred)\n",
    "print(\"accuracy = %.3f \\nprecision = %.3f \\nrecall = %.3f \\nf1 = %.3f\" % (accuracy, precision, recall, f1))"
   ]
  },
  {
   "cell_type": "markdown",
   "metadata": {},
   "source": [
    "# Decision Tree"
   ]
  },
  {
   "cell_type": "code",
   "execution_count": 43,
   "metadata": {},
   "outputs": [],
   "source": [
    "from sklearn import tree\n",
    "clf = tree.DecisionTreeClassifier()\n",
    "clf = clf.fit(X_train, y_train)\n"
   ]
  },
  {
   "cell_type": "code",
   "execution_count": 44,
   "metadata": {},
   "outputs": [],
   "source": [
    "y_pred = clf.predict(X_test)"
   ]
  },
  {
   "cell_type": "code",
   "execution_count": 45,
   "metadata": {},
   "outputs": [
    {
     "name": "stdout",
     "output_type": "stream",
     "text": [
      "Confusion matrix\n",
      "\n",
      "Predicted      0      1\n",
      "Actual                 \n",
      "0          14708   3418\n",
      "1           3082  40713\n",
      "accuracy = 0.895 \n",
      "precision = 0.895 \n",
      "recall = 0.895 \n",
      "f1 = 0.895\n"
     ]
    }
   ],
   "source": [
    "from sklearn.metrics import accuracy_score, f1_score, precision_score, recall_score\n",
    "print(\"Confusion matrix\\n\")\n",
    "print(pd.crosstab(pd.Series(y_test, name='Actual'), pd.Series(y_pred, name='Predicted')))\n",
    "def get_metrics(y_test, y_predicted):\n",
    "    accuracy = accuracy_score(y_test, y_predicted)\n",
    "    precision = precision_score(y_test, y_predicted, average='weighted')\n",
    "    recall = recall_score(y_test, y_predicted, average='weighted')\n",
    "    f1 = f1_score(y_test, y_predicted, average='weighted')\n",
    "    return accuracy, precision, recall, f1\n",
    "accuracy, precision, recall, f1 = get_metrics(y_test, y_pred)\n",
    "print(\"accuracy = %.3f \\nprecision = %.3f \\nrecall = %.3f \\nf1 = %.3f\" % (accuracy, precision, recall, f1))"
   ]
  },
  {
   "cell_type": "code",
   "execution_count": null,
   "metadata": {},
   "outputs": [],
   "source": []
  },
  {
   "cell_type": "code",
   "execution_count": null,
   "metadata": {},
   "outputs": [],
   "source": []
  },
  {
   "cell_type": "code",
   "execution_count": null,
   "metadata": {},
   "outputs": [],
   "source": []
  },
  {
   "cell_type": "code",
   "execution_count": null,
   "metadata": {},
   "outputs": [],
   "source": []
  },
  {
   "cell_type": "code",
   "execution_count": null,
   "metadata": {},
   "outputs": [],
   "source": []
  },
  {
   "cell_type": "code",
   "execution_count": null,
   "metadata": {},
   "outputs": [],
   "source": []
  },
  {
   "cell_type": "code",
   "execution_count": null,
   "metadata": {},
   "outputs": [],
   "source": []
  }
 ],
 "metadata": {
  "kernelspec": {
   "display_name": "Python 3",
   "language": "python",
   "name": "python3"
  },
  "language_info": {
   "codemirror_mode": {
    "name": "ipython",
    "version": 3
   },
   "file_extension": ".py",
   "mimetype": "text/x-python",
   "name": "python",
   "nbconvert_exporter": "python",
   "pygments_lexer": "ipython3",
   "version": "3.6.5"
  }
 },
 "nbformat": 4,
 "nbformat_minor": 2
}
