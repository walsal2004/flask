{
 "cells": [
  {
   "cell_type": "code",
   "execution_count": 1,
   "metadata": {},
   "outputs": [],
   "source": [
    "def readFasta(filename):\n",
    "    sequences = []\n",
    "    \n",
    "    with open(filename) as fh:\n",
    "        while True:\n",
    "            fh.readline()\n",
    "            seq = fh.readline().rstrip()\n",
    "            if len(seq) == 0:\n",
    "                break\n",
    "            sequences.append(seq)\n",
    "            \n",
    "        return sequences"
   ]
  },
  {
   "cell_type": "code",
   "execution_count": 17,
   "metadata": {},
   "outputs": [],
   "source": [
    "def readFastq(filename):\n",
    "    sequences = []\n",
    "    \n",
    "    with open(filename) as fh:\n",
    "        while True:\n",
    "            fh.readline()\n",
    "            seq = fh.readline().rstrip()\n",
    "            fh.readline()\n",
    "            fh.readline()\n",
    "            if len(seq) == 0:\n",
    "                break\n",
    "            sequences.append(seq)\n",
    "            \n",
    "        return sequences"
   ]
  },
  {
   "cell_type": "code",
   "execution_count": 18,
   "metadata": {},
   "outputs": [],
   "source": [
    "seqs = readFasta('class1_1.fasta') "
   ]
  },
  {
   "cell_type": "code",
   "execution_count": 19,
   "metadata": {},
   "outputs": [],
   "source": [
    "class1_1 =  ''.join(seqs)\n"
   ]
  },
  {
   "cell_type": "code",
   "execution_count": 20,
   "metadata": {},
   "outputs": [],
   "source": [
    "seqs = readFasta('class1_2.fasta') "
   ]
  },
  {
   "cell_type": "code",
   "execution_count": 21,
   "metadata": {},
   "outputs": [],
   "source": [
    "class1_2 =  ''.join(seqs)\n"
   ]
  },
  {
   "cell_type": "code",
   "execution_count": 22,
   "metadata": {},
   "outputs": [],
   "source": [
    "seqs = readFasta('class1_3.fasta') "
   ]
  },
  {
   "cell_type": "code",
   "execution_count": 23,
   "metadata": {},
   "outputs": [],
   "source": [
    "class1_3 =  ''.join(seqs)"
   ]
  },
  {
   "cell_type": "code",
   "execution_count": 24,
   "metadata": {},
   "outputs": [],
   "source": [
    "seqs = readFasta('class1_4.fasta') "
   ]
  },
  {
   "cell_type": "code",
   "execution_count": 25,
   "metadata": {},
   "outputs": [],
   "source": [
    "class1_4 =  ''.join(seqs)"
   ]
  },
  {
   "cell_type": "code",
   "execution_count": 26,
   "metadata": {},
   "outputs": [],
   "source": [
    "seqs = readFasta('class1_5.fasta') "
   ]
  },
  {
   "cell_type": "code",
   "execution_count": 27,
   "metadata": {},
   "outputs": [],
   "source": [
    "class1_5 =  ''.join(seqs)"
   ]
  },
  {
   "cell_type": "code",
   "execution_count": 28,
   "metadata": {},
   "outputs": [],
   "source": [
    "seqs = readFasta('class1_6.fasta') "
   ]
  },
  {
   "cell_type": "code",
   "execution_count": 29,
   "metadata": {},
   "outputs": [],
   "source": [
    "class1_6 =  ''.join(seqs)"
   ]
  },
  {
   "cell_type": "code",
   "execution_count": 30,
   "metadata": {},
   "outputs": [],
   "source": [
    "seqs = readFasta('class1_7.fasta') "
   ]
  },
  {
   "cell_type": "code",
   "execution_count": 31,
   "metadata": {},
   "outputs": [],
   "source": [
    "class1_7 =  ''.join(seqs)"
   ]
  },
  {
   "cell_type": "code",
   "execution_count": 32,
   "metadata": {},
   "outputs": [],
   "source": [
    "seqs = readFasta('class1_8.fasta') "
   ]
  },
  {
   "cell_type": "code",
   "execution_count": 33,
   "metadata": {},
   "outputs": [],
   "source": [
    "class1_8 =  ''.join(seqs)"
   ]
  },
  {
   "cell_type": "code",
   "execution_count": 34,
   "metadata": {},
   "outputs": [],
   "source": [
    "seqs = readFasta('class1_9.fasta') "
   ]
  },
  {
   "cell_type": "code",
   "execution_count": 35,
   "metadata": {},
   "outputs": [],
   "source": [
    "class1_9 =  ''.join(seqs)"
   ]
  },
  {
   "cell_type": "code",
   "execution_count": 36,
   "metadata": {},
   "outputs": [],
   "source": [
    "seqs = readFasta('class1_10.fasta') "
   ]
  },
  {
   "cell_type": "code",
   "execution_count": 37,
   "metadata": {},
   "outputs": [],
   "source": [
    "class1_10 =  ''.join(seqs)"
   ]
  },
  {
   "cell_type": "markdown",
   "metadata": {},
   "source": [
    "#seqs = readFasta('class2_1.fasta') "
   ]
  },
  {
   "cell_type": "markdown",
   "metadata": {},
   "source": [
    "class2_1 =  ''.join(seqs)"
   ]
  },
  {
   "cell_type": "markdown",
   "metadata": {},
   "source": [
    "seqs = readFasta('class2_2.fasta') "
   ]
  },
  {
   "cell_type": "markdown",
   "metadata": {},
   "source": [
    "class2_2 =  ''.join(seqs)"
   ]
  },
  {
   "cell_type": "markdown",
   "metadata": {},
   "source": [
    "seqs = readFasta('class2_4.fasta') "
   ]
  },
  {
   "cell_type": "markdown",
   "metadata": {},
   "source": [
    "class2_4 =  ''.join(seqs)"
   ]
  },
  {
   "cell_type": "markdown",
   "metadata": {},
   "source": [
    "seqs = readFasta('class2_5.fasta') "
   ]
  },
  {
   "cell_type": "markdown",
   "metadata": {},
   "source": [
    "class2_5 =  ''.join(seqs)"
   ]
  },
  {
   "cell_type": "markdown",
   "metadata": {},
   "source": [
    "seqs = readFasta('class2_6.fasta') "
   ]
  },
  {
   "cell_type": "markdown",
   "metadata": {},
   "source": [
    "class2_6 =  ''.join(seqs)"
   ]
  },
  {
   "cell_type": "markdown",
   "metadata": {},
   "source": [
    "seqs = readFasta('class2_7.fasta') "
   ]
  },
  {
   "cell_type": "markdown",
   "metadata": {},
   "source": [
    "class2_7 =  ''.join(seqs)"
   ]
  },
  {
   "cell_type": "markdown",
   "metadata": {},
   "source": [
    "seqs = readFasta('class2_8.fasta') "
   ]
  },
  {
   "cell_type": "markdown",
   "metadata": {},
   "source": [
    "class2_8 =  ''.join(seqs)"
   ]
  },
  {
   "cell_type": "code",
   "execution_count": 38,
   "metadata": {},
   "outputs": [],
   "source": [
    "seqs = readFasta('class2_9.fasta') "
   ]
  },
  {
   "cell_type": "code",
   "execution_count": 39,
   "metadata": {},
   "outputs": [],
   "source": [
    "class2_9 =  ''.join(seqs)"
   ]
  },
  {
   "cell_type": "code",
   "execution_count": 40,
   "metadata": {},
   "outputs": [],
   "source": [
    "seqs = readFasta('class2_10.fasta') "
   ]
  },
  {
   "cell_type": "code",
   "execution_count": 41,
   "metadata": {},
   "outputs": [],
   "source": [
    "class2_10 =  ''.join(seqs)"
   ]
  },
  {
   "cell_type": "code",
   "execution_count": 42,
   "metadata": {},
   "outputs": [],
   "source": [
    "seqs = readFasta('class2_11.fasta') "
   ]
  },
  {
   "cell_type": "code",
   "execution_count": 43,
   "metadata": {},
   "outputs": [],
   "source": [
    "class2_11 =  ''.join(seqs)"
   ]
  },
  {
   "cell_type": "code",
   "execution_count": 44,
   "metadata": {},
   "outputs": [
    {
     "data": {
      "text/plain": [
       "['AATCTAAAAGTAAATCTGAAAGAGCTAACATACAGTTAGCAGCGACAAAAAAAACTCAGT',\n",
       " 'TTCACTTCAGCAAATTTTTAGATCCAGACTTTCAGCCATCTTGTTCTGAGGTGGACCTAA',\n",
       " 'ACGAATGTTACAATTTACTGGCAATAAAGTTTTGGATAGACCTTAATGAGGACATTATTA',\n",
       " 'TTCTTACTTTATTTGCTGGAGATTTTTCTGTGTTTTCTGCTAGTCCAAAAGAGGGCCACT',\n",
       " 'CCCCAGGCTGGAGTACAATAGCACAATCTCGGATCACTGCAGTGTCTGCCTCCTGGGCTC',\n",
       " 'GCAATGAAGCAGAAAACAAGCTTATGCATATACTGCATGCAAATGATCCCAAGTGGTCCA',\n",
       " 'ACAAGCTTCTGATGTCTTCTCCTAATTGTGAGATATATTATCAAAGTCCTTTATCACTTT',\n",
       " 'GT']"
      ]
     },
     "execution_count": 44,
     "metadata": {},
     "output_type": "execute_result"
    }
   ],
   "source": [
    "seqs"
   ]
  },
  {
   "cell_type": "code",
   "execution_count": 45,
   "metadata": {},
   "outputs": [
    {
     "data": {
      "text/plain": [
       "'AATCTAAAAGTAAATCTGAAAGAGCTAACATACAGTTAGCAGCGACAAAAAAAACTCAGTTTCACTTCAGCAAATTTTTAGATCCAGACTTTCAGCCATCTTGTTCTGAGGTGGACCTAAACGAATGTTACAATTTACTGGCAATAAAGTTTTGGATAGACCTTAATGAGGACATTATTATTCTTACTTTATTTGCTGGAGATTTTTCTGTGTTTTCTGCTAGTCCAAAAGAGGGCCACTCCCCAGGCTGGAGTACAATAGCACAATCTCGGATCACTGCAGTGTCTGCCTCCTGGGCTCGCAATGAAGCAGAAAACAAGCTTATGCATATACTGCATGCAAATGATCCCAAGTGGTCCAACAAGCTTCTGATGTCTTCTCCTAATTGTGAGATATATTATCAAAGTCCTTTATCACTTTGT'"
      ]
     },
     "execution_count": 45,
     "metadata": {},
     "output_type": "execute_result"
    }
   ],
   "source": [
    "class2_11"
   ]
  },
  {
   "cell_type": "code",
   "execution_count": 46,
   "metadata": {},
   "outputs": [],
   "source": [
    "dnadata = [{'seq': class1_1 , 'Class': 0},\n",
    "           {'seq': class1_2, 'Class': 0},\n",
    "           {'seq': class1_3, 'Class': 0},\n",
    "           {'seq': class1_4, 'Class': 0},\n",
    "           {'seq': class1_5 , 'Class': 0},\n",
    "           {'seq': class1_6, 'Class': 0},\n",
    "           {'seq': class1_7, 'Class': 0},\n",
    "           {'seq': class1_8, 'Class': 0},\n",
    "           {'seq': class1_9, 'Class': 0},\n",
    "           {'seq': class1_10, 'Class': 0},\n",
    "           \n",
    "        {'seq': class2_9, 'Class': 1},\n",
    "          {'seq': class2_10, 'Class': 1},\n",
    "          {'seq': class2_11, 'Class': 1},]"
   ]
  },
  {
   "cell_type": "code",
   "execution_count": 47,
   "metadata": {},
   "outputs": [],
   "source": [
    "import pandas as pd\n",
    "\n",
    "df = pd.DataFrame(dnadata)\n"
   ]
  },
  {
   "cell_type": "code",
   "execution_count": 48,
   "metadata": {},
   "outputs": [
    {
     "data": {
      "text/html": [
       "<div>\n",
       "<style scoped>\n",
       "    .dataframe tbody tr th:only-of-type {\n",
       "        vertical-align: middle;\n",
       "    }\n",
       "\n",
       "    .dataframe tbody tr th {\n",
       "        vertical-align: top;\n",
       "    }\n",
       "\n",
       "    .dataframe thead th {\n",
       "        text-align: right;\n",
       "    }\n",
       "</style>\n",
       "<table border=\"1\" class=\"dataframe\">\n",
       "  <thead>\n",
       "    <tr style=\"text-align: right;\">\n",
       "      <th></th>\n",
       "      <th>Class</th>\n",
       "      <th>seq</th>\n",
       "    </tr>\n",
       "  </thead>\n",
       "  <tbody>\n",
       "    <tr>\n",
       "      <th>0</th>\n",
       "      <td>0</td>\n",
       "      <td>GGCAGAGGCGGAGCCGCTGTGGCACTGCTGCGCCTCTGCTGCGCCT...</td>\n",
       "    </tr>\n",
       "    <tr>\n",
       "      <th>1</th>\n",
       "      <td>0</td>\n",
       "      <td>GGGCTTGTGGCGCGAGCTTCTGAAACTAGGCGGCAGAGGCGGAGCC...</td>\n",
       "    </tr>\n",
       "    <tr>\n",
       "      <th>2</th>\n",
       "      <td>0</td>\n",
       "      <td>TCATCTGGATTATACATATTTCGCAATGAAAGAGAGGAAGAAAAGG...</td>\n",
       "    </tr>\n",
       "    <tr>\n",
       "      <th>3</th>\n",
       "      <td>0</td>\n",
       "      <td>AATCTAAAAGTAAATCTGAAAGAGCTAACATACAGTTAGCAGCGAC...</td>\n",
       "    </tr>\n",
       "    <tr>\n",
       "      <th>4</th>\n",
       "      <td>0</td>\n",
       "      <td>ATGCCTATTGGATCCAAAGAGAGGCCAACATTTTTTGAAATTTTTA...</td>\n",
       "    </tr>\n",
       "    <tr>\n",
       "      <th>5</th>\n",
       "      <td>0</td>\n",
       "      <td>AGCATTCATAGAAACTTCTTTGTGATGTATGCATTCAACTCACAGA...</td>\n",
       "    </tr>\n",
       "    <tr>\n",
       "      <th>6</th>\n",
       "      <td>0</td>\n",
       "      <td>AGCATTCTGAGAAATTACTTTGTGATGTGTGCATTCATCACAAAGA...</td>\n",
       "    </tr>\n",
       "    <tr>\n",
       "      <th>7</th>\n",
       "      <td>0</td>\n",
       "      <td>GGCATTCTGAGAAACTTCTTCGTGATGTGTGCATTCATCTCACAGA...</td>\n",
       "    </tr>\n",
       "    <tr>\n",
       "      <th>8</th>\n",
       "      <td>0</td>\n",
       "      <td>AATATTCTGGGAAAGTTCTTTGTGGTGCGTGCATTCATGTCATAGA...</td>\n",
       "    </tr>\n",
       "    <tr>\n",
       "      <th>9</th>\n",
       "      <td>0</td>\n",
       "      <td>GGAATTCTGAGAGACTTCTTTGTGATGCGTGTACTCATCTTACAGA...</td>\n",
       "    </tr>\n",
       "    <tr>\n",
       "      <th>10</th>\n",
       "      <td>1</td>\n",
       "      <td>GTAATGCACAATATAGTTAATTTTTTTTATTGATTCTTTTAAAAAA...</td>\n",
       "    </tr>\n",
       "    <tr>\n",
       "      <th>11</th>\n",
       "      <td>1</td>\n",
       "      <td>GTAAGTTAATGTAAACTCAAGGAATATTATAAGAAGTATATATGGA...</td>\n",
       "    </tr>\n",
       "    <tr>\n",
       "      <th>12</th>\n",
       "      <td>1</td>\n",
       "      <td>AATCTAAAAGTAAATCTGAAAGAGCTAACATACAGTTAGCAGCGAC...</td>\n",
       "    </tr>\n",
       "  </tbody>\n",
       "</table>\n",
       "</div>"
      ],
      "text/plain": [
       "    Class                                                seq\n",
       "0       0  GGCAGAGGCGGAGCCGCTGTGGCACTGCTGCGCCTCTGCTGCGCCT...\n",
       "1       0  GGGCTTGTGGCGCGAGCTTCTGAAACTAGGCGGCAGAGGCGGAGCC...\n",
       "2       0  TCATCTGGATTATACATATTTCGCAATGAAAGAGAGGAAGAAAAGG...\n",
       "3       0  AATCTAAAAGTAAATCTGAAAGAGCTAACATACAGTTAGCAGCGAC...\n",
       "4       0  ATGCCTATTGGATCCAAAGAGAGGCCAACATTTTTTGAAATTTTTA...\n",
       "5       0  AGCATTCATAGAAACTTCTTTGTGATGTATGCATTCAACTCACAGA...\n",
       "6       0  AGCATTCTGAGAAATTACTTTGTGATGTGTGCATTCATCACAAAGA...\n",
       "7       0  GGCATTCTGAGAAACTTCTTCGTGATGTGTGCATTCATCTCACAGA...\n",
       "8       0  AATATTCTGGGAAAGTTCTTTGTGGTGCGTGCATTCATGTCATAGA...\n",
       "9       0  GGAATTCTGAGAGACTTCTTTGTGATGCGTGTACTCATCTTACAGA...\n",
       "10      1  GTAATGCACAATATAGTTAATTTTTTTTATTGATTCTTTTAAAAAA...\n",
       "11      1  GTAAGTTAATGTAAACTCAAGGAATATTATAAGAAGTATATATGGA...\n",
       "12      1  AATCTAAAAGTAAATCTGAAAGAGCTAACATACAGTTAGCAGCGAC..."
      ]
     },
     "execution_count": 48,
     "metadata": {},
     "output_type": "execute_result"
    }
   ],
   "source": [
    "df"
   ]
  },
  {
   "cell_type": "code",
   "execution_count": 49,
   "metadata": {},
   "outputs": [],
   "source": [
    "df.columns = ['Class','sequence']"
   ]
  },
  {
   "cell_type": "code",
   "execution_count": 50,
   "metadata": {},
   "outputs": [
    {
     "data": {
      "text/plain": [
       "(13, 2)"
      ]
     },
     "execution_count": 50,
     "metadata": {},
     "output_type": "execute_result"
    }
   ],
   "source": [
    "df.shape"
   ]
  },
  {
   "cell_type": "code",
   "execution_count": 51,
   "metadata": {},
   "outputs": [],
   "source": [
    "import numpy as np\n",
    "import pandas as pd\n",
    "import matplotlib.pyplot as plt\n",
    "%matplotlib inline"
   ]
  },
  {
   "cell_type": "code",
   "execution_count": 52,
   "metadata": {},
   "outputs": [],
   "source": [
    "# function to convert sequence strings into k-mer words, default size = 8 (hexamer words)\n",
    "def getKmers(sequence, size=4):\n",
    "    return [sequence[x:x+size].lower() for x in range(len(sequence) - size + 1)]"
   ]
  },
  {
   "cell_type": "code",
   "execution_count": 53,
   "metadata": {},
   "outputs": [],
   "source": [
    "df['words'] = df.apply(lambda x: getKmers(x['sequence']), axis=1)\n",
    "df = df.drop('sequence', axis=1)"
   ]
  },
  {
   "cell_type": "code",
   "execution_count": 54,
   "metadata": {},
   "outputs": [
    {
     "data": {
      "text/html": [
       "<div>\n",
       "<style scoped>\n",
       "    .dataframe tbody tr th:only-of-type {\n",
       "        vertical-align: middle;\n",
       "    }\n",
       "\n",
       "    .dataframe tbody tr th {\n",
       "        vertical-align: top;\n",
       "    }\n",
       "\n",
       "    .dataframe thead th {\n",
       "        text-align: right;\n",
       "    }\n",
       "</style>\n",
       "<table border=\"1\" class=\"dataframe\">\n",
       "  <thead>\n",
       "    <tr style=\"text-align: right;\">\n",
       "      <th></th>\n",
       "      <th>Class</th>\n",
       "      <th>words</th>\n",
       "    </tr>\n",
       "  </thead>\n",
       "  <tbody>\n",
       "    <tr>\n",
       "      <th>0</th>\n",
       "      <td>0</td>\n",
       "      <td>[ggca, gcag, caga, agag, gagg, aggc, ggcg, gcg...</td>\n",
       "    </tr>\n",
       "    <tr>\n",
       "      <th>1</th>\n",
       "      <td>0</td>\n",
       "      <td>[gggc, ggct, gctt, cttg, ttgt, tgtg, gtgg, tgg...</td>\n",
       "    </tr>\n",
       "    <tr>\n",
       "      <th>2</th>\n",
       "      <td>0</td>\n",
       "      <td>[tcat, catc, atct, tctg, ctgg, tgga, ggat, gat...</td>\n",
       "    </tr>\n",
       "    <tr>\n",
       "      <th>3</th>\n",
       "      <td>0</td>\n",
       "      <td>[aatc, atct, tcta, ctaa, taaa, aaaa, aaag, aag...</td>\n",
       "    </tr>\n",
       "    <tr>\n",
       "      <th>4</th>\n",
       "      <td>0</td>\n",
       "      <td>[atgc, tgcc, gcct, ccta, ctat, tatt, attg, ttg...</td>\n",
       "    </tr>\n",
       "  </tbody>\n",
       "</table>\n",
       "</div>"
      ],
      "text/plain": [
       "   Class                                              words\n",
       "0      0  [ggca, gcag, caga, agag, gagg, aggc, ggcg, gcg...\n",
       "1      0  [gggc, ggct, gctt, cttg, ttgt, tgtg, gtgg, tgg...\n",
       "2      0  [tcat, catc, atct, tctg, ctgg, tgga, ggat, gat...\n",
       "3      0  [aatc, atct, tcta, ctaa, taaa, aaaa, aaag, aag...\n",
       "4      0  [atgc, tgcc, gcct, ccta, ctat, tatt, attg, ttg..."
      ]
     },
     "execution_count": 54,
     "metadata": {},
     "output_type": "execute_result"
    }
   ],
   "source": [
    "df.head()"
   ]
  },
  {
   "cell_type": "code",
   "execution_count": 55,
   "metadata": {},
   "outputs": [],
   "source": [
    "df_texts = list(df['words'])\n",
    "for item in range(len(df_texts)):\n",
    "    df_texts[item] = ' '.join(df_texts[item])\n",
    "y_h = df.iloc[:, 0].values               "
   ]
  },
  {
   "cell_type": "code",
   "execution_count": 56,
   "metadata": {},
   "outputs": [
    {
     "data": {
      "text/plain": [
       "'ggca gcag caga agag gagg aggc ggcg gcgg cgga ggag gagc agcc gccg ccgc cgct gctg ctgt tgtg gtgg tggc ggca gcac cact actg ctgc tgct gctg ctgc tgcg gcgc cgcc gcct cctc ctct tctg ctgc tgct gctg ctgc tgcg gcgc cgcc gcct cctc ctcg tcgg cggg gggt ggtg gtgt tgtc gtct tctt cttt tttt tttg ttgc tgcg gcgt cgtc gtca tcag cagc agct gctt ctta ttac tact actc ctcc tccg ccgg cggc ggcc gcca ccaa caaa aaaa aaaa aaaa aaag aaga agaa gaac aact actg ctgc tgca gcac cacc acct cctc ctct tctg ctgg tgga ggag gagc agcg gcgg cggg gggt ggtt gtta ttag tagt agtg gtgg tggt ggtg gtgg tggt ggtg gtgg tggt ggta gtag tagg aggc ggcc gccc cccc cccg ccgg cggg gggt ggtc gtcg tcgc cgct gctg ctgc tgcc gccg ccgc cgcg gcgg cggc ggct gctt cttc ttct tctt cttg ttgc tgcc gccc ccct cctt cttt tttt tttg ttgt tgtc gtct tctc ctct tctg ctgc tgcc gcca ccaa caac aacc accc cccc cccc ccca ccac cacc accc ccca ccat catg atgc tgcc gcct cctc ctcc tccc ccct cctg ctgg tggg gggt ggtc gtct tctc ctcc tcca ccat catt attt tttc ttcc tccc cccg ccgc cgcc gcct cctc ctcc tccg ccgg cggc ggcc gccc cccg ccgg cggc ggcc gcct cctt cttt tttg ttgg tggg gggc ggct gctc ctcc tccg ccgc cgcc gcct cctt cttc ttca tcag cagc agct gctc ctca tcaa caag aaga agac gacc acct cctt cttt ttta ttaa taac aacg acgg cgga ggaa gaat aata atat tatt attg ttgc tgct gctg ctgt tgtt gttt tttt tttg ttgg tggg gggg ggga ggaa gaag aagt agtg gtgt tgtt gttt tttt ttta ttac taca acag cagc agct gctg ctgc tgct gctg ctgg tggg gggc ggca gcac cacg acgc cgct gctg ctgt tgta gtat tatt attt tttg ttgc tgcg gcgg cggc ggcg gcgt cgtt gttg ttgg tggt ggtc gtct tctc ctct tcta ctaa taac aact actg ctgg tgga ggag gagc agcc gccc ccct cctc ctct tctg ctgt tgtc gtcc tccc cccc ccca ccac cact acta ctag tagc agcc gcca ccac cacg acgc cgcg gcgt cgtc gtca tcac cact actg ctgg tggt ggtt gtta ttag tagc agcg gcgg cggc ggct gctt ctta ttaa taat aatg atgt tgtg gtgg tggc ggct gcta ctag tagt agtg gtgg tggc ggca gcac cacc accg ccgg cggt ggtt gttt tttg ttgg tgga ggac gaca acag cagc agca gcac caca acag cagc agct gctg ctgt tgta gtaa taaa aaaa aaat aatg atgt tgtt gttc ttcc tccc ccca ccat catc atcc tcct cctc ctca tcac cacg acgc cgct gctt cttc ttct tctg ctga tgag gagt agtt gttt tttt ttta ttac tacc acct cctc ctca tcag cagt agtc gtca tcac caca acat cata ataa taat aata ataa taag aagg agga ggaa gaat aatg atgc tgca gcat catc atcc tccc ccct cctg ctgt tgtg gtgt tgta gtaa taag aagt agtg gtgc tgca gcat catt attt tttt tttc ttct tcta ctat tatt attg ttgg tgga ggat gatc atcc tcca ccaa caaa aaag aaga agag gaga agag gagg aggc ggcc gcca ccaa caac aaca acat catt attt tttt tttt tttt tttg ttga tgaa gaaa aaat aatt attt tttt tttt ttta ttaa taag aaga agac gaca acac cacg acgc cgct gctg ctgc tgca gcaa caac aaca acaa caaa aaag aaga agat gatg atgc tgct gctt cttg ttgc tgct gcta ctaa taaa aaaa aaaa aaac aacc accc ccca ccag cagt agta gtac tacg acgt cgtc gtca tcac caca acag cagt agtg gtgt tgtt gttg ttgc tgct gctt ctta ttag taga agaa gaac aacc acca ccat cata ataa taaa aaac aact actg ctgt tgtt gttc ttcc tcct cctt ctta ttat tatg atga tgag gaga agaa gaac aacg acgt cgtc gtct tcta ctag tagt agtg gtgg tgga ggat gata ataa taaa aaag aaga agag gagg agga ggaa gaaa aaac aact actg ctgg tggc ggcc gccc cccc ccct cctt cttg ttga tgac gact acta ctag tagc agca gcag cagt agta gtag tagg agga ggaa gaac aaca acaa caat aatt atta ttac tact acta ctaa taac aact actc ctcc tcct cctt ctta ttat tata atac tact actc ctct tctt ctta ttaa taaa aaaa aaaa aaat aatg atga tgat gatc atct tcta ctag tagg agga ggac gacc accc cccc cccc cccg ccgg cgga ggag gagt agtg gtgc tgct gctt cttt tttt tttg ttgt tgtt gttt ttta ttat tatg atgt tgta gtag tagc agct gctt ctta ttac tacc accc ccca ccag cagc agca gcac cact actt cttt tttg ttgg tggg ggga ggag gagg aggc ggcc gccg ccga cgag gagg aggt ggtg gtgg tggg gggc ggcg gcgg cgga ggat gatc atca tcac cact actt cttg ttga tgag gagg aggc ggcc gcca ccag caga agaa gaag aagt agtt gttt tttg ttga tgag gaga agac gacc acca ccag cagc agcg gcgg cggt ggtg gtgc tgcg gcgt cgtg gtgc tgcc gcct cctg ctgt tgta gtaa taat aatc atcc tccc ccca ccag cagc agct gcta ctac taca acac cacg acgg cggg ggga ggag gagg aggt ggtg gtgg tgga ggag gagg aggc ggca gcag cagg agga ggag gaga agaa gaat aatc atcg tcgc cgct gctt cttg ttga tgaa gaac aacc accc ccct cctc ctca tcat catg atga tgac gact actc ctct tctg ctgt tgtc gtct tctc ctca tcaa caaa aaaa aaac aaca acaa caaa aaac aaca acaa caaa aaac aaca acaa caaa aaac aaca acaa caaa aaaa aaaa aaaa aaac aact acta ctaa taag aaga agaa gaat aatt attt ttta ttaa taaa aaag aagt agtt gtta ttaa taat aatt attt ttta ttac tact actt cttt tttt tttg ttga tgaa gaaa aaaa aaac aaca acaa caag aagt agtg gtga tgag gagt agtg gtgg tgga ggaa gaat aata atag tagt agtt gttt tttt tttt ttta ttac taca acat catt attt tttt tttt tttg ttgc tgca gcag cagt agtt gttc ttct tctc ctct tctt cttt ttta ttaa taat aatg atgt tgtc gtct tctg ctgg tggc ggct gctg ctga tgaa gaaa aaaa aaaa aaaa aaaa aaaa aaat aatt atta ttaa taac aacc acct cctc ctca tcac cacg acgt cgtt gttg ttga tgaa gaaa aaaa aaaa aaaa aaag aagg agga ggaa gaat aata atat tatt attt tttt ttta ttaa taat aata atag tagt agtt gttt tttt tttc ttca tcag cagt agtt gtta ttac tact actt cttt tttt tttc ttct tctt cttt tttc ttcc tccc ccca ccat catg atgt tgtc gtcg tcgc cgca gcaa caac aaca acat catc atca tcat catg atgc tgca gcag cagt agtg gtga tgat gatt atta ttat tatt attt tttg ttgg tgga ggaa gaag aaga agat gata atag tagt agtg gtgg tggt ggtg gtgt tgtt gttc ttct tctg ctga tgaa gaat aatt atta ttat tata atac tacc acca ccac cacc acca ccat catg atgg tgga ggat gatg atgt tgtc gtca tcag caga agaa gaaa aaaa aaag aagt agtc gtct tctt cttt tttt ttta ttaa taag aaga agat gatt attg ttgg tggg gggt ggta gtag taga agaa gaaa aaat aatg atga tgag gagc agcc gcca ccac cact actg ctgg tgga ggaa gaaa aaat aatt attc ttcc tcca ccaa caag aaga agat gatc atca tcac cact actt cttc ttca tcat catt attg ttga tgat gatt attt tttg ttgt tgtg gtga tgag gaga agaa gaaa aaaa aaat aatg atgt tgtc gtct tcta ctac tacc acca ccaa caaa aaat aatt atta ttat tatt attt ttta ttaa taag aagt agtt gttg ttga tgaa gaaa aaat aata ataa taac aact acta ctac taca acag cagc agct gctc ctca tcaa caac aaca acat catg atga tgag gagt agtg gtgc tgct gctt cttt tttt tttc ttct tcta ctag tagg aggc ggca gcag cagt agta gtat tatt attg ttgt tgta gtac tact actt cttc ttca tcag cagt agta gtat tatg atgc tgca gcag caga agaa gaag aagt agtg gtgc tgct gctt cttt ttta ttaa taat aatt atta ttaa taat aatt attt tttt tttt ttta ttac tact actg ctgc tgct gctt cttc ttca tcat catt atta ttag tagg agga ggac gaca acat catt attc ttct tctt ctta ttac taca acat catt atta ttaa taaa aaac aact actg ctgg tggc ggca gcat catt atta ttat tatt atta ttat tatt atta ttac tact acta ctat tatt attc ttca tcac cact actg ctgc tgcc gcca ccat cata ataa taac aact actc ctca tcat catg atgc tgca gcaa caaa aaat aatg atgt tgtg gtgc tgcc gcca ccag cagc agca gcag cagt agtt gttt tttt ttta ttac tacc accc ccca ccag cagc agca gcat catc atca tcat catc atct tctt cttt tttg ttgc tgca gcac cact actg ctgt tgtt gttt tttt tttt tttt tttg ttga tgaa gaac aact actg ctgt tgta gtaa taat aatg atgg tggt ggta gtag taga agag gagg agga ggat gatg atga tgaa gaat aata atag tagc agct gctc ctca tcac caca acaa caat aata atac taca acaa caaa aaat aatt attt tttg ttgt tgtc gtca tcat catt attt tttc ttcc tccc ccct cctt cttt ttta ttat tatc atct tctt cttg ttga tgag gagt agta gtac tact actc ctct tctt cttc ttca tcag caga agaa gaat aatt atta ttat tatt attt tttg ttga tgaa gaat aatt attt tttt tttt tttt tttg ttga tgaa gaat aatt attt tttt ttta ttat tatc atct tctg ctgt tgtg gtgg tgga ggaa gaat aatg atgt tgta gtat tatt attt tttt tttt tttg ttga tgat gatc atct tctc ctcg tcgg cggc ggct gctc ctca tcac cact actg ctgc tgca gcaa caac aacc acca ccac cacc accg ccgc cgcc gcct cctc ctcc tcct cctg ctgg tggg gggt ggtt gttc ttca tcaa caag aagt agtg gtga tgat gatt attc ttct tctc ctcc tcct cctg ctgt tgtg gtgg tggc ggca gcag cagc agcc gcct cctc ctct tcta ctaa taaa aaag aaga agat gatg atgg tggg gggg gggt ggtt gttt tttc ttca tcaa caac aacg acgt cgtg gtgt tgtt gtta ttag tagc agca gcaa caag aagg aggt ggtt gttg ttgg tggt ggtc gtct tctc ctcg tcga cgat gatc atct tctg ctga tgac gacc acct cctc ctcg tcgt cgtg gtga tgat gatc atct tctg ctgc tgct gctc ctca tcat catc atcg tcgt cgtg gtgg tgga ggaa gaat aatg atgt tgta gtat tatt attc ttct tctt ctta ttaa taat aatg atgt tgtg gtga tgaa gaat aata atag tagt agtt gttt tttt tttt tttg ttga tgat gatt attc ttcc tccg ccga cgaa gaac aacc acca ccat catg atga tgaa gaat aata ataa taat aata ataa taag aaga agaa gaaa aaaa aaat aatg atgc tgcc gcca ccat catc atct tctt cttg ttgt tgta gtaa taac aact actt cttt tttt tttg ttgt tgtg gtga tgaa gaac aact actc ctct tctt cttg ttgt tgtt gtta ttac taca acac cacc acct cctt cttt tttc ttct tcta ctat tata atag taga agat gatt attc ttcg tcgc cgca gcaa caag aaga agag gaga agaa gaat aata ataa taag aagc agca gcat catt attt tttt tttt tttt tttt tttc ttcc tcct cctt ctta ttat tatg atga tgat gatc atct tctt cttt ttta ttaa taac aact actg ctgt tgtt gttc ttct tctg ctgg tggg gggt ggtc gtca tcac caca acaa caaa aaat aatt attt tttg ttgt tgtc gtct tctg ctgt tgtc gtca tcac cact actg ctgg tggt ggtt gttg ttga tgaa gaag aaga agaa gaac aact actt cttt tttc ttct tctt cttc ttca tcag caga agaa gaag aagc agct gctc ctcc tcca ccac cacc accc ccct ccta ctat tata ataa taat aatt attc ttct tctg ctga tgaa gaac aacc acct cctg ctgc tgca gcag caga agaa gaag aaga agaa gaat aatc atct tctg ctga tgaa gaac aaca acat catc atca tcag cagc agct gctg ctgg tggc ggct gctt cttc ttca tcaa caac aact actc ctcc tcca ccaa caat aata ataa taat aata atat tatt attc ttca tcaa caaa aaag aaga agag gagc agca gcaa caag aagg aggg gggc ggct gctg ctga tgac gact actc ctct tctg ctgc tgcc gccg ccgc cgct gctg ctgt tgta gtac tacc acca ccaa caag aaga agac gact actg ctgg tggg gggg ggga ggag gaga agaa gaac aact acta ctac taca acaa caaa aaac aact acta ctag tagg agga ggaa gaat aatt attt ttta ttag tagg aggc ggca gcaa caaa aaac aacc acct cctg ctgt tgtg gtgt tgtt gtta ttaa taaa aaaa aaat aatc atct tctt ctta ttag tagc agct gctc ctca tcat cata ataa taat aatg atgg tgga ggag gaga agac gacg acga cgat gatg atga tgaa gaaa aaaa aaat aata ataa taat aatg atgt tgtc gtct tctc ctca tcat cata atag tagg aggt ggtt gttt tttg ttgg tgga ggat gatt atta ttaa taaa aaat aatt atta ttaa taaa aaat aata ataa taat aatg atgt tgta gtag tagg aggt ggta gtac tact acta ctac tacg acgt cgtc gtct tctt cttt tttc ttct tctt ctta ttat tatg atgc tgcc gcca ccaa caaa aaaa aaaa aaaa aaaa aaac aacc acct ccta ctag tagg agga ggac gact actt cttg ttgt tgtt gttt tttt tttg ttga tgat gatg atgt tgtt gtta ttaa taat aatt atta ttaa taaa aaac aact acta ctaa taaa aaac aact acta ctat tata atat tatt attt tttg ttgg tgga ggaa gaag aagg agga ggag gagt agtt gttt tttc ttcc tccc ccct cctg ctgg tggc ggcg gcgt cgta gtag tagg aggt ggtg gtgc tgcc gccg ccgc cgca gcat catg atgt tgtt gttt tttc ttct tcta ctaa taag aagc agca gcaa caat aatt atta ttat tatg atgt tgta gtaa taat aata ataa taag aaga agat gatt attt tttc ttct tctt cttc ttca tcag caga agag gagt agtg gtgt tgtt gtta ttaa taat aatc atct tctc ctct tcta ctag tagt agta gtaa taag aagg aggg gggg ggga ggaa gaat aata ataa taaa aaag aaga agag gagt agta gtac taca acac caca acag caga agat gata ataa taaa aaag aagt agta gtat tata atag tagt agtg gtga tgag gaga agaa gaaa aaag aaga agag gagc agca gcaa caaa aaat aata atag tagt agta gtat tatt attg ttgg tggg gggc ggca gcaa caaa aaag aagt agtt gtta ttag tagg aggc ggca gcaa caat aatt atta ttat tatt attc ttcc tcct cctt cttt tttg ttga tgag gagc agct gcta ctaa taaa aaac aacc acct cctt cttg ttga tgaa gaag aagg agga ggaa gaac aaca acaa caac aaca acat catg atga tgag gagg agga ggaa gaag aaga agaa gaat aata atat tatg atgt tgta gtag tagt agtg gtgt tgtg gtgt tgtt gttc ttca tcag cagg agga ggaa gaaa aaat aata atag tagc agca gcaa caag aagt agta gtaa taat aatt attc ttca tcag cagg aggt ggtt gttg ttgg tggc ggcg gcgg cggc ggca gcat catt attg ttga tgaa gaat aatg atgc tgcc gcca ccaa caag aagc agct gcta ctaa taaa aaag aaga agaa gaaa aaat aatt attg ttga tgaa gaat aatt attt tttg ttgt tgtt gttt tttg ttgg tggt ggtt gttg ttgg tggt ggtt gttg ttgg tggt ggtg gtga tgag gagc agca gcag caga agag gaga agaa gaaa aaat aatt attt ttta ttat tata atag tagc agca gcaa caaa aaaa aaat aatc atct tcta ctaa taaa aaac aact actt cttg ttga tgat gata atat tatg atgg tggc ggct gctt cttt tttc ttca tcaa caag aagt agtt gttc ttcc tcct cctt cttt tttg ttgt tgtg gtga tgat gatc atca tcag cagg aggc ggcc gccc cccc ccct cctg ctga tgat gatt attc ttcc tcct ccta ctac tact actg ctga tgaa gaat aatt attt tttc ttct tctt cttt tttt tttc ttcg tcgt cgtt gtta ttac tacc acca ccaa caaa aaaa aaac aacc acca ccac caca acaa caat aatg atgc tgct gctc ctct tctc ctct tctg ctgg tggc ggct gctc ctct tctt cttt ttta ttat tatt atta ttaa taaa aaac aaca acat cata atac tacg acgt cgtc gtct tctt cttt tttc ttca tcag caga agat gatc atct tctt cttg ttgg tggc ggct gctt ctta ttat tatt attt tttc ttct tctg ctgc tgct gctt cttc ttct tctg ctga tgag gaga agaa gaaa aaat aata atac tact actt cttc ttcc tcct cctg ctgt tgtc gtct tctg ctgc tgcc gccc ccct cctc ctcg tcgt cgtt gttg ttgt tgtt gttc ttca tcat catg atgg tggc ggct gcta ctat tata atag tagg aggg ggga ggag gagt agtg gtgc tgca gcat cata atat tata atac taca acaa caaa aaag aagg aggg ggga ggaa gaat aata atat tata atag tagg aggt ggta gtaa taat aatg atgg tggg gggc ggca gcaa caaa aaat aata atat tatt attt ttta ttac taca acat catt attt ttta ttag tagt agta gtat tatt atta ttat tatt attt tttg ttgc tgct gctt cttt ttta ttag taga agaa gaaa aaag aagc agcc gcct ccta ctaa taat aatg atga tgat gatc atca tcaa caaa aaac aaca acag cagc agca gcag cagt agtc gtct tctt cttt tttg ttgg tgga ggag gaga agat gata ataa taac aacg acgt cgtt gttt tttc ttcc tcca ccag cagg aggc ggcc gccc cccc ccca ccac cact actc ctct tctg ctga tgaa gaat aatc atct tctc ctct tctt ctta ttaa taat aatt attt ttta ttat tata ataa taat aatt attt tttt tttt tttg ttgg tgga ggaa gaaa aaat aatg atga tgat gatg atgc tgcc gccc ccca ccat catg atga tgag gagt agtc gtct tcta ctac taca acag cagg aggg gggg ggga ggat gatg atgt tgtg gtgt tgta gtaa taat aatg atgg tggt ggtc gtct tcta ctag tagg aggt ggtg gtga tgat gata atag taga agag gaga agac gaca acaa caag aagt agtg gtgc tgcc gcct cctg ctga tgaa gaat aatt atta ttac taca acag cagt agta gtaa taat aata ataa taac aaca acag cagt agtg gtga tgaa gaaa aaaa aaaa aaaa aaag aagg agga ggaa gaac aaca acaa caaa aaat aatg atga tgac gaca acag cagg aggg gggc ggca gcaa caaa aaag aagc agca gcat cata atat tatg atgc tgca gcag caga agaa gaac aaca acac caca acag cagt agta gtag tagt agta gtaa taac aaca acag cagt agtc gtca tcat cata atag taga agaa gaac aact actc ctcg tcgg cggc ggca gcat catt atta ttaa taag aagg agga ggat gata atac taca acaa caaa aaat aata atat tatg atga tgaa gaat aata ataa taag aaga agat gatg atgt tgtc gtcc tcct cctt cttt tttg ttga tgac gacc acct cctc ctct tcta ctaa taag aagt agta gtac tact actc ctca tcag cagt agtc gtct tctc ctct tcta ctat tatg atgt tgtt gtta ttat tata ataa taag aaga agag gagc agca gcat catg atgt tgta gtac tacc acca ccaa caag aagt agtg gtgc tgca gcat catg atga tgaa gaaa aaaa aaag aagt agtg gtga tgag gagc agca gcag cagc agcc gcca ccat catc atct tctc ctct tctg ctgg tggt ggtt gttg ttgg tggt ggtc gtca tcag cagt agta gtaa taat aatt attc ttct tctt cttt ttta ttaa taat aatc atca tcat cata ataa taac aacc acct cctg ctgc tgct gcta ctag taga agaa gaat aatt attg ttga tgat gatc atct tcta ctat tata ataa taac aacc acca ccaa caag aagg agga ggaa gaag aagg agga ggat gata atag tagt agta gtaa taag aagg agga ggaa gaat aata ataa taat aatc atct tctg ctgc tgct gctg ctga tgac gact acta ctag tagt agtc gtct tctc ctct tctt cttg ttga tgag gaga agac gacc acct cctt cttt tttt tttg ttgc tgct gctt cttt tttt ttta ttac tacg acgt cgtt gttt ttta ttac tact actt cttt ttta ttag taga agat gatt attc ttca tcag cagt agta gtat tatt attg ttgg tggt ggta gtaa taat aata atat tatt attt tttt tttt tttt ttta ttaa taaa aaaa aaaa aaaa aaat aatt atta ttat tatt attc ttcc tcct ccta ctaa taaa aaag aagt agtt gttc ttct tcta ctat tatg atga tgag gagg agga ggaa gaat aatt attg ttgt tgtg gtgc tgct gctg ctgt tgtt gttt tttc ttct tctg ctgc tgcc gcct cctc ctct tcta ctaa taat aatg atga tgag gaga agat gatc atcc tcct cctc ctca tcag cagg aggt ggtt gtta ttat tatt attt tttg ttgg tggg ggga ggaa gaaa aaat aatg atgt tgtt gttt ttta ttat tatt attt tttg ttgg tggt ggta gtaa taat aatt atta ttaa taac aact actc ctct tctt cttt tttt tttt tttc ttca tcac cacc acct ccta ctat tatg atgg tgga ggat gatg atgt tgtg gtgt tgtt gtta ttat tatt atta ttat tatt atta ttag tagc agct gctg ctga tgaa gaac aact actc ctcc tcct cctt ctta ttag tagt agtt gttt ttta ttac tact actt cttt ttta ttag taga agag gagt agtt gttc ttca tcac cacc accc ccct cctt cttt tttg ttgt tgta gtat tatg atgg tggt ggtt gtta ttaa taat aatt attt tttt tttg ttgc tgct gctg ctgc tgcc gccc ccct ccta ctaa taaa aaaa aaaa aaat aatc atct tctc ctcc tccc cccg ccga cgag gagt agtt gttc ttcc tcca ccac cacc acct cctg ctgc tgct gctc ctca tcac cacc accc ccca ccat catc atcc tccc ccct cctc ctcc tcct cctc ctcc tcct cctg ctga tgag gagg aggt ggta gtag tagt agtt gttg ttgg tgga ggaa gaat aatc atca tcat cata atac taca acag caga agaa gaat aata atat tata atag tagc agca gcat catt attt tttt tttc ttca tcag caga agac gact actg ctgg tggc ggct gctt cttc ttct tctt cttt tttc ttca tcac cact actt ctta ttag tagc agca gcaa caat aata atat tatg atgc tgca gcag caga agaa gaaa aaat aata atat tata atag tagc agcg gcgg cggt ggtg gtgt tgtg gtgg tgga ggag gagt agtg gtgg tggg ggga ggaa gaaa aaat aatc atca tcag cagg aggg gggg gggt ggtc gtct tctc ctca tcac caca acag cagc agcc gcct cctt cttt tttt tttg ttga tgac gaca acag cagc agca gcaa caag aagc agcc gcca ccaa caag aagg aggg gggc ggct gctg ctgg tggg gggc ggcc gccg ccga cgaa gaag aagt agta gtaa taaa aaag aagg aggg ggga ggat gatg atgg tggg gggt ggtc gtct tctg ctgg tggc ggct gcta ctag tagt agtt gtta ttat tatc atct tctg ctgc tgca gcag cagc agca gcag cagg agga ggag gaga agaa gaat aatg atgt tgtc gtcc tccc cccc cccc cccc cccg ccgg cggg gggt ggtg gtgg tggg gggc ggcc gcca ccag cagg aggt ggtg gtgt tgtt gttc ttcc tcct cctt cttg ttgc tgcc gccc ccct cctc ctca tcat catt attc ttcc tccg ccgg cggt ggta gtaa taaa aaac aacc accc ccca ccac caca acaa caag aagc agct gctt cttc ttcc tcca ccag cagc agcg gcgt cgtg gtgt tgtg gtgg tggg gggg gggc ggcc gcca ccag cagt agtt gttc ttcc tccc ccca ccaa caac aaca acag cagc agca gcaa caat aata atat tatg atgt tgtg gtgt tgtt gttt ttta ttaa taag aagg aggt ggtt gttc ttct tctt cttc ttcc tcca ccat catg atgt tgtc gtct tctt cttt tttt ttta ttaa taat aatg atga tgat gatt attt tttc ttca tcaa caag aagg agga ggac gaca acat catc atct tctt cttg ttga tgat gatt attg ttgc tgct gctt cttc ttcc tcca ccaa caaa aaat aatt attt tttt tttg ttgg tggc ggca gcaa caat aatt atta ttat tatg atga tgaa gaat aata ataa taaa aaag aagc agct gctg ctgg tggt ggta gtat tata ataa taaa aaat aata atat tatt attc ttca tcat catt attg ttgt tgtg gtgg tggg ggga ggat gatc atca tcat cata atat tata atag tagt agta gtaa taag aaga agag gagt agta gtat tatg atgt tgtt gttt ttta ttag tagt agtt gttt tttt ttta ttat tatg atga tgag gaga agaa gaaa aaac aact acta ctac taca acaa caag aagc agct gctt cttt tttc ttct tctt cttc ttcc tcct cctc ctcc tcct cctc ctca tcac cacc acca ccag cagc agca gcat catt attt tttg ttgg tggt ggtg gtgt tgtg gtgt tgtc gtca tcag cagt agtg gtgt tgtt gttt tttt tttg ttga tgaa gaat aatt attc ttct tcta ctag tagc agcc gcca ccat catt attc ttct tcta ctaa taac aaca acaa caag aagt agtg gtgt tgtg gtgt tgta gtag tagc agct gctt cttt tttg ttgt tgtc gtcg tcgc cgcc gccc ccca ccag cagg aggc ggct gctg ctgg tgga ggag gagt agtg gtgc tgca gcag cagt agtg gtgg tggc ggcg gcgt cgtg gtga tgat gatc atct tctt cttg ttgg tggc ggct gctc ctca tcac cact actg ctgc tgca gcaa caag aagc agct gctc ctcc tccg ccgc cgcc gcct cctc ctcc tcca ccac cacc acca ccac caca acac cacc acct cctg ctgg tggc ggct gctg ctga tgat gatt attt tttt tttt tttt tttt tttg ttgt tgta gtat tatt attt tttt tttt ttta ttag tagt agta gtag taga agag gaga agac gacg acgg cggg gggg gggt ggtt gttt tttc ttca tcac cact actg ctgt tgtg gtgt tgtt gtta ttag tagc agcc gcca ccat catt atta ttac taca acag cagg aggc ggcg gcgt cgtg gtga tgag gagc agcc gcca ccat catc atca tcat catg atgc tgcc gccc cccg ccgg cggc ggcc gcct cctg ctgt tgtt gttt tttt ttta ttat tatt attt tttt tttt tttt ttta ttaa taaa aaag aagt agtc gtca tcaa caat aatt attt tttt tttc ttct tctt cttt tttc ttca tcaa caat aatt attt tttg ttgt tgtt gttg ttga tgaa gaag aagt agtg gtgg tggg gggg gggt ggtt gttt tttt tttt ttta ttaa taag aagt agtt gtta ttac taca acac caca acat catc atcc tcca ccat catt attt tttg ttgc tgct gctt cttt ttta ttat tatt atta ttag tagt agtg gtga tgat gatt atta ttat tatg atgt tgtc gtct tcta ctag tagg aggt ggtt gttt tttt ttta ttaa taaa aaat aatt attt tttg ttgg tggt ggtc gtct tctt cttc ttca tcac cact actt cttt ttta ttat tatt attt tttt ttta ttag tagt agta gtaa taac aaca acat catt attg ttga tgat gata atag taga agag gagc agct gctt ctta ttat tatt attt tttt tttt tttc ttcc tccc ccca ccaa caaa aaaa aaaa aaac aact actc ctca tcag cagg aggt ggtg gtgc tgcc gcca ccaa caaa aaat aatt attt tttg ttgt tgta gtag tagt agtt gtta ttac tacc acca ccat catc atca tcaa caac aact acta ctat tatt attg ttgg tgga ggaa gaac aacc acca ccat cata atat tatg atga tgag gagt agta gtac tact actt ctta ttaa taat aatg atgc tgcc gcct cctt cttg ttgg tgga ggat gatt attt tttc ttca tcat cata atat tatt attg ttgt tgtt gtta ttaa taaa aaag aagc agcc gcca ccac cacc acct ccta ctat tata atag tagc agct gctt cttt ttta ttag taga agaa gaaa aaac aact actc ctct tctg ctga tgaa gaac aaca acat catt atta ttat tatt attt tttt tttc ttct tctt ctta ttac tact acta ctaa taat aatt atta ttat tata atat tatc atcc tcca ccaa caat aatt attt ttta ttat tatt attc ttca tcat catc atcc tcca ccag cagt agtc gtca tcaa caat aata atat tatt attt tttc ttca tcag cagg agga ggag gagt agtg gtga tgac gact acta ctaa taat aata atat tata atac tacc acca ccag caga agac gaca acaa caac aaca acag cagc agcc gcct ccta ctag tagt agta gtag tagg aggg gggg gggg ggga ggaa gaaa aaaa aaaa aaag aaga agaa gaac aaca acag cagt agtg gtgt tgta gtat tatg atga tgat gatc atca tcaa caaa aaac aact actc ctct tctt cttc ttca tcag cagg aggg ggga ggaa gaac aaca acac caca acat cata atag tagg aggg ggga ggaa gaat aatg atgg tgga ggaa gaag aagc agcc gcct cctg ctga tgaa gaaa aaag aaga agag gagt agtt gttg ttgt tgtt gttc ttcc tcca ccag cagg aggt ggtc gtca tcaa caag aaga agaa gaaa aaaa aaag aagc agca gcaa caaa aaag aaga agaa gaag aagg aggg gggg ggga ggaa gaaa aaac aaca acag cagc agct gctt cttg ttgt tgtt gtta ttaa taaa aaaa aaaa aaag aagt agta gtag taga agac gact actg ctgt tgta gtaa taaa aaaa aaag aaga agaa gaat aatg atgg tggc ggca gcat catc atca tcat cata ataa taaa aaaa aaaa aaat aatt atta ttaa taag aagt agta gtaa taaa aaat aatt attg ttgt tgtc gtca tcac caca acat cata ataa taaa aaat aata atat tatc atcc tcct cctt cttc ttca tcat cata atac tact acta ctat tatg atgg tgga ggag gagt agtt gttt tttg ttga tgac gact actt cttg ttga tgat gatc atct tctt cttg ttga tgaa gaaa aaaa aaag aagt agta gtaa taag aaga agat gatc atct tctt cttg ttga tgaa gaaa aaag aagg aggt ggtt gttt tttt tttt ttta ttag tagc agca gcac cact actt cttt tttt tttt tttt tttc ttct tctc ctct tctt cttt tttc ttcc tcct cctt cttc ttct tctg ctgc tgct gctt cttt tttt tttg ttgt tgtt gttt ttta ttaa taaa aaag aagc agcg gcga cgac gaca acaa caag aaga agat gatg atgt tgtt gttg ttgc tgct gctc ctct tctt cttt tttt tttc ttcc tccc ccca ccag cagg aggc ggcg gcgc cgcc gcct cctc ctct tctc ctca tcaa caag aagt agta gtag tagc agct gcta ctag tagg agga ggac gact acta ctac taca acag cagg aggc ggca gcat cata atat tatc atca tcac cacc acca ccac caca acac cacc acca ccag cagc agcg gcgt cgtt gttt tttt tttc ttct tctt cttt tttg ttgt tgta gtag taga agag gagg aggc ggct gctc ctca tcag cagc agcc gcct cctc ctcc tccc ccca ccag caga agag gagc agcc gccc ccct cctc ctca tcaa caaa aaat aatt atta ttat tata ataa taag aagc agcc gcca ccac cact actg ctgt tgtg gtgc tgct gctc ctcg tcgg cggg gggg gggc ggca gcat catc atcc tcct cctt cttt tttt tttt tttg ttgg tggg gggg gggg gggg gggg ggga ggag gagg agga ggag gaga agac gact actt cttt tttt tttt tttg ttgt tgtt gttt tttt tttt ttta ttaa taaa aaac aaca acac cact actt cttc ttcc tcca ccaa caaa aaag aaga agaa gaat aatg atgc tgca gcaa caaa aaat aatt attt ttta ttat tata ataa taat aatc atcc tcca ccag caga agag gagt agta gtat tata atat tata atag tagt agtc gtct tctt cttc ttcg tcgc cgca gcac caca acag cagt agtg gtga tgaa gaaa aaaa aaac aact acta ctaa taaa aaaa aaat aatg atgg tgga ggat gatc atca tcaa caag aagc agca gcag caga agat gatg atga tgat gatg atgt tgtt gttt tttc ttcc tcct cctg ctgt tgtc gtcc tcca ccac cact actt cttc ttct tcta ctat tatt attt tttt tttc ttcc tcct ccta ctac taca acat cata atat tata atat tatt attt tttg ttgt tgtt gttc ttct tcta ctat tata ataa taaa aaag aaga agat gatg atga tgaa gaat aatc atct tctg ctga tgat gatt attt tttt tttt ttta ttat tatg atgc tgct gcta ctaa taat aata atat tatt attt tttt tttg ttgg tggc ggct gcta ctaa taat aata atag tagt agtt gttt tttt tttt ttta ttac taca acat catt atta ttag taga agaa gaaa aaac aaca acat catg atgt tgta gtaa taag aagt agtt gttg ttgt tgtt gttg ttgt tgtt gttc ttct tctt cttg ttgt tgtg gtga tgat gatg atgt tgtt gttg ttga tgaa gaat aatt attg ttgg tggc ggct gctg ctgg tggt ggtt gtta ttag tagt agtc gtcc tcct cctt cttg ttga tgaa gaat aatt atta ttat tatc atca tcaa caat aatt attt ttta ttaa taaa aaaa aaat aata ataa taaa aaat aatt attg ttgt tgtg gtgt tgta gtac tact actt cttt tttt tttc ttca tcat catc atct tctt cttt tttg ttgg tgga ggag gaga agag gaga agaa gaat aata atat tatg atga tgag gagg aggc ggct gctg ctgt tgta gtag tagt agtg gtgc tgca gcag cagt agtg gtgg tggt ggtg gtgc tgcg gcga cgat gatc atct tctc ctca tcag cagc agct gctc ctca tcac cact actg ctgc tgca gcaa caag aagc agct gctc ctcc tccg ccgc cgcc gcct cctc ctcc tccc cccg ccgg cggg gggt ggtt gttc ttca tcac cacg acgc cgcc gcct ccta ctaa taat aatt attt tttt tttt tttt tttg ttgt tgta gtat tatt attt tttt tttt ttta ttag tagt agta gtag taga agag gaga agac gacg acgg cggg gggg gggt ggtt gttt tttc ttca tcac cacc accg ccgt cgtg gtgt tgtt gtta ttag tagc agct gcta ctag tagg agga ggat gatg atgg tggt ggtc gtct tctc ctcg tcga cgat gatc atcc tcca ccac cact actg ctgt tgtg gtgc tgcc gccc cccg ccgg cggc ggcc gcct ccta ctac tact actt cttt ttta ttac taca acaa caaa aaaa aaat aatt attt tttt tttt tttg ttga tgag gagt agtt gttt ttta ttaa taaa aaaa aaat aata atac taca acac cacg acgg cggt ggtt gttt tttc ttcc tcca ccag cagc agca gcag cagc agct gctt cttc ttca tcat catg atga tgag gaga agag gaga agat gatt attt ttta ttac tact actt cttt tttt tttt ttta ttaa taaa aaaa aaat aatg atgt tgta gtaa taat aata atat tata ataa taaa aaaa aaat aata atat tatc atct tcta ctaa taaa aaaa aaag aagt agta gtag tagt agta gtat tatt attc ttcc tcca ccaa caac aaca acaa caaa aaaa aaaa aaat aata ataa taac aacc acct ccta ctaa taag aagg aggg ggga ggat gatt attt tttg ttgc tgct gctt cttt tttg ttgt tgtt gttt tttt ttta ttat tatt attt tttt ttta ttag tagt agtc gtcc tcct cctg ctgt tgtt gttg ttgt tgtt gttc ttct tcta ctac taca acaa caat aatg atgt tgta gtac taca acac caca acat cata atac tact acta ctag taga agaa gaaa aaat aatg atgt tgtt gtta ttaa taat aata ataa taaa aaaa aaaa aaat aata ataa taaa aaaa aaac aact actt ctta ttaa taac aaca acaa caat aatt attt tttt tttc ttcc tccc cccc ccct cctt cttt tttt tttt tttt tttt ttta ttac tacc accc cccc cccc ccca ccag cagt agtg gtgg tggt ggtt gttt tttt ttta ttat tatg atga tgac gact actt ctta ttag tagt agta gtaa taat aatt attg ttga tgag gaga agaa gaat aatt attt tttg ttga tgac gaca acaa caat aata atag tagc agcg gcgt cgtt gtta ttat tata atac tacc acct cctt cttt tttg ttgc tgcc gccc ccct cctg ctga tgag gaga agat gatt attt ttta ttac tacg acga cgag gagt agtg gtga tgaa gaat aatg atga tgaa gaaa aaaa aaaa aaaa aaat aata ataa taat aata atat tatc atcc tcct cctt ctta ttaa taat aatg atga tgat gatc atca tcag cagg aggg gggc ggca gcat catt attt tttc ttct tcta ctat tata ataa taaa aaaa aaaa aaaa aaat aata ataa taaa aaac aact acta ctat tatt attt tttg ttgg tgga ggat gatc atcc tcct cctg ctga tgat gata atat tatg atgt tgtc gtct tctt cttg ttgg tggt ggtc gtca tcaa caag aagt agtt gttc ttct tctt cttt ttta ttag tagc agct gcta ctac taca acac cacc acca ccac cacc accc ccca ccac cacc accc ccct cctt ctta ttag tagt agtt gttc ttct tcta ctac tact actg ctgt tgtg gtgt tgtc gtca tcat catc atct tctc ctct tcta ctaa taat aata atac tact actt cttc ttct tctg ctgt tgtt gtta ttaa taaa aaaa aaag aagg agga ggaa gaaa aaat aata atat tatg atga tgaa gaaa aaaa aaag aaga agaa gaaa aaaa aaat aata atat tatt atta ttag taga agat gata ataa taat aatg atgt tgtc gtct tctt ctta ttac taca acaa caaa aaat aata atac taca acat catt attt ttta ttag tagt agtg gtgg tggt ggta gtag tagt agtc gtcc tcca ccag cagt agtg gtgg tggt ggtg gtgt tgtc gtca tcaa caag aagc agca gcat catt atta ttat tatg atgt tgtt gttt tttt ttta ttag tagt agta gtac tacg acga cgat gatg atgt tgtg gtga tgat gatt attt tttt tttt tttg ttgg tggt ggtg gtgt tgtg gtga tgac gact actg ctga tgaa gaat aatt attc ttct tctt cttt tttt tttt ttta ttac taca acaa caaa aaat aatg atga tgat gatt attg ttgt tgtg gtgg tggt ggta gtaa taat aatt attg ttgg tggg gggg gggc ggca gcat catt atta ttaa taaa aaag aagc agca gcag cagc agca gcat catt attg ttga tgaa gaat aatt attg ttga tgag gagg aggt ggtc gtct tctt ctta ttaa taaa aaat aatt attc ttcc tcca ccac caca acaa caag aagt agtg gtgt tgta gtaa taat aatt atta ttac taca acac caca acaa caac aact acta ctat tatg atgt tgtg gtga tgat gata ataa taaa aaac aact actg ctgc tgca gcaa caat aata atat tatc atct tcta ctag taga agaa gaaa aaat aata atat tatt attt tttc ttcc tcct ccta ctat tatt attg ttgt tgta gtag tagg aggc ggct gctg ctgg tggt ggtt gttg ttgc tgca gcag cagt agtg gtgg tggc ggct gctc ctca tcac cacg acgc cgcc gcct cctg ctgt tgta gtaa taat aatc atcc tccc ccca ccaa caac aaca acac cact actt cttt tttg ttgg tggt ggtg gtga tgaa gaaa aaac aacc accc ccct cctg ctgt tgtc gtct tctc ctct tcta ctac tact acta ctaa taaa aaaa aaaa aaat aata ataa taaa aaaa aaaa aaaa aaaa aaat aatt attg ttgg tggc ggcc gcca ccag cagg aggt ggtg gtgt tgtg gtgg tggt ggta gtaa taac aaca acac caca acac caca acac cacc acct cctt cttg ttgc tgca gcag cagt agtg gtga tgag gagc agcc gccg ccga cgag gaga agat gatt attg ttgt tgtg gtgc tgcc gcca ccac cact actg ctgc tgca gcac cact actc ctcc tcca ccag cagc agcc gcct cctg ctgg tggg gggt ggtg gtga tgac gaca acag cagg aggg ggga ggag gagg aggc ggct gctg ctga tgag gagg aggt ggtg gtgg tgga ggat gatt atta ttaa taaa aaaa aaat aata atag taga agaa gaaa aaaa aaaa aaaa aaat aatt atta ttag tagc agct gctg ctgg tggg gggc ggcg gcgt cgtg gtgg tggt ggtg gtgg tggc ggca gcag caga agac gaca acac cacc acct cctg ctgt tgta gtag tagt agtc gtcc tccc ccca ccag cagc agct gcta ctac tact actc ctca tcag caga agat gatc atca tcac cacg acgc cgcc gcca ccac cact actg ctgc tgca gcac cact actc ctcc tcca ccag cagc agcc gcct cctg ctgg tggg gggc ggca gcaa caac aaca acag caga agag gagc agca gcaa caag aaga agac gact actc ctct tctg ctgt tgtc gtct tctc ctca tcaa caaa aaaa aaaa aaaa aaaa aaaa aaaa aaaa aaaa aaaa aaat aatt atta ttag tagt agta gtat tatt attt tttg ttga tgaa gaaa aaaa aaag aagt agtt gttg ttgt tgtg gtga tgac gact acta ctat tatt attt tttt tttt tttt tttt tttt tttt tttt tttt tttt tttt tttt ttta ttaa taat aatt attg ttga tgag gaga agac gaca acaa caag aagg aggt ggtt gttc ttct tctt cttc ttct tctc ctct tctc ctct tctc ctca tcaa caat aatt atta ttaa taat aatc atct tctt cttt tttc ttct tctt cttc ttcc tcct cctc ctct tctt ctta ttag tagc agcc gcct cctt cttc ttcc tcca ccaa caag aagt agta gtat tatc atct tctg ctgg tggg ggga ggac gact acta ctac taca acag cagg aggt ggta gtac tacc acca ccat catg atgc tgcc gcca ccaa caat aatg atgt tgtt gttg ttgc tgcc gccc ccca ccac caca acac cact actt cttg ttgt tgtc gtct tctc ctca tcaa caaa aaat aatt attc ttcc tcct cctg ctga tgag gagc agct gctc ctca tcaa caag aagc agca gcag cagc agcc gcca ccac cacc acca ccac caca acac cacc accc ccca ccac cacc acct cctg ctgt tgtg gtga tgac gaca acaa caat aatg atgt tgtg gtga tgat gatt atta ttat tata atag tagt agta gtac taca acaa caaa aaac aaca acaa caag aagt agta gtat tatt attt tttg ttgg tgga ggaa gaag aagt agtt gttc ttca tcat catc atct tcta ctaa taaa aaac aaca acaa caaa aaat aatg atgc tgca gcat catc atca tcac caca acag cagt agtt gttt tttc ttct tctt cttt tttc ttct tctc ctct tctt cttt tttt tttt tttt tttc ttct tctt cttt tttt tttt tttc ttcg tcgt cgtt gttt tttt tttt tttt tttt tttt tttt tttt tttt tttt tttt tttt tttg ttga tgag gagg aggc ggcg gcgg cgga ggag gagt agtc gtct tctt cttg ttgc tgcc gccc ccct cctt cttt tttt tttg ttgc tgcc gccc cccg ccga cgat gatt attc ttct tctc ctcc tcct cctg ctgc tgcc gcct cctt ctta ttag taga agac gact actc ctcc tccc cccg ccga cgag gagt agta gtag tagc agct gctg ctgg tggg ggga ggat gatt atta ttac taca acag cagg aggc ggca gcac cacc accc ccca ccac cacc acca ccac cacc acca ccac cacg acgc cgcc gcct cctg ctga tgac gact actc ctcc tcct cctg ctga tgac gacc acct cctc ctca tcaa caag aagt agtg gtga tgat gatt attc ttcg tcgt cgtt gttt tttg ttgt tgtc gtct tctc ctca tcag cagc agcc gcca ccac caca acat catt attt tttt tttt tttt tttt tttt tttg ttgt tgtc gtct tcta ctaa taag aaga agaa gaag aaga agat gata atac tact actg ctgt tgtt gttg ttgt tgtg gtga tgag gagt agtc gtcg tcgt cgta gtat tata atat tatg atgc tgct gctc ctct tctt cttt tttt tttt ttta ttaa taaa aaat aatg atga tgaa gaaa aaat aatg atga tgaa gaaa aaaa aaat aatt attc ttct tctg ctga tgag gagt agta gtac taca acat catc atca tcac caca acat catg atgt tgta gtag tagt agtc gtcg tcga cgaa gaat aata ataa taat aatt attt tttt tttg ttga tgag gaga agat gata atat tata atac tact actt ctta ttaa taac aaca acac cact acta ctaa taaa aaaa aaaa aaaa aaat aatt atta ttat tatt attc ttca tcat catt attg ttgt tgtt gttt ttta ttat tatc atct tctg ctga tgaa gaaa aaat aatt attc ttca tcaa caaa aaaa aaaa aaaa aaac aact actt cttt tttt tttt tttt ttta ttac tact actt ctta ttaa taac aacc acct cctt cttt tttg ttgt tgtg gtgt tgtg gtgc tgcc gccc ccca ccat catg atgt tgtg gtgt tgtg gtgt tgtg gtgt tgtg gtgc tgca gcag cagt agtc gtca tcat cata ataa taaa aaag aagt agtg gtgt tgtg gtgt tgtg gtgt tgtg gtgc tgca gcag cagt agta gtat tatt atta ttac taca acat catt attt tttt tttg ttgt tgtt gttt ttta ttat tatt attc ttct tcta ctag tagc agca gcaa caaa aaaa aaat aata atag tagc agca gcat catt attc ttct tctg ctgt tgtt gttt tttt tttg ttga tgat gatt attc ttcc tcct cctc ctct tctt cttt ttta ttag tagc agct gctg ctga tgaa gaat aata atat tatg atgt tgta gtat tatt attt ttta ttaa taat aata atat tata atat tata atag tagt agta gtat tatg atgc tgcc gcct cctt cttt ttta ttag tagg aggc ggct gctg ctgt tgta gtag tagt agtg gtgt tgtt gttg ttgt tgtc gtct tcta ctaa taaa aaat aatg atga tgaa gaat aatg atgc tgct gcta ctaa taaa aaat aatg atgt tgtg gtgg tgga ggac gaca acag cagt agta gtat tatt atta ttac tacc acca ccat cata ataa taaa aaag aagt agta gtaa taat aatg atga tgat gatc atca tcac cacc acca ccaa caag aagc agcc gcca ccat cata atat tatc atct tctt ctta ttac tacc acca ccac cacc acct cctt cttg ttgt tgtg gtga tgag gagt agta gtat tatt atta ttaa taag aagt agta gtac tact actt cttg ttga tgaa gaat aatc atca tcaa caat aatt attc ttca tcat catt attt tttt tttg ttgt tgtt gttt tttc ttca tcaa caaa aaat aatg atgt tgtg gtgt tgtc gtca tcat catg atgt tgta gtaa taat aatc atca tcaa caaa aaat aata atag tagt agta gtag taga agat gatg atgt tgtt gtta ttaa taaa aaat aatt attt tttt tttt ttta ttat tatc atct tctt ctta ttac taca acag cagt agtc gtca tcag caga agaa gaaa aaat aatg atga tgaa gaag aaga agaa gaag aagc agca gcat catc atct tctg ctga tgaa gaaa aaac aact actg ctgt tgta gtat tatt attt tttc ttcc tcct cctc ctca tcat catg atga tgat gata atat tatg atgc tgcc gcct cctt cttg ttgt tgtt gtta ttaa taaa aaat aatt atta ttat tatt attt ttta ttat tatc atct tctt ctta ttac taca acat catt attt tttt tttt ttta ttaa taat aatt attt tttc ttcc tcct ccta ctaa taat aatc atct tctg ctgt tgta gtaa taat aatt attt ttta ttat tatc atct tcta ctaa taag aagc agcc gccg ccgt cgtc gtct tctc ctct tctc ctct tctg ctgt tgtt gtta ttaa taaa aaag aagt agtt gttg ttgc tgca gcat cata atat tata atat tata atac taca acaa caat aata atat tata atat tata atac tacc accg ccgt cgta gtag tagt agtc gtcc tccc cccc ccct ccta ctat tatt attc ttca tcat catg atgg tggg gggg gggt ggta gtat tatt atta ttat tata atat tatt atta ttaa taaa aaaa aaaa aaat aatg atgt tgtg gtgt tgta gtag tagt agta gtat tatt attt ttta ttat tata atat tata atat tata atat tata atat tata atac tacc acct ccta ctat tata ataa taat aatc atct tctt cttt tttt tttt tttt tttt tttc ttct tcta ctat tata ataa taag aagc agca gcac cact acta ctaa taat aata ataa taaa aaaa aaat aata atag tagg agga ggac gaca acaa caat aatt atta ttat tata ataa taac aaca acaa caaa aaaa aaat aata atac tacc accg ccgt cgta gtaa taat aata ataa taaa aaaa aaag aagt agtt gtta ttat tatg atgt tgtg gtga tgaa gaat aatg atgt tgtt gttg ttgt tgtc gtct tctc ctct tctg ctgc tgcc gcct cctc ctct tctc ctcc tcca ccag cagt agta gtaa taat aatt attt tttt tttt ttta ttat tata atat tatt attt tttt tttt tttc ttca tcag cagt agtc gtcc tcca ccaa caaa aaac aacc acct ccta ctat tatt attc ttct tctt cttg ttga tgaa gaat aatc atct tctg ctgt tgtg gtgt tgta gtaa taac aacc acca ccaa caag aagt agtt gttt tttt tttc ttcg tcgt cgtt gttt ttta ttag tagg aggc ggct gctc ctct tcta ctat tatg atgc tgct gctt cttt tttc ttct tctg ctgg tggc ggcg gcgt cgta gtaa taat aata atat tatg atgt tgta gtag tagc agct gctg ctgt tgtc gtca tcaa caat aatc atca tcaa caaa aaaa aaac aaca acaa caac aacc acct cctg ctga tgac gaca acaa caac aaca acat catt attt tttg ttgc tgca gcag cagt agtt gttt tttg ttga tgag gagg aggt ggtg gtgt tgtg gtga tgac gaca acag cagc agca gcaa caaa aaaa aaac aacc acca ccag cagc agct gctc ctca tcat cata atat tatg atgt tgtc gtct tctt cttt tttc ttct tctc ctcc tcct cctt cttc ttca tcac caca acaa caaa aaag aagt agtc gtcg tcga cgag gaga agaa gaac aact actt cttt tttc ttca tcac cact actg ctgt tgtt gttt tttc ttca tcaa caat aatt atta ttaa taaa aaag aagg agga ggaa gaag aagc agca gcac cact actt cttt ttta ttat tatg atgg tggc ggct gctt cttc ttct tctt cttt tttt tttt tttg ttgg tggc ggca gcat cata atag taga agac gact actt cttg ttga tgaa gaac aaca acac caca acaa caag aagc agca gcac cact actg ctgt tgtg gtgg tggt ggta gtac tacc acca ccac caca acaa caat aata atag tagc agcc gccg ccga cgat gatc atct tctg ctga tgat gata ataa taac aacc acca ccaa caag aaga agac gaca acaa caac aact acta ctac tact acta ctag tagt agtc gtcc tccc ccca ccaa caag aagt agtg gtgg tggg ggga ggat gatg atgg tgga ggag gagc agca gcaa caag aaga agat gatg atgg tggt ggtg gtgc tgca gcaa caag aagt agtt gttt tttt tttt tttt tttt tttt tttt tttc ttct tctc ctcc tcca ccat catt attt tttc ttcc tcca ccat catt attt tttt tttc ttcc tcct cctt ctta ttaa taat aatt attt ttta ttaa taaa aaaa aaac aact actt ctta ttac tact acta ctaa taat aatt attg ttgc tgct gctt ctta ttac tact actt cttc ttct tctg ctgg tgga ggaa gaat aatt attt tttt tttc ttcc tcca ccat catt atta ttaa taaa aaaa aaaa aaat aatt attt tttt tttt tttg ttgg tgga ggac gacc acct ccta ctag tagt agta gtat tata atat tatg atgt tgtg gtgc tgca gcat catt attg ttga tgag gaga agag gagt agtt gttt tttt tttt ttta ttat tata atac tact acta ctag tagt agtg gtga tgat gatt attt tttt ttta ttaa taaa aaac aact acta ctat tata ataa taat aatt attt tttt tttt tttg ttgc tgca gcag caga agaa gaat aatg atgt tgtg gtgg tggt ggtg gtga tgac gaca acag caga agac gaca acag cagt agtg gtga tgaa gaaa aaaa aaac aaca acac caca acaa caaa aaat aatc atca tcaa caaa aaag aaga agag gaga agaa gaag aagc agct gctg ctgc tgca gcaa caag aagt agtc gtca tcat catg atgg tggt ggta gtaa taag aagt agtc gtcc tcct cctc ctct tctg ctgt tgtt gttc ttct tctt cttg ttgc tgct gctc ctct tctg ctgt tgtc gtca tcac cacc accc cccg ccgt cgtg gtga tgat gatc atct tctc ctcg tcgg cggt ggtt gttt ttta ttac tacc accg ccgc cgca gcaa caac aacc acct cctc ctct tctg ctgc tgcc gcct cctc ctcc tccc cccg ccgt cgtg gtgc tgct gctc ctca tcaa caag aagc agcg gcga cgat gatt atta ttat tatt attt tttt tttt ttta ttag tagt agta gtag taga agag gaga agat gatg atgg tggc ggca gcat catt attt tttc ttca tcac cacc acca ccat catg atgt tgtt gttg ttgg tggc ggcc gcca ccag cagg aggc ggct gctg ctgg tggt ggtc gtct tctc ctca tcaa caaa aaat aatg atgg tggt ggtc gtcg tcgt cgtg gtga tgag gagt agtt gttc ttct tctt ctta ttaa taaa aaag aaga agag gaga agaa gaaa aaaa aaat aata atat tata atat tatt atta ttac tacc acct cctt cttt tttc ttcc tcct cctt cttt tttc ttct tctt cttg ttga tgac gact acta ctac tact actg ctga tgaa gaag aagt agta gtag tagt agta gtat tatt attt tttt ttta ttat tatc atct tctc ctca tcag cagg aggt ggtg gtgg tggg ggga ggag gagg agga ggat gatc atcg tcgc cgct gctt ctta ttaa taag aagc agcc gccc ccca ccag cagg aggc ggcg gcgg cggt ggtc gtca tcaa caag aagg aggt ggtt gttg ttgc tgca gcag cagt agtg gtga tgag gagc agct gctg ctgt tgtg gtgt tgtg gtgt tgtg gtgt tgtg gtgc tgcc gcca ccac cact actt cttt tttg ttga tgat gatt attt tttc ttcg tcga cgat gatg atga tgac gaca acag cagt agta gtat tatt attt ttta ttaa taaa aaat aata atac tact actg ctgt tgtg gtgt tgta gtaa taag aaga agac gaca acag cagt agta gtac tact acta ctat tatt attt ttta ttaa taat aata atat tatg atgt tgtg gtgg tggt ggtt gttg ttga tgat gatc atct tctg ctga tgag gagc agct gctt cttt tttt tttt tttt tttt tttt tttt tttt tttt tttc ttct tcta ctaa taat aatt atta ttag taga agaa gaaa aaag aagt agta gtaa taaa aaat aatg atgt tgtg gtgg tggt ggtt gttt ttta ttag taga agat gata atat tata atac tacc acca ccat cata atag tagt agtt gttt ttta ttag tagt agta gtag tagg agga ggat gatt attt tttg ttga tgat gata atat tatc atct tctg ctgt tgtt gttt tttt tttt tttg ttgt tgtc gtct tctg ctgt tgtg gtgt tgtg gtgg tggt ggta gtat tatc atca tcat catg atgt tgta gtac tacg acgt cgta gtat tatg atgt tgta gtat tata atat tatg atgc tgca gcat cata atat tatg atgt tgtg gtgg tggt ggtc gtct tctt ctta ttag taga agaa gaat aata atat tatt attt ttta ttaa taat aatt attg ttgt tgta gtat tata atat tata atat tata atag tagt agta gtaa taag aaga agat gatt atta ttag tagg aggt ggtg gtga tgag gagt agtt gttt tttt ttta ttaa taat aatt attg ttgt tgtg gtgt tgta gtag taga agaa gaac aacc acca ccag cagg aggg gggg ggga ggaa gaat aatc atca tcag cagg aggc ggct gctt cttt ttta ttac tact acta ctag taga agaa gaag aaga agaa gaac aaca acag cagg agga ggag gaga agaa gaag aagg aggg gggg gggt ggtg gtga tgac gact actg ctga tgac gacc accg ccga cgaa gaaa aaaa aaaa aaat aata ataa taaa aaaa aaat aata ataa taac aact actg ctgt tgtt gttt tttc ttct tcta ctat tatg atga tgag gaga agaa gaaa aaag aagg aggt ggtt gttg ttgt tgtg gtga tgag gaga agaa gaat aata ataa taat aata atat tata ataa taaa aaat aatt atta ttat tata atat tatg atgg tggc ggct gctt ctta ttat tata ataa taaa aaaa aaat aata atat tatt atta ttat tata ataa taaa aaat aata atag tagc agct gctg ctgc tgca gcaa caaa aaag aaga agac gacc acca ccac caca acat catt attg ttgg tgga ggaa gaaa aaag aagt agtc gtca tcaa caat aatg atgc tgcc gcca ccaa caaa aaat aatg atgt tgtc gtcc tcct ccta ctag taga agaa gaag aaga agat gatg atga tgaa gaag aagt agta gtat tatg atga tgaa gaac aaca acaa caaa aaaa aaaa aaaa aaat aatc atct tcta ctac taca acaa caaa aaaa aaaa aaag aagt agta gtaa taag aaga agaa gaac aact acta ctag tagc agca gcaa caag aaga agac gact acta ctag tagg agga ggaa gaaa aaaa aaaa aaaa aaaa aaat aatt attt tttt tttc ttcc tcca ccat catg atga tgaa gaag aagc agct gctg ctga tgaa gaag aagt agtg gtgg tgga ggaa gaac aacc acca ccaa caaa aaat aatg atga tgat gata atac tact actg ctga tgat gatc atcc tcca ccat catt atta ttag taga agat gatt attc ttca tcaa caaa aaat aatg atgt tgta gtag tagc agca gcaa caaa aaat aatc atca tcag caga agaa gaag aagc agcc gccc ccct cctc ctct tctc ctca tcaa caac aact acta ctaa taac aacc accc ccct cctt cttt tttc ttca tcag cagg aggt ggtc gtct tcta ctaa taaa aaat aatg atgg tgga ggag gagc agcc gccc ccca ccag caga agat gatg atgg tgga ggag gaga agaa gaaa aaaa aaat aata atac tacc accc cccc ccct ccta ctat tatt attg ttgc tgca gcat cata ataa taag aaga agaa gaaa aaag aaga agat gatt attt tttt tttc ttct tctt ctta ttac tact actt cttc ttca tcag caga agag gaga agaa gaat aatt attc ttct tctt cttt tttg ttgc tgcc gcca ccac cacg acgt cgta gtat tatt attt tttc ttct tcta ctag tagc agcc gcct ccta ctac tacc acca ccaa caaa aaaa aaat aatc atca tcag cagc agct gctc ctca tcat cata atac taca acag caga agac gact actg ctgc tgca gcat catt attc ttct tctt cttg ttgc tgca gcag cagt agta gtaa taaa aaag aagc agca gcag cagg aggc ggca gcaa caat aata atat tatc atct tctg ctgg tgga ggaa gaac aact actt cttc ttct tctc ctcc tcca ccag cagt agtg gtgg tggc ggct gctt cttt tttc ttca tcaa caat aatg atgc tgca gcaa caag aagt agtt gttt tttt tttt tttc ttca tcag cagg aggt ggtc gtca tcat cata atat tatg atga tgac gact actg ctga tgat gatc atcc tcca ccaa caaa aaac aact actt cttt ttta ttaa taaa aaaa aaaa aaaa aaag aaga agaa gaaa aaac aact actg ctga tgaa gaag aagc agcc gcct ccta ctat tatt attt ttta ttaa taat aatt attg ttga tgat gata ataa taat aatg atgg tgga ggaa gaag aagc agct gctg ctgg tggc ggcc gcca ccag cagc agcc gcca ccac cacc acca ccac cacc acca ccac caca acac caca acag caga agaa gaat aatt attc ttct tctg ctgt tgta gtag tagc agct gctt cttt tttg ttga tgaa gaag aaga agaa gaat aatg atga tgaa gaaa aaac aaca acat catc atct tctt ctta ttat tata ataa taaa aaag aagg agga ggaa gaaa aaaa aaaa aaaa aaaa aaaa'"
      ]
     },
     "execution_count": 56,
     "metadata": {},
     "output_type": "execute_result"
    }
   ],
   "source": [
    "df_texts[0]"
   ]
  },
  {
   "cell_type": "code",
   "execution_count": 57,
   "metadata": {},
   "outputs": [
    {
     "data": {
      "text/plain": [
       "'gggc ggct gctt cttg ttgt tgtg gtgg tggc ggcg gcgc cgcg gcga cgag gagc agct gctt cttc ttct tctg ctga tgaa gaaa aaac aact acta ctag tagg aggc ggcg gcgg cggc ggca gcag caga agag gagg aggc ggcg gcgg cgga ggag gagc agcc gccg ccgc cgct gctg ctgt tgtg gtgg tggc ggca gcac cact actg ctgc tgct gcta ctag tagg aggg gggg ggga ggac gaca acag caga agat gatt attt tttg ttgt tgtg gtga tgac gacc accg ccgg cggc ggcg gcgc cgcg gcgg cggt ggtt gttt tttt tttt tttg ttgt tgtc gtca tcag cagc agct gctt ctta ttac tact actc ctcc tccg ccgg cggc ggcc gcca ccaa caaa aaaa aaaa aaaa aaag aaga agaa gaac aact actg ctgc tgcc gccc ccca ccag cagt agtc gtcc tcca ccag cagc agcg gcgt cgtg gtgg tggc ggcg gcgg cggg gggg gggg ggga ggag gagc agcg gcgc cgcc gcct cctc ctca tcac cacg acgc cgcc gccc cccc cccg ccgg cggg gggt ggtc gtcg tcgc cgct gctg ctgc tgcc gccg ccgc cgcg gcgg cggc ggct gctt cttc ttct tctt cttg ttgc tgcc gcct cctt cttt tttc ttcg tcgc cgcc gcca ccaa caag aagc agca gcaa caaa aaat aatt attc ttcg tcga cgag gagc agcc gccc cccc cccg ccgc cgcc gccc cccc ccct cctt cttc ttcc tccc ccct cctg ctgg tggg gggt ggtc gtct tctc ctcc tcca ccat catt attt tttc ttcc tccc cccg ccgc cgcc gcct cctc ctcc tccg ccgg cggc ggcc gccc cccg ccgc cgcc gcca ccat catc atct tctg ctga tgaa gaaa aaat aatt attt tttc ttct tctt cttg ttgg tgga ggaa gaaa aaac aaca acac cacg acga cgat gatc atca tcac cact actt cttt ttta ttaa taac aacg acgg cgga ggaa gaat aata atat tatt attg ttgc tgct gctg ctgt tgtt gttt tttt tttg ttgg tggg gggg ggga ggaa gaaa aaat aatt attc ttcc tccg ccga cgaa gaag aaga agac gaca acat catg atgc tgct gctg ctga tgat gatg atgg tggg ggga ggaa gaat aatt atta ttac tacc acca ccag cagg aggc ggcg gcgg cggc ggcg gcgt cgtt gttg ttgg tggt ggtc gtct tctc ctct tcta ctaa taac aact actg ctgg tgga ggag gagc agcc gccc ccct cctc ctct tctc ctct tctt cttc ttct tctc ctct tcta ctag tagt agtc gtcg tcgc cgca gcac cact acta ctag tagc agcc gcca ccac cacg acgt cgtt gttt tttc ttcg tcga cgag gagt agtg gtgc tgct gctt ctta ttaa taat aatg atgt tgtg gtgg tggc ggct gcta ctag tagt agtg gtgg tggc ggca gcac cacc accg ccgg cggt ggtt gttt tttg ttgg tggg ggga ggac gact actg ctga tgaa gaat aatt atta ttag taga agaa gaat aatt attc ttca tcaa caaa aaac aaca acaa caaa aaat aatt attt tttt tttc ttcc tcca ccag cagc agcg gcgc cgct gctt cttc ttct tctg ctga tgag gagt agtt gttt tttt ttta ttac tacc acct cctc ctca tcag cagt agtc gtca tcac caca acat cata ataa taaa aaag aagc agca gcat catt attg ttgg tgga ggag gagg agga ggaa gaat aata atat tatc atcg tcgt cgta gtag tagg aggt ggta gtaa taaa aaaa aaaa aaat aatg atgc tgcc gcct ccta ctat tatt attg ttgg tgga ggat gatc atcc tcca ccaa caaa aaag aaga agag gaga agag gagg aggc ggcc gcca ccaa caac aaca acat catt attt tttt ttta ttaa taaa aaat aatt atta ttac taca acac cacc accg ccga cgag gaga agaa gaaa aaag aagt agtg gtgt tgtt gttt tttt tttc ttct tcta ctaa taaa aaaa aaaa aaaa aaat aatg atgc tgct gctt cttg ttgc tgct gcta ctaa taaa aaaa aaaa aaac aacc accc ccca ccag cagt agta gtac tacg acgt cgtc gtca tcac caca acag caga agat gatc atcg tcgt cgtt gttt tttg ttgc tgca gcag cagg aggt ggtt gtta ttaa taac aacc acca ccac caca acat catg atga tgat gata ataa taaa aaat aata atat tata atag taga agaa gaac aacg acgt cgtc gtct tcta ctag tagt agtg gtgg tgga ggat gata ataa taaa aaag aaga agag gagg agga ggaa gaaa aaac aact actg ctgg tggg gggc ggca gcag caga agaa gaag aagt agtt gttg ttgt tgtc gtcc tcca ccaa caac aact actt cttt tttt tttt tttg ttgg tggt ggtt gttt tttc ttca tcag cagt agta gtac tact actc ctcc tcct cctt ctta ttat tata atac tact actc ctct tctt ctta ttaa taaa aaaa aaaa aaat aatg atga tgat gatc atct tcta ctag tagg agga ggaa gaag aagg aggc ggct gctg ctgg tggg gggc ggcg gcgt cgtg gtgg tggt ggtg gtgg tggc ggct gctc ctca tcac cacg acgc cgcc gcct cctg ctgt tgta gtaa taat aatc atcc tccc ccca ccag cagc agca gcac cact actt cttt tttg ttgg tggg ggga ggag gagg aggc ggcc gccg ccga cgag gagg aggt ggtg gtgg tggg gggc ggcg gcgc cgct gcta ctaa taaa aaaa aaaa aaat aata atac taca acaa caaa aaaa aaaa aaaa aaat aatg atgt tgtg gtgc tgct gctg ctgc tgcg gcgt cgtg gtgt tgtg gtgg tggt ggtg gtgg tggt ggtg gtgc tgcg gcgt cgtg gtgc tgcc gcct cctg ctgt tgta gtaa taat aatc atcc tccc ccca ccag cagc agct gcta ctac taca acac cacg acgg cgga ggat gatg atgc tgcc gcca ccac cact actg ctgc tgca gcac cact actc ctct tcta ctag tagc agcc gcct cctg ctgg tggg gggc ggcc gcca ccac caca acat cata atag tagc agca gcat catg atga tgac gact actc ctct tctg ctgt tgtc gtct tctc ctca tcaa caaa aaaa aaac aaca acaa caaa aaac aaca acaa caaa aaac aaca acaa caat aata atat tatt atta ttat tatc atca tcac caca acaa caac aaca acat catt attc ttct tctt ctta ttag tagg agga ggaa gaaa aaaa aaaa aaat aata ataa taac aact actt cttt tttt tttt tttg ttga tgaa gaaa aaaa aaac aaca acaa caag aagt agtg gtga tgag gagt agtg gtgg tgga ggaa gaat aata atag tagt agtt gttt tttt tttg ttgt tgtg gtgt tgtc gtct tcta ctaa taat aatc atct tctg ctgt tgtt gtta ttat tatt attt tttt tttg ttgg tggt ggta gtag taga agaa gaag aagt agta gtat tatg atgt tgtg gtga tgaa gaaa aaaa aaaa aaaa aaaa aaaa aaat aatt atta ttaa taac aacc acct cctc ctca tcac cacg acgt cgtt gttg ttga tgaa gaaa aaaa aaaa aaat aatt attt tttt tttc ttca tcaa caaa aaag aaga agat gatc atct tcta ctaa taat aata atag taga agat gata atat tata atac tacc acca ccat cata atag tagg aggt ggtc gtct tctt cttt tttc ttcc tccc ccca ccat catg atgt tgtc gtcg tcgc cgca gcaa caac aaca acat catc atca tcat catg atgc tgca gcag cagt agtg gtga tgat gatt atta ttaa taaa aaac aact acta ctat tatt attt tttt ttta ttaa taaa aaaa aaaa aaat aatc atct tctc ctca tcat catt attc ttca tcat catt atta ttaa taat aata atac tacc acca ccac cacc acca ccat catg atgg tgga ggat gatg atgt tgtc gtca tcag caga agaa gaaa aaaa aaag aagt agtc gtct tctt cttt tttt ttta ttac taca acat catt attg ttga tgac gaca acaa caac aaca acaa caaa aaac aact actg ctgt tgtt gttt tttt tttc ttcc tcct cctt cttg ttgc tgca gcag cagc agca gcaa caac aaca acaa caag aaga agat gatc atca tcac cact actt cttc ttca tcat catt attg ttga tgat gatt attt tttg ttgt tgtg gtga tgag gaga agaa gaaa aaaa aaac aact actt cttt tttt tttc ttca tcat catt attg ttga tgaa gaaa aaaa aaaa aaaa aaat aatt attg ttgc tgct gctt cttg ttgt tgtt gttc ttca tcag caga agat gatc atca tcac caca acag cagc agct gctc ctca tcaa caac aaca acat catg atga tgag gagt agtg gtgc tgct gctt cttt tttt tttc ttct tcta ctag tagg aggc ggca gcat cata ataa taaa aaaa aaag aaga agaa gaag aagt agtg gtgc tgct gcta ctaa taaa aaag aagc agca gcat catt attg ttga tgag gagc agct gctt cttc ttcg tcga cgaa gaaa aaat aatt atta ttaa taat aatt attt tttt tttt ttta ttac tact actg ctgc tgct gctt cttc ttca tcat catt atta ttag tagg agga ggac gaca acat catt atta ttaa taat aata atat tata ataa taat aatg atgg tggc ggct gcta ctac tact acta ctag tagt agta gtat tatt atta ttag tagt agtt gttt tttg ttgg tggt ggtg gtgc tgcc gcca ccac cact actg ctgc tgcc gcca ccat cata ataa taac aact actc ctca tcat catg atgc tgca gcaa caaa aaat aatg atgt tgtg gtgc tgcc gcca ccag caga agaa gaaa aaat aatg atga tgat gatt attc ttcc tcca ccat cata atag tagc agcg gcgt cgtt gtta ttat tatt atta ttat tatg atga tgaa gaaa aaag aagt agta gtag tagt agtt gttt tttt tttg ttga tgaa gaac aact actg ctgt tgta gtaa taat aatg atgg tggt ggta gtag taga agag gagg agga ggat gatg atga tgaa gaat aata atac taca acac caca acat catg atgt tgtt gttc ttcc tcct cctc ctca tcat cata atac tacc accc ccca ccat cata atag tagt agtt gttt tttg ttgc tgcc gcca ccac caca acat catc atct tctt cttg ttga tgag gagt agta gtac tact actc ctct tctt cttc ttca tcag caga agaa gaat aatt atta ttat tatt attt tttg ttga tgaa gaat aatc atct tctc ctct tctg ctgt tgtt gttg ttgc tgcc gccc ccca ccag cagg aggc ggct gctg ctgg tgga ggaa gaat aatg atgc tgca gcag cagt agtg gtgg tggc ggcg gcgt cgtg gtga tgat gatc atct tctc ctcg tcgg cggc ggct gctc ctca tcac cact actg ctgc tgca gcaa caac aacc acca ccac cacc accg ccgc cgcc gcct cctc ctcc tcca ccac cacc acca ccat catg atgc tgct gctt cttg ttgg tggc ggct gcta ctaa taat aatt attt tttt tttt tttt tttg ttgt tgtg gtgt tgtt gttt tttt tttt ttta ttag tagt agta gtaa taaa aaag aaga agat gatg atgg tggg gggg gggt ggtt gttt tttc ttca tcaa caac aacg acgt cgtg gtgt tgtt gtta ttag tagc agca gcaa caag aaga agag gagg aggc ggcg gcgt cgtg gtga tgag gagc agcc gccc cccc cccc cccg ccgc cgca gcac cacc acct cctg ctgg tggc ggcc gccg ccga cgaa gaat aatt attt tttt ttta ttat tatc atcg tcgt cgtg gtgg tgga ggaa gaat aatg atgt tgta gtat tatt attc ttct tctt ctta ttaa taat aatg atgt tgtg gtga tgaa gaat aata atag tagt agta gtaa taat aata atat tata atat tata atac taca acag cagc agct gctt cttt tttt ttta ttaa taat aata ataa taat aata atat tata atag tagt agtt gtta ttaa taaa aaat aatg atgc tgcc gcca ccat catc atct tctt cttg ttgt tgta gtaa taac aact actt cttt tttt tttg ttgt tgtg gtga tgaa gaac aact actc ctct tctt cttc ttct tctt ctta ttaa taac aaca acaa caaa aaaa aaag aagt agta gtaa taat aatc atcc tcca ccat cata atag tagt agtc gtca tcaa caag aaga agat gatc atct tctt ctta ttaa taag aagc agca gcat catt attt tttt tttt tttt tttt tttc ttcc tcct cctt ctta ttat tatg atga tgat gatc atct tctt cttt ttta ttaa taac aact actt ctta ttag taga agat gatt attt ttta ttag tagg agga ggac gacc acca ccaa caat aata ataa taag aagt agtc gtct tctt ctta ttaa taat aatt attg ttgg tggt ggtt gttt tttg ttga tgaa gaag aaga agaa gaac aact actt cttt tttc ttct tctt cttc ttca tcag caga agaa gaag aagc agct gctc ctcc tcca ccac cacc accc ccct cctt cttt ttta ttaa taaa aaaa aaac aact actc ctcc tcca ccac caca acaa caaa aaag aagg agga ggaa gaaa aaac aacc acca ccat catc atct tctt ctta ttat tata ataa taat aatc atca tcag cagc agct gctg ctgg tggc ggct gctt cttc ttca tcaa caac aact actc ctcc tcca ccaa caat aata ataa taat aata atat tatt attc ttca tcaa caaa aaat aatt atta ttag taga agac gact actt ctta ttag tagg aggt ggta gtaa taag aagt agta gtaa taat aatg atgc tgca gcaa caat aata atat tatg atgg tggt ggta gtag taga agac gact actg ctgg tggg gggg ggga ggag gaga agaa gaac aact acta ctac taca acaa caaa aaac aact acta ctag tagg agga ggaa gaat aatt attg ttgt tgtc gtct tctc ctct tctc ctct tctg ctgg tggc ggcc gcct cctc ctct tctt cttt tttt tttt tttc ttcc tcct cctc ctca tcac cact actc ctcg tcga cgaa gaaa aaaa aaaa aaat aatg atgg tgga ggag gaga agac gacg acga cgat gatg atga tgaa gaaa aaaa aaat aata ataa taat aatg atgt tgtc gtct tctc ctca tcat cata atag taga agat gata ataa taaa aaat aatt attt tttg ttgc tgcc gcca ccaa caac aact actg ctga tgag gaga agat gatt attt tttg ttgc tgct gctg ctga tgaa gaat aatt atta ttac tacg acgt cgtc gtct tctt cttt tttc ttct tctt ctta ttat tatg atgc tgcc gcca ccaa caaa aaaa aaaa aaaa aaaa aaac aacc acct ccta ctag tagg agga ggat gatt atta ttat tatt attt tttt ttta ttac tacc accg ccga cgat gata atat tata atac tact acta ctat tata ataa taag aagt agta gtat tatc atca tcat catg atga tgat gatt attt tttg ttgg tgga ggaa gaag aagg agga ggag gagt agtt gttt tttc ttcc tccc ccct cctg ctgg tggc ggcg gcgt cgta gtag tagg aggt ggtg gtga tgac gacc acct ccta ctac tact actt cttg ttga tgac gaca acat cata ataa taag aagt agta gtaa taat aatg atga tgaa gaac aact actt cttt tttc ttcc tccc ccct cctt cttt tttt tttc ttct tctt cttc ttca tcag caga agag gagt agtg gtgt tgtt gtta ttaa taat aatc atct tctc ctct tcta ctag tagt agta gtaa taag aagg agga ggaa gaaa aaaa aaat aata atat tata ataa taaa aaaa aaaa aaaa aaag aagt agta gtat tata ataa taat aatg atga tgag gaga agag gagt agtt gttg ttga tgag gaga agaa gaag aaga agaa gaaa aaag aaga agag gagc agca gcaa caaa aaat aata atag tagt agta gtat tatt attg ttgg tggg gggc ggca gcaa caaa aaag aagt agtt gtta ttat tatg atgt tgtg gtgg tggt ggta gtag taga agag gagt agtg gtga tgat gata ataa taat aatg atgt tgtt gttc ttct tcta ctag tagg aggc ggca gcag caga agag gagg aggg ggga ggaa gaac aaca acaa caac aaca acat catg atga tgag gagg agga ggaa gaag aaga agaa gaat aata atat tatg atgt tgta gtag tagt agtg gtgt tgta gtat tata atag taga agac gaca acaa caag aagg aggc ggca gcaa caaa aaaa aaaa aaag aagg aggc ggca gcag caga agac gact acta ctaa taaa aaag aagg aggc ggca gcag cagg aggc ggca gcat catt attg ttga tgaa gaat aatg atgc tgcc gcca ccaa caag aagc agct gcta ctaa taaa aaag aaga agaa gaaa aaat aatt attg ttga tgag gagt agtg gtgt tgtc gtca tcaa caaa aaac aacc acct cctt ctta ttag taga agat gatc atca tcac cacc acct cctc ctcc tccc ccct cctt cttt tttg ttgt tgtc gtcc tcct cctt ctta ttat tata atag tagc agca gcaa caaa aaaa aaat aatc atct tcta ctaa taaa aaac aact actt cttg ttga tgat gata atat tatg atgg tggc ggct gctt cttc ttcc tcct cctc ctct tctc ctca tcac cacc acct ccta ctat tatc atct tctt cttc ttca tcat catt attt tttg ttgc tgcc gcca ccat catt attc ttca tcat catt attc ttcc tcct ccta ctac tact actg ctga tgaa gaat aatt attt tttc ttct tctt cttt tttt tttc ttcg tcgt cgtt gtta ttac tacc acca ccaa caaa aaaa aaac aacc accc cccc ccct ccta ctac tact actt cttt tttt tttt tttg ttgt tgtc gtct tcta ctag tagc agct gcta ctaa taat aatt attt tttg ttgc tgcg gcgt cgtg gtgc tgct gctc ctcg tcgt cgtc gtct tctt cttt tttc ttca tcag caga agat gatc atct tctt cttg ttgg tggc ggct gctt ctta ttat tatt attt tttc ttct tctg ctgc tgct gcta ctaa taat aatt atta ttat tata atag tagt agtg gtgt tgtg gtga tgat gata atac taca acat catg atgc tgct gctt cttt tttg ttga tgaa gaaa aaag aaga agaa gaaa aaat aatt attc ttca tcat catg atgg tggc ggct gcta ctat tata atag tagg aggg ggga ggag gagt agtg gtgc tgca gcat cata atat tata atac taca acaa caaa aaat aata atag tagg agga ggat gatt attc ttca tcag cagt agta gtaa taaa aaat aata atat tatt attt tttg ttgt tgta gtag taga agag gagt agtg gtga tgag gagt agta gtat tatt atta ttag tagt agta gtat tatt atta ttat tatt attt tttg ttgc tgct gctt cttt ttta ttag taga agaa gaaa aaag aagc agcc gcct ccta ctaa taat aatt attc ttct tctt cttc ttct tcta ctag taga agac gact actg ctgc tgct gctc ctca tcat catt attg ttga tgaa gaaa aaag aagg agga ggac gaca acag caga agat gatt attc ttcc tcca ccag cagg aggc ggcc gccc cccc ccca ccac cact actc ctct tctg ctga tgaa gaat aatc atct tctc ctct tctt ctta ttaa taat aatt attt ttta ttaa taaa aaaa aaag aaga agag gaga agaa gaaa aaaa aaac aact actg ctgg tgga ggag gagg aggt ggta gtag tagg agga ggaa gaag aaga agat gatc atca tcag cagt agtt gtta ttag tagg aggg gggg ggga ggat gatg atgt tgtg gtgt tgta gtaa taat aatg atgg tggt ggtc gtct tcta ctag tagg aggt ggtg gtga tgat gata atag taga agaa gaac aacc acct cctt cttg ttgc tgca gcag cagt agta gtag tagt agtc gtct tcta ctag taga agat gata atat tatg atgg tgga ggag gagg agga ggat gatt attc ttca tcaa caaa aaaa aaaa aaaa aaaa aaag aagg agga ggaa gaac aaca acaa caaa aaat aatg atga tgac gaca acag cagg aggg gggc ggca gcaa caaa aaag aagc agca gcat cata atac tact actt ctta ttag tagt agtg gtgc tgct gctt ctta ttac tact actt cttg ttgt tgtg gtgt tgtc gtct tctg ctgg tggc ggca gcaa caac aacc acct cctg ctgc tgct gctc ctcg tcgg cggc ggca gcat catt atta ttaa taag aagg agga ggat gata atac taca acaa caaa aaat aata atat tatg atga tgaa gaat aata ataa taat aatg atgc tgct gctt cttc ttcc tcca ccat cata ataa taaa aaaa aaaa aaat aata ataa taaa aaat aata atac taca acac cact acta ctag tagt agtg gtgt tgtg gtga tgat gata atat tatg atgt tgtt gtta ttat tata ataa taag aaga agag gagc agca gcat catg atgt tgta gtac tacc acca ccaa caag aagt agtg gtgc tgca gcat cata atat tatc atct tctt cttg ttga tgaa gaaa aaag aaga agat gata atat tata atac tacc acct ccta ctaa taag aagg aggt ggtc gtca tcaa caaa aaat aatg atgg tggt ggtt gtta ttaa taat aatt attc ttct tctt cttt ttta ttaa taat aatc atca tcat cata ataa taac aacc acct cctg ctgc tgct gcta ctag taga agaa gaat aatt attg ttgg tgga ggag gagt agtt gtta ttaa taac aact actt cttt tttt tttt tttg ttga tgaa gaag aagg aggc ggct gctg ctgt tgta gtaa taat aata atac taca acat cata ataa taaa aaat aatc atct tctg ctgc tgct gctg ctga tgac gact acta ctag tagt agtc gtct tctc ctct tctt cttg ttga tgag gaga agac gacc acct cctt cttt tttt tttt tttt tttt tttt tttc ttca tcaa caac aacc acct cctg ctgt tgtt gttt tttt tttg ttgt tgtt gttc ttca tcag cagt agtt gttc ttct tcta ctaa taac aaca acat catg atgt tgta gtaa taat aata atat tatt attt tttt tttt tttt ttta ttaa taaa aaaa aaaa aaaa aaat aatt atta ttat tatt attc ttcc tcct ccta ctaa taaa aaat aata atag tagg aggc ggca gcat catt attt tttc ttct tctg ctgt tgtt gtta ttac tacc acca ccat catt attc ttct tctt cttc ttca tcag cagc agct gctt ctta ttat tatt atta ttaa taat aatg atga tgag gaga agat gatc atcc tcct cctc ctca tcag cagg aggt ggtt gtta ttat tatt attt tttg ttgg tggg ggga ggaa gaaa aaat aata atag tagc agcc gccg ccga cgag gagt agtt gttt tttc ttct tctt cttt tttt tttc ttca tcat catt attg ttgc tgct gctg ctga tgaa gaac aact acta ctaa taaa aaaa aaat aatg atgg tgga ggat gatg atgt tgtg gtgt tgtt gtta ttat tatt atta ttat tatt atta ttag tagc agct gctg ctga tgaa gaac aact actc ctcc tcct cctt cttc ttcg tcgt cgta gtat tata atat tatc atct tctg ctgc tgcc gcca ccat catt atta ttat tatg atgg tggc ggca gcat catt atta ttat tata atac taca acag caga agaa gaat aata ataa taat aatt attt tttt tttg ttgc tgct gctg ctgc tgcc gccc ccct ccta ctaa taaa aaaa aaaa aaat aatc atct tctc ctcc tccc cccg ccga cgag gagc agct gctg ctgt tgta gtat tata atag tagt agtt gttt tttt tttg ttgc tgcc gcct cctt cttt tttt tttc ttcc tcca ccag caga agaa gaat aatg atgt tgtc gtca tcat catg atgt tgta gtag tagt agtt gttg ttgg tgga ggaa gaat aatc atca tcat cata atac taca acag caga agaa gaat aata atat tata atag tagc agca gcat catt atta ttac tacc accc ccca ccag cagc agcg gcgg cggc ggca gcac cact acta ctag taga agag gagg agga ggaa gaat aatt atta ttaa taaa aaag aagg aggc ggca gcac caca acac caca acag caga agaa gaaa aaat aata atat tata atag tagc agcg gcgg cggt ggtg gtgt tgtg gtgg tgga ggag gagt agtg gtgg tggg ggga ggaa gaaa aaat aatg atga tgat gatt atta ttaa taac aact actg ctga tgaa gaaa aaag aagt agta gtat tatt attc ttcc tcct cctt ctta ttag tagg aggg gggg ggga ggaa gaaa aaat aata ataa taaa aaag aagg aggg gggc ggct gctg ctgg tggg gggc ggcc gccg ccga cgaa gaag aagt agta gtaa taaa aaag aagg aggg ggga ggat gatg atgg tggg gggt ggtt gttg ttgg tggt ggtt gttt ttta ttaa taag aaga agaa gaac aacg acgc cgcc gcct cctt cttt ttta ttaa taag aagc agcg gcgg cggt ggtt gttt tttt tttc ttct tctg ctgc tgcc gccc cccc cccg ccgg cggg gggt ggtg gtgg tggg gggc ggcc gcca ccag cagg aggt ggtg gtgt tgtt gttc ttcc tcct cctt cttg ttgc tgcc gccc ccct cctg ctgt tgtg gtgc tgct gctg ctgc tgca gcag caga agag gaga agat gatt attt tttt tttg ttgt tgtt gttt ttta ttat tatg atgg tggc ggcc gcca ccag cagt agtt gttt tttt tttg ttgg tggg gggg gggc ggcc gcca ccag cagt agtt gttc ttcc tccc ccca ccaa caac aaca acag cagc agca gcaa caat aata atat tatg atgt tgtg gtgt tgtt gtta ttac tacc acca ccac caca acag cagc agct gctt cttg ttgt tgtt gttt ttta ttat tatc atcc tcca ccat catt attc ttca tcat catc atct tcta ctat tatt attg ttga tgaa gaag aagg agga ggac gaca acat catc atct tctt cttg ttga tgat gatt attg ttgc tgct gctt cttc ttcc tcca ccaa caaa aaat aatt attt tttt tttg ttgc tgca gcaa caac aact actc ctca tcat catt attt tttt tttg ttgg tggt ggtt gttc ttca tcac caca acac cacc acca ccaa caaa aaag aaga agag gagc agca gcac cacg acga cgat gatt attg ttgt tgtg gtgg tggg ggga ggat gatc atca tcat cata atat tata atag tagt agta gtaa taag aaga agag gagt agta gtat tatg atgt tgtt gttc ttca tcag cagc agca gcag cagt agtg gtga tgaa gaat aatg atga tgag gaga agag gagt agtt gttc ttct tctt cttg ttgt tgtt gttg ttgc tgct gctc ctca tcac caca acat catc atcc tcct cctc ctca tcac cacc acca ccag cagc agca gcat catt attt tttg ttgg tggt ggtg gtgt tgtg gtgt tgtc gtca tcag cagt agtg gtgt tgtt gttt tttt tttt tttt tttt tttt tttt tttt tttt tttt tttt tttt tttt tttt tttt tttt tttg ttgg tgga ggag gaga agat gatg atga tgaa gaaa aaat aatc atct tctc ctcg tcgc cgct gctt cttt tttg ttgt tgtc gtcg tcgc cgcc gccc ccca ccag cagg aggc ggct gctg ctgg tgga ggag gagt agtg gtgc tgca gcag cagt agtg gtgg tggc ggct gctc ctcc tcct cctg ctga tgag gagt agta gtag tagc agct gctg ctgg tggg ggga ggac gact acta ctac taca acag cagg aggc ggca gcac cacc accc cccg ccgc cgcc gcca ccac cacc acca ccac caca acac cacc acct cctg ctgg tggc ggct gctg ctga tgat gatt attt tttt tttt tttt tttt tttg ttgt tgta gtat tatt attt tttt tttc ttcc tccg ccgc cgct gctc ctcg tcgc cgcc gcct cctc ctcg tcgg cggc ggcc gcct cctc ctcc tccc ccca ccaa caaa aaag aagt agtg gtgc tgct gctg ctgg tggg ggga ggat gatt atta ttac taca acag cagg aggc ggcg gcgt cgtg gtga tgag gagc agcc gcca ccat catc atca tcat catg atgc tgcc gccc cccg ccgg cggc ggcc gcct ccta ctaa taaa aaaa aaaa aaat aatc atct tctc ctca tcat catt atta ttag taga agag gaga agaa gaag aagg agga ggag gagg aggt ggtt gttg ttgg tgga ggat gata atat tatt attt tttt tttg ttgt tgtt gttg ttga tgaa gaag aagt agtg gtgg tggg gggg gggt ggtt gttt tttt tttt ttta ttaa taag aagt agtt gtta ttac taca acac caca acat catg atga tgag gaga agac gaca acat catt attt tttt ttta ttat tatt attt ttta ttag tagg aggc ggct gctg ctgc tgct gcta ctac taca acaa caaa aaac aaca acag cagt agtt gttt tttt ttta ttaa taaa aaat aatt attt tttg ttgg tggt ggtc gtct tctt cttc ttca tcac cact actt cttt ttta ttat tatt attt tttt ttta ttaa taag aagc agca gcaa caac aact acta ctat tatt attt tttt tttc ttct tcta ctaa taag aaga agag gagt agta gtaa taat aata ataa taat aata ataa taag aagt agtg gtga tgac gact actc ctca tcag cagg aggt ggtg gtgc tgcc gcca ccaa caaa aaat aatt attt tttg ttgt tgta gtag tagt agtt gtta ttac tacc acca ccat catc atca tcac caca acag caga agaa gaaa aaaa aaat aata atag taga agaa gaaa aaat aata atat tatt attg ttga tgaa gaaa aaaa aaaa aaac aact actg ctgt tgta gtaa taaa aaat aatt attg ttgg tgga ggat gatt attt tttc ttca tcat cata atat tatt attg ttgt tgtt gtta ttaa taaa aaag aagc agcc gcca ccac cacc acct ccta ctat tata atat tatt atta ttat tatg atgt tgta gtat tatt atta ttac tact actg ctgt tgtc gtct tctg ctgc tgca gcaa caac aact actc ctca tcac cact actt cttt tttg ttgt tgtc gtct tcta ctaa taat aatt atta ttat tata atat tatc atcc tcca ccaa caat aatt attt ttta ttat tatt attc ttca tcat catc atcc tcca ccag cagt agtc gtca tcaa caat aata ataa taag aaga agac gaca acaa caaa aaaa aaat aatc atct tctc ctct tcta ctac tacc acct cctc ctca tcag caga agat gatt attg ttgc tgct gctc ctca tcac caca acag cagc agcc gcct ccta ctag tagt agta gtag tagg aggg gggg gggg ggga ggaa gaaa aaaa aaaa aaag aaga agaa gaac aaca acag cagt agtg gtgc tgca gcac cact acta ctac taca acag cagt agtt gttt tttt tttc ttct tctg ctgg tgga ggag gagg agga ggag gagg aggt ggta gtag tagt agtt gttt tttc ttct tcta ctaa taaa aaat aatg atgg tgga ggaa gaag aagc agcc gcct cctg ctga tgaa gaaa aaag aaga agag gagt agtt gttg ttgt tgtt gttc ttcc tcca ccag cagg aggt ggtc gtct tctt cttt tttc ttca tcag cagg agga ggat gata atat tatg atgc tgca gcaa caaa aaat aatg atgg tggt ggtt gttg ttgg tggg gggt ggta gtat tatg atgg tggg gggt ggta gtaa taaa aaaa aaaa aaag aagt agta gtag taga agac gact actg ctgt tgta gtaa taaa aaaa aaag aaga agaa gaat aatg atgg tggc ggca gcat catc atca tcaa caaa aaaa aaat aatg atga tgaa gaag aaga agaa gaaa aaat aatt atta ttaa taag aagt agta gtaa taaa aaat aatt attg ttgt tgtg gtga tgaa gaaa aaag aagg aggc ggcc gcct cctt cttc ttca tcat cata atac tact acta ctat tatg atgg tgga ggag gagt agtt gttt tttg ttga tgac gact actt cttg ttga tgat gatc atct tctg ctgt tgta gtag tagg aggt ggtt gttt tttt tttc ttca tcag cagt agta gtaa taaa aaat aatg atgt tgtc gtct tctt cttc ttcc tccc ccct cctt ctta ttac tact actc ctcc tcct cctt cttt tttt tttt tttt tttc ttct tctc ctct tctt cttt tttc ttcc tcct cctt cttc ttct tctg ctgc tgct gctt cttt tttt tttg ttgt tgtt gttt tttg ttgc tgct gctc ctcc tcct cctg ctgg tggg gggc ggct gctc ctca tcaa caag aagt agtg gtga tgat gatc atcc tcct cctc ctcc tccc cccg ccgc cgcc gcct cctc ctca tcag cagc agcc gcct cctc ctct tctc ctca tcaa caag aagt agta gtag tagc agct gcta ctag tagg agga ggac gact acta ctac taca acag cagg aggc ggca gcat catt attt tttg ttga tgaa gaac aact actc ctcc tcct cctg ctgc tgcc gcct cctc ctca tcaa caag aagc agca gcaa caat aatc atcc tcct cctc ctcc tccc ccca ccac cacc acct cctc ctca tcag cagc agcc gcct cctc ctcc tccc ccca ccag caga agag gagc agcc gccc ccct cctc ctca tcaa caaa aaat aatt atta ttat tata ataa taag aagc agca gcaa caac aact actc ctcc tccc ccct ccta ctat tata atac taca acat catt attc ttct tctc ctca tcat catt attc ttcc tccc ccca ccag cagt agta gtat tata atag taga agag gagg agga ggag gaga agac gact actt cttt tttt tttt tttg ttgt tgtt gttt tttt tttt ttta ttaa taaa aaac aaca acac cact actt cttc ttcc tcca ccag cagg agga ggaa gaag aagg agga ggaa gaat aatg atgt tgtt gttc ttcc tccc ccca ccaa caat aata atag tagt agta gtag taga agac gaca acat cata ataa taaa aaaa aaag aagt agtc gtct tctt cttc ttcg tcgc cgca gcac caca acag cagt agtg gtga tgaa gaaa aaaa aaac aact acta ctaa taaa aaaa aaat aatg atgg tgga ggaa gaag aagc agct gcta ctat tatt atta ttat tata atat tatt atta ttaa taaa aaaa aaat aata atat tatt attt ttta ttaa taaa aaat aatg atga tgaa gaaa aaac aaca acat catt attt tttt tttc ttcc tcct ccta ctac taca acat cata atat tata atat tatt attt tttg ttgt tgtt gttc ttct tcta ctat tata ataa taaa aaag aaga agaa gaaa aaaa aaat aata ataa taat aatc atct tctt cttt tttt ttta ttag tagg aggt ggtt gttg ttga tgag gagt agtc gtcc tcct cctt cttt ttta ttaa taat aata atag taga agaa gaat aata atag tagt agtt gttt tttt tttt ttta ttac taca acat catt atta ttag taga agaa gaaa aaac aaca acat catg atgt tgta gtaa taag aagt agtc gtca tcaa caaa aaaa aaaa aaat aata ataa taac aaca acag cagt agtg gtgg tggt ggtg gtga tgaa gaaa aaaa aaag aagc agca gcag cagt agta gtaa taag aagt agtc gtca tcag cagt agtc gtcc tcct cctt cttg ttga tgaa gaat aatt atta ttat tatc atca tcaa caat aatt attt ttta ttaa taaa aaaa aaat aata ataa taaa aaat aatt attt tttt tttt tttt tttt tttt tttt tttt tttg ttga tgag gaga agat gatg atgg tgga ggag gagt agtc gtct tctc ctct tctg ctgt tgtc gtca tcac cacc accc ccca ccag cagg aggc ggct gctg ctgt tgta gtag tagt agtg gtgc tgca gcag cagt agtg gtgg tggt ggtg gtgc tgcg gcga cgat gatc atct tctc ctca tcag cagc agct gctg ctgg tggg ggga ggac gact acta ctac taca acag cagg aggc ggcg gcgc cgcc gccc cccg ccgc cgcc gcca ccac cacc acca ccat catg atgc tgcc gccc cccg ccgg cggc ggct gcta ctaa taat aatt attt tttt tttt tttt tttg ttgt tgta gtat tatt attt tttt tttt ttta ttag tagt agta gtag taga agag gaga agac gacg acgg cggg gggc ggcc gcct cctc ctcc tccc ccca ccag caga agac gact actg ctgc tgct gctg ctgg tggg ggga ggat gatt atta ttac taca acag cagg aggc ggcg gcgt cgtg gtga tgaa gaac aacc acca ccac cact actg ctgt tgtg gtgc tgcc gccc cccg ccgg cggc ggcc gcct ccta ctac tact actt cttt ttta ttac taca acaa caaa aaaa aaat aatt attt tttt tttt tttt ttta ttaa taaa aaac aaca acat catc atca tcac cact actt cttg ttga tgat gatg atga tgat gatt atta ttat tatt attt ttta ttaa taat aatg atgc tgct gctt cttc ttca tcat catg atga tgag gaga agag gaga agat gatt attt ttta ttac tact actt cttt tttt tttt ttta ttaa taaa aaaa aaat aatg atgt tgta gtaa taaa aaat aata ataa taag aaga agat gata ataa taaa aaac aact acta ctag tagt agtt gttt tttt tttt tttg ttgc tgcc gcca ccag cagt agtt gttt tttt tttt tttt ttta ttaa taaa aaaa aaat aata ataa taac aacc acct ccta ctaa taag aagg aggg ggga ggat gatt attt tttg ttgc tgct gctt cttt tttg ttgt tgtt gttt tttt tttt tttg ttga tgat gatt atta ttaa taaa aaaa aaaa aaac aaca acaa caat aatg atgc tgct gctt cttt tttt tttt ttta ttat tatt attc ttct tctt ctta ttag taga agaa gaat aata atac tact acta ctag taga agaa gaaa aaat aatg atgt tgtt gtta ttaa taat aata ataa taaa aaaa aaaa aaat aata ataa taaa aaaa aaac aact actt cttt tttt tttt tttg ttgt tgtg gtga tgaa gaag aagg aggt ggta gtaa taaa aaat aata atat tatt attc ttct tcta ctac tacc acct cctg ctgg tggt ggtt gttt ttta ttat tatt attt tttt tttt ttta ttat tatg atga tgac gact actt ctta ttag tagt agta gtaa taat aatt attg ttga tgag gaga agaa gaat aatt attt tttg ttga tgac gaca acag cagg aggc ggca gcaa caat aatt attc ttca tcag cagt agta gtaa taaa aaac aacg acgt cgtt gtta ttaa taag aagt agtg gtga tgaa gaaa aaat aata ataa taaa aaag aaga agag gagt agtg gtga tgaa gaat aatg atga tgaa gaaa aaaa aaaa aaaa aaat aata ataa taat aata atat tatc atcc tcct cctt ctta ttaa taat aatg atga tgaa gaaa aaac aaca acat cata atat tatt attt tttc ttct tctg ctga tgaa gaaa aaag aagt agtc gtct tcta ctag tagg agga ggag gagc agct gctg ctga tgag gagg aggt ggtg gtgg tgga ggat gatc atcc tcct cctg ctga tgat gata atat tatg atgt tgtc gtct tctt cttg ttgg tggt ggtc gtca tcaa caag aagt agtt gttc ttct tctt cttt tttt ttta ttac taca acaa caag aaga agaa gaaa aaag aaga agag gagc agca gcag caga agat gatg atga tgag gagg aggt ggtt gttg ttga tgat gata ataa taat aatt attg ttgt tgtc gtca tcat catc atct tctc ctct tcta ctaa taat aata atac tact actt cttc ttct tctg ctgt tgtt gtta ttaa taaa aaaa aaag aagg agga ggat gatt attt ttta ttat tatt attc ttct tcta ctat tatt atta ttaa taag aagt agtg gtgt tgta gtag taga agat gatt attg ttgg tgga ggaa gaat aata ataa taaa aaat aata atac taca acaa caaa aaat aata atac taca acat catt attt ttta ttag tagt agtg gtgg tggt ggta gtag tagt agtc gtcc tcca ccag cagt agtg gtgg tggt ggta gtac tact actg ctgg tggc ggcc gcct ccta ctat tata atat tata ataa taag aagc agcg gcgt cgtt gttt ttta ttaa taag aaga agag gagg aggc ggca gcag cagt agta gtat tatt attt tttg ttgg tggt ggtg gtgt tgtg gtga tgac gact actg ctga tgaa gaat aatt attc ttct tctt cttt tttt tttt ttta ttac taca acaa caaa aaat aatt attg ttgt tgtg gtgt tgtt gttc ttct tcta ctaa taag aagg aggt ggtc gtct tctg ctgt tgta gtat tatt attg ttgc tgcc gcca ccag cagt agta gtag tagt agta gtac tact actg ctga tgaa gaat aatt attg ttga tgag gagg aggt ggtc gtct tctt ctta ttaa taaa aaat aatt attc ttcc tcca ccac caca acaa caag aagt agtg gtgt tgtg gtgc tgca gcag cagt agtc gtct tctc ctca tcac cacc acca ccac caca acag cagt agtt gttt tttc ttct tctc ctct tctt ctta ttac tact acta ctag tagg agga ggat gatc atct tcta ctag taga agaa gaaa aaat aata atat tatt attt tttc ttcc tcct ccta ctat tatt attg ttgt tgta gtag tagg aggc ggct gctg ctgg tggt ggtt gttg ttgg tggc ggcc gcca ccag cagg agga ggag gagt agtt gttt tttg ttga tgag gaga agag gagc agca gcag cagc agcc gcct cctg ctgt tgta gtac taca acaa caac aacg acgt cgtg gtgg tggt ggtg gtga tgaa gaaa aaac aacc accc ccct cctg ctgt tgtc gtct tctc ctct tcta ctac tact acta ctaa taaa aaaa aaaa aaat aata ataa taat aatg atgg tggg ggga ggaa gaat aatt attg ttgc tgct gctt cttg ttga tgaa gaac aacc acct cctg ctgg tggg ggga ggag gagg aggc ggca gcag caga agag gagg aggg gggt ggtg gtgc tgca gcag cagt agtg gtga tgag gagc agcc gccg ccga cgag gaga agat gatt attg ttgt tgtg gtgc tgcc gcca ccac cact actg ctgc tgca gcac caca acat catc atcc tcct cctg ctgg tggc ggct gcta ctaa taac aacg acgt cgtg gtgg tggt ggtg gtga tgaa gaaa aaac aacc accc ccct cctg ctgt tgtc gtct tctc ctct tcta ctat tatt atta ttaa taaa aaaa aaat aata atag taga agaa gaaa aaaa aaaa aaaa aaat aatt atta ttag tagc agct gctg ctgg tggg gggc ggcg gcgt cgtg gtgc tgcg gcgg cggg ggga ggag gagg aggc ggcg gcgg cgga ggat gatc atct tctt cttg ttgt tgta gtag tagt agtg gtga tgat gatc atct tctg ctga tgag gaga agat gatc atca tcat catc atca tcac cacg acgc cgcc gcca ccac cact actg ctgc tgca gcac cact actc ctcc tcca ccag cagc agcc gcct cctg ctgg tggg gggc ggca gcaa caat aatc atct tctg ctga tgag gagt agta gtag tagc agct gctg ctga tgag gaga agat gatt attt tttg ttgg tggc ggct gcta ctaa taat aatc atca tcat catg atga tgac gact actt ctta ttag tagt agta gtat tatt attt tttg ttga tgaa gaaa aaaa aaag aagt agtt gttg ttgt tgtg gtga tgac gact acta ctat tatt attt tttt tttt tttt tttc ttcg tcgc cgca gcag cagt agtt gttc ttca tcac cact actg ctgc tgca gcag cagc agcc gcct cctc ctca tcaa caac aacc acct cctc ctcc tccc ccca ccag cagg aggc ggct gctc ctca tcaa caat aatt atta ttaa taat aatc atct tctt cttt tttc ttct tctt cttc ttcc tcct cctc ctct tctt ctta ttag tagc agcc gcct cctt cttt tttt tttt tttt tttg ttgt tgta gtat tatt attt tttt tttt tttt tttg ttgt tgta gtag taga agag gaga agat gatg atgg tggg gggt ggtc gtcc tccc cccg ccgc cgcc gcca ccat catg atgt tgtt gttg ttgc tgcc gccc ccca ccac caca acac cact actt cttg ttgt tgtc gtct tctc ctca tcaa caaa aaat aatt attc ttcc tcct cctg ctga tgac gaca acat cata atac taca acaa caag aagt agtt gttt ttta ttaa taaa aaag aaga agaa gaaa aaat aatg atgt tgtc gtct tctg ctgt tgta gtac taca acat cata ataa taaa aaat aatg atgt tgtg gtga tgat gatt atta ttat tata atag tagt agta gtac taca acaa caaa aaac aaca acaa caag aagt agta gtat tatt attt tttg ttga tgat gatg atgg tggg ggga ggaa gaaa aaaa aaaa aaaa aaaa aaag aagt agta gtaa taaa aaat aata atat tatt attc ttca tcac cacc acca ccaa caac aaca acat catt attc ttct tctt cttt tttc ttct tctc ctct tctt cttt tttt tttt tttt tttc ttct tctt cttt tttt tttt tttc ttcg tcgt cgtt gttt tttt tttt tttt tttt tttt tttt tttc ttca tcac caca acag cagc agca gcaa caac aacc acct cctc ctct tctg ctgc tgcc gcct cctt cttc ttct tctg ctgg tggg gggt ggtt gttc ttca tcag cagg aggc ggcg gcga cgat gatt attc ttct tctc ctcc tcct cctg ctgc tgcc gcct cctt ctta ttag taga agac gact actc ctcc tccc cccg ccga cgag gagt agta gtag tagc agcg gcgt cgtt gttt tttc ttca tcac cact actg ctgg tggg gggt ggtt gttg ttgg tggc ggcc gcca ccag cagg aggg gggt ggtg gtgg tggt ggtc gtct tctt cttg ttga tgaa gaac aact actc ctcc tcct cctg ctga tgac gacc acct cctc ctca tcaa caag aagt agtg gtga tgat gatt attc ttcg tcgt cgtt gttt tttg ttgt tgtc gtct tctc ctct tctt ctta ttat tatg atga tgac gacc acct cctg ctgt tgtt gttc ttca tcat cata atag tagt agtt gttg ttgt tgtg gtga tgaa gaaa aaac aact actt ctta ttat tatt attt tttt tttg ttgt tgtg gtga tgag gagt agtc gtcg tcgt cgta gtat tata atat tatg atgc tgct gctc ctct tctt cttt tttt tttt ttta ttaa taaa aaat aatg atga tgat gatc atct tcta ctag tagt agtt gtta ttaa taaa aaat aatt attt tttg ttgg tgga ggac gact actt cttc ttca tcag cagg aggt ggta gtaa taaa aaac aaca acag cagc agcg gcga cgaa gaat aata ataa taat aatt attt tttt tttg ttga tgag gaga agat gata atat tata atac tact actt ctta ttaa taac aaca acac cact acta ctag taga agaa gaag aagt agtc gtcc tcct ccta ctac taca acac caca acac caca acag cagt agta gtaa taaa aaag aagt agtt gttt tttg ttgt tgtt gttt tttt tttg ttgt tgta gtaa taaa aaaa aaac aact actt cttt tttt tttt tttt ttta ttac tact actt ctta ttaa taac aacc acct cctt cttt tttg ttgt tgtg gtgt tgtg gtgc tgcc gccc ccct cctc ctca tcaa caaa aaag aagc agcc gcct cctg ctga tgag gagc agct gctt ctta ttaa taat aatt attt ttta ttat tatt attc ttcc tccc ccca ccaa caaa aaac aacc acca ccag cagt agta gtat tatt atta ttac taca acat catt attt tttt tttg ttgt tgtt gttt ttta ttat tatt attc ttct tcta ctag tagc agca gcaa caaa aaag aaga agat gatg atga tgaa gaaa aaat aata ataa taat aata atat tatg atgg tgga ggat gata ataa taaa aaaa aaat aatc atca tcat catt attt tttt tttg ttga tgaa gaaa aaaa aaat aata atat tatg atgt tgta gtat tatt attt ttta ttaa taat aata atat tata atat tata atag tagt agta gtat tatg atgc tgcc gcct cctt cttt tttc ttcc tcct cctc ctca tcac caca acag cagc agca gcat catc atca tcat catc atct tctg ctga tgac gact actt cttt tttc ttcc tcca ccaa caac aact actc ctca tcat catt attg ttgt tgtg gtgg tgga ggac gaca acag cagt agta gtat tatt atta ttac tacc acca ccat cata ataa taaa aaag aagt agta gtaa taat aatg atga tgat gatc atct tctg ctgt tgtg gtgt tgtt gttg ttga tgat gatt attg ttga tgac gacc acct cctt cttt tttc ttct tcta ctaa taat aatt atta ttac tact acta ctat tata atac tact actt ctta ttaa taag aagt agta gtac tact actt cttg ttga tgaa gaat aatc atca tcaa caat aatt attc ttca tcat catt attt tttt tttg ttgt tgtt gttt tttt tttt tttt tttg ttgc tgca gcat catt attc ttct tcta ctag tagt agtg gtga tgat gata ataa taat aata atat tata atac taca acaa caat aata atac taca acac caca acat cata ataa taaa aaat aatt attt tttt tttt ttta ttat tatc atct tctt ctta ttac taca acag cagt agtc gtca tcag caga agaa gaaa aaat aatg atga tgaa gaat aata atag taga agac gact actg ctgt tgtt gttg ttga tgaa gaaa aaat aatt attg ttgc tgct gcta ctaa taac aaca acaa caat aatt attt tttt tttg ttgg tgga ggaa gaat aatg atgc tgcc gcct cctt cttg ttgt tgtt gtta ttaa taaa aaat aatt atta ttat tatt attt ttta ttat tatc atct tctt ctta ttac taca acat catt attt ttta ttat tatg atgt tgtg gtga tgat gatt attt tttt ttta ttaa taac aact actt cttc ttcc tcct cctg ctgt tgtg gtga tgaa gaaa aaac aact actc ctct tctg ctgc tgct gctg ctgt tgtc gtct tctc ctct tctc ctct tctg ctgt tgtt gtta ttaa taaa aaag aagt agtt gttg ttgc tgca gcat cata atat tata atat tata atac taca acaa caaa aaaa aaaa aaac aacc acct cctt ctta ttag taga agat gata atag tagt agta gtac tacc accg ccga cgaa gaac aacc accc ccct ccta ctat tata atat tata atat tata atat tata atat tata atat tatt atta ttaa taaa aaaa aaaa aaat aatg atgt tgtg gtgt tgta gtag tagt agta gtat tatt attt ttta ttat tata atat tata atat tatt attt ttta ttag tagg aggc ggca gcac caca acag cagt agta gtaa taag aaga agag gaga agat gatt atta ttaa taac aaca acaa caag aaga agaa gaac aact acta ctaa taat aata ataa taat aata ataa taaa aaaa aaat aata atag tagg agga ggac gaca acaa caat aatt atta ttat tata ataa taac aaca acaa caaa aaaa aaat aata atat tatc atca tcat catg atgt tgtg gtgg tggc ggca gcag cagc agca gcag cagc agct gctt cttc ttca tcat catc atca tcag cagc agca gcag caga agat gatg atgt tgtg gtgg tggc ggcc gcct cctc ctct tctc ctcc tcca ccag cagt agta gtaa taat aatt attt tttt tttt ttta ttat tata atat tatt attt tttt tttt tttc ttca tcag cagt agtg gtgt tgtc gtca tcat catt attc ttca tcat catt attt tttc ttca tcag cagg aggg gggg ggga ggat gatc atcc tccc ccct cctt ctta ttac tact actg ctga tgaa gaag aagt agtt gttt tttt tttc ttcg tcgt cgtt gttt ttta ttag tagg aggc ggct gctc ctct tcta ctat tatg atgc tgct gctt cttt tttc ttct tctg ctgg tggc ggcc gcct cctt cttt tttt tttc ttct tcta ctac tact actt cttc ttct tcta ctat tatg atgg tggt ggtg gtgc tgca gcac cact actg ctgt tgtg gtgt tgtg gtgg tggc ggcc gcca ccac caca acaa caac aaca acat catt attt tttg ttgc tgca gcag cagt agtt gttt tttg ttga tgag gagg aggt ggtg gtgt tgtg gtga tgac gaca acag cagc agcg gcga cgat gatg atgt tgtc gtcg tcgc cgca gcag cagt agta gtac taca acaa caat aatt attt tttt tttt tttt tttt tttc ttcc tcct cctt cttt tttc ttcc tcct cctt ctta ttaa taag aagt agtc gtcg tcga cgag gaga agaa gaac aact actt cttt tttc ttca tcac cact actg ctgt tgtt gttt tttc ttca tcaa caat aatt atta ttaa taac aact actt cttt tttg ttgg tggg gggg gggc ggcc gcca ccat catt attg ttgt tgtt gtta ttaa taag aagt agta gtaa taaa aaaa aaat aata ataa taag aagg aggg gggt ggtg gtga tgac gact actt cttg ttga tgaa gaac aaca acac caca acaa caag aagc agca gcac cact actg ctgt tgtg gtgg tggt ggta gtac tacc acca ccac caca acac cacc acct cctg ctgg tgga ggat gata atac tacg acgc cgct gctg ctgg tgga ggac gaca acaa caaa aaag aagg aggg ggga ggat gatg atga tgat gatt attc ttca tcat catg atgt tgtc gtcc tccc ccca ccaa caag aagt agtg gtgg tggg ggga ggat gatg atgg tgga ggag gagc agca gcaa caag aaga agat gatg atgg tggt ggtg gtgc tgca gcag caga agat gatt attt tttc ttca tcat catc atca tcac caca acac cact acta ctac tact actc ctca tcag cagg agga ggat gatg atga tgac gaca acac caca acac caca acaa caat aatt attt ttta ttaa taaa aaaa aaac aact actt ctta ttac tact acta ctaa taat aatt attg ttgc tgct gctt ctta ttac tact actt cttc ttct tcta ctag tagt agtg gtga tgaa gaaa aaac aacc acca ccat catg atgg tgga ggat gata ataa taag aagg aggg gggg gggg gggg ggga ggac gact acta ctac tact acta ctac tact acta ctat tata atat tatg atgt tgtg gtgc tgca gcat catt attg ttga tgag gaga agag gagt agtt gttt tttt tttt ttta ttat tata atac tact acta ctag tagt agtc gtct tctg ctga tgaa gaag aaga agaa gaaa aaaa aaaa aaat aatg atga tgat gata atag taga agat gatt attt ttta ttat tatc atcg tcgc cgct gctt cttc ttct tctg ctgt tgtg gtga tgac gaca acag caga agac gaca acag cagt agtg gtga tgaa gaaa aaaa aaac aaca acac caca acaa caaa aaat aatc atca tcaa caaa aaag aagt agtt gttg ttgt tgtt gttt tttt tttg ttga tgat gatt attt tttt tttt tttt tttt tttt tttt tttt tttt tttt tttg ttga tgag gagg aggt ggtg gtgg tgga ggag gagt agtc gtct tctt cttg ttgc tgct gctc ctct tctg ctgt tgtc gtca tcac cacc accc cccg ccgt cgtg gtga tgat gatc atct tctc ctcg tcgg cggt ggtt gttt ttta ttat tata atac taca acaa caag aagc agca gcat catg atgc tgca gcac cacc acca ccac cacc acca ccat catg atgc tgcc gccc ccca ccaa caac aact acta ctat tatt attg ttgt tgta gtat tatt attt tttt tttt ttta ttag tagt agta gtag taga agag gaga agat gatg atgg tggc ggca gcat catt attt tttc ttca tcac cacc acca ccat catt atta ttaa taat aatt attg ttgg tggc ggca gcac cacc acca ccat catt attg ttga tgaa gaag aagg agga ggat gatt attg ttgc tgct gctc ctcc tcct cctc ctct tctt cttt tttt tttc ttct tctt ctta ttaa taaa aaag aaga agag gaga agaa gaaa aaaa aaat aata atat tata atat tatt atta ttac tacc acct cctt cttt tttc ttcc tccg ccgt cgtg gtgc tgcc gcct cctg ctgt tgtg gtga tgat gatc atcc tccc ccca ccag cagc agct gcta ctac tact actc ctca tcag cagg agga ggag gagg aggc ggct gctg ctga tgag gagg aggt ggtg gtgg tggg ggga ggag gagg agga ggat gatc atcg tcgc cgct gctt ctta ttaa taag aagc agcc gccc ccca ccag cagg aggc ggcg gcgg cggc ggcc gccg ccgt cgtg gtgt tgtc gtct tctc ctca tcaa caat aatg atgg tgga ggaa gaaa aaaa aaaa aaaa aaaa aaag aaga agag gaga agaa gaaa aaac aact acta ctaa taat aatt attt tttg ttga tgat gatt attt tttc ttcg tcga cgat gatg atga tgac gaca acag cagt agta gtat tatt attt ttta ttaa taaa aaat aata atac tact actt cttt tttc ttca tcag caga agag gaga agac gaca acaa caat aata ataa taag aaga agat gata atat tata atat tata ataa taat aatt atta ttaa taac aaca acaa caaa aaaa aaat aatc atct tctg ctga tgag gagc agct gctt cttt tttt tttt tttt tttt tttt tttt tttt tttt tttc ttct tcta ctaa taat aatt atta ttag taga agaa gaat aatc atct tctt ctta ttag tagt agta gtat tatg atgt tgtg gtgt tgtg gtgt tgta gtat tatg atgt tgtc gtct tctg ctgt tgta gtat tata ataa taac aact actg ctgt tgtg gtgt tgta gtag tagg agga ggat gatt attt tttg ttga tgat gata atat tatc atct tctg ctgt tgtt gttt tttt tttt tttg ttgt tgtc gtct tctg ctgt tgtg gtga tgac gaca acag caga agaa gaat aatt attg ttga tgat gatt attt tttg ttgg tgga ggaa gaac aaca acat catc atct tctg ctgt tgtt gttt tttt tttg ttga tgat gata atag tagg aggt ggtc gtct tctt ctta ttag taga agaa gaat aata atat tatt attt ttta ttaa taat aatt attg ttgt tgta gtat tata atat tata atat tata atag tagt agta gtat tatg atga tgaa gaat aata ataa taaa aaaa aaag aagg aggc ggct gctt cttt ttta ttag tagg aggt ggtt gttc ttca tcat catt attg ttgg tgga ggaa gaat aatc atca tcag cagg aggg gggg ggga ggaa gaat aatc atca tcag cagg aggc ggct gctt cttt ttta ttac tact acta ctag taga agaa gaag aaga agaa gaac aaca acac cact actg ctga tgat gata atat tatg atgt tgta gtaa taat aata atat tatt attt ttta ttag tagc agca gcac caca acat catt attc ttct tcta ctac taca acat cata ataa taaa aaac aact actg ctgt tgtt gttt tttc ttct tcta ctat tatg atga tgag gaga agaa gaaa aaag aagg aggt ggtt gttg ttgt tgtg gtga tgag gaga agaa gaat aatt attt tttg ttgg tgga ggaa gaaa aaaa aaaa aaac aaca acat catc atca tcag cagg aggg ggga ggaa gaat aatt attc ttca tcat catt attt ttta ttaa taaa aaag aagt agta gtaa taaa aaat aata atag tagc agct gctg ctgc tgca gcaa caaa aaag aaga agac gacc acca ccac caca acat catt attg ttgg tgga ggaa gaaa aaag aagg agga ggat gata atag tagt agtt gttt tttt tttt tttc ttca tcat catt atta ttat tatg atgt tgtt gttt tttt tttt tttc ttct tcta ctaa taaa aaat aatg atgt tgta gtag taga agaa gaac aaca acaa caaa aaaa aaaa aaaa aaat aatc atct tcta ctac taca acaa caaa aaaa aaaa aaag aagt agta gtaa taag aaga agaa gaac aact acta ctaa taac aacc acca ccaa caag aagt agtg gtga tgaa gaaa aaag aaga agaa gaaa aaaa aaaa aaat aata atac tact actc ctca tcat catt attt tttg ttgt tgta gtat tatc atct tctg ctga tgaa gaag aagt agtg gtgg tgga ggaa gaac aacc acca ccaa caaa aaat aatg atga tgat gata atac tact actg ctga tgat gatc atcc tcca ccag caga agaa gaag aagt agtt gttg ttgt tgta gtac tacc accg ccgt cgtc gtct tctt cttt tttg ttgg tggc ggcc gcct cctg ctgt tgtg gtga tgaa gaat aatg atgg tggt ggtc gtct tctc ctca tcaa caac aact acta ctaa taac aacc accc ccct cctt cttt tttc ttca tcag cagg aggt ggtc gtct tcta ctaa taaa aaat aatg atgg tgga ggaa gaaa aaaa aaag aaga agac gacc acct ccta ctat tatt atta ttag taga agac gaca acac caca acag caga agag gaga agaa gaac aaca acaa caaa aaaa aaag aaga agaa gaaa aaag aaga agaa gaaa aaag aaga agat gatt attt tttt tttc ttct tctt ctta ttac tact actt cttc ttca tcag caga agag gaga agaa gaat aatt attc ttct tcta ctaa taat aata ataa taag aaga agag gaga agag gaga agat gatg atga tgaa gaag aaga agag gagc agca gcag cagc agca gcat catc atct tctt cttg ttga tgaa gaat aatc atct tctc ctca tcat cata atac taca acag caga agac gact actg ctgc tgca gcat catt attc ttct tctt cttg ttgc tgca gcag cagt agta gtaa taaa aaag aagt agtt gttc ttca tcag caga agaa gaat aata ataa taag aaga agag gaga agaa gaat aatc atca tcac cacc acct ccta ctaa taaa aaag aaga agag gaga agac gact actt cttt tttc ttca tcaa caat aatg atgc tgca gcaa caag aagt agtt gttt tttt tttt tttc ttca tcag cagg aggt ggtc gtca tcat cata atat tatg atga tgac gact actt cttg ttgc tgct gctc ctca tcac caca acag caga agaa gaag aagg agga ggag gagg agga ggac gact actc ctcc tcct cctt ctta ttat tatg atgt tgtc gtcc tcca ccaa caaa aaat aatt attt ttta ttaa taat aatt attg ttga tgat gata ataa taat aatg atgg tgga ggaa gaag aagc agct gctg ctgg tggc ggcc gcca ccag cagc agcc gcca ccaa caaa aaaa aaac aaca acaa caaa aaat aata ataa taag aagt agtt gttt ttta ttat tatt attt ttta ttat tatg atgc tgct gcta ctat tata atac taca acat catg atga tgat gatg atga tgaa gaaa aaac aaca acat catc atct tctt ctta ttat tata ataa taaa aaag aagg agga ggaa gaaa aaaa aaaa aaaa aaaa aaaa aaat aata atag taga agaa gaag aagc agca gcac cacc acca ccac cact actt ctta ttac taca acat catt attt tttg ttgc tgca gcaa caaa aaat aatg atgc tgct gctg ctga tgat gatt attc ttca tcag cagg aggt ggta gtac tacc acct cctc ctct tctg ctgt tgtc gtct tctt cttt tttt tttt tttt tttt tttt tttt tttt tttt tttg ttgt tgta gtaa taac aact actt cttc ttca tcat cata atat tatc atct tctt ctta ttat tata atat tatt attt ttta ttaa taat aatc atct tctt ctta ttag tagg aggc ggca gcat catc atca tcat catc atct tctg ctgt tgta gtat tata atac taca acat catg atga tgat gatt attg ttgt tgtt gttt ttta ttag tagg aggt ggtc gtct tctt cttt ttta ttaa taat aata atat tatc atcc tcca ccat catc atca tcac cact actc ctct tctt cttg ttga tgag gaga agac gaca acag cagt agtt gttt tttt ttta ttat tatt attt tttt ttta ttaa taag aagt agtt gttc ttcc tccg ccgg cggg gggg gggt ggta gtac taca acat catg atgt tgtg gtgc tgca gcag cagg agga ggat gatg atgt tgtg gtgc tgca gcat catg atga tgag gagt agta gtat tatt atta ttaa taag aagc agcc gccc ccca ccag cagc agca gcat catg atgc tgca gcat catt atta ttag tagc agct gcta ctat tatt attt tttt tttt tttc ttcc tcct cctg ctgg tggt ggtg gtgc tgct gctc ctct tctc ctcc tcct cctt cttc ttcc tccc cccc cccc cccc ccca ccac caca acac caca acaa caat aatt attg ttgt tgtt gttc ttca tcag cagc agct gctc ctcc tccc ccca ccac cact actt ctta ttat tatg atga tgag gagt agtg gtga tgag gaga agaa gaac aaca acat catg atgt tgtg gtga tgat gatg atgt tgtt gttt ttta ttag tagt agtt gttt tttt tttc ttct tctg ctgt tgtt gttc ttcc tcct cctg ctgc tgca gcat catt attt tttt tttc ttcc tcct cctt cttt tttt tttt ttta ttat tatg atgg tggc ggct gcta ctac taca acat catg atgg tggt ggta gtat tatt attc ttcc tcca ccat catg atgg tggt ggtg gtgt tgta gtat tata atag tagt agtt gttc ttcc tcca ccac caca acat catt attt tttt ttta ttat tatt attt ttta ttat tatc atcc tcca ccag cagt agtt gttg ttga tgaa gaat aatg atgt tgta gtac taca acag cagg aggt ggtg gtgg tgga ggat gatg atgt tgta gtat tatc atct tctt cttt ttta ttat tata ataa taat aata atac taca acaa caat aatg atga tgat gatt attt ttta ttat tatc atct tctt cttc ttcc tcct cctt cttt tttg ttgg tggg gggt ggta gtat tata atat tata atac taca acac caca acac cact actg ctgt tgtc gtct tctt cttc ttcc tcca ccac caca acaa caac aacg acgg cggt ggtt gttg ttga tgaa gaac aact acta ctaa taat aatt attt ttta ttac taca acat catt attc ttcc tcca ccag cagc agcc gcca ccaa caac aaca acaa caac aact actt cttg ttga tgag gaga agac gaca acag cagt agtt gttt ttta ttat tatt atta ttat tata atat tatg atgc tgca gcaa caaa aaat aatt attg ttgg tgga ggac gaca acaa caac aact actc ctca tcat cata atat tata ataa taaa aaat aata atat tatg atgt tgtg gtgg tggt ggtg gtgc tgct gcta ctac tact actt ctta ttac tact acta ctat tatg atgt tgta gtat tatt attt tttt tttc ttct tctc ctcg tcgg cggg ggga ggag gagg aggc ggct gcta ctaa taag aagg aggc ggca gcag cagg agga ggag gagg agga ggat gatc atca tcac cact actt ctta ttat tatg atgg tggt ggtc gtca tcag cagg agga ggag gagt agtt gttt ttta ttaa taag aaga agaa gaac aaca acac cacc accc ccct cctg ctgg tggg gggc ggca gcaa caac aaca acat catg atgt tgtt gttg ttgt tgta gtag tagc agct gcta ctac tact actc ctca tcag cagg agga ggat gatg atgc tgct gctc ctca tcag caga agac gaca acag cagg agga ggag gagg agga ggat gatc atca tcac cact actt cttg ttga tgag gagc agcc gccc ccca ccaa caag aagt agtg gtga tgac gact actg ctga tgag gagg aggc ggct gctg ctgt tgtg gtga tgaa gaaa aaaa aaaa aaaa aaaa aaaa aaaa aaaa aaaa aaaa aaag aaga agaa gaaa aaaa aaaa aaaa aaaa aaaa aaaa aaaa aaat aatt attt ttta ttaa taaa aaat aata atag taga agag gagg agga ggaa gaaa aaat aata atac tact acta ctag tagc agct gcta ctaa taag aagt agtt gttt ttta ttaa taat aatg atgt tgta gtaa taaa aaaa aaag aaga agat gatt attg ttgc tgca gcat cata atac tact actg ctgt tgtt gtta ttac tact actg ctgc tgct gctc ctct tcta ctat tatt attt tttc ttct tctg ctgc tgca gcat catc atct tctc ctcc tccg ccgt cgtg gtgg tggt ggtg gtgt tgta gtaa taac aact actc ctct tctg ctgt tgtc gtcc tcct cctc ctct tctt cttc ttct tcta ctat tatg atga tgag gaga agaa gaag aaga agac gact actt cttt ttta ttag tagt agtg gtga tgaa gaat aata atag tagc agct gctc ctca tcag cagt agtg gtga tgaa gaat aata atag tagt agta gtag taga agag gagt agtt gttg ttgg tggt ggtg gtga tgag gaga agac gacc acca ccac caca acag cagt agta gtac taca acaa caag aagt agtt gtta ttaa taaa aaag aagc agcc gcca ccaa caat aatg atga tgaa gaaa aaaa aaaa aaag aagc agct gcta ctaa taat aata atat tata atag tagg aggc ggcc gcca ccag cagg aggc ggcg gcgc cgca gcag cagt agtg gtgg tggc ggct gctc ctca tcac cacg acgc cgcc gcct ccta ctat tata ataa taat aatc atcc tccc cccg ccgc cgcc gcca ccaa caac aaca acat catg atgg tggt ggta gtaa taaa aaaa aaac aacc accc cccc ccca ccat catc atct tctc ctct tcta ctat tatg atga tgaa gaaa aaaa aaaa aaaa aaaa aaaa aaac aaca acaa caaa aaaa aaaa aaat aatt atta ttat tatc atcc tcca ccag caga agat gatg atgt tgtg gtgg tggt ggtg gtgg tggc ggcg gcga cgat gatg atgg tgga ggag gagg aggt ggtt gttg ttgc tgca gcaa caat aatg atga tgag gagc agct gctg ctga tgag gaga agat gatc atca tcac cacg acgc cgcc gcca ccac cact actg ctgc tgca gcac cact actc ctcc tcca ccag cagc agcc gcct cctg ctgg tggg gggt ggtg gtga tgac gaca acag caga agaa gaac aacg acga cgaa gaat aatt atta ttaa taag aaga agaa gaac aact actg ctgg tggt ggtt gtta ttag tagt agta gtag taga agaa gaaa aaaa aaat aatt attc ttca tcag caga agag gagg aggg gggt ggtc gtca tcaa caag aaga agaa gaaa aaat aatt attt ttta ttaa taac aaca acag caga agag gagc agca gcag cagt agtt gttg ttga tgaa gaac aact actt cttt tttt ttta ttaa taaa aaaa aaaa aaat aatt attg ttgt tgtg gtgg tggt ggtt gttt tttt tttg ttgt tgtt gttt tttt tttt tttt tttt tttc ttca tcaa caat aatg atgt tgtg gtga tgaa gaaa aaag aaga agaa gaat aatt atta ttaa taag aaga agaa gaaa aaaa aaat aatt attg ttgt tgtt gtta ttac tact actt cttt tttt tttc ttct tctt cttc ttca tcaa caat aatt attt tttt ttta ttat tatt attt tttt tttc ttcc tcca ccaa caat aata ataa taaa aaaa aaaa aaat aatt atta ttac tact actt cttt tttg ttga tgag gagt agtt gttt tttt tttt tttt tttt tttt ttta ttat tatg atgg tggt ggta gtag tagc agct gcta ctag tagc agct gcta ctac tact actt cttc ttcc tcct ccta ctaa taat aatt attt ttta ttat tatc atct tctt cttg ttga tgag gagc agct gcta ctaa taaa aaaa aaaa aaaa aaat aatg atgt tgta gtaa taat aata ataa taac aact actg ctga tgaa gaaa aaaa aaaa aaat aata atag taga agag gagc agca gcat cata atat tatt attt ttta ttag tagg agga ggat gatt attc ttct tctt cttt ttta ttaa taat aatt atta ttaa taat aatt attt ttta ttat tatt attt ttta ttat tatt attt tttt tttt ttta ttat tatt attt tttt tttt tttt ttta ttag taga agag gaga agac gact actg ctgt tgtc gtct tctc ctca tcat catt attc ttct tctg ctgt tgtt gtta ttac tacc acct ccta ctag tagt agtc gtct tctg ctgg tgga ggag gaga agac gacc acct cctc ctca tcac cacc accc ccct cctc ctcc tcct cctg ctga tgag gagt agta gtaa taac aact actg ctgg tggc ggca gcac cacc acca ccac caca acag cagg aggc ggca gcat cata atac taca acac cacc acca ccac cacc acca ccac caca acac cacc accc ccca ccag cagc agct gcta ctaa taat aatt attt tttt tttt ttta ttaa taag aagc agca gcag cagt agtc gtct tctt cttc ttcc tcct cctg ctgc tgcc gcct cctc ctca tcag cagc agcc gcct cctc ctcc tccc ccca ccaa caaa aaaa aaag aagt agtg gtgc tgct gctg ctga tgag gaga agat gatt atta ttac taca acag cagg aggc ggca gcat catg atga tgag gagc agcc gcca ccac cact actg ctgt tgtg gtgt tgta gtaa taat aatt attt tttt tttg ttgt tgtc gtca tcac cact actt cttt tttg ttgt tgtg gtgt tgtt gttt tttt tttt ttta ttat tatg atgt tgtt gttt ttta ttag tagg aggt ggtt gttt ttta ttat tatt attg ttgc tgca gcat catt attc ttct tctt cttc ttct tctg ctgt tgtg gtga tgaa gaaa aaaa aaag aaga agaa gaag aagc agcc gcct cctg ctga tgag gagg agga ggaa gaaa aaat aatg atgt tgtt gttc ttct tcta ctag taga agaa gaaa aaat aatg atga tgaa gaaa aaac aaca acat catg atgt tgtt gttc ttct tcta ctaa taat aata ataa taat aata atac taca acag cagt agta gtaa taat aatc atct tctc ctct tctc ctca tcag cagg agga ggat gatc atct tctt cttg ttga tgat gatt attc ttct tctc ctct tctg ctgt tgtc gtca tcat catg atgc tgcc gcct cctg ctgc tgca gcag cagg agga ggaa gaag aagg agga ggac gaca acag cagt agtg gtgt tgtg gtga tgaa gaaa aaaa aaat aatg atga tgat gatc atcc tcca ccaa caaa aaaa aaaa aaag aagc agca gcaa caaa aaaa aaaa aaaa aaag aagt agtt gttg ttga tgaa gaat aata atac taca acag cagt agtg gtga tgat gata atac tact actg ctga tgac gact actt cttt tttc ttca tcaa caat aatc atcc tccc ccca ccag caga agaa gaaa aaaa aaag aagt agtc gtct tctt cttt tttt ttta ttat tata atat tatg atga tgat gatc atca tcat catg atga tgaa gaaa aaaa aaat aatg atgc tgcc gcca ccag caga agag gagg aggc ggca gcaa caaa aaag aaga agaa gaat aatc atca tcat cata atac taca acaa caaa aaaa aaat aatg atgt tgtc gtca tcag caga agac gaca acaa caag aagc agct gctc ctca tcaa caaa aaag aagg aggt ggta gtaa taac aaca acaa caat aatt atta ttat tatg atga tgaa gaat aatc atct tctg ctga tgat gata ataa taat aatt atta ttat tata ataa taaa aaaa aaaa aaac aacg acgt cgtt gttg ttga tgag gagc agct gctg ctgt tgtt gttg ttgc tgcc gcca ccac cacc acct cctg ctga tgaa gaaa aaaa aaaa aaat aata atac taca acat catg atga tgag gaga agag gagt agta gtag tagc agca gcat catc atca tcac cacc acct cctt cttc ttca tcaa caac aact acta ctac tact actt cttc ttca tcaa caat aatt attt tttc ttca tcaa caaa aaaa aaaa aaat aata ataa taac aact actg ctgt tgtc gtca tcaa caat aatc atcc tcca ccag caga agac gact actc ctct tctg ctga tgaa gaag aaga agaa gaac aact actt cttt tttt tttc ttct tctc ctca tcag caga agac gaca acaa caat aata ataa taag aagg agga ggaa gaac aact actt cttc ttca tcat catg atga tgaa gaaa aaac aaca acag caga agac gact actt cttg ttga tgac gact actt cttg ttgt tgtg gtgt tgta gtaa taaa aaac aacg acga cgaa gaac aacc accc ccca ccat catt attt tttt tttc ttca tcaa caag aaga agaa gaac aact actc ctct tcta ctac tacc acct cctt cttg ttgg tggt ggtt gttt ttta ttat tatg atgt tgtt gttc ttct tctt cttg ttgc tgca gcag caga agag gagg agga ggag gaga agaa gaac aaca acaa caaa aaaa aaaa aaat aata atag tagt agtg gtgt tgta gtaa taaa aaag aagc agca gcag cagc agca gcat cata atat tata ataa taaa aaaa aaaa aaat aatg atga tgac gact acta ctaa taat aatg atga tgat gatt atta ttac taca acat catg atga tgaa gaac aaca acaa caaa aaat aatg atgg tggg gggc ggca gcag cagg agga ggac gact actc ctct tctt ctta ttag tagg aggt ggtc gtcc tcca ccaa caat aatt attt tttc ttca tcaa caaa aaat aatc atca tcac caca acag cagt agtt gttt tttt tttg ttgg tgga ggaa gaag aagc agca gcaa caaa aaaa aaat aatg atgt tgtt gttc ttct tctt cttc ttca tcaa caaa aaag aaga agat gata atat tatt attg ttga tgaa gaag aaga agaa gaac aaca acaa caat aata atat tatc atcc tcct ccta ctac tact acta ctag tagt agtt gttt ttta ttag tagc agct gctt cttg ttgt tgtg gtgt tgtt gttg ttga tgaa gaaa aaac aact actg ctgt tgta gtat tatc atct tctg ctgc tgca gcac caca acat catt attt ttta ttac taca acag caga agag gagt agta gtag tagt agtg gtgt tgta gtag tagt agtt gttg ttgt tgtt gttt tttc ttct tctg ctga tgat gatt attg ttgt tgta gtaa taaa aaaa aaaa aaat aata atag tagt agtc gtca tcat cata atat tata atac taca acaa caaa aaaa aaag aagg aggc ggca gcag caga agaa gaaa aaat aatt atta ttac taca acag caga agaa gaac aact actt cttt tttc ttct tcta ctac tact acta ctat tata atat tatt atta ttag taga agaa gaag aaga agaa gaat aatc atca tcag cagg agga ggaa gaag aagt agtc gtca tcag cagt agtt gttt tttg ttga tgaa gaaa aaaa aaac aacc acca ccag caga agat gatg atga tgac gact acta ctat tatc atct tctt ctta ttaa taaa aaag aaga agac gacc acca ccac cact actt cttc ttct tctg ctga tgag gagg agga ggaa gaat aatg atgc tgca gcag caga agag gaga agat gatg atgc tgct gctg ctga tgat gatc atct tctt cttc ttca tcat catg atgt tgtc gtcg tcga cgaa gaaa aaat aatt atta ttaa taaa aaac aacg acgg cgga ggaa gaag aagt agtt gttt tttg ttgc tgct gctg ctgg tggc ggcc gcct cctg ctgt tgtt gttg ttga tgaa gaaa aaaa aaaa aaat aatg atga tgac gact actg ctgt tgta gtaa taac aaca acaa caaa aaaa aaag aagt agtg gtgc tgct gctt cttc ttct tctg ctgg tggt ggtc gtct tctg ctga tgaa gaat aatg atgt tgtt gttt tttc ttct tcta ctac tact actg ctga tgaa gaag aagc agct gctc ctct tctg ctgc tgca gcaa caaa aaaa aaaa aaag aagc agct gctg ctgt tgtg gtga tgaa gaaa aaac aact actg ctgt tgtt gttt ttta ttag tagt agtg gtga tgat gata atat tatt attg ttga tgag gaga agaa gaat aatg atga tgat gatt attc ttct tctg ctgt tgtt gttg ttgt tgtt gttt tttc ttca tcaa caat aatg atgt tgtt gttt ttta ttaa taag aaga agat gata atag taga agaa gaaa aaaa aaat aatc atca tcat cata ataa taat aatg atga tgat gata ataa taaa aaaa aaac aact actg ctgt tgta gtaa taag aagt agtg gtga tgaa gaaa aaaa aaaa aaag aaga agaa gaag aaga agaa gaaa aaat aatt atta ttac tact actg ctga tgaa gaaa aaaa aaat aatt atta ttac taca acaa caag aaga agag gaga agaa gaaa aaat aata atac tact actg ctga tgaa gaaa aaaa aaat aatg atga tgaa gaag aaga agat gata ataa taac aaca acaa caaa aaat aata atat tata atac tact actg ctgc tgct gctg ctgt tgtt gttt tttg ttgt tgta gtat tatt attc ttca tcat cata ataa taaa aaag aaga agat gatg atga tgaa gaaa aaac aacg acgg cgga ggac gact actt cttg ttgc tgct gcta ctat tatt attt ttta ttac tact actg ctga tgat gatc atca tcag cagc agca gcac caca acaa caac aaca acat cata atat tatg atgt tgtc gtct tctt cttt tttt ttta ttaa taac aact actt cttt tttt tttt tttt tttg ttgg tgga ggaa gaag aagt agtt gttg ttgc tgcg gcga cgaa gaaa aaag aagc agct gctc ctca tcaa caag aaga agaa gaag aagc agca gcat catg atgt tgtc gtca tcat catg atgg tggt ggta gtaa taat aata atac tact actt cttc ttca tcaa caaa aaat aata ataa taaa aaat aatt attt tttt tttt tttt tttc ttca tcag caga agac gact actg ctgc tgca gcaa caag aagt agtg gtgg tggg ggga ggaa gaaa aaaa aaaa aaat aata atat tatt atta ttag tagt agtg gtgt tgtc gtcg tcgc cgcc gcca ccaa caaa aaag aaga agag gagt agtc gtca tcat catt attt ttta ttaa taat aata ataa taaa aaaa aaat aatt attc ttca tcat catt attc ttct tctg ctga tgac gaca acat cata ataa taag aaga agaa gaaa aaag aaga agaa gaac aaca acaa caaa aaaa aaat aatg atgg tgga ggac gaca acat catt attc ttct tcta ctaa taag aagt agtt gtta ttat tatg atga tgag gagg agga ggaa gaaa aaac aaca acag caga agac gaca acat cata atag tagt agtt gttc ttca tcag cagg aggg ggga ggac gaca acaa caac aacc accc cccg ccga cgaa gaac aacg acgt cgtg gtga tgat gatg atga tgaa gaaa aaaa aaag aaga agat gatc atca tcaa caaa aaag aaga agaa gaac aacc acct ccta ctac tact actc ctct tcta ctat tatt attg ttgg tggg gggt ggtt gttt tttt tttc ttca tcat cata atac taca acag caga agat gatg atga tgaa gaaa aaaa aaaa aaag aaga agag gagc agca gcaa caag aagg aggt ggta gtac tact acta ctag tagt agtg gtga tgaa gaaa aaat aatc atca tcac cacc acca ccag cagt agtt gttt tttt ttta ttag tagc agcc gcca ccat catc atca tcaa caat aatg atgg tggg gggc ggca gcaa caaa aaag aaga agac gacc accg ccgc cgct gctg ctgc tgcc gccc cccc ccca ccaa caaa aaag aagt agtg gtgt tgta gtaa taaa aaag aaga agaa gaaa aaat aatg atgc tgca gcag caga agaa gaat aatt attc ttct tctc ctct tctc ctca tcaa caat aata ataa taat aatg atga tgat gata ataa taaa aaaa aaaa aaac aacc acct cctt cttg ttgt tgtt gttt tttc ttct tctc ctct tctc ctca tcaa caaa aaaa aaac aaca acat catc atca tcaa caaa aaaa aaaa aaag aagt agta gtat tatc atct tctt cttt tttt tttt tttg ttga tgaa gaaa aaag aagt agtt gtta ttaa taaa aaag aagt agta gtac taca acat catg atga tgaa gaaa aaaa aaat aatg atgt tgta gtag taga agaa gaaa aaaa aaaa aaag aaga agaa gaat aatc atca tcag cagc agcc gcct cctt ctta ttag tagc agct gctt cttt tttt tttt ttta ttac taca acac caca acaa caag aagt agtt gttg ttgt tgta gtag tagt agta gtag taga agaa gaaa aaaa aaaa aaac aact actt cttc ttct tctg ctgt tgtg gtga tgag gagt agtc gtca tcag caga agac gact actt cttc ttca tcat catt atta ttaa taac aact actg ctgc tgca gcag caga agat gatt atta ttat tatg atgt tgta gtag tagg agga ggaa gaaa aaat aatt atta ttat tatt attt tttg ttgt tgta gtat tatg atga tgaa gaaa aaaa aaat aata ataa taat aatt attc ttca tcaa caaa aaac aaca acag cagt agta gtac tact acta ctat tata atag tagc agct gctg ctga tgaa gaaa aaaa aaac aaca acag cagc agct gcta ctat tatt attc ttcc tcct ccta ctac tacc acca ccat catt attc ttct tctg ctga tgat gatg atga tgag gagg aggt ggta gtat tata atat tata ataa taat aatg atga tgat gatt attc ttca tcag cagg agga ggat gata atat tatc atct tctc ctct tctc ctca tcaa caaa aaaa aaaa aaaa aaat aatt attt tttt tttt tttc ttcc tcca ccaa caaa aaag aagt agta gtaa taat aata atat tatc atcc tcca ccaa caat aatg atgt tgta gtaa taaa aaaa aaag aaga agat gatg atgc tgca gcaa caaa aaat aatg atgc tgca gcat cata atac tacc accc ccca ccac caca acaa caaa aaac aact actg ctgt tgta gtaa taaa aaat aatg atga tgaa gaaa aaat aatt atta ttaa taaa aaat aatt attg ttgt tgtc gtcc tcca ccat cata atat tatc atct tcta ctaa taat aata atag tagt agta gtaa taat aata ataa taat aatt attt tttt tttg ttga tgag gagg aggt ggta gtag tagg aggg gggc ggcc gcca ccac cacc acct cctg ctgc tgca gcat catt attt ttta ttag tagg agga ggat gata ataa taac aaca acag caga agac gaca acag cagt agtt gttt tttc ttca tcag cagt agta gtaa taaa aaag aagt agta gtaa taat aatt atta ttaa taag aagg agga ggaa gaaa aaaa aaac aaca acaa caac aacg acga cgag gaga agaa gaat aata ataa taaa aaat aatc atca tcaa caaa aaaa aaaa aaat aatt attt tttg ttgc tgcc gcca ccaa caat aatc atct tctc ctct tcta ctag taga agat gata ataa taat aatg atga tgat gatg atga tgaa gaat aatg atgt tgta gtag tagc agca gcac cacg acgc cgca gcat catt attc ttca tcac caca acat cata ataa taag aagg aggt ggtt gttt tttt tttt tttg ttgc tgct gctg ctga tgac gaca acat catt attc ttca tcag caga agag gagt agtc gtcc tcct cctt cttg ttgt tgtg gtga tgat gatg atgt tgtt gtta ttag tagt agtt gttt tttg ttgg tgga ggaa gaaa aaac aact actt cttc ttca tcag caga agat gata atat tata atat tatg atgt tgta gtaa taaa aaat aatg atgt tgta gtag tagt agta gtat tata atag tagg aggg ggga ggaa gaag aagc agct gctt cttc ttca tcat catc atca tcag cagg aggt ggta gtat tatc atca tcag caga agat gatg atgc tgct gctt cttc ttca tcat catt atta ttac taca acaa caaa aaaa aaac aacg acgc cgca gcaa caag aaga agac gaca acaa caag aagt agtg gtgt tgtt gttt tttt tttc ttct tctg ctga tgaa gaaa aaat aata atag taga agaa gaag aaga agat gata atag tagt agta gtag taga agag gaga agaa gaag aaga agaa gaaa aaaa aaat aata atac tact actg ctgc tgct gcta ctat tata atac tacg acgt cgta gtac tact actc ctcc tcca ccag caga agaa gaac aaca acat catt attt ttta ttaa taat aata atat tatc atcc tccc ccca ccaa caaa aaaa aaaa aaag aagg aggc ggct gctt cttt tttt tttc ttca tcat catc atcc tcca ccat catt attt tttt ttta ttag taga agaa gaaa aaag aagt agtt gttc ttcc tcct cctt ctta ttac taca acac caca acaa caaa aaag aagt agtt gtta ttaa taag aagg aggg ggga ggag gagt agtg gtgt tgtt gtta ttag taga agag gagg agga ggaa gaat aatt attt tttg ttga tgat gatt attt ttta ttaa taat aatc atcc tccc ccct cctc ctcg tcgt cgtg gtgt tgtt gttg ttga tgat gata ataa taag aaga agag gaga agaa gaaa aaac aacc accc ccca ccag caga agag gagc agca gcac cact actg ctgt tgtg gtgt tgta gtaa taaa aaac aact actc ctca tcag caga agaa gaaa aaat aatg atgg tgga ggaa gaaa aaaa aaaa aaaa aaac aacc acct cctg ctgc tgcc gcca ccac cact actc ctct tcta ctat tatt atta ttaa taaa aaag aagt agtt gttt tttc ttct tctc ctcc tcca ccat cata atat tatc atct tctc ctct tctc ctct tctc ctca tcaa caat aatt attt tttc ttca tcaa caac aaca acaa caag aaga agac gaca acaa caaa aaac aaca acaa caac aaca acag cagt agtt gttg ttgg tggt ggta gtac tacc acct ccta ctaa taaa aaaa aaaa aaac aacg acgt cgta gtaa taaa aaaa aaaa aaat aatg atgg tgga ggaa gaaa aaat aatt attg ttgg tggt ggta gtaa taaa aaaa aaac aact actg ctga tgaa gaaa aaac aact actt cttt tttt tttt tttc ttct tctg ctga tgat gatg atgt tgtt gttc ttcc tcct cctg ctgt tgtg gtga tgaa gaaa aaag aagc agca gcag cagt agta gtag taga agaa gaaa aaat aatt attg ttgc tgct gcta ctaa taaa aaag aagc agct gctt cttt tttt ttta ttat tatg atgg tgga ggaa gaag aaga agat gatg atga tgat gatg atga tgaa gaac aact actg ctga tgac gaca acag caga agat gatt attc ttct tcta ctaa taaa aaac aact actg ctgc tgcc gcca ccat catc atca tcaa caag aaga agaa gaat aatt attg ttgg tgga ggaa gaaa aaaa aaaa aaag aaga agaa gaag aaga agag gagg agga ggag gaga agag gagc agcc gccc cccc ccct cctt ctta ttat tatc atct tctt ctta ttag tagt agtg gtgg tggg gggt ggta gtaa taag aagt agtg gtgt tgtt gttc ttca tcat catt attt tttt tttt ttta ttaa taaa aaat aatt atta ttaa taag aaga agag gagt agtg gtgt tgtt gtta ttat tata ataa taaa aaac aact acta ctat tatg atgt tgtc gtct tctt cttt tttt tttc ttca tcag cagc agcc gcca ccat catt attt tttt tttt tttg ttgt tgtg gtgt tgta gtag tagt agtc gtca tcag cagt agtt gttt tttg ttgg tggg gggg gggg ggga ggag gagt agta gtac taca acag caga agat gatt attc ttcg tcga cgat gata atat tatc atct tctc ctct tctg ctga tgaa gaat aatc atct tctg ctgt tgta gtat tata atac tacc acca ccaa caag aaga agaa gaaa aaat aatc atca tcat catg atgt tgtt gttt tttt ttta ttaa taag aagg aggg gggt ggtc gtct tctc ctca tcaa caat aata atat tatc atct tctc ctct tcta ctag taga agaa gaaa aaaa aaat aatt attt tttg ttga tgaa gaaa aaac aact actc ctct tctt ctta ttaa taac aaca acaa caaa aaaa aaac aacc acct cctg ctgc tgca gcat cata ataa taat aata atac tact acta ctaa taac aact actt ctta ttaa taac aact actg ctgt tgtt gttt tttt tttc ttca tcat cata ataa taag aagg aggc ggcg gcgg cggg gggc ggcg gcgg cgga ggat gatc atca tcac cacg acga cgag gagg aggt ggtc gtca tcag cagg agga ggag gaga agat gatc atcg tcga cgag gaga agac gacc acca ccat catc atcc tccc cccg ccgg cggc ggct gcta ctaa taaa aaaa aaac aacg acgg cggt ggtg gtga tgaa gaaa aaac aacc accc cccc cccg ccgc cgct gcta ctac tact actt cttg ttgg tggg ggga ggag gagg aggc ggct gctg ctga tgag gagg aggc ggca gcag cagg agga ggag gaga agaa gaat aatg atgg tggc ggcg gcgt cgtg gtga tgaa gaac aacc acct cctg ctgg tggg ggga ggag gagg aggc ggcg gcgg cgga ggag gagc agct gctt cttg ttgc tgca gcag cagt agtg gtga tgaa gaaa aaaa aaaa aaaa aaaa aaaa aaaa aaaa aaag aagt agtt gttg ttgg tggt ggtt gttt tttc ttcc tccg ccga cgat gatt atta ttat tata atac tacc acca ccat catt attt ttta ttac tact actg ctgg tggg gggt ggta gtaa taat aata atat tata atat tata atac tact acta ctac tact actt ctta ttag tagt agtt gtta ttac taca acat catg atgg tggg gggc ggcg gcgt cgtg gtgg tggc ggcg gcgc cgct gctc ctca tcat catg atgc tgcc gcct cctg ctgt tgta gtaa taat aatc atcc tccc ccca ccag cagc agca gcac cact actt cttt tttg ttgg tggg ggga ggag gagg aggc ggcc gccg ccga cgag gagg aggt ggtg gtgg tggg gggt ggtg gtgg tgga ggat gatc atca tcac caca acat cata atac taca acaa caaa aaaa aaaa aaaa aaat aatt atta ttag tagc agcc gcca ccaa caag aagc agcg gcgt cgtg gtgg tggt ggtg gtgg tggc ggcg gcgc cgcg gcgc cgca gcac cacc acct ccta ctat tata ataa taat aatc atcc tccc ccca ccaa caac aact acta ctac tact actc ctcc tcca ccag caga agaa gaag aagc agct gctc ctct tctg ctgc tgct gctc ctct tctc ctcc tcca ccag cagc agcc gcct cctg ctgg tggg gggc ggca gcaa caac aaca acag caga agag gagc agcg gcga cgag gaga agac gact actg ctgt tgtc gtct tctc ctca tcaa caaa aaaa aaaa aaaa aaaa aaaa aaaa aaaa aaaa aaaa aaaa aaaa aaaa aaaa aaaa aaaa aaag aagt agtg gtgt tgta gtag tagc agct gctt cttg ttgc tgct gctc ctcc tccc ccct cctt cttt tttt tttt tttt tttt tttc ttca tcat catt attt ttta ttag tagg agga ggaa gaag aagt agtg gtga tgat gatc atct tcta ctaa taaa aaaa aaaa aaac aaca acag cagt agta gtat tatt attg ttgt tgtt gtta ttag tagt agta gtaa taaa aaat aatg atgg tggt ggta gtac taca acaa caac aact actt ctta ttag tagt agtt gttc ttca tcaa caac aact acta ctac taca acag cagt agtc gtca tcat catg atgt tgtg gtgt tgtc gtca tcat catt attt tttg ttga tgac gaca acag cagg aggg ggga ggat gata atat tata atat tatg atgt tgtt gttc ttct tctg ctga tgag gaga agaa gaaa aaat aata atag taga agat gata atag tagc agcc gcct ccta ctac tact acta ctat tata atat tata atac tacc acct ccta ctag tagg aggc ggct gctg ctgt tgta gtat tatg atgg tggt ggta gtat tata atag tagc agct gctt ctta ttat tatt attg ttgc tgct gctc ctcc tcct ccta ctag tagg aggc ggct gctg ctgc tgca gcaa caaa aaac aacc acct ccta ctat tata atat tatg atgt tgtg gtga tgaa gaac aaca acat cata atag taga agaa gaaa aaaa aaag aagg aggt ggta gtac taca acag cagt agta gtaa taaa aaaa aaaa aaat aata atac tacg acgg cggt ggta gtat tatt atta ttaa taaa aaaa aaat aatc atct tctt ctta ttat tatg atgg tggg gggg gggc ggct gctg ctgg tggg gggc ggct gctc ctct tctc ctca tcag cagg agga ggag gagt agtt gttt tttg ttga tgag gaga agac gacc acca ccag cagc agcc gcct cctg ctgg tggc ggcc gcca ccaa caac aaca acat catg atgg tggt ggta gtaa taaa aaaa aaac aacc acct cctt cttg ttgt tgtc gtct tctc ctct tcta ctac tact acta ctaa taaa aaaa aaaa aaat aata atat tata ataa taac aaca acag cagg agga ggag gaga agaa gaat aatc atca tcac cact actt cttg ttga tgaa gaac aacc accc ccct cctg ctgg tgga ggag gagg aggc ggca gcag caga agag gaga agat gatt attt tttc ttca tcag cagt agtg gtga tgag gagc agcc gcca ccaa caag aaga agat gatc atcg tcgc cgca gcac cacc acca ccac cact actg ctgc tgcc gcca ccac cact acta ctat tatt atta ttaa taaa aaag aagt agtc gtct tctt ctta ttat tata atag tagg agga ggat gatg atga tgac gacc acca ccat catt attg ttgc tgca gcat cata atat tatg atgt tgtg gtgg tggt ggtc gtct tcta ctat tatt attg ttgt tgtt gttg ttga tgac gacc acca ccaa caaa aaaa aaat aatg atgt tgtc gtct tctg ctgg tggt ggtt gttt tttt tttg ttgt tgtt gttt tttt tttt tttt tttt tttg ttgt tgtg gtgt tgtg gtgt tgtg gtgt tgtt gttt tttt tttt tttt tttt tttc ttct tcta ctat tatt atta ttag tagt agtg gtgt tgta gtat tatc atct tctg ctga tgac gact actg ctgg tggt ggta gtaa taat aata ataa taat aatc atct tctt ctta ttat tatg atgg tgga ggat gata ataa taat aatc atct tctt ctta ttaa taaa aaat aata ataa taac aact acta ctag tagt agtt gttc ttcc tcct cctt cttt tttt tttt ttta ttaa taaa aaaa aaaa aaaa aaac aacc acct ccta ctat tata ataa taaa aaac aact actc ctca tcat cata ataa taaa aaaa aaaa aaat aata atat tatt attt tttt tttt tttc ttcc tcct cctc ctca tcat catt attc ttca tcaa caaa aaaa aaaa aaag aagt agtg gtgc tgcc gcct cctt cttt tttt tttg ttgc tgcc gccc cccc ccct ccta ctaa taag aagt agtc gtca tcat catt attc ttct tctg ctgg tggt ggtg gtgg tgga ggat gata atac taca acag caga agat gatt attt ttta ttac tact actt ctta ttaa taat aata atat tata atag tagt agta gtac tact actt ctta ttaa taaa aaac aact acta ctat tatt attt tttg ttgc tgct gctg ctgt tgtc gtcc tcct cctt cttt ttta ttag tagt agtg gtgt tgtg gtga tgaa gaaa aaat aatt attc ttct tctg ctga tgag gagg aggt ggta gtat tata atat tata atat tatg atgc tgct gctt ctta ttaa taaa aaat aatg atgt tgtg gtgc tgca gcat cata atac tact actg ctga tgaa gaag aagt agta gtat tata atat tatt attg ttga tgac gact actt cttt tttc ttcc tcca ccac cacc acct ccta ctag tagg aggg ggga ggaa gaaa aaaa aaaa aaaa aaaa aaaa aaaa aaaa aaac aaca acaa caat aata ataa taac aact actc ctca tcag caga agac gact acta ctat tata ataa taac aact actt ctta ttag tagt agtc gtca tcag cagc agct gctt cttc ttct tctg ctgg tggt ggtt gtta ttac tact actg ctgg tgga ggaa gaac aaca acag cagt agta gtac taca acag cagg aggt ggtc gtca tcac cact actg ctgt tgtt gtta ttaa taaa aaac aaca acaa caat aatt atta ttaa taaa aaac aacc acca ccat cata atac taca acaa caaa aaat aatt attt ttta ttat tatt attc ttcc tccc ccct cctg ctgt tgta gtaa taat aata ataa taaa aaag aagc agca gcat catc atca tcaa caaa aaaa aaaa aaag aagc agca gcaa caaa aaag aagt agta gtac tacc acct cctg ctgt tgtt gtta ttat tata atat tata atat tatt atta ttat tatc atct tctc ctca tcag caga agaa gaat aatt attt tttt tttt ttta ttaa taaa aaat aata ataa taag aaga agaa gaat aatt attg ttgt tgtt gttt tttc ttct tcta ctat tatt atta ttac tact acta ctag tagt agta gtac tact actt cttt ttta ttaa taat aatg atgt tgta gtaa taat aatt attt tttg ttga tgat gata ataa taat aatt attg ttgt tgta gtat tatg atgc tgcc gccc cccc cccc cccg ccgt cgtg gtgc tgct gctg ctga tgaa gaaa aaaa aaaa aaaa aaaa aaaa aaaa aaaa aaaa aaaa aaaa aaaa aaaa aaaa aaaa aaag aaga agag gaga agag gaga agaa gaaa aaaa aaaa aaag aagt agtt gttt ttta ttat tatt attt tttg ttga tgaa gaag aaga agaa gaaa aaat aatt attt tttt tttg ttgt tgtt gtta ttat tatc atct tctg ctgt tgtg gtgg tggt ggta gtat tatc atct tctg ctgg tggt ggta gtag tagc agca gcat catc atct tctg ctgt tgtt gttt ttta ttat tatc atcc tcct ccta ctat tatt attt ttta ttag tagg agga ggat gatt attt ttta ttat tatc atcc tcct cctg ctgt tgtt gttt ttta ttag taga agac gacc accc ccca ccac cact actg ctga tgac gact actt cttt ttta ttac tact actc ctct tctt cttt tttc ttca tcaa caaa aaac aaca acat catt atta ttag tagg aggt ggtc gtca tcac cact acta ctat tatt attt tttg ttgt tgtt gttg ttgt tgta gtaa taag aagt agta gtat tatt attt tttt tttt tttg ttgt tgtt gttt ttta ttaa taac aaca acat catg atga tgat gata atat tatt atta ttat tatt attt tttg ttgc tgcc gcct cctt ctta ttaa taaa aaaa aaaa aaac aaca acat cata atat tata atat tatg atga tgaa gaaa aaat aata atat tatt attt tttc ttct tctt cttt tttt tttt ttta ttag tagg agga ggag gaga agaa gaac aacc accc ccct cctc ctca tcaa caat aatc atca tcaa caat aatt attc ttca tcaa caaa aaaa aaaa aaag aagc agca gcac cact actc ctcc tcca ccag caga agat gatg atgg tggt ggta gtaa taaa aaaa aaat aatt atta ttag tagc agct gctt cttt tttt tttt ttta ttat tatt attt ttta ttat tata atat tatc atct tctg ctgt tgtt gttc ttct tctc ctcc tccc ccct cctc ctct tcta ctat tata ataa taac aaca acag caga agac gaca acat catg atga tgag gagc agcc gcca ccac cact actg ctgt tgtg gtgc tgcc gcct ccta ctaa taat aatc atca tcaa caag aagg agga ggac gacc acct cctc ctct tctt cttt ttta ttat tata atac tact actc ctct tctt ctta ttaa taaa aaaa aaaa aaat aatt atta ttac tact actg ctga tgag gagg aggt ggta gtaa taaa aaat aatt attg ttga tgat gatt atta ttaa taat aatg atgt tgtt gtta ttaa taaa aaaa aaat aatt atta ttag tagt agta gtaa taat aata atat tatt atta ttat tatg atgc tgcg gcgt cgtt gttg ttgg tggt ggtc gtca tcat catt attt tttg ttgg tgga ggaa gaag aaga agat gata atat tatg atga tgag gagt agtt gttc ttct tctt cttt tttc ttca tcat catt attg ttga tgat gatg atgc tgcc gcca ccat catt atta ttac tacc accg ccga cgat gatc atca tcag caga agaa gaaa aaaa aaag aagt agtt gttt ttta ttaa taag aagt agta gtag tagt agta gtag taga agaa gaaa aaag aagc agct gctg ctgt tgtc gtca tcaa caag aagc agct gctt ctta ttac tacc accg ccgg cggc ggca gcaa caat aata ataa taag aagt agta gtat tatt attg ttgt tgtc gtca tcac cact actt ctta ttat tatt attt tttt tttt tttc ttct tctt cttg ttgt tgta gtag tagg aggt ggtg gtga tgac gaca acaa caag aagc agct gctt ctta ttat tatt attt tttt tttc ttca tcat catt attc ttca tcat catt attt tttt ttta ttaa taag aagt agta gtaa taaa aaaa aaag aagg aggt ggta gtat tatt attt tttc ttca tcat catg atga tgaa gaaa aaaa aaaa aaaa aaat aata atag tagc agct gcta ctag tagt agta gtat tata atag tagc agct gctc ctca tcac caca acaa caac aact actc ctca tcaa caat aatc atca tcat catt attt ttta ttaa taag aagt agtg gtga tgac gaca acag cagt agtg gtga tgaa gaaa aaaa aaag aagg agga ggac gaca acat cata atac taca acat cata ataa taac aaca acat catt attt tttt ttta ttac tact acta ctaa taat aata ataa taag aaga agac gaca acag cagt agtt gttt tttt tttg ttga tgac gaca acag cagc agct gctt cttg ttgg tgga ggat gatt attc ttcc tcct ccta ctat tata ataa taat aata atat tata atat tata atac taca acat cata ataa taat aata ataa taat aatc atct tcta ctaa taaa aaat aatt attt ttta ttac taca acaa caat aata atat tatc atca tcag cagt agta gtat tatt atta ttaa taac aact acta ctac tact actg ctga tgac gaca acaa caat aata ataa taaa aaaa aaac aact actc ctcc tccc ccct ccta ctat tatc atct tctg ctga tgaa gaaa aaat aatg atgc tgct gctt cttg ttgg tggg ggga ggac gacc acca ccag cagg agga ggac gact acta ctat tatt attt tttc ttca tcag caga agat gatt attt tttc ttca tcag caga agat gatt attt tttt tttt tttt tttc ttca tcag caga agat gatt attt tttt tttg ttgg tgga ggaa gaaa aaat aatt attt ttta ttat tatt attt ttta ttaa taag aagt agtt gttt tttc ttca tcat cata ataa taaa aaac aaca acac cacc acct cctt ctta ttat tata atac taca acat cata atat tata ataa taac aact actt ctta ttaa taaa aaat aatg atgt tgta gtaa taat aatt attt tttt ttta ttat tata atac taca acaa caag aagt agtg gtgg tgga ggaa gaat aatt attt tttt tttc ttct tcta ctac tact actg ctgg tggc ggcc gcct cctc ctca tcat catg atgt tgtt gttg ttgg tggc ggca gcac cact actc ctca tcaa caaa aaaa aaaa aaag aagt agtt gttt tttc ttca tcag cagg aggt ggtt gttt tttg ttgt tgtg gtga tgac gacc acca ccat catt attt tttt tttg ttgt tgtg gtgt tgtt gttc ttca tcaa caaa aaat aatg atgt tgtc gtca tcac cact actc ctca tcaa caaa aaaa aaat aata ataa taat aatt attc ttct tctt cttc ttcc tccg ccgg cgga ggat gatg atgt tgtg gtgg tggt ggtt gtta ttac tacc acca ccaa caat aatt attt tttg ttga tgat gata ataa taat aatt atta ttag tagg aggt ggta gtac taca acat catt attt tttg ttga tgaa gaat aata ataa taaa aaat aata ataa taaa aaaa aaac aaca acat catt atta ttac taca acat cata atag tagt agtt gttc ttca tcat catt attc ttca tcat catc atca tcag caga agaa gaac aact acta ctac taca acaa caaa aaaa aaaa aaag aagg aggt ggta gtat tata atac tact actt cttc ttca tcag cagg agga ggat gatt attc ttct tctg ctgt tgtt gttt ttta ttaa taat aata ataa taaa aaaa aaaa aaat aata ataa taag aagc agca gcaa caaa aaat aata atac taca acat catg atgt tgta gtat tata atat tata atac tact actc ctca tcat catt atta ttac tacc accc ccct cctt cttt tttc ttct tctt ctta ttac tact acta ctat tatt atta ttat tatt attt tttg ttgg tgga ggag gaga agat gatg atga tgac gact actc ctcc tcct cctt ctta ttaa taat aatg atga tgag gagt agta gtat tata atat tata atag taga agag gaga agat gatc atcg tcgt cgtc gtcc tcct cctc ctca tcat catt attc ttct tctt cttt tttt tttt tttt tttg ttgt tgtg gtgg tggt ggta gtac tact acta ctag tagt agtg gtgg tgga ggac gact actt ctta ttat tatt attg ttga tgaa gaag aaga agat gatt attt ttta ttaa taat aatt atta ttag tagg aggt ggtt gttc ttcc tcca ccag cagt agtt gtta ttac taca acat cata atac tact actg ctga tgag gaga agaa gaat aatg atga tgaa gaac aaca acaa caat aata atat tata ataa taat aatt atta ttag tagc agct gcta ctaa taac aaca acac cacc acct cctt cttt tttg ttga tgag gagt agtt gtta ttat tatg atga tgat gatg atgg tggt ggtt gtta ttaa taac aaca acat catc atca tcaa caac aact actg ctga tgac gact acta ctaa taaa aaat aatt attt ttta ttat tatg atgc tgct gctg ctga tgat gatt atta ttat tatt attt ttta ttat tatt attt tttt tttc ttca tcat cata atag tagt agtt gtta ttaa taac aaca acat catt attt ttta ttat tatt attg ttga tgag gagc agca gcat catc atct tctg ctgt tgtt gtta ttac taca acat catt attc ttca tcac cact actg ctga tgaa gaaa aaaa aaat aatt attg ttgt tgta gtaa taaa aaag aagc agca gcac cact acta ctaa taat aata atat tatg atgt tgta gtaa taat aata atat tata ataa taaa aaaa aaat aata ataa taat aatt attg ttgt tgtt gttt tttc ttcc tcct ccta ctag tagg aggc ggca gcac caca acaa caat aata ataa taaa aaaa aaag aaga agat gatc atcg tcga cgaa gaag aaga agat gatt attg ttgt tgtt gttt ttta ttat tatt attt tttt tttc ttct tcta ctaa taaa aaat aatt attc ttct tcta ctaa taat aata atac taca acag cagt agta gtat tatg atga tgag gaga agaa gaaa aaaa aaag aagt agtc gtct tctc ctcg tcgt cgtt gttt tttt tttt ttta ttat tata ataa taaa aaat aatg atga tgaa gaac aaca acat catt attt tttc ttct tcta ctaa taaa aaat aatt attg ttgg tggt ggta gtag tagt agta gtat tatt attt tttt ttta ttat tata atag tagt agtg gtgc tgct gctg ctgt tgtt gttc ttca tcat cata atat tatc atca tcat catt atta ttat tatt attt tttt ttta ttat tatt attt tttt tttt tttt ttta ttaa taat aatt attt tttt ttta ttat tatg atga tgac gaca acag cagc agct gctt ctta ttaa taag aagg agga ggaa gaaa aaat aatt attg ttgc tgct gctc ctcc tccg ccga cgaa gaat aatc atca tcag cagt agtt gtta ttaa taac aaca acaa caaa aaaa aaaa aaag aaga agat gatt attg ttgc tgca gcag caga agat gata atat tatt atta ttaa taaa aaaa aaaa aaat aata atat tatc atcc tcct cctt cttt tttt ttta ttaa taag aagg agga ggac gaca acaa caat aatg atga tgat gatg atga tgag gaga agaa gaag aaga agaa gaaa aaac aaca acaa caac aaca acaa caaa aaaa aaag aagt agtt gttt tttg ttgg tgga ggaa gaag aagc agcc gcca ccaa caaa aaaa aaaa aaac aaca acat cata ataa taaa aaag aagg agga ggat gatt attt ttta ttag tagt agta gtat tatg atga tgaa gaaa aaaa aaaa aaag aaga agat gatt attc ttca tcaa caaa aaat aatt attg ttgg tggc ggca gcag cagc agca gcaa caac aaca acag cagg aggt ggta gtac tact actt cttc ttct tctg ctga tgaa gaag aagg aggt ggtg gtga tgaa gaag aagt agta gtag taga agaa gaaa aaaa aaat aata atag tagg agga ggaa gaag aagt agta gtat tatc atcc tcct cctt cttc ttct tctt cttc ttct tctg ctgc tgcc gcca ccag cagg agga ggaa gaaa aaat aatc atca tcag caga agaa gaag aagg aggt ggtt gttg ttgt tgtt gttc ttct tctt cttg ttga tgaa gaaa aaaa aaaa aaag aaga agat gatg atga tgaa gaat aatt attg ttga tgag gaga agag gagg agga ggat gatt atta ttaa taat aatg atga tgaa gaaa aaag aaga agat gatc atca tcag caga agat gata atac taca acaa caaa aaat aatc atct tctg ctgt tgta gtat tatg atgt tgtc gtca tcaa caag aagc agca gcag cagt agtg gtga tgag gaga agac gacc acct ccta ctag tagc agct gctc ctcc tcct cctt cttc ttcc tccc ccca ccac caca acac cact acta ctat tatg atgc tgcc gcct cctg ctga tgac gacc accc ccca ccaa caat aata atag taga agaa gaaa aaaa aaag aaga agac gacc acca ccaa caaa aaaa aaaa aaaa aaat aata atac tact actg ctga tgac gaca acag cagt agtt gttg ttga tgag gagg agga ggat gata atac tact actc ctca tcag caga agat gatg atga tgaa gaaa aaac aacc acct ccta ctac tact actt ctta ttag tagt agtg gtgc tgct gctt cttc ttca tcac cact actt cttt tttt ttta ttaa taaa aaat aata ataa taag aaga agaa gaaa aaaa aaag aaga agat gata atag tagt agtc gtca tcaa caaa aaag aaga agat gata ataa taac aact acta ctag tagt agtc gtca tcat catt attg ttgg tgga ggaa gaag aagg agga ggaa gaaa aaat aatc atcg tcga cgac gact acta ctat tatg atga tgaa gaaa aaaa aaac aact actt cttc ttca tcat cata ataa taaa aaaa aaaa aaac aacc acct ccta ctac tact acta ctaa taat aata atat tatt attc ttct tctc ctca tcag cagg aggt ggta gtaa taag aaga agaa gaaa aaaa aaag aaga agaa gaaa aaaa aaaa aaac aaca acac caca acaa caaa aaat aata ataa taaa aaat aatt atta ttaa taac aact actc ctca tcag cagt agta gtag taga agaa gaaa aaat aata ataa taat aatg atgg tgga ggaa gaag aaga agaa gaat aatc atca tcat catg atga tgaa gaaa aaag aagt agtt gttc ttcc tccc ccca ccag caga agaa gaat aata atac taca acag caga agat gatt attt tttg ttga tgag gaga agaa gaag aagg agga ggaa gaag aagg aggc ggca gcac caca acag caga agaa gaag aaga agag gaga agaa gaaa aaat aatg atga tgaa gaag aaga agaa gaaa aaag aaga agaa gaaa aaat aatt attt tttt ttta ttaa taaa aaaa aaat aata ataa taaa aaat aata atac taca acat cata ataa taat aatt attg ttga tgag gagc agca gcac caca acac caca acaa caag aagt agta gtaa taaa aaaa aaaa aaat aatg atga tgac gacc accc ccca ccac caca acag cagt agta gtaa taag aagg aggc ggca gcac caca acat catc atcc tcct cctt cttg ttgt tgtg gtga tgaa gaat aatt attt tttt tttt ttta ttag taga agaa gaat aata ataa taat aata ataa taaa aaag aagc agcc gcca ccat cata ataa taat aata atag tagt agta gtat tatg atga tgaa gaat aatt attc ttct tctc ctct tctt ctta ttat tatt atta ttat tatc atca tcaa caac aaca acaa caat aatg atgg tgga ggaa gaat aatc atct tcta ctag taga agaa gaag aaga agac gact actg ctgt tgta gtag taga agat gatc atct tctt cttg ttga tgaa gaat aatt atta ttaa taag aagt agtg gtgt tgtg gtga tgag gagg aggg gggt ggta gtag taga agac gaca acat catt attt tttt tttt tttc ttca tcag caga agat gatg atgt tgtg gtga tgaa gaag aagt agta gtac tact acta ctaa taaa aaaa aaag aaga agat gatc atct tctc ctct tctt cttg ttgt tgtg gtgc tgcg gcgt cgtt gtta ttaa taag aaga agaa gaaa aaat aata ataa taag aaga agaa gaat aatt attc ttca tcaa caac aaca acat cata atag taga agaa gaag aaga agag gaga agag gagg aggc ggca gcaa caaa aaag aagg aggg ggga ggag gagc agct gctt cttt tttc ttca tcag cagg agga ggat gatg atga tgat gata atat tatt attg ttga tgaa gaat aatg atga tgaa gaag aaga agaa gaag aaga agat gata ataa taag aaga agag gaga agac gact actt cttt tttg ttgg tgga ggaa gaag aaga agag gagt agtt gttt tttg ttgc tgcc gcct cctt cttc ttca tcaa caag aaga agat gata ataa taaa aaaa aaaa aaat aata ataa taaa aaag aagc agca gcag cagt agta gtac tacc acct cctg ctgg tggg gggc ggct gctt ctta ttac taca acac cacc acct cctg ctgt tgta gtaa taat aatc atcc tcca ccag cagc agca gcac caca acat catt attg ttgg tggg ggga ggag gagg aggc ggct gctg ctga tgag gagg aggt ggtg gtgg tggg gggt ggta gtag taga agat gatc atca tcac cact actt cttg ttga tgag gagg aggc ggcc gcca ccag cagt agta gtag tagc agcc gcca ccag cagg aggc ggcg gcgt cgtg gtgg tggt ggtg gtgg tggc ggca gcac caca acac cacg acgc cgcc gcct cctg ctgt tgta gtaa taat aatc atcc tccc ccca ccag cagc agct gcta ctac tact actc ctcc tcca ccag caga agag gagg aggc ggct gctg ctga tgag gagg aggc ggca gcac caca acaa caag aaga agag gagt agtg gtga tgac gaca acag caga agag gagt agtg gtga tgag gaga agac gact actc ctct tctg ctgt tgtc gtct tctc ctca tcaa caaa aaaa aaaa aaaa aaaa aaaa aaaa aaaa aaaa aaaa aaaa aaaa aaaa aaaa aaaa aaaa aaaa aaaa aaaa aaaa aaaa aaag aaga agat gatg atgg tggt ggtg gtga tgaa gaat aatt attg ttga tgaa gaac aaca acac caca acac caca acac caca acac caca acaa caaa aaaa aaaa aaaa aaaa aaaa aaaa aaaa aaac aaca acaa caag aagg agga ggaa gaaa aaaa aaat aata atag tagg agga ggaa gaaa aaat aata ataa taac aaca acaa caaa aaag aagt agta gtaa taac aact acta ctaa taaa aaat aatt attt tttc ttct tctc ctca tcaa caaa aaaa aaac aaca acac cact actc ctca tcag cagg aggt ggtc gtct tctc ctca tcaa caaa aaaa aaag aaga agac gact acta ctag tagg agga ggaa gaat aatt attg ttgg tggt ggtg gtgg tggc ggct gctt cttc ttca tcat catt attt tttc ttct tctt ctta ttat tatc atct tctt cttt ttta ttag taga agaa gaat aatt attg ttgg tggg gggt ggtg gtgc tgcc gccg ccgg cggg gggt ggta gtac tacg acgg cggt ggtg gtgg tggc ggct gctc ctca tcac caca acat catg atgg tgga ggag gagg aggc ggct gctg ctga tgag gagg aggc ggcg gcgg cggg gggt ggtg gtga tgaa gaat aatc atca tcac cacc acct cctg ctga tgag gagg aggt ggtc gtca tcag cagg agga ggaa gaat aatt attc ttcg tcgg cggc ggca gcat catg atgg tggt ggta gtag tagc agca gcat catg atgc tgcc gccc cccc ccct cctg ctgt tgta gtaa taat aatc atcc tcca ccag cagc agct gcta ctac tact actc ctca tcag cagg agga ggag gagg aggc ggct gctg ctga tgag gagg aggt ggtg gtgg tggg ggga ggag gaga agaa gaac aact actg ctgc tgct gctt cttg ttga tgac gaca acag caga agag gagc agca gcaa caag aaga agac gacc accc cccc ccca ccac caca acat catc atca tcaa caaa aaaa aaaa aaaa aaaa aaaa aaaa aaaa aaaa aaaa aaaa aaaa aaaa aaaa aaaa aaaa aaag aagc agca gcag cagc agca gcag cagc agca gcag cagc agca gcaa caat aata atac tact actc ctca tcat catg atga tgag gagg agga ggat gata atac taca acag cagt agta gtag taga agaa gaag aagg aggt ggtg gtga tgaa gaac aaca acac caca acac cact acta ctag tagg aggc ggca gcac caca acag cagt agtt gttg ttga tgaa gaag aagg aggc ggca gcag caga agaa gaag aagc agca gcaa caac aact acta ctac tact actt cttg ttga tgaa gaaa aaac aacc acca ccac cacc acca ccac cact actc ctca tcag cagc agct gctt cttc ttcc tcca ccag caga agaa gaac aaca acat cata atag taga agac gaca acag cagc agct gcta ctaa taag aagt agtt gttt tttt tttc ttca tcac cact acta ctag tagt agtg gtgg tgga ggaa gaag aagt agtt gttt tttc ttcc tcca ccat catt attt ttta ttac taca acag cagc agcc gcct cctt cttt tttt tttg ttgg tggt ggtc gtcc tccc ccct cctc ctca tcac cact actc ctct tctt ctta ttaa taac aact acta ctat tata ataa taaa aaac aaca acag caga agac gaca acat catc atcc tcca ccaa caaa aaag aaga agat gatt atta ttat tatg atga tgag gaga agac gaca acat catc atca tcag caga agat gatt attc ttca tcaa caag aagg agga ggag gaga agaa gaag aaga agaa gaaa aaaa aaaa aaaa aaat aatg atgt tgtt gttt tttt tttt tttt tttt ttta ttaa taaa aaaa aaaa aaac aact acta ctat tata ataa taat aatt attt tttg ttgt tgtg gtga tgaa gaac aaca acag caga agaa gaat aatg atga tgaa gaaa aaaa aaag aaga agac gaca acag caga agat gatt attt tttt ttta ttaa taaa aaaa aaaa aaat aatt atta ttaa taac aact actc ctca tcaa caag aaga agag gaga agaa gaaa aaag aagc agca gcaa caaa aaaa aaag aagt agtt gttg ttgt tgta gtaa taaa aaag aagg agga ggaa gaag aagt agta gtac taca acac cact acta ctat tatt attt ttta ttat tata atac tacc accg ccga cgag gagg aggc ggcg gcgg cggg gggt ggtg gtgg tgga ggat gatc atca tcac caca acaa caag aagg aggt ggtc gtca tcag cagg agga ggag gaga agat gatc atcg tcga cgag gaga agac gacc acca ccat catc atcc tcct cctg ctgg tggc ggct gcta ctaa taac aaca acat catg atgg tggt ggtg gtga tgaa gaaa aaac aact actc ctcc tccc ccca ccag cagc agct gcta ctac tact actt cttg ttgg tggg ggga ggag gagg aggc ggct gctg ctga tgag gagg aggc ggca gcag cagg agga ggag gaga agaa gaat aatg atgg tggc ggca gcat catc atca tcaa caac aacc accc ccca ccag cagg agga ggag gagg aggc ggcg gcgg cgga ggag gagc agct gctt cttt tttc ttca tcaa caaa aaaa aaaa aaaa aaaa aaaa aaaa aaac aaca acaa caac aaca acaa caaa aaaa aaat aata ataa taaa aaaa aaaa aaaa aaaa aaat aata ataa taaa aaaa aaat aata ataa taaa aaaa aaat aata atat tata atac tact actg ctgc tgcc gcct ccta ctat tatt atta ttaa taat aata atac tact acta ctac taca acat cata atat tatg atgc tgct gctg ctgg tggg gggc ggct gctt cttc ttct tctg ctgg tggg gggt ggtc gtcg tcgt cgtg gtgt tgtg gtgg tggg gggg ggga ggac gact actt cttg ttgg tgga ggag gaga agaa gaac aact actt cttt tttt tttc ttct tctg ctgt tgtc gtcc tccg ccgg cggc ggct gcta ctaa taaa aaag aagg agga ggat gatt attg ttgt tgta gtat tatg atgt tgtg gtgt tgtc gtct tcta ctag tagc agct gcta ctaa taaa aaag aagg aggt ggtt gttt tttg ttgt tgta gtaa taaa aaat aatg atgc tgca gcac cacc acca ccaa caat aatc atca tcag cagc agca gcac cact actc ctct tctg ctgt tgta gtaa taaa aaaa aaat aata atag taga agac gacc acca ccaa caat aatc atca tcag cagg aggc ggcc gccg ccgc cgct gctc ctcg tcgg cggc ggct gctc ctcc tcca ccac cact actt cttc ttcc tcca ccat catg atgc tgcc gcca ccat catg atgg tgga ggaa gaat aatc atct tctt cttt tttg ttgt tgtt gttt tttt tttt tttt tttc ttca tcac cact actc ctct tctt cttt tttg ttgc tgca gcaa caat aatg atga tgaa gaat aatc atcg tcgt cgtc gtct tctg ctgc tgcg gcgg cggc ggct gctt cttc ttca tcac cact actc ctcc tcct cctg ctga tgaa gaag aagt agtc gtca tcag cagc agca gcaa caag aaga agac gacc acca ccac cacg acga cgaa gaac aacc accc ccca ccac cacc acca ccag cagg agga ggaa gaag aaga agaa gaag aaga agaa gaaa aaac aaca acaa caac aact actg ctga tgaa gaag aagt agtc gtca tcag cagc agca gcaa caag aaga agac gacc acca ccac caca acaa caaa aaac aacc accc ccca ccac cacc acca ccag caga agaa gaaa aaag aaga agaa gaag aaga agaa gaaa aaac aact actc ctct tctg ctgg tgga ggac gaca acac caca acat catc atct tctg ctga tgaa gaac aaca acat catc atcc tcct cctt cttc ttca tcat catt attc ttct tctt cttg ttga tgaa gaag aagt agtc gtca tcag cagc agca gcaa caag aaga agac gacc acca ccaa caag aaga agaa gaac aacc accc ccca ccac cacc acca ccag caga agaa gaag aagg agga ggaa gaac aacc acca ccaa caat aatt attc ttcc tccg ccgg cgga ggac gaca acac caca acag caga agag gagc agct gctg ctgt tgtg gtgt tgtt gttg ttga tgac gaca acag caga agag gagc agct gctg ctga tgaa gaat aatt attt tttt tttc ttca tcat catt attt tttt tttc ttct tctg ctgt tgta gtag tagg aggg gggg gggt ggta gtac tact actt cttc ttca tcaa caag aaga agag gaga agaa gaaa aaaa aaaa aaag aagt agtc gtca tcaa caag aagt agtt gttg ttgc tgca gcaa caaa aaaa aaat aatc atct tctt cttt tttt tttc ttct tcta ctag tagc agct gctg ctga tgat gata ataa taaa aaat aatt attt tttt tttt ttta ttaa taag aagc agcc gcct ccta ctaa taaa aaaa aaaa aaat aata atat tatc atca tcat catt attg ttga tgaa gaaa aaat aatt atta ttat tatt attc ttct tctc ctct tctg ctgt tgtc gtcg tcgc cgcc gccc ccca ccag cagg aggc ggct gctg ctgg tgga ggag gagt agta gtac taca acag cagt agtg gtgg tggc ggca gcac cacg acga cgat gatc atct tctt cttg ttgg tggc ggct gctc ctca tcac cact actg ctgc tgca gcaa caac aacc acct cctc ctct tctg ctgc tgcc gcct cctc ctcc tcca ccac cacc acca ccat catg atgc tgcc gccc cccg ccgg cggc ggct gcta ctaa taat aatt attt tttt tttt tttt tttg ttgt tgta gtat tatt attt tttt tttt ttta ttac tact acta ctag taga agag gaga agaa gaag aagg aggg gggg gggt ggtt gttt tttc ttca tcac cacc accg ccgt cgtg gtgt tgtt gtta ttag tagc agcc gcca ccag cagt agta gtac taca acag caga agac gacg acgt cgtg gtga tgag gagc agcc gcca ccac cact actg ctgt tgta gtac tacc acca ccag cagg aggc ggcc gcct ccta ctaa taat aatg atgt tgtt gtta ttac tacc acct cctt cttt tttt tttc ttca tcaa caaa aaaa aaaa aaac aaca acac cacc acct cctg ctga tgat gatt attg ttgt tgtg gtgg tggc ggca gcat cata atat tatg atgt tgta gtag taga agaa gaaa aaag aagc agcc gcca ccag cagg aggt ggtg gtga tgat gatt attt tttt tttt tttt tttt tttt tttt tttc ttca tcat catt attt tttc ttct tctt cttt tttt tttt tttt tttt tttt tttt tttt ttta ttat tatc atca tcaa caaa aaaa aaaa aaac aaca acag cagt agtt gttg ttgg tggg gggg ggga ggag gaga agaa gaat aata atag tagt agtt gttt ttta ttaa taat aatg atgt tgta gtat tatt attt ttta ttaa taac aaca acaa caaa aaac aaca acaa caaa aaac aaca acat catt attt tttg ttgt tgtt gtta ttaa taaa aaag aagt agta gtac tacc acct cctg ctgc tgct gctc ctca tcaa caaa aaac aact acta ctac tacg acgg cggg ggga ggaa gaac aacc acca ccag caga agac gaca acat catg atga tgaa gaaa aaaa aaac aaca acaa caag aaga agaa gaat aatt atta ttat tata ataa taat aatg atgt tgta gtaa taat aata atat tata ataa taaa aaat aatt attc ttct tcta ctag taga agaa gaat aata atag taga agat gatg atgt tgta gtaa taaa aaaa aaaa aaac aact actt cttc ttca tcag caga agac gaca acag caga agaa gaat aatg atgt tgta gtaa taaa aaag aaga agaa gaat aatg atgc tgct gctt cttg ttgg tggt ggtt gtta ttaa taaa aaag aaga agat gatg atgg tggc ggca gcat catt attc ttcc tcca ccaa caaa aaat aatc atct tctt cttg ttgg tgga ggaa gaat aatt attt tttg ttgt tgtg gtgt tgta gtat tatg atgt tgtc gtca tcat catt attt tttc ttct tctg ctga tgat gata ataa taag aagt agtt gttg ttga tgaa gaaa aaac aacc acct ccta ctag tagg aggt ggta gtag tagg aggt ggtg gtga tgat gata atag tagg aggc ggct gctg ctgt tgtc gtct tctt cttt tttg ttgg tgga ggaa gaag aagt agtt gttt tttc ttca tcag cagg agga ggag gaga agat gatt atta ttag tagt agta gtaa taaa aaat aata atac taca acag cagg aggt ggtc gtct tctt ctta ttaa taac aacc acct ccta ctag tagc agca gcag caga agag gagg agga ggag gagg aggt ggta gtag taga agag gagg aggg gggt ggta gtag taga agag gaga agaa gaat aatg atga tgat gatt attg ttga tgac gact actt ctta ttag taga agat gatt attt ttta ttaa taaa aaat aata atag taga agat gata atat tatc atct tctt cttg ttga tgag gagc agca gcat cata ataa taac aacc acct ccta ctac taca acaa caag aagg aggc ggca gcaa caaa aaac aact actc ctcc tcct cctt ctta ttat tata atac tact acta ctaa taaa aaaa aaaa aaaa aaag aagg aggt ggtt gttt ttta ttat tatt attc ttca tcat catt attc ttct tctt cttg ttgt tgtg gtgc tgca gcat catt atta ttag taga agat gatc atct tctc ctca tcat catc atct tcta ctag taga agat gatc atca tcac cacc acct cctg ctgt tgtt gttt tttg ttga tgaa gaag aaga agaa gaaa aaat aatc atca tcat catt attc ttcc tccc ccct ccta ctaa taag aagc agca gcag cagt agtt gttg ttgt tgtt gttg ttgt tgta gtac taca acat catc atct tctc ctct tctc ctca tcat catc atct tctt ctta ttaa taaa aaaa aaaa aaag aaga agaa gaac aaca acag cagc agcc gcct cctt cttt tttc ttct tctt ctta ttaa taag aagt agta gtaa taat aatc atct tctc ctca tcaa caat aatc atct tctc ctct tctt cttt tttg ttga tgag gagt agta gtac tact actc ctct tctc ctcc tcct cctg ctga tgaa gaac aacc accc ccca ccag cagt agtc gtct tcta ctag tagt agtc gtca tcag cagt agtc gtcc tcct cctt cttt tttc ttca tcag cagt agta gtag taga agaa gaac aact actg ctgg tggt ggtc gtcc tccc cccc ccct cctt cttt tttt ttta ttaa taaa aaac aaca acat cata ataa taag aaga agac gaca acag caga agat gatt atta ttat tatg atgt tgtc gtca tcat catt attt tttc ttct tctt cttt ttta ttac tact actc ctca tcag caga agaa gaac aact acta ctat tatt attc ttcc tccg ccgt cgtg gtgg tggt ggtg gtgt tgtg gtgc tgcc gcca ccat catt attt tttg ttgc tgct gcta ctat tatt attt tttt tttt tttc ttcc tcca ccag cagt agtc gtct tctg ctga tgac gacc acct cctt cttc ttct tcta ctaa taat aatg atgt tgtt gttc ttcc tccc cccc ccct cctt cttg ttgc tgct gctc ctct tctc ctcc tcct cctt cttg ttgc tgct gctc ctcc tcca ccag cagg aggc ggca gcac caca acac caca acaa caaa aaaa aaaa aaac aaca acaa caaa aaaa aaat aatt attt tttt tttg ttgt tgtt gtta ttac tacc accg ccgt cgtg gtgt tgtt gttc ttcc tccc cccc ccca ccag cagc agca gcaa caaa aaaa aaac aaca acaa caat aatg atgt tgtc gtct tctg ctgg tggc ggca gcac cacc acct cctg ctgg tggt ggta gtag tagg agga ggaa gaat aatt atta ttat tatc atcc tcca ccag cagg aggg gggt ggtt gttt tttg ttgg tggt ggta gtaa taaa aaaa aaag aagg agga ggaa gaaa aaat aatc atct tctg ctgg tggg gggg gggt ggtt gttt tttt tttc ttca tcaa caac aaca acaa caag aaga agat gata atat tatc atca tcaa caag aagt agta gtat tatt atta ttag tagg agga ggaa gaag aaga agac gaca acat catc atca tcaa caag aagg aggt ggta gtac taca acag caga agat gatg atgt tgtc gtct tctg ctga tgat gatg atgc tgct gcta ctat tata atat tatg atgt tgta gtag tagt agtg gtgt tgta gtaa taaa aaaa aaat aatg atgt tgta gtag tagg agga ggaa gaac aaca acaa caac aacc accc ccct ccta ctag tagg agga ggaa gaaa aaaa aaat aatg atga tgac gact actc ctca tcac caca acat catt atta ttag tagc agca gcaa caag aagg aggg ggga ggaa gaaa aaag aagt agtg gtgt tgtc gtct tcta ctaa taag aagg agga ggaa gaag aaga agac gaca acat catc atcc tcca ccag cagt agtt gttt tttt tttg ttgg tgga ggag gaga agac gact actt cttt tttt ttta ttaa taat aatt attt tttt ttta ttaa taaa aaaa aaag aaga agaa gaag aagg agga ggaa gaaa aaaa aaat aatg atgt tgta gtaa taaa aaac aact actg ctgt tgtc gtca tcat cata atag tagc agct gcta ctat tatt atta ttag tagg agga ggaa gaaa aaag aagt agtt gttg ttga tgag gagt agta gtag taga agaa gaat aatg atga tgag gagg aggt ggta gtag taga agag gagt agta gtag tagt agtg gtgg tggg ggga ggag gaga agaa gaaa aaat aatg atga tgag gaga agag gagt agtt gttt ttta ttat tatt attg ttga tgag gagt agta gtag taga agag gaga agat gatt attg ttga tgag gagg agga ggaa gaag aagt agtg gtga tgaa gaaa aaaa aaat aata atag tagc agct gcta ctag taga agat gata ataa taaa aaag aagg aggt ggtg gtga tgag gagt agtg gtga tgag gaga agaa gaaa aaaa aaat aata ataa taag aaga agag gagt agtt gttt tttc ttca tcaa caaa aaag aagg aggt ggta gtag tagg aggc ggca gcaa caag aaga agat gatt attt tttt tttt tttg ttgg tggg gggc ggct gcta ctaa taaa aaat aata ataa taaa aaaa aaat aatt attg ttga tgaa gaaa aaag aaga agag gagg aggg gggg ggga ggat gatc atct tctc ctcc tcct cctg ctgt tgtg gtgg tgga ggag gaga agac gact actg ctga tgag gagg aggt ggta gtat tatt atta ttag tagg aggc ggcg gcgg cgga ggag gagt agta gtag taga agag gaga agag gagt agtt gttc ttca tcag cagg aggt ggtg gtgt tgta gtac tact acta ctat tatg atga tgat gatg atgg tgga ggaa gaat aatt atta ttag taga agag gagg aggg gggg ggga ggac gaca acac caca acac cact actg ctga tgag gaga agag gagg aggg gggt ggtc gtcc tcca ccac caca acac cact actt cttg ttga tgac gaca acag caga agac gact actc ctct tctc ctct tctt cttc ttct tctg ctgt tgtt gttt tttt tttg ttgg tgga ggaa gaat aatg atgg tggc ggca gcaa caac aacc acca ccat catg atgg tggt ggtg gtga tgaa gaat aata atac taca acaa caaa aaaa aaac aaca acag cagt agtt gtta ttac tacc acca ccag caga agaa gaat aata atag tagt agta gtat tatc atca tcac cacc acca ccat catg atgt tgta gtaa taaa aaac aact actt ctta ttat tata atat tata atat tatt attt tttt tttc ttct tctc ctcc tccc cccc ccca ccat catt attg ttgc tgca gcag cagc agca gcac caca acaa caac aact acta ctaa taag aagg agga ggaa gaac aacg acgt cgtc gtca tcaa caag aaga agag gaga agat gata atac taca acag caga agaa gaat aatc atcc tcct cctt cttt tttg ttgg tgga ggaa gaaa aaaa aaaa aaat aatc atct tctt cttc ttca tcaa caag aagc agca gcaa caat aatt attt ttta ttag tagc agca gcag cagt agtt gttt tttc ttca tcag cagg agga ggac gaca acat catc atcc tcca ccat catt attt tttt ttta ttat tatc atca tcaa caag aagt agtt gttt tttc ttct tctg ctgc tgct gctc ctcc tcca ccac cacc acct cctt cttt tttt ttta ttaa taaa aaaa aaac aact acta ctaa taaa aaat aatc atca tcac caca acat catt attt tttt tttc ttca tcac caca acag caga agag gagt agtt gttg ttga tgaa gaac aaca acag cagt agtg gtgt tgtg gtgt tgtt gtta ttag tagg agga ggaa gaat aata atat tatt atta ttaa taat aata ataa taag aaga agat gatt atta ttaa taat aatg atga tgac gaca acaa caat aatg atga tgag gaga agat gatt attc ttca tcat catc atca tcag cagt agtt gttt ttta ttaa taac aaca acaa caaa aaaa aaaa aaac aaca acaa caac aact actc ctcc tcca ccaa caat aatc atca tcaa caag aagc agca gcag cagt agta gtag tagc agca gcaa caat aatt attt tttt tttt tttg ttgc tgcc gcct cctt cttt tttc ttca tcag cagt agtt gtta ttag taga agat gata atat tatt attt tttc ttcc tccg ccgt cgtt gttg ttgt tgtt gtta ttaa taaa aaat aata ataa taat aatg atgt tgtc gtcc tcct cctg ctga tgat gatg atgg tggt ggtt gttt tttt tttc ttcc tccc cccc cccc ccca ccag cagg aggt ggtt gttt ttta ttaa taaa aaat aatt atta ttat tatt attc ttct tcta ctaa taat aatg atgt tgtt gttt tttc ttct tctt cttt tttc ttca tcaa caaa aaag aaga agat gata ataa taac aact actt cttc ttct tctt cttg ttgt tgtg gtgg tgga ggac gact actt cttg ttgt tgtt gtta ttaa taaa aaaa aaaa aaaa aaaa aaat aatt attc ttct tctt cttt tttt tttt ttta ttaa taaa aaaa aaat aatg atgt tgtg gtga tgat gata ataa taaa aaaa aaaa aaat aata atag tagg aggg gggc ggcc gccg ccgg cggg gggc ggcg gcgt cgtg gtgg tggt ggtg gtgg tggc ggct gctc ctca tcat catg atgc tgcc gcct cctg ctgt tgta gtaa taat aatc atcc tccc ccca ccag cagc agca gcaa caac aaca acat cata atag tagt agtg gtga tgaa gaaa aaac aacc accc ccct cctg ctgt tgtc gtct tctc ctct tcta ctac tact acta ctaa taaa aaaa aaaa aaat aata atac taca acaa caaa aaaa aaat aata ataa taaa aaat aata ataa taaa aaat aata ataa taaa aaat aata ataa taaa aaat aata ataa taaa aaat aata atac tacg acgt cgtt gttt tttg ttga tgaa gaac aacc accc cccg ccgg cggg ggga ggag gagg aggc ggca gcag caga agag gagg aggt ggtt gttg ttgc tgca gcag cagt agtg gtga tgag gagc agcc gccg ccga cgag gaga agat gatc atcg tcgc cgcg gcgc cgcc gcca ccat catt attg ttgc tgca gcac cact actc ctcc tcca ccag cagc agcc gcca ccat catt attt ttta ttat tata atac taca acag cagc agct gctt cttt ttta ttac taca acaa caag aagt agtt gttg ttga tgaa gaaa aaac aaca acat catc atcc tcct cctt cttt tttc ttca tcat catt attt ttta ttat tatg atga tgaa gaag aaga agaa gaat aatt atta ttaa taaa aaaa aaag aagg aggg gggg gggt ggta gtac tacc acca ccaa caac aaca acag cagg aggg gggc ggct gctt cttg ttgc tgcg gcgc cgct gctt cttt tttt tttt tttt tttt tttt tttt tttt tttt tttt tttg ttga tgag gaga agac gaca acag caga agag gagt agtt gttt tttc ttcg tcgc cgct gctc ctct tctt cttg ttgt tgtt gttg ttgc tgcc gccc ccca ccag cagg aggc ggct gctg ctgg tgga ggat gatg atgc tgcc gcct cctc ctca tcag cagc agcc gcct cctg ctgc tgct gctg ctga tgaa gaat aata atag tagc agct gctg ctgg tggg ggga ggat gatt atta ttac taca acag cagg aggc ggca gcat catg atgt tgtg gtgc tgcc gcca ccac cacc acca ccac caca acac cacc acct cctg ctgg tggc ggct gcta ctac tact actt cttt tttt tttt tttg ttgg tggt ggtc gtca tcag cagg aggc ggct gctg ctgg tggt ggtc gtct tctt cttg ttga tgaa gaac aact actc ctcc tccc cccg ccga cgac gacc acct cctc ctca tcag caga agat gatg atga tgat gatc atct tctg ctgc tgcc gccc cccg ccgc cgcc gcct cctc ctca tcag cagc agcc gcct cctc ctcc tccc ccca ccaa caaa aaag aaga agat gatt attt tttt ttta ttat tatt attt tttt tttt tttg ttgc tgct gcta ctaa taag aagt agta gtat tatt attt ttta ttat tatt attc ttct tctt cttt tttg ttga tgat gata atag taga agat gatt attt ttta ttaa taat aatt atta ttac taca acaa caag aagt agtc gtct tctt cttc ttca tcag caga agaa gaat aatg atgc tgcc gccg ccgg cggc ggca gcag cagt agtc gtct tctg ctgt tgta gtat tatc atct tctt cttg ttgc tgca gcaa caaa aaaa aaaa aaac aaca acat catc atcc tcca ccac cact actc ctct tctg ctgc tgcc gcct cctc ctcg tcga cgaa gaat aatc atct tctc ctct tctc ctct tctg ctga tgaa gaaa aaag aagc agca gcag cagc agca gcag cagt agta gtat tatg atgg tggc ggct gctt cttt tttt ttta ttat tatg atga tgac gaca acag caga agag gagt agtg gtgt tgta gtaa taat aatt attt tttt ttta ttat tatt attt tttc ttca tcat catt atta ttaa taac aact acta ctag tagt agta gtat tatc atct tcta ctac taca acaa caaa aaat aatg atgg tggc ggct gctt cttt tttg ttgt tgtt gttc ttcc tcct cctg ctgc tgca gcag cagt agtg gtgg tggc ggca gcag cagc agcc gcct cctc ctct tctg ctgg tggc ggcc gccc cccc ccct cctt cttg ttgc tgct gcta ctag tagg aggc ggcc gcct cctg ctgc tgcc gcct cctc ctca tcat catc atcc tcct cctg ctgc tgct gcta ctaa taaa aaag aagt agtg gtga tgat gatc atct tctg ctgt tgtc gtct tctc ctct tctc ctca tcag cagc agct gcta ctag tagg aggt ggtg gtgt tgtt gtta ttaa taaa aaag aagt agta gtag tagt agtc gtct tctt ctta ttac tact actg ctga tgat gata atat tatt attc ttca tcaa caaa aaat aatg atgt tgtg gtga tgaa gaat aata ataa taac aact actg ctga tgat gata atag tagc agcc gccc ccct ccta ctag tagg aggt ggta gtag taga agaa gaat aatt attt tttt ttta ttag tagg aggc ggca gcaa caat aatg atgg tgga ggag gaga agag gagg aggt ggtg gtga tgaa gaaa aaaa aaat aata ataa taat aata atat tatt attg ttga tgat gatg atga tgac gaca acat catt atta ttaa taat aata atag tagc agct gcta ctaa taac aact actt cttg ttgc tgct gctt ctta ttaa taat aatc atcc tcct cctc ctca tcac caca acag cagt agtc gtca tcac cacc acct cctt cttg ttga tgaa gaaa aaag aaga agaa gaaa aaag aagg aggc ggca gcac cact actg ctgt tgtt gtta ttac tact actt cttt tttg ttgt tgtt gttt tttc ttcc tcca ccat catt attt tttt tttg ttgc tgca gcaa caaa aaat aatg atgg tgga ggaa gaag aagt agtg gtgc tgct gcta ctat tatg atga tgat gatt attc ttcc tcca ccaa caaa aaag aagc agca gcaa caaa aaag aaga agag gagt agtc gtct tctg ctga tgac gact actc ctcc tcca ccag caga agag gagt agtc gtca tcaa caaa aaac aact actc ctct tctg ctga tgaa gaac aaca acaa caaa aaac aaca acac cacc acct cctg ctgt tgtg gtgt tgta gtac taca acag caga agat gatc atct tctg ctga tgac gacc acca ccac cacc acct cctg ctga tgag gagg aggt ggtc gtca tcac caca acat catt attc ttcc tccc ccct ccta ctaa taaa aaaa aaat aata atac tact actt ctta ttaa taaa aaac aact actt cttc ttct tctc ctcc tccc ccct cctt cttc ttct tctc ctca tcac caca acag cagt agta gtac tacc acct cctt cttc ttcc tcct ccta ctat tatg atgg tggc ggca gcag caga agat gatt attt ttta ttag tagc agca gcag cagg agga ggag gagg aggc ggcg gcgt cgta gtat tata ataa taaa aaac aacg acgg cggg gggg gggt ggtg gtgg tgga ggaa gaaa aaaa aaag aagg aggt ggta gtaa taat aata ataa taac aact actt ctta ttaa taaa aaat aatg atgt tgtt gttt tttt tttt tttg ttgt tgta gtag tagt agtg gtga tgaa gaag aaga agat gatt attc ttct tcta ctag tagt agta gtag tagt agtt gtta ttaa taat aatg atga tgaa gaaa aaaa aaat aatt attt tttt tttt tttg ttgg tggt ggta gtaa taaa aaat aatt attc ttcc tcct cctt cttt tttt tttt tttt tttg ttgt tgtg gtgt tgtg gtgt tgtg gtgt tgtt gttt ttta ttat tatt attt tttt tttg ttgt tgtg gtgt tgta gtag tagc agct gctg ctgt tgta gtat tata atac tacg acgt cgta gtat tatg atgg tggc ggcg gcgt cgtt gttt tttc ttct tcta ctaa taaa aaac aaca acat catt attg ttgc tgca gcat catg atgg tgga ggaa gaaa aaag aagt agtt gttt ttta ttat tatg atgg tgga ggac gact actg ctgg tgga ggaa gaaa aaaa aaag aagg agga ggaa gaat aata atac taca acag cagt agtt gttg ttgg tggc ggct gctg ctga tgat gatg atgg tggt ggtg gtgg tgga ggat gatg atgg tggc ggct gctc ctca tcat cata atac tacc accc ccct cctc ctcg tcgt cgtt gtta ttaa taac aact actt cttt tttt ttta ttat tatg atgt tgta gtat tatt attc ttcc tccc ccct cctc ctca tcat catc atcc tccc ccct cctc ctct tctt cttt tttc ttct tctt cttc ttct tctc ctct tctt ctta ttaa taac aact actg ctgt tgtc gtct tctc ctct tctc ctcg tcga cgaa gaac aact acta ctaa taaa aaaa aaat aatt attc ttct tctg ctgt tgta gtag taga agaa gaag aagt agtc gtct tctt cttt tttt tttg ttga tgaa gaaa aaaa aaag aagt agtg gtgc tgct gctg ctgt tgtt gttt tttg ttgt tgtc gtcc tcct cctg ctgg tggg gggg gggt ggtt gttt ttta ttaa taat aatg atga tgaa gaac aact actg ctgg tgga ggat gatt attt tttt tttc ttct tctg ctgg tggc ggcc gccg ccgg cggg gggt ggta gtac taca acag cagt agtg gtgg tggc ggct gctc ctca tcat catg atgc tgcc gcct cctg ctgt tgta gtaa taat aatc atcc tccc ccca ccag cagc agca gcac cact actt cttt tttg ttgg tggg ggga ggag gagg aggc ggcc gccg ccga cgag gagg aggc ggcg gcgg cggg gggt ggta gtag taga agaa gaaa aaaa aaaa aaag aagt agta gtac taca acaa caag aaga agaa gaac aact acta ctat tatc atct tctg ctgg tggg gggc ggcg gcgt cgtg gtgg tggt ggtg gtgg tggc ggca gcag cagg aggc ggca gcac cacc acct cctg ctgt tgta gtaa taat aatc atcc tccc cccg ccgg cggc ggct gcta ctac tact actc ctct tctg ctgg tgga ggag gagc agcc gcca ccac cact actg ctgc tgca gcac cact actc ctcc tcca ccag cagg aggc ggct gctg ctgg tggg gggc ggcg gcga cgat gata ataa taag aaga agag gagt agtg gtga tgag gaga agac gact actc ctcc tcca ccat catc atct tctc ctca tcaa caaa aaaa aaaa aaaa aaaa aaaa aaaa aaaa aaaa aaaa aaaa aaaa aaag aaga agaa gaag aagg aggc ggct gctg ctga tgag gagg aggt ggtg gtgg tggg gggc ggca gcag caga agat gatc atct tctc ctct tctt cttg ttga tgag gagc agca gcac caca acag cagg agga ggag gagt agtt gttt tttg ttga tgag gaga agac gacc acca ccag cagc agcc gcct cctg ctgg tggg gggc ggca gcaa caac aaca acat catg atgg tggt ggtg gtgt tgtg gtgt tgta gtag tagt agtc gtcc tccc ccca ccaa caac aaca acac cact actt cttc ttcg tcgg cgga ggaa gaag aagg aggc ggcc gcca ccaa caag aaga agat gatg atgg tggg gggc ggcc gcca ccaa caat aatt atta ttac tacc acct cctg ctga tgag gagg aggg gggt ggtc gtca tcag cagg agga ggag gagt agtt gttc ttcg tcga cgat gata atat tatg atgg tggt ggtg gtga tgat gatg atgc tgca gcat catg atgc tgcc gccc cccg ccgt cgta gtaa taat aatc atcc tccc ccca ccag cagc agct gcta ctac tact actc ctcg tcgg cggg ggga ggag gagg aggc ggct gctg ctga tgag gagg aggc ggca gcag cagg agga ggag gaga agaa gaat aatc atca tcat catt attt tttg ttga tgac gaca acag caga agag gagc agca gcaa caag aaga agac gacc accc ccct ccta ctat tatt attt tttc ttca tcaa caaa aaaa aaaa aaaa aaag aagg aggc ggcc gcca ccag cagg aggt ggtg gtgc tgcg gcgg cggt ggtg gtgg tggc ggct gctc ctca tcac caca acac cacc acct ccta ctat tata ataa taat aatc atcc tccc ccca ccag cagc agca gcaa caac aaca acat catg atgg tggc ggca gcaa caaa aaaa aaac aacc accc cccc ccca ccat catc atct tctc ctct tcta ctac tact acta ctaa taaa aaaa aaaa aaat aata atac taca acaa caaa aaaa aaaa aaat aatt atta ttag tagc agct gctg ctgg tgga ggac gacg acgt cgtg gtgg tggt ggtg gtgg tggc ggca gcac cacg acgg cggg ggga ggag gagg aggt ggtt gttg ttgc tgca gcag cagt agtg gtga tgag gagc agcc gcca ccaa caaa aaaa aaat aatt attg ttgc tgca gcac cacc acca ccac cact actg ctgc tgca gcac cact actg ctgc tgca gcag cagc agcc gcct cctg ctgg tggg gggc ggca gcaa caac aaca acag cagt agtg gtga tgag gaga agac gact actc ctcg tcga cgat gatt attc ttcc tcct cctc ctcc tccc cccc cccc cccg ccga cgac gaca acac caca acac caca acac cact actt ctta ttac tact actt cttc ttca tcat catg atgt tgtt gttt tttt tttc ttct tctt cttt tttc ttca tcat catt atta ttat tata atat tata atat tatt attt tttt ttta ttaa taat aatg atgg tgga ggat gata ataa taaa aaac aact acta ctag taga agaa gaaa aaaa aaat aatc atct tctc ctca tcag caga agag gagc agct gctc ctct tcta ctaa taaa aaaa aaac aaca acag cagc agca gcaa caac aaca acaa caat aatt attt ttta ttag taga agaa gaaa aaac aact acta ctat tata atat tata ataa taac aacc acct cctc ctct tctt cttt tttt tttt tttt tttg ttgc tgcc gcca ccag cagt agtg gtgg tggc ggca gcaa caaa aaaa aaag aaga agat gatg atgg tggg ggga ggat gatt attt ttta ttat tatt attt tttc ttcc tcct cctc ctca tcag cagc agca gcat catc atcc tcct cctt ctta ttat tatc atct tctt cttt ttta ttaa taaa aaat aatt attt tttc ttct tctg ctgt tgta gtac taca acaa caaa aaac aact actt cttt tttt ttta ttaa taaa aaaa aaaa aaac aaca acag caga agaa gaaa aaat aata atat tatt attg ttgt tgtt gttt ttta ttac taca acat catc atct tctt cttg ttgc tgcg gcgt cgta gtat tatc atct tctt ctta ttat tata atat tata ataa taac aaca acaa caaa aaac aaca acat catc atct tctg ctgc tgct gctc ctct tctg ctgc tgca gcat cata ataa taag aagg aggt ggta gtag taga agaa gaag aagt agtt gtta ttaa taag aaga agaa gaat aatg atga tgat gatt attg ttgc tgcc gccc ccct cctg ctgt tgta gtag tagt agtc gtct tcta ctaa taag aagt agtg gtgg tgga ggaa gaaa aaat aatg atgt tgtg gtgg tgga ggag gagg aggc ggct gctt cttc ttct tcta ctat tatt attc ttct tctg ctgg tggg gggt ggta gtac tact acta ctag tagg aggg ggga ggat gata ataa taat aata ataa taaa aaag aagg agga ggaa gaaa aaaa aaac aaca acaa caaa aaaa aaaa aaaa aaag aagt agtc gtcc tccc ccct cctg ctgc tgcc gccc ccct cctg ctga tgat gatg atga tgag gagt agtc gtca tcat cata ataa taag aaga agaa gaag aaga agat gata atac taca acat cata atac tact acta ctat tata ataa taaa aaag aaga agat gata atag taga agat gata ataa taaa aaag aagt agtt gttg ttgg tgga ggaa gaaa aaag aagg aggt ggtg gtgg tggc ggca gcag caga agag gaga agaa gaaa aaag aagt agtt gttg ttgg tggg gggc ggca gcaa caag aaga agat gata ataa taaa aaat aatg atga tgac gacc acct ccta ctaa taaa aaag aagt agta gtaa taaa aaaa aaag aagg agga ggag gagg aggg ggga ggag gagc agca gcat cata atag tagg agga ggac gact acta ctat tatc atcc tcct ccta ctag tagc agca gcaa caaa aaaa aaag aaga agac gacc accc cccc cccc ccca ccag cagc agcg gcga cgag gagt agtg gtgg tggg gggc ggca gcag cagg agga ggag gaga agaa gaag aaga agag gagt agta gtag tagt agta gtag tagt agta gtag taga agat gatg atga tgag gaga agat gata atac taca acaa caaa aaaa aaag aagg agga ggaa gaag aaga agac gacc acct cctc ctca tcat cata atag taga agac gacc acct cctt cttc ttca tcag cagg aggg gggt ggta gtaa taac aaca acat catg atga tgat gatc atct tctg ctga tgac gact actt cttt tttt tttt tttt tttt tttt tttg ttga tgag gaga agac gaca acag cagt agtc gtct tctc ctca tcac cact actc ctct tcta ctat tatt attg ttgc tgct gctc ctca tcag cagg aggc ggct gctg ctgg tgga ggag gagt agtg gtgc tgct gctc ctca tcag cagc agcc gcct cctc ctcc tccc cccg ccgt cgtg gtgt tgta gtag tagc agct gctg ctgg tggg ggga ggac gact acta ctac taca acag cagg aggc ggcg gcgc cgcg gcgc cgca gcac cacc acca ccac cacc accg ccgt cgtg gtgc tgcc gccc cccg ccgg cggc ggct gctg ctga tgat gatt attt tttt tttt tttg ttgt tgta gtag tagg agga ggat gatc atcc tcca ccac cacc accc ccct cctc ctcc tcct cctc ctcg tcgg cggc ggcc gcct cctc ctcc tccc ccca ccaa caaa aaag aagt agtg gtgc tgct gctg ctgg tgga ggaa gaat aatt atta ttac taca acag cagg aggt ggtg gtgt tgtg gtga tgag gagc agcc gcca ccac cact actg ctgt tgtg gtgt tgtc gtcc tcca ccag caga agat gatg atgg tgga ggac gaca acac caca acac caca acag caga agag gaga agac gacc acca ccac cact actt ctta ttaa taag aagc agct gcta ctat tatt attg ttgc tgca gcag caga agaa gaaa aaat aata atac taca acat catg atgt tgtg gtga tgag gaga agag gagg aggt ggtg gtgg tggt ggtt gttg ttgg tggt ggtt gttg ttgt tgtg gtgg tggc ggca gcac cact acta ctat tatt atta ttag tagg agga ggag gagt agtt gttg ttgc tgct gctc ctca tcaa caag aagg agga ggat gatt atta ttag taga agat gata atat tata ataa taaa aaaa aaac aacg acgt cgtg gtga tgag gaga agag gaga agag gagg agga ggag gagg agga ggag gaga agaa gaat aata ataa taag aaga agaa gaat aatt attg ttga tgag gaga agaa gaag aaga agac gacc acca ccaa caaa aaag aaga agat gatg atgg tgga ggag gagg aggg ggga ggaa gaaa aaat aatg atgg tgga ggag gaga agag gagt agtt gttt tttg ttgg tggt ggtt gttt tttt tttg ttgg tgga ggac gaca acat catt attt tttg ttga tgaa gaag aagc agct gctt ctta ttat tata atac taca acac caca acag cagg aggt ggta gtaa taaa aaag aagt agta gtat tata atag tagg aggc ggcc gcca ccaa caaa aaat aata ataa taaa aaat aatc atca tcaa caat aatt attc ttca tcac caca acaa caag aagt agtc gtca tcat catc atcg tcgg cggc ggca gcat cata atat tata atag taga agat gatg atgg tgga ggaa gaaa aaat aatg atgg tggg gggg gggt ggtg gtgt tgtt gttg ttgc tgca gcat catt attc ttcc tcca ccaa caaa aaat aatg atga tgaa gaag aaga agat gatg atgg tgga ggaa gaat aatt attt tttt ttta ttag tagg aggg ggga ggaa gaat aata atag taga agaa gaaa aaaa aaat aatg atga tgac gacc acca ccag cagc agct gctg ctgt tgtc gtct tctg ctgc tgca gcag caga agaa gaag aaga agac gaca acat catt atta ttac tact acta ctaa taat aatg atgt tgtt gtta ttat tatt atta ttaa taaa aaaa aaaa aaat aata atag tagc agct gctc ctca tcaa caat aata atag taga agat gatt attg ttgg tggt ggtg gtgg tgga ggag gagt agtg gtga tgat gata atat tatc atcc tccg ccga cgat gatt attc ttct tctt cttt tttt tttg ttgg tggg ggga ggag gagt agtt gttg ttgc tgcc gcca ccaa caaa aaaa aaaa aaag aaga agaa gaag aagc agca gcag caga agag gaga agag gaga agag gagg aggg ggga ggac gaca acat catt attg ttgc tgct gctt cttg ttgg tgga ggag gaga agag gagg agga ggaa gaag aagt agta gtaa taat aatt attc ttca tcac caca acat catt attg ttgt tgtt gttc ttca tcag cagt agta gtag taga agag gaga agag gagg aggg ggga ggaa gaaa aaaa aaaa aaaa aaat aatt attg ttga tgat gatg atga tgat gatg atgc tgca gcag cagg agga ggag gaga agag gaga agag gaga agag gagg agga ggag gagg aggc ggca gcat catt attt tttg ttgg tggc ggca gcaa caaa aaag aagt agtg gtgt tgta gtaa taag aagg agga ggat gatg atgc tgca gcag caga agat gatg atgc tgct gctt cttg ttgg tgga ggaa gaag aaga agag gagg aggg gggc ggca gcaa caaa aaag aagt agtg gtgt tgta gtag tagg aggg ggga ggat gata atac taca acag caga agat gatg atgc tgct gctg ctgt tgtt gttt ttta ttag tagt agtg gtgc tgct gcta ctaa taag aaga agag gagt agta gtat tatg atga tgaa gaat aatg atga tgag gaga agaa gaaa aaag aagg agga ggag gagg agga ggag gagt agtt gtta ttag taga agag gaga agat gatt attt tttg ttga tgag gaga agaa gaac aaca acag caga agag gagg aggg gggg ggga ggac gaca acag cagt agtc gtct tctt cttt tttc ttca tcat cata ataa taag aaga agaa gaaa aaaa aaaa aaat aata ataa taat aatc atct tcta ctaa taaa aaaa aaat aata atat tata ataa taat aatt atta ttat tatt attt ttta ttaa taaa aaaa aaat aatc atca tcaa caag aagg agga ggat gatc atct tctc ctca tcat catt attt tttt tttt tttc ttca tcat catt atta ttat tata atat tatt attt tttt tttg ttga tgag gaga agat gata atag tagg aggg gggt ggtc gtct tctc ctca tcac cact actc ctct tctt cttg ttgt tgtc gtcc tcca ccag cagg aggc ggct gctg ctgg tgga ggag gagt agtg gtgc tgca gcag cagt agtg gtgg tggc ggca gcac cact acta ctat tatc atca tcat catg atgg tggc ggct gctg ctgg tggg ggga ggac gacc acca ccac caca acag caga agat gatg atgt tgtg gtga tgag gagc agct gcta ctac tacc acca ccac cact actc ctct tctt cttg ttgg tggc ggct gctg ctga tgat gatt attt tttt tttt tttt tttt tttt ttta ttat tatt atta ttat tatt attt tttt tttt tttt tttg ttgt tgta gtag taga agag gagc agcc gcct cctg ctgc tgcc gcct cctc ctca tcag cagc agct gctt cttc ttcc tccc ccca ccaa caaa aaaa aaat aatg atgc tgct gctg ctgg tggg ggga ggag gagt agta gtat tata atag tagg aggc ggca gcat catg atga tgag gagc agcc gcca ccac cacc acca ccat catg atgc tgct gctc ctca tcag cagc agca gcaa caat aatg atga tgaa gaat aatc atca tcat cata atat tatg atga tgaa gaac aact actc ctca tcat cata ataa taaa aaaa aaaa aaac aact actt ctta ttaa taat aatg atga tgat gatc atct tctt cttg ttga tgaa gaac aaca acaa caat aatg atgt tgta gtag tagt agtt gttt tttt tttt tttg ttgt tgta gtac taca acag caga agag gaga agaa gaat aata atat tatt attt tttg ttgt tgtt gttc ttca tcag cagg aggg gggc ggct gctc ctct tctg ctgt tgtg gtgt tgtg gtga tgac gaca acac cact actc ctcc tcca ccag cagg aggt ggtg gtgt tgtg gtgg tgga ggat gatc atcc tcca ccaa caaa aaag aagc agct gctt ctta ttat tatt attt tttc ttct tcta ctag taga agaa gaat aatt attt tttg ttgt tgta gtaa taag aagg agga ggaa gaat aatt attt tttg ttgc tgct gcta ctaa taat aata atag taga agat gatg atgc tgcc gcct ccta ctaa taag aagc agcc gccc ccca ccag caga agaa gaaa aaag aagg aggg gggt ggtg gtgc tgct gctt cttc ttct tctt cttc ttca tcaa caac aact acta ctaa taaa aaaa aaat aata atac taca acag caga agag gagt agtc gtct tctg ctgt tgtg gtga tgac gact actt cttc ttcc tcca ccat catg atgt tgtc gtca tcaa caaa aaaa aaat aatg atgt tgtt gttg ttgc tgca gcac caca acaa caag aagc agcc gcca ccag cagt agtt gttg ttgt tgtc gtca tcag cagt agtg gtga tgac gaca acag cagt agtt gttg ttgc tgcc gcca ccat catc atcc tcct cctt cttg ttgc tgct gctt cttg ttgc tgct gctt cttc ttcc tccc ccct cctc ctct tctt cttt tttc ttcc tccc cccc ccca ccac cacc accc cccc cccc ccct cctc ctcc tcct cctt ctta ttaa taac aacc acct cctc ctct tctt cttg ttga tgat gatg atgt tgta gtat tatg atga tgag gaga agaa gaag aaga agaa gaat aata atat tatg atgt tgtt gttg ttgc tgct gctt cttt tttt tttt ttta ttaa taaa aaaa aaaa aaat aata ataa taat aatt attg ttga tgat gata atat tatt attt tttt ttta ttaa taac aaca acaa caat aata atat tatg atga tgaa gaaa aaac aaca acaa caat aata atat tata atat tatt attc ttcc tcct ccta ctag tagc agct gcta ctac taca acaa caaa aaat aatt attg ttgt tgtt gttt ttta ttaa taaa aaac aaca acag cagt agtg gtgg tgga ggaa gaat aatt attc ttct tcta ctag taga agag gagt agtc gtca tcac caca acac cact actt cttc ttcc tcct ccta ctaa taaa aaaa aaat aata atat tatg atgc tgca gcat catt attt tttt tttt tttg ttgt tgtt gttt tttt tttc ttca tcac cact acta ctag tagg aggg ggga ggat gatg atga tgac gaca acac caca acag cagc agct gctg ctgc tgca gcaa caaa aaaa aaaa aaac aaca acac cact actt cttg ttgt tgtt gttc ttct tctc ctct tctg ctgt tgtg gtgt tgtt gttt tttc ttct tctg ctga tgac gaca acat cata ataa taat aatt attt tttc ttca tcat catt attg ttga tgag gagc agca gcat catt atta ttat tatt attg ttga tgaa gaac aact actt ctta ttac taca acag caga agat gatg atgg tggg gggt ggtg gtgg tggt ggta gtat tatg atgc tgct gctg ctgt tgtt gtta ttaa taag aagg aggc ggcc gccc ccca ccag cagt agtt gtta ttag taga agat gatc atcc tcct cctc ctcc tccc cccc ccct cctc ctct tctt ctta ttac tact actg ctgg tggt ggtg gtgg tggg gggc ggct gctc ctct tctc ctcc tcct cctg ctga tgat gatg atgc tgcc gcct cctg ctgt tgta gtac taca acac cacc acct cctc ctct tctt cttg ttga tgaa gaag aagc agcc gccc cccc ccca ccag caga agaa gaat aatc atct tctc ctct tctt ctta ttat tatg atgt tgtt gtta ttaa taaa aaag aagt agtt gtta ttac taca acat catt attt ttta ttaa taaa aaat aatt attt tttt ttta ttaa taaa aaat aatg atgc tgct gctt ctta ttac tact acta ctaa taag aagg agga ggat gatg atgc tgct gctc ctca tcaa caat aatt attt tttc ttct tctt ctta ttag taga agat gatg atgt tgta gtac tact actg ctga tgat gata ataa taat aatt atta ttag taga agag gaga agat gatc atct tctt cttt tttc ttct tctt cttg ttga tgag gagc agct gctt ctta ttaa taaa aaat aata ataa taat aatg atgc tgca gcat catt attt tttc ttcc tcca ccaa caat aatt atta ttaa taaa aaaa aaaa aaag aagc agca gcaa caaa aaaa aaat aata ataa taaa aaat aatt attt tttg ttgc tgca gcac cacg acga cgat gatc atcc tccc ccct ccta ctat tatt attc ttcc tcca ccac cact actc ctct tctg ctgg tgga ggat gatt atta ttag taga agag gaga agaa gaat aatt atta ttac taca acat catt attt tttt ttta ttag tagt agta gtac tact actt cttt tttt tttc ttca tcaa caaa aaat aata atat tatg atgt tgta gtaa taat aata atag taga agat gatg atgg tggt ggtc gtct tctg ctgc tgca gcag cagt agta gtat tatt attg ttgc tgct gcta ctat tatc atct tctg ctga tgaa gaaa aaat aatt atta ttac tacc accg ccga cgat gata ataa taat aata atat tatt attg ttgt tgta gtac taca acat catt attc ttca tcag caga agat gatt attc ttca tcac cact actt ctta ttaa taat aatt atta ttat tata ataa taaa aaat aatt atta ttaa taaa aaac aaca acat catt attt tttt tttt ttta ttaa taag aagg aggt ggta gtaa taaa aaag aaga agat gata atat tata atat tatt attt tttt tttg ttgt tgtt gttt tttg ttgg tggc ggca gcat catt atta ttag tagt agtt gttc ttcc tcca ccat catg atgt tgtt gttg ttgg tggc ggct gctt ctta ttag taga agaa gaac aaca acat catc atca tcaa caag aagc agct gctt cttg ttgc tgca gcag cagt agtg gtgg tggc ggct gctt cttt tttc ttca tcat catt attt tttt tttc ttct tctt cttg ttgt tgtt gttt tttt tttt tttg ttgt tgtt gttt tttt tttt tttt tttt tttt tttt ttta ttaa taaa aaat aatc atca tcaa caac aaca acag cagt agtt gttg ttgc tgct gcta ctag tagc agca gcac caca acaa caac aacc accc ccct cctc ctcc tccc cccc ccca ccat catc atcc tcct cctc ctca tcat catt attc ttca tcat catg atgg tggt ggtc gtcc tccc ccca ccaa caag aaga agag gagg aggc ggca gcaa caat aatc atcg tcgt cgtt gttt tttc ttcc tcca ccag caga agaa gaac aacc accg ccgt cgtt gtta ttaa taac aact actt cttc ttcc tcct cctg ctgc tgct gcta ctat tatg atgg tgga ggaa gaaa aaaa aaat aatg atga tgag gagg agga ggat gatt attt tttc ttca tcat catt attg ttgt tgtc gtct tctt ctta ttac tact actc ctcc tcca ccaa caac aaca acac cact actg ctgc tgct gcta ctac tact actc ctct tctg ctgt tgta gtat tatt attc ttca tcag cagt agtg gtgt tgta gtat tata atac taca acat catt atta ttat tata ataa taat aatg atga tgac gact actg ctga tgaa gaaa aaaa aaaa aaat aata atat tatt attt tttt tttt tttt tttg ttgc tgca gcaa caat aatt attt ttta ttaa taat aata atac tacc acct ccta ctaa taat aatc atcc tcct cctt cttt tttt tttc ttca tcat catt attt tttc ttct tctc ctct tctt ctta ttaa taat aatt attt tttt tttc ttct tctg ctgt tgtg gtgt tgtc gtcc tcct cctt ctta ttac taca acac caca acag cagg agga ggag gagc agct gcta ctat tata ataa taaa aaaa aaaa aaat aatc atcc tcct cctg ctgc tgcc gccc ccca ccac caca acat cata atat tatg atgc tgct gctt ctta ttac tact actc ctcc tcca ccat catt attc ttct tctg ctga tgaa gaag aagt agtg gtgc tgct gctc ctca tcat catt attt tttt tttc ttct tcta ctat tatg atgt tgtg gtgt tgtg gtgc tgcc gcca ccat cata atac taca acag cagc agct gctc ctct tctc ctca tcat catt attc ttct tctt cttt tttt tttc ttct tcta ctag taga agag gagt agtt gttt tttt tttt tttc ttcc tccc cccc cccc ccca ccaa caat aatt attt tttt ttta ttaa taag aagg aggg gggc ggcc gccc ccca ccac caca acaa caac aact actc ctct tctc ctca tcag caga agag gagg aggc ggct gctt cttg ttgt tgtt gttg ttgg tggg ggga ggaa gaaa aaaa aaag aaga agaa gaaa aaat aata ataa taat aatt attt tttc ttct tctt cttc ttca tcag caga agaa gaat aatt attt tttt tttt ttta ttaa taag aaga agac gaca acat catt attt tttc ttca tcat catt attt ttta ttat tatc atct tctt cttc ttct tctt cttt ttta ttag tagc agca gcat cata atag tagc agct gctc ctcc tcct cctg ctgc tgcg gcgt cgtg gtgt tgtt gtta ttac taca acat cata atag tagg aggc ggct gctg ctgg tgga ggag gagt agtg gtgt tgtt gttt tttc ttca tcat catt attt tttt tttg ttgt tgta gtac taca acag caga agat gatg atga tgag gagg aggt ggtc gtct tctc ctcc tccc ccct cctg ctgt tgtg gtgt tgtt gttg ttgc tgcc gcct ccta ctag tagg aggt ggtt gtta ttac taca acag caga agac gaca acat catg atga tgaa gaac aacc acca ccac cact actg ctgt tgta gtac tacc acct cctg ctgg tggc ggcc gcct cctg ctgc tgcg gcgg cggt ggtg gtgc tgct gctg ctgt tgtt gttt tttt tttt ttta ttat tatc atct tctt cttc ttca tcag cagt agtc gtca tcat catt attc ttca tcat catt attt tttt tttt tttt tttg ttga tgag gaga agac gaca acaa caaa aaag aagt agtc gtct tctc ctcg tcgc cgct gctc ctct tctt cttg ttgt tgtt gttg ttgc tgcc gccc ccca ccag cagg aggc ggct gctg ctgg tgga ggag gagt agtg gtgc tgca gcaa caat aatg atgg tggc ggcg gcgt cgtg gtga tgac gacc acct cctc ctct tctg ctgc tgct gctg ctgg tggg ggga ggat gatt atta ttac taca acag cagg aggt ggta gtac tacc acct cctg ctgc tgcc gcca ccac cacc acca ccac caca acac cacc accc ccca ccag cagc agcc gcca ccaa caaa aaat aatt attt tttt tttg ttgt tgta gtat tatt attt tttt tttt ttta ttag tagt agta gtag taga agag gaga agac gaca acag cagg aggg gggt ggtc gtcc tccc ccca ccaa caaa aaag aagt agtg gtgt tgtt gttg ttgg tggg ggga ggat gatt atta ttac tacg acgg cggg gggc ggca gcat catg atga tgag gagc agcc gcca ccac cacc acca ccac cacg acgc cgcc gccc ccca ccag cagc agcc gcct cctg ctgt tgtt gttt tttt tttg ttgt tgtt gttg ttgt tgtt gtta ttat tatt attt tttt tttt tttc ttcc tcct cctt cttt ttta ttaa taat aatt attc ttct tctt cttg ttgg tggc ggcc gccc ccca ccag caga agat gatg atgc tgct gctt ctta ttac tact actg ctgg tggc ggca gcac cact actt ctta ttac tact actc ctct tcta ctag taga agaa gaaa aaac aaca acac caca acat cata atag tagt agtc gtcc tcct cctt cttc ttcc tcct ccta ctag tagt agtt gttt tttt tttt tttt tttc ttct tctg ctgg tgga ggaa gaac aact actc ctcc tcct cctg ctga tgat gatg atgt tgtt gttt tttg ttgg tgga ggac gaca acac cact acta ctag tagg aggc ggcc gcct cctc ctcc tcct ccta ctat tata atat tatt attg ttgt tgtt gttc ttcc tcct ccta ctat tata ataa taat aatg atgg tggt ggtt gttt tttt tttt ttta ttaa taat aatt attt tttt tttt tttt tttt tttc ttct tctt cttc ttct tcta ctaa taat aatt attc ttct tctt cttt ttta ttat tatt atta ttaa taat aata atat tatg atgc tgcc gcca ccat catg atgt tgtt gttt tttt ttta ttat tata atag taga agat gatt attt tttg ttgt tgtc gtct tctt ctta ttaa taag aagt agtc gtca tcaa caaa aaat aatg atga tgaa gaaa aaag aagc agca gcaa caaa aaag aaga agaa gaac aact actt ctta ttaa taag aagt agtg gtgt tgtg gtgt tgtt gttt tttt tttc ttca tcaa caat aatt atta ttag taga agag gagc agca gcat cata ataa taat aatc atca tcat cata atac tacc acca ccaa caag aaga agaa gaac aaca acaa caat aata atag tagc agca gcaa caac aaca acaa caac aaca acaa caac aact acta ctat tata ataa taaa aaaa aaat aatg atga tgaa gaaa aaac aaca acaa caaa aaaa aaat aatc atct tctt ctta ttaa taag aagc agct gcta ctat tatt attg ttgt tgtt gtta ttag tagt agta gtaa taat aatc atca tcat cata atat tatt attg ttgt tgtg gtgt tgta gtat tata atac tact actc ctct tctt cttt tttt ttta ttac tacg acgt cgta gtat tata atat tatt attt tttg ttgt tgtt gttg ttgt tgta gtat tatg atgt tgtg gtga tgag gagt agta gtaa taat aatt atta ttat tata atat tatg atga tgat gatt atta ttat tata atag taga agag gaga agaa gaac aaca acat catc atct tctg ctgc tgca gcat catt attt tttg ttgt tgta gtat tatt attg ttgg tgga ggaa gaaa aaat aata atat tatc atca tcat catt atta ttat tatg atga tgaa gaac aact actc ctcg tcga cgag gaga agat gatc atct tcta ctat tata atat tatt atta ttat tatc atct tctt cttt ttta ttaa taaa aaaa aaaa aaaa aaat aata ataa taaa aaat aatg atgg tgga ggat gatc atca tcac cact actt cttg ttga tgag gagg aggt ggtc gtca tcag cagg agga ggag gagt agtt gttc ttca tcaa caag aaga agac gacc acca ccag cagc agcc gcct cctg ctgg tggc ggcc gcca ccaa caac aaca acat catg atgg tggt ggtg gtga tgaa gaaa aaac aacc accc cccc cccg ccgt cgtc gtcg tcgt cgtg gtgg tgga ggag gagg aggc ggct gctg ctga tgag gagg aggt ggtg gtgg tggg ggga ggag gaga agaa gaat aatc atca tcac cact actt cttg ttga tgaa gaac aacc acct cctg ctgg tggg ggga ggac gacg acgt cgta gtag taga agag gagg aggt ggtt gttg ttgc tgca gcag cagt agtg gtga tgag gagc agcc gcca ccaa caag aaga agaa gaaa aaat aata atat tatg atgc tgct gctt ctta ttat tatt attg ttgg tggt ggtt gttt tttc ttca tcat catc atct tcta ctat tatc atca tcaa caaa aaaa aaaa aaag aaga agaa gaac aaca acaa caaa aaaa aaaa aaaa aaaa aaaa aaaa aaaa aaaa aaaa aaaa aaaa aaaa aaaa aaag aagg agga ggaa gaat aata ataa taat aatc atcg tcgg cgga ggat gatg atgc tgca gcaa caag aagg aggt ggtg gtgt tgtc gtct tctt cttg ttga tgaa gaag aaga agaa gaaa aaat aatg atgg tggc ggct gctg ctga tgat gatt attc ttcc tcca ccag caga agat gatt attc ttca tcag caga agag gagg agga ggag gagg agga ggaa gaaa aaat aata atat tata atat tatg atga tgaa gaat aata ataa taaa aaag aagg agga ggac gact actt ctta ttag tagg agga ggag gagt agtg gtgt tgta gtaa taat aata atag taga agaa gaat aata atag taga agat gatt attc ttct tctt ctta ttac tact actg ctga tgat gatc atca tcac caca acag caga agat gata ataa taaa aaaa aaat aata ataa taat aatt attt tttg ttga tgag gagc agcg gcgg cgga ggag gagg aggc ggcc gccg ccga cgag gagg aggc ggca gcag cagg aggc ggca gcag caga agat gatc atca tcac cact actt cttg ttgg tggg gggg gggt ggtc gtca tcag cagg agga ggag gagt agtt gttt tttg ttga tgag gaga agac gacc acca ccag cagc agcc gcct cctg ctgg tggc ggcc gcca ccaa caac aaca acat catg atgt tgta gtaa taat aatc atcc tccc ccca ccag cagc agct gcta ctat tatt attt tttg ttgg tggg ggga ggag gagg aggc ggct gctg ctga tgag gagg aggc ggca gcag cagg aggg ggga ggag gaga agaa gaat aatt attg ttgc tgct gctt cttg ttga tgaa gaac aacc accc ccca ccag cagg agga ggaa gaag aagc agcg gcgg cgga ggag gagg aggc ggct gctc ctca tcaa caaa aaag aaga agaa gaaa aaaa aaaa aaaa aaaa aaaa aaaa aaaa aaag aagg agga ggat gata ataa taat aata ataa taac aaca acag cagc agca gcaa caaa aaaa aaaa aaaa aaat aatt attg ttga tgaa gaaa aaat aatt attc ttca tcat cata ataa taac aaca acaa caaa aaat aatg atga tgat gata ataa taac aaca acag cagt agta gtac tact actt cttt tttg ttgg tggg ggga ggag gagg aggc ggct gctg ctga tgag gagg aggt ggtg gtgg tggg gggc ggca gcat cata atac tact actc ctca tcag cagg agga ggag gagt agta gtat tatg atga tgag gaga agac gacc acca ccag cagc agcc gcct cctg ctgg tggg gggc ggca gcaa caac aaca acat catg atga tgag gagt agtc gtcc tccc ccca ccag cagc agct gcta ctac tact actt cttg ttga tgag gaga agag gagg aggc ggcc gccg ccgt cgtg gtgg tggt ggtg gtgg tggg ggga ggag gagg agga ggat gatg atga tgac gacc acct cctg ctga tgag gagc agcc gccc ccca ccag cagg agga ggag gagg aggc ggca gcag caga agag gagg aggt ggtt gttc ttca tcag cagc agcc gcct cctc ctca tcag caga agaa gaaa aaaa aaaa aaac aaca acaa caac aaca acaa caaa aaaa aaaa aaac aact acta ctag tagg aggt ggta gtaa taaa aaaa aaag aagg agga ggag gaga agaa gaaa aaaa aaaa aaaa aaaa aaat aatc atca tcaa caag aagc agca gcat catt attt ttta ttat tatc atct tctt cttt tttt ttta ttaa taaa aaaa aaaa aaat aatg atgt tgtt gttt tttc ttca tcaa caac aaca acaa caaa aaat aata ataa taag aagg agga ggaa gaat aata ataa taat aata atag taga agaa gaat aatt atta ttaa taaa aaaa aaat aata atat tata ataa taac aacc acca ccat catt attt tttc ttcg tcgc cgca gcaa caac aacc accc ccct cctc ctct tctt cttt tttt tttg ttga tgag gaga agat gatg atgg tgga ggag gagt agtc gtct tctc ctcg tcgc cgca gcac cact actg ctgt tgtc gtcg tcgc cgcc gccc ccca ccag cagg aggc ggct gctg ctgg tgga ggag gagt agtg gtgc tgca gcag cagt agtg gtgg tggc ggca gcac cacg acga cgat gatc atct tctt cttg ttgg tggc ggct gctc ctcg tcgg cgga ggat gatt atta ttat tata atag tagg aggc ggca gcac cacc accc ccca ccac cacc acca ccac cacc acca ccac caca acac cacc acct cctg ctgg tggc ggct gcta ctaa taat aatt attt tttt tttt tttt tttt tttg ttgt tgta gtat tatt attt tttt tttt ttta ttag tagt agta gtag taga agag gaga agac gaca acag cagg aggc ggcc gcct cctc ctcc tccc ccca ccaa caaa aaag aagt agtg gtgc tgct gctg ctgg tggg ggga ggat gatt atta ttac taca acag cagg aggc ggct gctt cttg ttga tgag gagc agcc gcct cctg ctgt tgta gtaa taaa aaat aatc atcc tcca ccag caga agaa gaaa aaaa aaag aagg agga ggat gatt atta ttac taca acag cagc agcc gccc ccct cctt ctta ttat tatt attc ttcc tccc ccct ccta ctaa taaa aaat aatg atgt tgtt gttt tttt tttt tttc ttct tctt cttt tttt tttt tttt tttt tttt tttg ttgt tgtg gtga tgac gaca acat catt attc ttca tcag cagt agtt gttc ttct tctt cttg ttgt tgtt gttt tttc ttca tcat cata atag taga agat gata atac taca acag cagt agtt gttc ttcc tccc ccct cctg ctgc tgca gcat catt attt tttt tttt tttt tttt tttt tttt tttt tttt tttt ttta ttaa taat aatg atga tgaa gaaa aaaa aaac aacc acct cctt cttt tttg ttgt tgtc gtct tcta ctat tatt attt tttg ttga tgag gagt agtc gtct tctc ctct tctc ctct tctg ctgg tggt ggtt gtta ttag taga agag gaga agac gact actc ctca tcat cata atag tagg aggg gggt ggta gtag tagt agta gtaa taat aatg atgt tgta gtag tagt agtg gtga tgat gatt attt ttta ttag tagt agtt gttt tttt tttt ttta ttaa taac aact acta ctag tagg agga ggag gaga agac gacc accc ccct cctc ctca tcaa caaa aaat aata atat tatc atca tcag cagt agtg gtga tgaa gaat aatt attt tttt ttta ttat tatt attt tttc ttca tcag cagt agtt gttt tttg ttgt tgtt gttg ttgt tgtt gttt tttg ttgt tgtt gttg ttgt tgtt gttt tttg ttgt tgtt gttt tttt tttt tttt tttg ttgt tgtt gttt tttt tttt tttt tttt tttg ttgt tgtt gttt tttt tttt tttt tttt tttt tttt tttt tttg ttgg tggt ggtt gttt tttg ttga tgat gatc atct tctc ctcg tcgg cggc ggct gctc ctca tcac cact actg ctgc tgca gcaa caac aacc acct cctc ctcc tcca ccac cacc acct cctc ctcc tccc ccca ccag cagg aggt ggtt gttc ttcg tcga cgag gagg agga ggaa gaat aatt attc ttct tctc ctcc tcct cctg ctgc tgcc gcct cctc ctca tcag cagc agcc gcct cctc ctcg tcga cgag gaga agac gacg acgg cggg gggg gggt ggtt gttt tttc ttca tcac cacc acca ccat catc atct tctt cttg ttgg tggc ggcc gcca ccag cagg aggc ggct gctg ctgg tggt ggtc gtct tctc ctcc tcca ccaa caac aact actc ctcc tcct cctg ctga tgac gacc acct cctt cttg ttgt tgtg gtga tgat gatc atcc tcca ccac cacc acct cctg ctgt tgtt gttt tttt tttc ttca tcaa caat aata ataa taat aata atag tagc agca gcat catc atct tctc ctca tcac cacc accc cccc cccc ccca ccac cacc accc ccct cctg ctgg tggc ggct gctg ctgc tgcg gcgt cgtc gtct tctg ctgc tgct gctc ctca tcag cagt agta gtat tatt attc ttcc tcca ccag caga agag gagt agtc gtcc tcct cctg ctgc tgca gcag cagc agca gcaa caag aaga agaa gaat aata atag tagg aggg gggt ggtc gtcc tcct cctg ctgg tggg gggt ggtt gttc ttct tctt cttt tttt tttt tttt ttta ttag tagt agta gtat tatg atga tgag gagg aggg ggga ggag gaga agag gaga agac gaca acag cagc agcc gcca ccac cacc acct cctg ctgg tggc ggct gctt cttc ttct tctt cttc ttcc tcct ccta ctat tatt attt tttt tttc ttca tcag cagc agcc gccc cccc ccca ccac cacc acca ccat cata atat tatg atgc tgct gctc ctcc tcct cctg ctgc tgcc gcct cctt cttc ttca tcac caca acag cagg aggt ggta gtac tacc acct cctg ctgt tgtt gttg ttgc tgcc gcct cctc ctcc tcca ccaa caag aagg aggc ggct gctg ctga tgaa gaat aata ataa taac aacc acct cctt cttg ttgg tggg gggc ggca gcaa caag aagt agtt gttg ttgt tgtg gtgt tgta gtag tagt agtt gttt tttc ttct tctc ctca tcat cata atat tata atac tact actt cttt ttta ttag tagt agtt gttt tttt ttta ttat tatc atcg tcgt cgtt gttg ttgt tgtc gtct tctg ctga tgac gacg acgg cgga ggag gagg aggc ggca gcac cacg acgc cgct gctc ctct tctg ctgt tgtc gtcc tccc cccc cccc ccca ccag cagg aggc ggct gctg ctgg tgga ggag gagt agtg gtgc tgca gcag cagt agtg gtgg tggc ggca gcac caca acaa caat aatc atct tctc ctcg tcgg cggc ggct gctc ctca tcac cact actg ctgc tgca gcac caca acag cagg aggc ggcg gcgc cgcc gccc ccca ccac cacc acca ccac cacc acct cctc ctca tcac cacc acct cctg ctgg tggc ggct gcta ctac tact actt cttt tttt tttt tttt tttg ttgg tggt ggtt gttt tttt tttt ttta ttag tagt agta gtag taga agag gaga agac gacg acgg cggg gggg gggt ggtt gttt tttc ttca tcac cacc acca ccaa caaa aaag aagt agtg gtgt tgtt gttg ttgg tggg ggga ggat gatt atta ttac taca acag cagg aggc ggca gcat catg atga tgag gagc agcc gcca ccac cacc acct cctt cttg ttgc tgcc gcct cctg ctgg tggc ggcc gcca ccaa caaa aaag aaga agat gatt atta ttaa taat aatt attg ttgt tgtt gtta ttaa taat aata atat tata atat tatg atgt tgta gtat tatt atta ttag tagc agcc gcca ccat cata ataa taat aatc atca tcat catt attc ttct tctc ctca tcag cagg aggc ggct gctg ctgc tgct gctt cttt tttg ttgt tgtc gtca tcat catt attt ttta ttac tact actt cttg ttgt tgtt gttc ttcc tcca ccac caca acaa caaa aaat aatt attc ttct tctt ctta ttag taga agat gatt attt tttt tttt tttt tttg ttga tgag gagg agga ggaa gaag aagc agct gctt cttg ttgg tggg gggt ggta gtaa taaa aaat aata ataa taag aagt agtg gtgt tgta gtat tatt attt tttt ttta ttaa taaa aaac aact acta ctat tatt atta ttat tatg atgt tgtt gttt ttta ttaa taaa aaat aatc atcg tcga cgaa gaag aagt agta gtaa taac aaca acaa caat aata atat tatg atgt tgtt gttt tttg ttga tgag gaga agaa gaag aagt agta gtac tact acta ctat tata atat tatt attg ttgt tgtg gtga tgaa gaaa aaaa aaat aata atat tatt attt tttt tttc ttca tcac cact actt cttt tttt ttta ttat tata atac taca acag cagt agtt gttt tttt tttt tttt ttta ttat tatc atct tcta ctag taga agaa gaag aaga agaa gaat aatg atga tgaa gaaa aaaa aaac aact actc ctct tctt ctta ttat tatg atga tgat gata atat tatc atct tctg ctgt tgta gtaa taat aata atag taga agaa gaat aatt attg ttga tgaa gaat aata atac taca acat cata atat tatt attt ttta ttaa taac aact acta ctac tact actg ctgt tgta gtat tata atac tacc acca ccaa caaa aaac aact actt cttg ttgg tgga ggat gatt attc ttct tctt cttt tttc ttcc tcct cctg ctga tgac gacc accc ccct ccta ctag taga agac gacc acct cctt cttt tttt tttc ttcc tcct cctc ctct tctg ctgc tgcc gccc ccct cctt ctta ttat tatc atca tcat catc atcg tcgc cgct gcta ctac taca acag cagg aggt ggta gtat tatg atga tgat gatg atgt tgta gtat tatt attc ttct tctt cttg ttga tgaa gaaa aaac aact actt ctta ttac tacc acca ccat cata atat tata atat tatt attt tttc ttct tctt cttt tttc ttct tctt cttt tttt tttg ttga tgat gata atac taca acaa caat aatt atta ttaa taat aatt attt tttc ttct tctt cttg ttgg tggt ggtt gttc ttca tcac cact actg ctgc tgca gcag cagc agcc gcct cctc ctcc tcca ccac cacc acct cctc ctcc tccc cccg ccgg cggg gggt ggtt gttc ttca tcaa caag aagt agtg gtga tgat gatt attc ttct tctc ctcc tcct cctg ctgc tgcc gcct cctc ctca tcag cagc agcc gcct cctc ctct tctc ctca tcat catg atgt tgtt gttg ttgg tggt ggtc gtca tcag cagg aggc ggct gctg ctga tgat gatc atct tctc ctcg tcga cgaa gaac aact actc ctcc tcct cctg ctga tgac gacc acct cctc ctca tcag cagg aggt ggtg gtga tgat gatc atcc tcca ccac cact acta ctaa taat aatc atct tctc ctca tcag cagc agcc gcct cctc ctcc tccc ccca ccat cata atat tata atat tata atat tatg atgt tgtg gtga tgac gact actt cttt tttt tttt tttt tttg ttgg tggt ggtg gtgt tgtg gtgt tgtg gtgt tgta gtaa taac aaca acac caca acat catt atta ttat tatt atta ttac taca acag cagt agtg gtgg tgga ggat gatg atgg tgga ggag gaga agaa gaag aaga agac gaca acat catc atca tcag caga agag gagg aggc ggcc gccc ccca ccaa caac aaca acaa caaa aaaa aaag aaga agag gaga agac gact acta ctag taga agaa gaag aagc agcc gcct cctt ctta ttat tatt attc ttca tcac cact acta ctaa taaa aaaa aaat aatt attc ttca tcag cagg agga ggag gagg agga ggaa gaat aatt attt tttg ttga tgaa gaag aaga agaa gaat aata atag taga agag gaga agac gact actt cttt tttg ttga tgaa gaat aatt attt ttta ttaa taac aaca acat catt attt tttt tttt ttta ttaa taat aatg atga tgag gagt agta gtaa taaa aaat aatt attg ttgt tgtt gttt tttt tttt ttta ttat tatt attt tttt tttg ttga tgag gagt agta gtag tagt agta gtaa taaa aaat aatt attg ttgg tggg ggga ggac gaca acag caga agaa gaaa aaat aata atat tatc atca tcag cagg aggt ggtc gtct tcta ctaa taag aagc agcc gcca ccat catt attt tttg ttgt tgta gtaa taat aata atat tatt attt tttt tttt tttc ttcc tcct cctg ctga tgaa gaat aatt attc ttct tctt ctta ttac tacc acct ccta ctat tata atat tatg atga tgac gact acta ctag tagg agga ggac gacc acct ccta ctat tatt attg ttgt tgtg gtgg tggt ggtg gtgt tgtc gtca tcaa caat aatt attt tttt ttta ttaa taat aata atat tatt atta ttaa taaa aaaa aaaa aaat aatc atca tcat catg atgg tggt ggtg gtgt tgtt gttt tttt tttg ttga tgat gatg atgt tgtt gttt ttta ttat tata atac tact actg ctgc tgca gcat catt attt tttc ttcc tcct cctc ctca tcat catg atga tgat gatt attt ttta ttat tata atat tata atag taga agat gatg atgt tgta gtaa taac aaca acat catg atgt tgtt gttc ttct tcta ctat tata atag tagg agga ggac gaca acat catg atgt tgta gtaa taat aatt attt ttta ttac taca acat catg atga tgaa gaat aata atat tatt attg ttgc tgct gctc ctcc tcct cctt ctta ttat tatg atgc tgct gctt cttt ttta ttat tatt attt tttg ttgc tgct gctt ctta ttaa taaa aaaa aaat aatt atta ttat tatc atca tcac cact acta ctag taga agat gatc atca tcat cata atac tact acta ctat tatt attt tttt tttc ttca tcat cata ataa taaa aaac aacc acca ccac cacc accg ccgc cgca gcaa caat aata ataa taaa aaag aagc agca gcaa caaa aaat aata atat tatt atta ttac taca acag cagt agta gtag taga agag gagc agca gcaa caaa aaat aatc atca tcac caca acac cacg acga cgaa gaat aata atat tatt attt tttt tttg ttgg tggt ggtt gttt tttc ttcc tccc ccca ccaa caat aatc atct tcta ctaa taaa aaaa aaaa aaaa aaaa aaaa aaac aaca acaa caat aatg atgc tgca gcac caca acat cata atac tacc acct cctt ctta ttaa taat aata atac taca acac cact actt cttt ttta ttat tatt attg ttgc tgct gcta ctaa taaa aaaa aaaa aaaa aaat aatg atgc tgcc gcca ccaa caat aatg atga tgat gatc atct tctg ctgc tgcc gcct cctg ctgc tgct gctg ctga tgag gagt agtg gtga tgat gatc atca tcag caga agag gagt agtg gtgg tggt ggta gtag tagt agtt gttg ttgg tggt ggtg gtga tgaa gaag aagg aggt ggtt gttg ttgg tggg gggg gggc ggca gcag cagt agtt gttg ttgt tgtg gtgg tggc ggca gcaa caat aatt attt tttc ttct tctt cttg ttgt tgta gtag tagc agca gcat catg atgc tgca gcaa caat aatg atgc tgct gctg ctgt tgtt gttt tttg ttga tgat gata atag tagc agca gcat catt attt tttt ttta ttat tatc atcc tcca ccat catg atgg tggt ggta gtag taga agaa gaac aact actg ctgc tgct gctt cttt tttc ttca tcat cata ataa taat aatt attg ttgg tgga ggat gatc atca tcat catt attt tttc ttca tcaa caac aaca acaa caat aata atat tatt attc ttca tcac caca acag cagc agca gcac cacc acct cctt cttc ttcg tcgc cgcc gcca ccag cagg agga ggac gact acta ctag taga agat gatt attc ttcc tccc ccct cctc ctct tctc ctca tcaa caag aaga agaa gaaa aaac aact acta ctac tact acta ctat tata atac tacc acct cctg ctga tgag gaga agac gact actg ctgg tggg gggt ggta gtaa taat aatt attt tttc ttct tcta ctaa taaa aaag aagg agga ggaa gaaa aaag aaga agaa gaag aagc agct gctt ctta ttaa taat aatt attg ttga tgac gact actt ctta ttac taca acag cagt agtt gttc ttcc tcca ccac caca acat catg atgt tgtt gttt tttt tttc ttca tcat cata ataa taag aagg aggt ggtg gtgg tggc ggca gcag caga agaa gaag aaga agag gaga agag gaga agag gagt agtg gtgc tgca gcag cagg aggg gggg ggga ggaa gaaa aaac aact actg ctgc tgcc gcca ccac cact actt cttg ttgt tgta gtaa taag aagc agcc gcca ccat catc atca tcag caga agat gata atat tatc atca tcac cacc acct cctc ctcc tccc ccca ccac cacc acca ccag cagg aggt ggtc gtct tctc ctct tctc ctcc tccc ccct cctc ctca tcaa caac aaca acac caca acat catg atgg tggg gggg ggga ggat gatt atta ttac taca acaa caat aatt attt tttg ttga tgag gaga agat gatg atga tgag gaga agat gatt attt tttg ttgt tgtt gttt tttt tttc ttca tcac caca acat catt attt tttc ttca tcaa caaa aaaa aaac aacc acca ccaa caat aatc atca tcat catg atgc tgcc gcct cctt cttc ttcc tcct ccta ctaa taac aaca acag cagt agtc gtct tctc ctcc tccg ccga cgaa gaaa aaag aagt agtc gtct tctt ctta ttaa taac aact acta ctaa taat aatt attc ttca tcac cacc acct ccta ctat tatg atga tgag gagc agcc gcct cctg ctgt tgta gtaa taaa aaaa aaat aatc atca tcaa caaa aaaa aaag aagc agca gcaa caaa aaat aatt attc ttct tctt cttt ttta ttac tact actt cttc ttcc tcca ccaa caag aaga agat gata atac taca acaa caat aatg atgg tggg gggg gggg gggt ggta gtac taca acag cagt agtc gtcc tccc cccc ccca ccat catg atgc tgca gcaa caag aagt agtc gtcc tccg ccga cgaa gaaa aaac aacc acct ccta ctag tagc agcc gcca ccag cagg aggc ggca gcaa caat aatc atca tcaa caat aatg atga tgaa gaat aatc atct tctt cttt tttt tttt tttt tttt tttt tttt tttt tttt tttt tttt tttt tttg ttga tgag gagc agcc gcct cctc ctcc tccg ccgc cgcc gcct cctc ctcc tcct cctg ctgt tgtt gttt tttc ttca tcaa caag aagc agca gcaa caat aatt attc ttct tctc ctca tcat catg atgc tgcc gcct cctc ctca tcag cagc agcc gcct cctc ctcc tccc ccca ccaa caag aagt agta gtag tagc agct gctg ctgg tggg ggga ggat gatt atta ttac taca acag cagt agtt gttg ttgg tggc ggcc gcca ccag cagg aggc ggct gcta ctag tagt agtc gtct tctt ctta ttaa taaa aaaa aaac aact actc ctcc tcct ccta ctag tagc agcc gcct cctc ctcg tcgc cgct gctg ctgg tggg gggt ggtg gtgg tggg gggg gggt ggtg gtgt tgtc gtct tctc ctca tcat catt attc ttcc tcct cctg ctgt tgta gtaa taat aatg atgg tggc ggcc gcca ccaa caac aaca acat catg atgg tggt ggtg gtga tgaa gaaa aaac aacc accc ccct cctg ctgt tgtt gttt tttc ttct tcta ctat tatg atga tgaa gaaa aaaa aaaa aaat aatt attc ttca tcaa caaa aaaa aaaa aaat aatt atta ttag tagc agct gctg ctgg tggg gggc ggcg gcgt cgtg gtgg tggt ggtg gtgg tgga ggag gagg aggc ggca gcag caga agag gaga agat gatt attg ttgc tgca gcag cagt agta gtaa taag aagc agcc gcca ccaa caaa aaaa aaat aatc atca tcac caca acac cacc acca ccac cact actg ctgc tgca gcac cact actc ctct tcta ctag tagc agcc gcct cctg ctgg tggg gggc ggca gcaa caac aaca acaa caaa aaag aagc agca gcag caga agag gagc agcc gcca ccac cact actg ctgc tgca gcac cacc accc ccca ccag cagg aggc ggcc gcca ccag cagt agtc gtca tcat catt atta ttaa taaa aaag aagc agct gctc ctct tcta ctaa taaa aaaa aaat aatc atct tctc ctcc tcct cctt cttt tttg ttga tgac gact actc ctcc tcca ccat catg atgt tgtc gtct tctc ctca tcag cagg aggc ggct gctc ctct tctt cttc ttca tcag cagt agtc gtct tcta ctac taca acag cagc agcc gccc cccc ccct cctg ctgc tgca gcag cagc agct gctg ctgc tgct gctt cttt tttc ttca tcat catg atgg tggg gggc ggct gctg ctgc tgcc gcca ccat catt attg ttga tgag gagt agtg gtga tgac gaca acag cagc agct gctg ctgc tgcc gccc cccc ccca ccac cact actg ctga tgag gagg agga ggac gact actg ctgt tgtg gtgg tggg ggga ggag gagg aggt ggtg gtgg tggc ggct gctc ctcc tcca ccaa caac aacc accc cccc cccg ccgt cgta gtat tatt attt tttc ttcc tccc ccct cctc ctca tcac caca acag cagt agtt gttt tttc ttcc tccc ccct cctc ctcc tccc cccg ccgc cgct gctt cttg ttgt tgtg gtgt tgtg gtgt tgtg gtgg tgga ggac gaca acat catc atcc tcct cctg ctgg tggc ggca gcac cact actt cttc ttcc tcca ccat cata atac taca acat catc atcc tcct cctc ctct tctg ctga tgaa gaaa aaat aatc atct tcta ctag tagg aggc ggca gcag caga agag gagg aggc ggct gctc ctcc tccc ccca ccac cact actt ctta ttag tagg aggg gggc ggct gctt cttg ttgc tgca gcac cacc accc ccct cctc ctct tctc ctca tcaa caag aagc agca gcaa caat aatg atgg tggc ggcc gcct cctg ctga tgat gatc atct tctg ctgt tgta gtac tacc acct cctt cttg ttgg tggc ggcc gccc ccct cctt cttt tttt tttt ttta ttat tatc atca tcaa caat aatg atgg tggg gggc ggcc gcct cctt cttg ttgg tggg gggc ggcc gccc ccca ccag cagc agcc gccc ccca ccac caca acaa caaa aaaa aaac aacc acca ccat catt attt tttt tttt tttc ttcc tccc ccct cctc ctcc tcct ccta ctag tagg aggc ggcc gcct cctc ctca tcaa caag aagg aggc ggcc gcct cctg ctgt tgtg gtga tgat gata atag taga agat gatt atta ttaa taac aacg acgt cgtt gttt tttg ttgt tgtt gttt tttc ttcc tcct cctt cttg ttgt tgtt gtta ttac tact actt ctta ttat tatg atgc tgca gcaa caaa aaac aact actt cttc ttct tctg ctgc tgca gcag cagc agct gctg ctgg tggc ggct gctt cttg ttga tgaa gaat aatt attc ttct tctt cttt tttc ttcc tccc cccc ccct cctc ctct tctg ctgc tgct gctt cttc ttcc tccc ccct cctt cttt tttt ttta ttaa taaa aaat aata atat tata atag tagg aggt ggtt gttc ttcc tcca ccaa caat aatt attt tttc ttca tcaa caaa aaac aacc acca ccat catc atct tctc ctct tctt cttt tttg ttgt tgtg gtga tgaa gaac aaca acat catg atgt tgta gtat tatg atgc tgcc gcca ccac caca acag cagg agga ggat gata atac tacc accc ccct ccta ctaa taaa aaat aatc atca tcat catc atct tctc ctct tctc ctct tctg ctga tgaa gaag aagt agtt gttc ttca tcaa caac aaca acat catt attc ttcc tcca ccac cacg acgg cgga ggat gatc atct tctc ctct tcta ctag tagc agcg gcgc cgca gcag cagg aggc ggcc gccc ccca ccaa caat aata ataa taag aaga agat gatc atcc tcct cctc ctca tcat catc atct tctc ctcc tcca ccat catc atct tctg ctga tgag gaga agac gacc acca ccac cacc acct cctc ctca tcag cagg aggc ggct gctg ctgg tgga ggac gact actt cttc ttca tcac cact actg ctgg tggc ggcc gcca ccac caca acat catc atcc tcca ccat catc atct tctt cttc ttcc tcct cctg ctgt tgtc gtct tctt cttc ttct tctt cttc ttct tctg ctga tgag gagc agcc gccc ccct cctc ctcc tcca ccaa caaa aaac aact actc ctct tctt cttc ttcc tcca ccaa caat aatc atct tctc ctct tctg ctgc tgcc gcct cctg ctgt tgtt gttg ttgt tgtc gtct tcta ctag tagt agtt gttt tttt ttta ttat tatc atct tctg ctgt tgta gtat tatt atta ttag tagt agtt gttc ttca tcat catc atcc tcct cctc ctca tcat cata atac tact actg ctgc tgct gcta ctat tata ataa taaa aaaa aaaa aaaa aaat aata atac tacc acct cctg ctga tgag gaga agac gact actg ctgg tggg gggt ggta gtaa taat aatt attt tttg ttgt tgta gtac taca acaa caat aatc atca tcat cata atag tagt agtg gtgg tgga ggaa gaag aaga agat gatg atga tgaa gaag aagg agga ggag gaga agaa gaag aagc agca gcaa caag aagt agta gtac tacc acct cctt cttc ttct tctt cttc ttca tcac caca acaa caag aagg aggt ggtg gtgg tggc ggca gcag cagg agga ggaa gaaa aaag aaga agaa gaat aatg atgg tgga ggaa gaac aaca acag cagc agca gcat catg atgg tggg ggga ggag gaga agaa gaaa aaac aact actg ctgc tgcc gccc cccc cccc cccg ccgt cgtg gtga tgat gatc atcc tcca ccag cagt agtt gtta ttac tacc acct cctc ctcc tccc ccca ccac cacc acca ccag cagg aggt ggtc gtcc tccg ccgt cgtc gtcc tccc ccca ccat catg atga tgaa gaag aagc agct gctc ctcc tcct cctt ctta ttat tatc atca tcat catt attt ttta ttaa taag aagt agtt gttt tttt ttta ttat tatt attg ttgt tgtg gtga tgac gaca acat catt attg ttgc tgca gcag cagt agta gtaa taat aatt attc ttca tcag cagt agtc gtca tcac caca acat catc atct tctt cttc ttca tcaa caac aact actg ctga tgaa gaag aagt agtc gtct tctt cttg ttga tgaa gaac aacc accc cccc cccc cccc ccca ccaa caaa aaag aagt agtc gtca tcat catc atcc tcca ccat catg atga tgag gagg aggg gggt ggtt gttg ttgg tgga ggaa gaat aatc atca tcaa caac aact actt cttc ttct tctg ctgg tggt ggta gtaa taaa aaac aact actg ctgg tggt ggtg gtga tgaa gaat aatc atcc tcct cctt cttt tttc ttct tctg ctgg tgga ggaa gaag aagg aggt ggtt gttt tttt tttc ttca tcaa caat aatt attc ttca tcac cact actt cttt ttta ttac tacc accc ccca ccat cata atat tatc atct tcta ctat tatc atca tcag caga agag gaga agaa gaaa aaat aatc atca tcac cact actc ctct tctt cttg ttgt tgtt gttg ttgc tgcc gccc ccca ccag cagg aggc ggct gctg ctgg tgga ggag gagt agtg gtgc tgca gcaa caat aatg atgg tggc ggcg gcgt cgtg gtga tgat gatc atct tctt cttg ttgg tggc ggct gctc ctca tcac caca acag cagc agca gcaa caac aacc acct cctc ctct tctg ctgc tgcc gcct cctc ctcc tccc cccc cccc ccca ccac cacg acgc cgcc gccc cccg ccgg cggc ggct gcta ctaa taat aatt attt tttt tttg ttgt tgta gtat tatt attt tttt tttt ttta ttag tagt agta gtag taga agag gaga agac gacg acgg cggg gggg gggt ggtt gttt tttc ttca tcac cacc acca ccat catg atgt tgtt gttg ttgg tggt ggtc gtca tcag cagg aggc ggct gcta ctac taca acag cagg aggt ggtg gtgt tgta gtaa taag aagc agcc gcca ccac cacc accg ccgt cgta gtac tacc accc cccg ccgg cggc ggca gcaa caag aaga agac gaca acat catg atgt tgtt gttt tttc ttct tctt ctta ttaa taaa aaat aata ataa taat aata ataa taag aaga agac gact actt cttg ttga tgaa gaaa aaag aagt agtt gtta ttac taca acat catt atta ttaa taat aatc atca tcac cact actc ctct tcta ctat tata atac taca acat catc atct tctc ctct tctg ctgt tgtc gtca tcag caga agag gagc agct gctc ctct tctg ctgt tgtg gtga tgac gaca acag caga agag gaga agac gaca acat catg atga tgaa gaag aagt agtg gtga tgag gagc agca gcac caca acat catg atgt tgtg gtgt tgtt gttt tttt tttt ttta ttaa taaa aaaa aaaa aaaa aaaa aaat aatg atgc tgca gcag cagt agta gtat tatc atct tcta ctat tatg atga tgaa gaaa aaac aact actc ctca tcag cagt agtg gtga tgaa gaag aagt agtg gtga tgaa gaaa aaat aata atac taca acat catt atta ttaa taaa aaaa aaac aaca acaa caat aata ataa taaa aaac aaca acat catg atga tgag gagt agta gtac taca acac cact actg ctgg tggt ggtt gttt tttc ttca tcaa caaa aaaa aaat aatt attt tttc ttcc tcct cctg ctgg tgga ggaa gaaa aaaa aaac aact actt ctta ttat tata atag tagc agca gcag cagg aggc ggcc gcca ccag cagg aggt ggtg gtgt tgtc gtca tcat catg atga tgag gagt agtt gttt tttg ttga tgag gaga agac gacc acca ccag cagc agcc gcct cctg ctgg tggc ggcc gcca ccaa caat aata atat tatg atgg tggt ggtg gtga tgaa gaaa aaac aact actc ctcc tccg ccgt cgtc gtct tctc ctct tcta ctac tacc acca ccaa caaa aaaa aaaa aaat aatg atgc tgca gcaa caaa aaaa aaaa aaat aatc atcc tcca ccac cact actt cttg ttga tgaa gaac aacc accc ccca ccag cagg agga ggag gaga agac gaca acag caga agag gagg aggt ggtt gttg ttgc tgca gcaa caat aatg atga tgag gagc agcc gccg ccga cgag gaga agat gatc atca tcac caca acac cacc acca ccac cact actg ctgc tgca gcac cact actc ctcc tccc ccca ccag cagt agta gtat tata atat tata atag tagt agtt gttt tttc ttct tctt ctta ttat tatc atct tctt cttt ttta ttaa taaa aaat aatc atct tctc ctcc tccc ccct cctt cttc ttct tctt cttt tttg ttgg tggg gggt ggtg gtgt tgtt gttt tttt ttta ttat tatg atgc tgct gctt cttg ttgg tggt ggtt gttc ttct tctt cttt ttta ttag tagt agtc gtca tcac caca acaa caac aaca acaa caaa aaaa aaac aacc acca ccat cata atat tatt attt ttta ttac tacc acca ccat catc atca tcac cacg acgt cgtg gtgc tgca gcac cact acta ctaa taac aaca acaa caag aaga agac gaca acag cagc agca gcaa caag aagt agtt gttc ttcg tcgt cgtg gtgc tgct gctt cttt tttg ttgc tgca gcag caga agag gaga agag gaga agag gagt agta gtaa taag aaga agag gagg agga ggac gaca acat cata atat tata ataa taat aatg atga tgag gagg aggc ggct gctt cttg ttga tgat gatg atga tgat gatt atta ttat tatt attc ttca tcaa caag aagg aggt ggtg gtga tgag gaga agaa gaag aagc agct gctg ctgt tgtt gttt tttt ttta ttag tagt agta gtac taca acat catt attt tttc ttct tctg ctgg tggg ggga ggat gatt attt tttt tttc ttca tcag cagt agtg gtga tgat gatg atgt tgtg gtgc tgcc gcca ccag caga agac gacg acga cgag gagt agtg gtgt tgtg gtgg tggt ggtg gtgg tggt ggta gtat tatg atgt tgtt gttt tttt tttc ttca tcaa caac aact acta ctat tata atat tatg atgc tgca gcag cagg aggc ggca gcaa caaa aaaa aaac aact actt cttg ttgt tgtt gttt tttt ttta ttat tatt attt tttt tttt tttg ttgt tgtc gtcc tccc ccct cctc ctcc tcct cctg ctgt tgta gtac tact actc ctct tctg ctga tgaa gaag aagc agca gcaa caaa aaaa aaaa aaaa aaaa aaac aact actt cttt tttt tttt tttt tttt tttt tttc ttct tctc ctca tcaa caag aagt agtc gtcc tcct cctt cttc ttcc tcct cctg ctgg tgga ggag gagt agtg gtgt tgta gtac tact actt cttg ttga tgat gata ataa taat aatc atcc tcct cctc ctct tcta ctac tacc accc ccct ccta ctaa taag aagg aggg gggt ggta gtac tact actt cttg ttgg tggg gggt ggta gtag tagc agca gcat catt attt tttt ttta ttat tatt atta ttag tagc agca gcaa caaa aaag aagt agta gtaa taaa aaat aatg atga tgac gaca acaa caat aata ataa taaa aaaa aaat aata atag tagc agct gctg ctgg tggc ggcc gcca ccag cagg aggc ggcg gcgc cgcg gcgg cggt ggtg gtgg tggc ggct gctc ctca tcac cacg acgc cgcc gcct cctc ctcc tcca ccag cagc agcc gcct cctg ctgg tggc ggcc gcca ccaa caac aacg acgt cgtg gtgg tggt ggtg gtga tgaa gaaa aaac aacc accc cccc cccg ccgt cgtc gtcc tccc ccct ccta ctat tatt atta ttaa taaa aaaa aaaa aaat aata atac taca acaa caaa aaaa aaat aatt atta ttag tagc agcc gcca ccag cagg aggc ggcg gcgt cgtc gtca tcag cagg agga ggag gagg aggc ggca gcag caga agag gagg aggt ggtt gttg ttgc tgca gcag cagt agtg gtga tgag gagc agcc gcca ccaa caag aagg aggt ggtc gtca tcat catg atgc tgcc gcca ccat catt attg ttgc tgca gcac cact actc ctcc tcca ccag cagc agcc gcct ccta ctag tagg aggc ggca gcaa caac aaca acaa caat aatt attt ttta ttag tagg agga ggat gatc atca tcaa caaa aaat aata ataa taaa aaat aata ataa taat aatc atct tcta ctat tata atat tata ataa taaa aaaa aaag aagt agtt gttc ttcc tcca ccat cata atat tata ataa taaa aaat aatg atgt tgtt gtta ttag tagt agtt gtta ttac tact acta ctat tatt atta ttat tatt atta ttaa taaa aaaa aaaa aaat aatt attc ttca tcaa caaa aaat aatt attc ttct tcta ctaa taag aaga agat gatt atta ttag tagt agtt gttt tttg ttgt tgtt gtta ttag tagg aggg ggga ggag gagg agga ggaa gaag aagg agga ggag gagc agca gcaa caaa aaat aata atat tatt attt tttt ttta ttac tacc acca ccaa caaa aaaa aaac aact actc ctcc tcct cctt ctta ttaa taaa aaat aatt attt tttc ttct tctt ctta ttaa taaa aaat aata atag tagt agtg gtgg tggg ggga ggac gact acta ctac taca acaa caaa aaaa aaat aata ataa taaa aaac aaca acaa caat aata atat tatt attt tttc ttca tcat catc atca tcag cagt agta gtaa taat aatg atgt tgta gtaa taag aagc agct gctg ctga tgag gaga agaa gaag aagt agtg gtga tgag gagt agtc gtcc tccg ccgg cggt ggtt gttt tttt ttta ttaa taaa aaaa aaac aacc acct cctg ctgt tgtg gtga tgag gagt agta gtat tata atac tact actt cttg ttgc tgct gctg ctgc tgca gcag cagg aggt ggtc gtct tctg ctga tgaa gaaa aaaa aaat aatg atga tgaa gaag aaga agag gagc agct gctt cttg ttgt tgtg gtgc tgca gcat catt attc ttct tcta ctat tatg atga tgaa gaat aatc atca tcat catc atca tcat catg atga tgaa gaag aaga agat gata atag tagc agct gctt cttt ttta ttaa taat aatt attt tttc ttca tcat catc atcc tcca ccac caca acaa caaa aaaa aaat aatt attt ttta ttaa taac aacc accc ccca ccac cact actc ctct tctg ctgt tgta gtaa taac aact actg ctgg tgga ggac gaca acaa caag aagt agtg gtga tgat gatg atgt tgta gtat tatt attt ttta ttat tatt attt tttc ttct tctt ctta ttag tagg agga ggac gacc acct cctc ctca tcat catt attt tttc ttcc tcca ccac cacc acct cctt cttc ttct tcta ctat tatt attt tttt tttg ttga tgac gact actt cttt ttta ttat tatt atta ttaa taaa aaag aagt agtt gtta ttat tatc atct tctt cttt tttg ttgt tgta gtaa taat aatt attc ttct tctt cttt tttg ttga tgag gagg agga ggag gaga agaa gaac aacg acgt cgta gtag tagg aggc ggca gcat catc atcc tcca ccat catt attt tttt tttt ttta ttag tagg aggt ggtt gttt tttt ttta ttac taca acaa caac aaca acaa caaa aaaa aaat aatt attg ttgt tgtt gttt ttta ttaa taaa aaac aaca acac cact actg ctgc tgcc gcct cctg ctgc tgca gcat cata atat tatt attt ttta ttag taga agaa gaat aatc atct tctc ctct tcta ctat tata atac tacc acct ccta ctat tata atat tatt atta ttat tatt atta ttag tagg agga ggat gata atat tatt atta ttaa taag aaga agat gatg atgt tgta gtat tata ataa taat aata atat tatc atcc tcct ccta ctaa taaa aaag aagt agtg gtgt tgta gtag tagc agca gcag cagc agca gcag cagt agtc gtct tctg ctgg tggt ggta gtat tatg atgt tgtt gtta ttac taca acat catg atgt tgtg gtgg tggt ggta gtaa taag aaga agat gatt attc ttcc tccc ccca ccaa caag aaga agag gagg aggt ggta gtac taca acaa caag aagt agta gtag taga agaa gaaa aaat aatt attt tttg ttgc tgct gcta ctaa taaa aaag aagt agtg gtga tgag gagt agta gtag tagg agga ggac gaca acag caga agaa gaag aagt agtg gtgt tgta gtag tagg aggt ggtt gtta ttaa taat aatg atgg tgga ggaa gaat aatt atta ttat tata atac tact actc ctcc tcct cctg ctgg tggg gggg gggc ggct gcta ctaa taag aaga agaa gaat aatg atga tgag gagg aggg gggt ggtt gttc ttct tcta ctag tagg aggg gggc ggcc gcca ccaa caac aacc acct cctc ctct tcta ctac tact acta ctac tacc acca ccac caca acaa caat aatg atga tgat gata atat tatt atta ttac tacc acct ccta ctac tacc accc cccc ccca ccat catg atgg tgga ggac gact actg ctgt tgtt gttg ttgt tgtg gtga tgaa gaag aaga agat gatt atta ttaa taaa aaat aatg atga tgaa gaat aatt atta ttag tagt agta gtac taca acat catt attt ttta ttac tact actt cttg ttgg tggt ggtg gtga tgat gatg atga tgat gatt atta ttat tatg atga tgat gatt atta ttat tatt atta ttag taga agag gagt agta gtac taca acat catt attt ttta ttat tata ataa taat aatt attg ttgg tgga ggag gagg agga ggat gatc atca tcat catt attt tttt tttt tttg ttgc tgcc gccg ccgt cgta gtag tagg aggg ggga ggaa gaac aacc acca ccac caca acac cacc accc ccct cctt ctta ttaa taag aaga agat gatg atga tgag gagc agct gctc ctct tcta ctaa taat aatt attt tttt tttg ttgt tgtt gttg ttgt tgta gtat tatt attt tttg ttgt tgtc gtcc tcct cctg ctgt tgtt gttt ttta ttaa taaa aaag aagc agcc gcca ccat catc atct tcta ctag tagc agca gcag cagg aggg gggt ggtt gtta ttat tatt attt tttc ttca tcag cagt agtg gtga tgaa gaag aaga agag gagc agca gcag cagt agtt gtta ttaa taag aaga agag gagc agcc gcct cctt cttg ttga tgaa gaat aata ataa taat aatc atca tcac caca acag cagg aggc ggca gcaa caaa aaat aatg atgt tgtt gttg ttga tgaa gaat aata ataa taag aagg agga ggaa gaac aaca acaa caag aagg aggt ggtt gttt ttta ttat tatc atca tcaa caag aagg aggg ggga ggat gatg atgt tgtc gtca tcac caca acaa caac aacc accg ccgt cgtg gtgt tgtg gtgg tgga ggaa gaag aagt agtt gttg ttgc tgcg gcgt cgta gtat tatt attg ttgt tgta gtaa taag aagc agct gcta ctat tata atac tact actt ctta ttaa taaa aaaa aaaa aaaa aaat aatg atga tgac gacc acct cctt ctta ttac tact acta ctaa taac aaca acaa caaa aaaa aaat aatg atga tgat gatt atta ttat tata ataa taaa aaat aatc atcc tcca ccag caga agat gata ataa taaa aaag aagt agta gtat tata ataa taaa aaag aagt agtt gtta ttag tagt agtc gtct tctg ctgt tgta gtat tatt attt ttta ttat tatt attt tttt tttg ttga tgaa gaaa aaac aaca acaa caaa aaac aaca acat catt attt ttta ttaa taaa aaat aatg atga tgat gata ataa taat aatc atca tcac cact actt cttc ttct tctt cttc ttcc tcca ccat catt attg ttgc tgca gcat catc atct tctt cttt tttc ttct tctc ctct tctt ctta ttaa taac aaca acag caga agaa gaag aagg agga ggaa gaaa aaag aaga agag gaga agat gata atac taca acag caga agaa gaat aatt attt ttta ttat tatc atca tcat catc atct tctt cttg ttgc tgca gcaa caac aact actt cttc ttca tcaa caaa aaaa aaat aatc atct tcta ctaa taaa aaaa aaag aagt agta gtaa taaa aaag aagt agta gtac taca acaa caaa aaac aacc acct cctt cttt tttc ttca tcat catt attg ttgt tgta gtaa taat aatt attt tttt tttt tttc ttca tcag cagt agtt gttt tttt tttg ttga tgat gata ataa taag aagt agtg gtgc tgct gctt cttg ttgt tgtt gtta ttag tagt agtt gttt ttta ttat tatg atgg tgga ggaa gaat aatc atct tctt ctta ttac tacc acca ccag cagc agcc gcca ccac cacg acgg cggg ggga ggag gagc agcc gccc cccc ccct cctt cttc ttca tcac cact actt cttc ttca tcag cagc agca gcaa caaa aaat aatt attt tttt tttt ttta ttag taga agat gatc atcc tcca ccag caga agac gact actt cttt tttc ttca tcag cagc agcc gcca ccat catc atct tctc ctca tcaa caat aata atat tata atag tagt agtt gtta ttaa taat aatt attt tttt tttt tttt tttt tttt ttta ttat tatt attg ttga tgat gatt attc ttct tctt cttt tttt ttta ttaa taaa aaaa aaaa aaaa aaac aaca acat catt attg ttgt tgtc gtct tctt cttt tttt ttta ttaa taaa aaaa aaat aatc atct tctc ctct tctt ctta ttac tact actc ctct tctt cttt tttg ttga tgaa gaac aacc acct cctc ctct tctg ctga tgat gatt attt tttt tttt tttc ttca tcat catg atga tgaa gaaa aaaa aaag aagc agca gcaa caat aatt attc ttct tctc ctct tctc ctca tcaa caat aatt attc ttct tcta ctat tata atat tatt atta ttat tatt attt tttc ttca tcaa caag aagg aggt ggtt gttc ttct tctg ctgc tgca gcaa caat aatt attt ttta ttat tatg atgt tgtt gttt tttt tttc ttct tctt ctta ttac tact acta ctat tatt attt tttc ttct tctg ctgg tggt ggtg gtgt tgta gtat tatg atgt tgtg gtgt tgtt gttt ttta ttat tatc atcc tccc ccca ccat catt attg ttgt tgtg gtga tgat gatg atgt tgtt gtta ttat tatt attt ttta ttat tatt atta ttat tatc atct tctc ctca tcag caga agag gagt agtc gtca tcaa caag aagc agct gctt cttt tttt tttt tttt tttt tttt tttt tttt tttt tttt tttt tttt tttt tttt tttt tttt tttt tttt tttc ttcc tccc cccc cccg ccga cgag gaga agat gatg atgg tgga ggag gagt agtc gtct tctc ctca tcac caca acag cagg aggt ggtt gttc ttca tcac caca acac cacc acca ccat catt attc ttct tctc ctcc tcct cctg ctgc tgcc gcct cctc ctca tcag cagc agcc gcct cctc ctcc tccc cccg ccga cgag gagt agta gtag tagc agct gctg ctgg tggg ggga ggac gact acta ctac taca acat cata atat tata atac tacc accc cccg ccgc cgcc gcca ccaa caat aata atag tagt agtc gtct tcta ctaa taaa aaat aatc atct tctc ctcc tcct cctg ctga tgac gacc acct cctc ctcg tcgt cgtg gtga tgat gatc atct tcta ctac tacc acca ccag cagc agcc gcct cctc ctcg tcgg cggc ggcc gcct cctc ctcc tccc ccca ccaa caaa aaag aagt agtg gtgc tgct gctg ctgg tggg ggga ggat gatt attt tttt ttta ttac tact acta ctaa taag aagt agtt gttc ttca tcaa caat aata atag tagc agca gcat catg atga tgaa gaat aatc atct tctg ctgt tgtt gttg ttgt tgtg gtga tgaa gaag aaga agaa gaat aatt attc ttca tcaa caag aaga agaa gaat aatt attt tttt tttc ttct tctt cttc ttct tcta ctat tatt attt tttg ttgt tgtt gttt ttta ttaa taaa aaat aatg atgt tgtg gtgt tgtt gttt tttg ttgt tgtg gtgt tgtt gttt tttg ttgg tggt ggtg gtga tgag gagt agtt gtta ttat tatg atgt tgtt gttt tttt ttta ttag tagt agtg gtgc tgct gctt cttc ttcg tcgt cgta gtag tagg aggt ggtt gttt tttt tttt tttc ttct tctt cttt tttg ttga tgac gact acta ctat tatt attg ttga tgac gact actc ctct tctt cttt tttt tttc ttca tcac caca acac caca acat catt attt tttt ttta ttat tatt attg ttgt tgtt gtta ttat tatt atta ttat tata atag taga agaa gaag aagg aggt ggtg gtgg tgga ggat gata ataa taac aact actt cttt tttt tttg ttgt tgtt gttc ttca tcat catt attt ttta ttaa taat aata atag tagc agcg gcga cgat gatt atta ttaa taac aaca acaa caaa aaaa aaac aaca acag caga agat gata ataa taag aaga agaa gaat aatc atcc tccc ccct ccta ctac tacc accc ccct cctc ctca tcat cata atag taga agag gagc agct gctt ctta ttac taca acat catt atta ttat tatg atga tgag gagg aggt ggtt gttg ttgg tggg ggga ggag gaga agaa gaaa aaaa aaaa aaaa aaaa aaaa aaat aatt atta ttaa taag aagt agtg gtgg tggg gggt ggta gtaa taag aagg aggg gggg gggg gggt ggta gtaa taat aatg atgt tgtc gtca tcag caga agag gaga agaa gaag aaga agag gaga agag gaga agag gagg aggg ggga ggat gatg atgt tgta gtaa taat aatt attt tttt ttta ttaa taaa aaat aatt attg ttga tgag gagg aggg ggga ggag gagt agtg gtga tgag gagg aggt ggtg gtga tgag gagg aggc ggca gcat catg atgt tgtg gtgg tggc ggcc gcca ccat catc atct tctg ctgg tggg gggg ggga ggaa gaaa aaag aagc agct gctt cttt tttc ttcc tcca ccag cagg aggc ggca gcaa caat aatt atta ttac taca acaa caag aagt agtg gtga tgag gaga agaa gaag aagt agta gtaa taac aaca acat catc atcc tcca ccag cagg aggg ggga ggac gaca acag caga agag gagg aggc ggca gcag cagt agtg gtga tgaa gaag aaga agag gagc agcc gcca ccag cagg aggt ggtc gtcg tcgt cgtg gtgt tgtg gtgg tggg gggg gggg gggt ggtc gtcc tcct cctt cttg ttgt tgtt gttg ttgt tgtc gtct tctg ctga tgac gaca acag cagg aggt ggtt gttt tttt tttc ttca tcac caca acag caga agaa gaat aatc atca tcat catt attc ttca tcag cagg aggc ggcc gcca ccac cact actg ctgt tgtg gtgt tgtt gttg ttga tgag gaga agaa gaat aata atag tagg aggc ggct gctg ctgt tgta gtag tagg aggg gggg gggg ggga ggac gacc acca ccaa caaa aaac aaca acaa caaa aaaa aaag aagc agca gcaa caat aatg atgg tgga ggaa gaag aagt agtg gtgg tggt ggtg gtga tgag gaga agaa gaag aagc agca gcag cagt agtc gtca tcag caga agat gatt attc ttct tctt cttg ttgt tgtt gttg ttgt tgta gtat tatt attt tttt tttg ttga tgaa gaag aagg aggt ggta gtag taga agac gact actg ctgc tgca gcaa caag aaga agaa gaaa aaaa aaag aagc agca gcaa caag aagt agta gtat tatg atgt tgtg gtgg tggg gggg ggga ggaa gaag aagt agtt gttc ttca tcag cagg agga ggag gagc agct gctc ctca tcag cagt agtt gttt tttt ttta ttag taga agac gaca acag cagt agtt gtta ttaa taag aagt agtt gttt tttc ttca tcag caga agag gagg agga ggaa gaat aatg atgg tggc ggct gctg ctgg tgga ggat gata atat tatg atga tgaa gaat aatt attt tttg ttgg tggg ggga ggag gagt agtc gtct tctt cttt ttta ttac tact acta ctac taca acaa caaa aaat aatt attt tttt tttt tttt tttt tttg ttgt tgta gtat tatt attt tttt tttt tttc ttca tcac cacc accc ccca ccac cacc acct cctt cttg ttgg tggc ggcc gcct cctc ctcc tccc ccca ccaa caaa aaag aagt agtg gtgc tgct gctg ctgg tggg ggga ggat gatt atta ttac taca acag cagg aggc ggca gcat catg atga tgag gagc agcc gcca ccac cact actg ctgc tgca gcac cacc accc cccg ccgg cggc ggcc gcca ccag caga agat gata atag taga agag gaga agac gacg acgg cggg ggga ggaa gaag aaga agag gaga agat gatc atcc tcca ccaa caag aaga agac gacc acct cctg ctga tgat gatt attg ttga tgaa gaag aagc agcc gcct cctt cttt tttt ttta ttat tata atac tact actt ctta ttag taga agaa gaag aagc agca gcag cagg aggg ggga ggaa gaaa aaaa aaaa aaat aata atac tact actg ctgg tgga ggag gagt agtg gtga tgag gagg aggt ggta gtat tatg atgc tgct gctg ctga tgaa gaaa aaag aagc agcc gcca ccaa caag aaga agag gaga agaa gaaa aaaa aaaa aaaa aaaa aaag aaga agaa gaat aatt attg ttgt tgtc gtcg tcga cgag gagt agta gtag tagt agtg gtga tgag gaga agag gaga agat gatc atca tcat catt attg ttgg tggc ggct gctt cttt ttta ttaa taac aaca acac cacc accg ccgt cgtg gtgg tgga ggag gagg agga ggag gagc agca gcac cact actt cttt tttc ttca tcag cagt agtg gtgg tgga ggac gact actg ctga tgaa gaag aagt agtg gtgg tggg gggg gggc ggca gcaa caaa aaag aagg agga ggaa gaaa aaaa aaag aaga agaa gaag aaga agag gaga agaa gaaa aaat aatg atga tgaa gaat aatc atca tcag cagt agta gtag tagc agcc gcca ccag caga agaa gaag aagg aggg gggg ggga ggaa gaat aatc atca tcag cagg agga ggat gatc atca tcaa caag aaga agag gaga agaa gaac aaca acat catt attt tttg ttgc tgct gctt cttt tttt tttt ttta ttaa taaa aaag aaga agaa gaag aagg aggt ggta gtaa taaa aaaa aaat aatg atgc tgca gcaa caag aaga agat gatg atgg tgga ggaa gaag aagc agca gcaa caaa aaaa aaac aaca acag cagg agga ggaa gaac aaca acag cagc agct gctg ctgt tgtg gtgg tggg gggg gggc ggca gcac cact actg ctgt tgtt gttc ttct tctc ctca tcag cagc agct gctg ctgt tgtt gttc ttca tcat catc atct tctg ctgt tgta gtaa taat aatc atca tcac caca acag cagg agga ggaa gaaa aaaa aaaa aaaa aaag aagt agta gtaa taaa aaag aagt agta gtac tacg acgt cgta gtag tagg aggt ggta gtat tata atag taga agat gata atac tacc acca ccaa caat aatg atgg tgga ggaa gaag aaga agaa gaaa aaac aaca acag cagg aggg gggc ggca gcac caca acaa caaa aaaa aaat aatc atca tcat catc atca tcag cagc agct gctg ctga tgag gaga agag gagt agtc gtca tcag caga agaa gaat aatg atga tgaa gaag aaga agaa gaaa aaaa aaag aagg aggg gggg gggg gggc ggcc gcca ccag cagg aggc ggcg gcgc cgcg gcgg cggt ggtg gtga tgat gatg atgg tgga ggag gaga agac gaca acaa caat aatc atcc tcct cctg ctgg tgga ggat gata ataa taac aaca acac cacg acgg cggt ggtg gtga tgaa gaaa aaac aacc accc cccc cccg ccgt cgtc gtct tctc ctct tcta ctac tact acta ctaa taaa aaaa aaaa aaat aata atac taca acaa caaa aaaa aaaa aaaa aaat aatt atta ttag tagg aggc ggcg gcgt cgtg gtga tgaa gaac aacc acct cctg ctgg tggg ggga ggag gagg aggt ggtg gtgg tgga ggag gagc agct gctt cttg ttgc tgca gcag cagt agtg gtga tgag gagc agct gctg ctga tgag gaga agat gatc atca tcac caca acac cacc acca ccac cact actg ctgc tgca gcac cact actc ctcc tcca ccag caga agac gaca acag caga agag gagg agga ggaa gaaa aaag aagg aggc ggca gcat catg atga tgaa gaaa aaat aatc atca tcat catt atta ttat tatc atct tcta ctaa taag aaga agaa gaaa aaag aagt agtg gtgg tggt ggta gtag taga agag gagt agta gtaa taaa aaat aatg atgg tgga ggac gact acta ctaa taag aagt agta gtaa taaa aaac aaca acaa caat aata atat tatt attt tttt tttt tttt tttc ttca tcaa caac aacc accg ccgt cgtg gtgt tgtt gttc ttca tcag cagc agct gctc ctct tctg ctga tgat gatg atgg tggt ggtg gtgt tgtg gtgg tggg gggc ggca gcat catg atga tgaa gaag aagt agta gtag tagt agtt gttg ttgg tgga ggaa gaaa aaag aagt agta gtag taga agaa gaag aagg aggg gggg gggg gggt ggta gtat tata atat tatg atgc tgca gcaa caaa aaaa aaag aagg agga ggag gagg agga ggat gatt attt ttta ttaa taaa aaat aata ataa taat aatt attg ttga tgac gacc acct cctt cttg ttgg tgga ggac gaca acac caca acaa caat aatg atgc tgca gcag caga agag gagc agca gcaa caaa aaag aaga agag gagg aggt ggtg gtgg tggg gggt ggtt gttt tttg ttga tgag gagt agtt gtta ttag tagg aggg gggt ggtt gttt tttt ttta ttag taga agag gagg aggg ggga ggag gagt agtg gtga tgaa gaac aact actg ctgg tggg gggc ggca gcag caga agat gatc atca tcaa caaa aaag aagg aggt ggta gtag tagg aggt ggtg gtgg tggt ggtt gttg ttgt tgtt gttg ttgg tggg gggt ggta gtat tatg atgt tgtc gtcc tcca ccat catt attg ttgc tgca gcag cagt agtg gtga tgag gagt agtt gtta ttac tacc acca ccag cagt agtg gtgg tgga ggaa gaaa aaaa aaat aata atag taga agag gagg agga ggac gaca acat catg atga tgat gatc atca tcat catt attt ttta ttag tagg agga ggaa gaat aatt attt tttc ttcc tcca ccag cagg agga ggaa gaaa aaac aaca acat catg atga tgac gacc acca ccat catc atcg tcgt cgtg gtga tgat gatg atga tgac gaca acag caga agaa gaat aatg atga tgac gaca acag cagt agtg gtga tgag gagt agtt gtta ttat tatg atga tgag gagt agtt gtta ttaa taaa aaaa aaat aatc atct tctt ctta ttat tatg atga tgaa gaat aatg atga tgac gaca acag cagt agtc gtct tctg ctga tgat gata ataa taac aaca acac cacg acga cgag gagg aggt ggtt gttc ttca tcaa caaa aaaa aaac aact actg ctga tgag gagt agtg gtgt tgtt gttt tttt tttt ttta ttag taga agag gagt agtg gtgg tggg ggga ggag gagg agga ggag gagc agca gcag cagg aggg gggg gggc ggca gcaa caac aact actg ctgt tgta gtac taca acag cagg aggc ggca gcag caga agac gaca acaa caag aaga agaa gaac aacc acca ccag cagg aggt ggtt gttt tttg ttgt tgtt gttg ttgc tgca gcaa caac aaca acaa caag aaga agat gatg atgg tggc ggca gcaa caat aatg atga tgag gaga agag gagc agca gcag caga agat gatt attc ttcg tcga cgag gagg agga ggag gaga agat gatg atga tgaa gaag aaga agag gagg aggt ggta gtag tagg agga ggag gagg agga ggag gaga agat gatg atgg tggt ggtg gtgc tgcc gccc ccca ccag caga agaa gaaa aaag aagg aggc ggcc gcca ccac caca acat catc atcc tcca ccaa caaa aaag aagc agcc gcct cctt cttt ttta ttaa taat aatt attt tttt tttt tttg ttgt tgtg gtgt tgtg gtgt tgtt gttt ttta ttat tata atag tagc agca gcag cagg aggt ggtg gtgt tgta gtat tata atat tata atat tatt attt ttta ttat tatg atgg tggg gggg gggg ggga ggag gagc agcc gcct cctg ctgt tgtg gtgc tgct gctt cttg ttgt tgtt gtta ttat tatg atgg tggg ggga ggag gagg aggc ggcc gcct ccta ctag taga agat gatg atgt tgtc gtca tcag caga agag gagg agga ggag gagt agtc gtcc tccg ccgg cggc ggct gcta ctaa taaa aaac aacc acca ccac cact actg ctgc tgca gcag caga agaa gaac aact actg ctgc tgct gctg ctgc tgcc gcct ccta ctaa taat aatt attc ttca tcac caca acat catg atgt tgtt gtta ttac tact actt cttt ttta ttac taca acat catg atgg tggg ggga ggag gagg aggt ggta gtat tatc atca tcaa caat aatt atta ttaa taaa aaag aaga agat gatg atga tgat gatg atga tgaa gaaa aaat aatg atgc tgcc gcct cctg ctga tgat gatt attt tttg ttgg tgga ggaa gaaa aaaa aaac aaca acag caga agat gata atac tact acta ctag tagc agcc gcct ccta ctat tatg atgt tgtg gtga tgaa gaaa aaac aaca acac cacc accc cccg ccga cgaa gaaa aaag aagg aggc ggcc gcca ccag caga agaa gaat aatg atga tgag gagg agga ggaa gaag aagt agtg gtgc tgct gctg ctgg tgga ggag gaga agaa gaac aact actt cttg ttga tgaa gaaa aaag aagg aggg gggg gggc ggca gcaa caac aact actt cttt tttg ttgc tgcc gcct cctg ctgg tggg gggt ggtg gtgt tgta gtat tatt atta ttac tacc acca ccac caca acat catg atgg tggg gggc ggca gcag caga agac gact actg ctgg tggc ggca gcag caga agaa gaaa aaac aacc accc ccca ccag caga agac gact actt ctta ttac tacc acct cctt cttc ttcc tcca ccag caga agag gaga agat gatg atgg tgga ggac gact actg ctgt tgtg gtga tgag gagg agga ggaa gaag aaga agaa gaac aacg acgg cggg gggc ggcc gcct cctt cttg ttgc tgct gctg ctgg tgga ggaa gaat aatg atgt tgtg gtgg tgga ggag gagg aggg ggga ggaa gaag aaga agaa gaat aatt atta ttat tatg atga tgac gaca acac cact actg ctgg tggg gggt ggta gtat tatg atga tgaa gaaa aaat aatc atca tcac cacc accg ccgc cgcc gcct cctg ctgt tgtc gtcg tcgc cgcc gcct cctg ctgg tgga ggat gatg atgg tggc ggct gctt cttt ttta ttaa taaa aaat aatt atta ttag tagc agca gcaa caac aacg acgg cggg gggg gggg ggga ggat gatc atca tcat cata atag tagt agta gtaa taag aagg aggt ggtt gttc ttct tctt cttc ttct tctt cttg ttgc tgcc gccc ccct cctg ctga tgaa gaag aagc agct gctt cttt tttg ttgg tggg ggga ggat gatg atga tgaa gaag aagg agga ggac gaca acag cagg agga ggaa gaag aagc agct gctg ctga tgaa gaag aagg agga ggag gaga agaa gaaa aaaa aaat aatg atgg tgga ggat gata atat tatg atgt tgtc gtct tctt cttc ttct tctc ctct tctt cttc ttct tctt ctta ttac tact actg ctga tgaa gaag aaga agag gaga agaa gaag aaga agac gact actt cttt tttg ttgt tgtg gtgg tgga ggat gatg atga tgaa gaag aagc agct gctc ctct tctt cttg ttga tgag gagc agct gctc ctct tctt cttt tttg ttga tgac gaca acag cagg agga ggac gaca acac caca acaa caaa aaaa aaag aaga agat gatc atcc tcca ccaa caaa aaat aatg atga tgaa gaag aagg agga ggaa gaag aagc agct gcta ctac tacc acca ccaa caac aaca acaa caag aagc agca gcag cagc agcc gcct ccta ctag taga agag gagg aggg gggc ggca gcag caga agaa gaaa aaac aaca acaa caaa aaaa aaag aagc agcc gccc ccca ccac caca acat catt attt tttg ttga tgag gagg aggt ggtt gttg ttgc tgcc gcct ccta ctat tata atat tata atag taga agaa gaac aact actg ctgg tggc ggca gcag cagg agga ggaa gaaa aaag aagt agta gtat tata atat tata atag taga agaa gaag aagc agca gcag cagg agga ggag gaga agaa gaaa aaat aata ataa taat aatg atgc tgca gcaa caag aaga agac gaca acat cata atat tata atat tatt attt tttg ttgc tgca gcac cact acta ctat tatg atgg tggt ggta gtag taga agat gatt attt tttc ttca tcag cagg agga ggaa gaat aatt attt tttc ttca tcaa caaa aaaa aaag aaga agaa gaaa aaat aatc atcc tcca ccaa caag aagg aggg ggga ggat gata ataa taaa aaaa aaag aagt agtg gtgt tgtc gtca tcaa caat aatt attc ttct tctt cttt tttg ttgg tgga ggag gaga agaa gaaa aaac aact actg ctgg tggt ggtt gttt tttt ttta ttaa taag aagg agga ggaa gaaa aaac aact actt cttc ttca tcag caga agag gaga agaa gaaa aaat aatg atga tgat gatg atga tgaa gaag aagc agct gctc ctct tcta ctag taga agag gagt agta gtac tact actg ctgt tgtg gtga tgag gagt agtg gtgg tggg gggc ggcc gccc ccct cctg ctga tgag gaga agac gact actg ctgg tggc ggct gctg ctgc tgct gctg ctga tgag gagt agtt gttt tttt ttta ttag taga agaa gaac aact actc ctct tctg ctgt tgtt gtta ttaa taac aacg acgt cgtg gtgc tgct gcta ctaa taat aatc atca tcaa caag aagg aggc ggct gctg ctga tgag gagg aggt ggtg gtga tgag gagt agtg gtgg tgga ggat gatc atca tcac cacc acct cctg ctga tgag gagg aggt ggtc gtca tcag cagg agga ggag gagt agtt gttc ttca tcaa caaa aaaa aaac aacc acca ccag cagg aggg gggc ggca gcac caca acac caca acac cacc acct cctg ctgt tgta gtaa taat aatc atcc tccc ccca ccag cagc agct gcta ctac tact actc ctca tcag cagg agga ggag gagg aggc ggct gctg ctga tgag gagg aggc ggca gcag cagg agga ggag gaga agaa gaat aatt attg ttgc tgct gctt cttg ttga tgaa gaac aacc acct cctg ctgc tgcg gcga cgag gaga agac gact actg ctgc tgca gcat catc atct tctc ctca tcaa caaa aaaa aaat aata ataa taaa aaag aaga agaa gaaa aaaa aaaa aaaa aaat aatg atga tgat gata ataa taat aatc atca tcat catc atct tctt cttt tttt tttc ttct tctg ctgc tgct gctt cttg ttgc tgct gctg ctgt tgtt gttt tttt tttc ttca tcaa caaa aaaa aaaa aaat aata atat tatt atta ttag tagt agtt gttg ttgc tgca gcat catt attc ttca tcaa caat aata ataa taat aatt atta ttaa taat aatg atga tgaa gaat aatc atca tcaa caat aatg atgt tgtg gtgt tgtg gtgt tgtg gtgt tgtg gtgc tgca gcat catg atgt tgta gtaa taag aaga agaa gaaa aaaa aaaa aaac aacc acca ccac caca acac cact acta ctaa taaa aaaa aaat aata ataa taaa aaag aagt agtg gtga tgag gaga agaa gaag aagg aggt ggtc gtcg tcgg cggt ggtg gtgc tgcc gcca ccat catg atga tgac gacc accc ccca ccag cagt agtg gtgt tgta gtaa taat aatt attc ttct tctt cttg ttga tgac gact actc ctct tctc ctct tcta ctat tatt attt ttta ttat tatt attc ttca tcat catg atga tgat gata atac taca acag cagt agta gtat tatg atgt tgta gtat tatc atcc tccc ccct cctg ctgg tgga ggaa gaag aaga agat gatg atgt tgtc gtct tctc ctct tctg ctgg tggt ggtt gttc ttct tcta ctag taga agat gatc atca tcat catt attt tttt tttt tttc ttcc tccc ccca ccag caga agaa gaac aaca acaa caac aaca acag caga agaa gaaa aaat aatt attt tttg ttgt tgtt gttt tttt tttc ttct tctc ctca tcac caca acag cagt agtt gttc ttct tctg ctgg tgga ggag gagg aggc ggct gctg ctgg tgga ggaa gaaa aaat aatc atcc tcca ccaa caag aaga agat gatc atca tcaa caaa aaag aagt agtg gtgt tgtt gttg ttgg tggt ggtg gtga tgat gatt attt tttg ttgc tgct gctg ctgg tggc ggca gcat catt attt tttt tttt tttt tttg ttgg tggc ggca gcat catt attc ttct tctt cttt tttg ttgg tggc ggct gctt cttg ttgt tgta gtag taga agat gatg atgt tgtc gtct tctc ctca tcac cacc acct cctc ctcc tcca ccac cacc acct cctt cttt tttg ttgc tgca gcag cagg agga ggac gaca acac cacc acca ccag cagt agtc gtca tcat catt atta ttat tata atat tatt atta ttag taga agag gagc agcc gcct cctg ctgc tgcc gccc ccca ccat cata atat tatg atgt tgtg gtgt tgtg gtgg tggg gggt ggtg gtgg tgga ggag gagg agga ggat gatt atta ttac tacc accc ccca ccag cagg aggt ggtg gtga tgag gagg agga ggat gata atag tagt agtc gtca tcat cata ataa taat aata atac taca acaa caaa aaat aatt atta ttag taga agat gata atat tata atag taga agag gaga agat gatg atga tgat gatc atca tcat catg atgg tgga ggac gaca acaa caat aatt atta ttag tagc agca gcaa caat aatc atca tcat catt atta ttat tata ataa taaa aaac aact actg ctgg tggc ggcg gcgg cggg gggt ggta gtat tata atag tagg aggg gggt ggtg gtga tgag gagg aggt ggtg gtgc tgct gctg ctga tgaa gaag aagg aggg ggga ggac gaca acat catt attg ttgt tgtg gtga tgag gaga agaa gaag aagt agtg gtga tgac gacc acct ccta ctag taga agaa gaag aagg aggc ggca gcaa caaa aaaa aaac aacg acgg cggc ggca gcag cagt agtg gtgt tgtc gtct tctg ctgg tggg ggga ggaa gaag aaga agac gaca acac cacc accc cccg ccgt cgtt gtta ttac tact actt ctta ttag tagc agca gcag caga agac gacc accg ccgc cgca gcaa caaa aaaa aaag aagg aggg ggga ggag gagt agtc gtct tctc ctca tcat catt attt tttc ttcc tcca ccag cagg aggc ggcc gcct cctg ctgc tgcc gccc cccg ccgc cgca gcag cagt agtc gtca tcat catc atcc tccg ccgg cgga ggag gagg aggc ggcc gcct ccta ctaa taaa aaat aatc atcc tccc cccc ccct cctc ctcc tccc ccct cctg ctgt tgtg gtgg tggt ggtg gtgc tgct gctg ctgt tgtg gtgc tgct gctt cttc ttca tcag cagt agtg gtgt tgta gtag tagt agta gtag taga agat gata atag tagc agcg gcgg cggt ggta gtag taga agaa gaag aagg agga ggaa gaat aata atag tagt agtg gtga tgaa gaaa aaag aagt agtc gtct tctt cttg ttga tgaa gaag aagt agtc gtct tctt cttt tttg ttga tgat gatc atct tctt cttt tttc ttct tctt ctta ttat tata ataa taag aaga agaa gaaa aaag aagg aggg gggc ggcc gccc cccc cccc ccct ccta ctat tatc atcc tcct cctg ctgt tgta gtaa taat aatc atca tcac cacg acgt cgtg gtga tgaa gaat aatt attg ttgc tgct gctt cttc ttca tcac cacc acct cctt cttt tttt tttc ttca tcaa caat aatc atca tcac cact actt ctta ttag taga agaa gaag aaga agat gatt attc ttcg tcgg cggg gggc ggcc gccg ccgc cgct gcta ctac tacc accg ccgg cggt ggtc gtct tctc ctcc tccc cccg ccgc cgcg gcgt cgtc gtct tctt cttg ttga tgat gatg atgg tggt ggta gtag tagt agtg gtgg tggt ggtc gtcc tccc cccc ccct cctg ctgg tggg gggt ggtc gtcc tcca ccag cagc agct gctg ctgt tgtt gttt tttt ttta ttac taca acac cacc accc cccg ccgc cgct gcta ctaa taag aagc agcc gccg ccgc cgca gcat cata atag tagg aggg gggc ggct gctg ctgg tgga ggac gacc accc ccct ccta ctac taca acac caca acat cata atat tatg atga tgac gacc acct cctc ctca tcat catc atct tctt cttt tttt tttt tttt tttt tttt tttt tttt tttt tttt tttc ttct tctg ctgc tgca gcag cagc agcc gcct cctc ctct tctg ctgc tgcc gcct cctc ctcc tccc cccc ccca ccag cagc agct gctc ctca tcaa caag aagc agca gcaa caat aatt atta ttat tatt attg ttgt tgtg gtgc tgcc gcct cctt ctta ttag tagc agcc gcct cctc ctcc tccc cccg ccga cgag gagt agta gtag tagc agct gctg ctgg tggt ggtc gtca tcac cacc acca ccat catg atgt tgtt gttg ttgc tgcc gccc ccca ccag cagg aggg gggt ggtg gtgg tggt ggtc gtct tctt cttg ttga tgaa gaac aact actc ctcc tcct cctg ctga tgag gagc agct gctc ctca tcag cagg aggc ggca gcat catt attc ttct tctg ctgc tgct gctt cttg ttgc tgcc gcct cctc ctca tcag cagc agcc gcca ccaa caac aact actt cttt ttta ttat tata ataa taat aatg atgg tggt ggtc gtct tctg ctga tgaa gaaa aaaa aaac aaca acaa caaa aaaa aaac aaca acat catg atga tgag gagt agta gtac tacc acct cctt ctta ttac taca acaa caac aact acta ctat tatt attc ttct tctt cttt tttt tttt tttc ttca tcac cact actt cttc ttct tctt cttg ttgc tgcg gcgt cgtt gtta ttag taga agat gatg atga tgat gatt attt tttt tttg ttgc tgct gctc ctca tcaa caac aact actg ctgt tgta gtag tagg aggc ggct gcta ctaa taat aata atat tata ataa taag aagt agtg gtgt tgtt gttc ttct tctg ctga tgaa gaac aaca acac caca acat catt attt ttta ttaa taag aaga agat gatt attt tttt tttt tttt tttg ttga tgag gaga agat gatt attg ttga tgaa gaaa aaag aagt agtc gtca tcac caca acat catt attt ttta ttat tatt attg ttgc tgcc gcca ccac cacg acgt cgtg gtga tgaa gaag aagg agga ggaa gaaa aaag aagc agcc gcca ccaa caat aatt atta ttaa taag aagt agtc gtca tcaa caaa aaat aatt atta ttat tatt attt ttta ttaa taaa aaag aagt agtg gtga tgag gagt agtt gttt tttc ttcc tcct ccta ctat tata ataa taag aagg agga ggaa gaac aaca acaa caaa aaat aata atag tagt agtc gtcg tcgg cggg gggt ggtt gtta ttat tata ataa taaa aaat aatt attt tttt tttt ttta ttat tatc atcc tcca ccac cact actc ctct tctt cttg ttgc tgcc gcca ccag cagc agca gcat catt attc ttca tcaa caac aact actt cttt tttg ttgt tgtc gtca tcat catt attt tttt ttta ttat tatt atta ttat tatt attt tttg ttgt tgtt gttt tttt tttc ttct tcta ctat tatt attt tttg ttgt tgtt gttt tttc ttct tctc ctcc tcct cctg ctgc tgct gctt cttt tttt tttc ttca tcat catc atct tctt cttg ttga tgat gatt attt ttta ttat tatt attt tttt tttt ttta ttag tagt agtg gtgt tgtt gttt tttt tttc ttca tcag cagg aggc ggca gcat catt attt tttt tttt tttg ttgt tgta gtat tatt atta ttat tatt attt tttt tttt tttg ttgt tgta gtag tagt agtt gttg ttgt tgtt gttt tttc ttct tctc ctct tcta ctag taga agaa gaag aagt agtg gtga tgaa gaag aagt agtg gtgt tgtg gtga tgag gaga agaa gaat aatt attt tttt tttg ttgc tgct gctt cttt tttc ttca tcat catt attt tttt tttg ttga tgat gatt attt tttt tttg ttgg tgga ggag gagg aggg ggga ggaa gaaa aaag aagg aggg ggga ggat gatt attg ttgg tgga ggat gata atag tagt agtg gtgt tgtt gtta ttat tatt atta ttat tatt attt tttt tttt tttg ttgt tgtt gttt tttt ttta ttag tagt agtc gtca tcat catc atca tcaa caaa aaac aaca acat cata ataa taat aatt attt ttta ttat tata ataa taaa aaac aact actg ctgc tgca gcat catg atga tgag gagg agga ggaa gaaa aaat aatg atga tgat gata atag tagc agct gctc ctca tcag cagt agtc gtcc tcct cctg ctga tgat gatg atgc tgct gctc ctct tctg ctga tgag gaga agag gagt agtc gtct tctt cttc ttcc tcct cctt cttt ttta ttaa taat aatc atct tctt cttc ttct tctc ctct tctt cttt tttt tttc ttct tctg ctgt tgtt gttt ttta ttaa taaa aaac aaca acaa caat aatt attt tttc ttct tctt cttt tttt tttt tttc ttct tctc ctcc tcct cctt cttt ttta ttat tatt attc ttcc tcct cctt cttg ttga tgag gaga agaa gaat aatt attg ttgt tgtt gttt tttc ttca tcag cagg agga ggat gata atat tata atag taga agaa gaat aatt attt tttg ttgt tgta gtag tagt agtt gttg ttga tgat gata ataa taat aatt attc ttct tctt cttt tttt tttc ttct tctg ctgt tgtc gtca tcat catc atca tcat catt attc ttcc tcca ccaa caat aatt attg ttga tgat gatg atgt tgtg gtgt tgtc gtcc tccc ccct ccta ctat tatt attt ttta ttaa taaa aaat aatg atgc tgca gcat catt attt tttt tttc ttca tcaa caac aact acta ctaa taac aaca acaa caac aacg acgg cggg gggt ggtt gttc ttca tcac caca acag cagg aggt ggta gtac tact actg ctgg tggg ggga ggaa gaat aatt atta ttag tagt agtc gtca tcac caca acaa caat aatg atgt tgta gtat tatc atcc tcct cctg ctgt tgta gtaa taac aaca acat catc atcc tcct cctg ctgg tgga ggaa gaac aacc acct cctt cttt tttc ttcc tcct cctt ctta ttat tatg atgt tgta gtag taga agaa gaaa aaaa aaaa aaag aagg aggt ggta gtaa taaa aaag aaga agat gatt attc ttct tctt cttc ttca tcag caga agat gatt attt ttta ttag tagg agga ggaa gaat aata ataa taac aaca acag caga agaa gaat aatt attc ttct tctc ctca tcaa caaa aaaa aaaa aaat aatg atgt tgtc gtca tcat catt attt tttt ttta ttaa taat aatc atct tctt cttc ttct tctg ctgt tgtt gttt tttc ttct tctt ctta ttaa taat aatc atca tcac cacc acca ccag caga agat gatt attt tttt ttta ttaa taaa aaat aatt attt tttt ttta ttat tata atat tatc atca tcat catg atga tgat gata atat tatt attc ttcc tcca ccac cacg acgt cgtt gttt tttg ttgt tgta gtag taga agag gaga agaa gaaa aaag aagt agtt gttt tttc ttca tcaa caag aagg agga ggag gagc agcc gcca ccac cacc acct cctt ctta ttaa taaa aaac aacc acca ccag caga agaa gaag aagt agtc gtct tctt cttt ttta ttaa taac aaca acac cacc accc ccca ccag caga agat gatc atct tcta ctag tagt agtc gtca tcat catg atga tgat gatt attt tttt tttg ttgt tgta gtat tata atac tacc accc cccc cccc ccca ccaa caaa aaaa aaac aacc acca ccat catt attc ttca tcaa caac aact actt cttc ttcc tcct cctg ctgc tgcc gcct cctt ctta ttaa taaa aaac aacc acca ccac cacc acca ccac cacc acca ccat cata atac taca acac caca acac cacg acgt cgtc gtca tcag cagg aggg gggc ggct gctg ctga tgag gagg aggc ggcg gcgg cggc ggct gctc ctcg tcgc cgca gcaa caag aagg aggc ggct gcta ctag tagg agga ggag gagt agtt gttt tttg ttgg tggg ggga ggac gaca acaa caag aagt agtc gtct tctg ctgg tggg gggc ggca gcaa caac aaca acag cagt agtg gtga tgag gaga agat gatt attc ttct tctg ctgc tgca gcaa caaa aaac aact actg ctgt tgta gtac taca acaa caag aagt agtt gttc ttca tcat cata atat tatt attc ttcc tcct cctg ctga tgat gatg atgc tgca gcat catg atga tgat gata ataa taac aaca acat catt attt ttta ttaa taat aatg atgc tgct gctt cttc ttcc tcct ccta ctac tacc acct cctt cttt ttta ttaa taaa aaat aatt attc ttca tcat catt atta ttat tatt attc ttca tcag cagc agct gctc ctca tcaa caag aagt agta gtat tatt atta ttac tacc acct cctc ctcc tccc ccct ccta ctag tagt agtc gtca tcag caga agat gatg atgc tgct gctt ctta ttac taca acag cagt agtc gtct tctg ctgg tggg gggt ggtt gtta ttag taga agat gatc atcc tcct cctc ctcc tcca ccat catg atga tgat gatc atcc tcct ccta ctac tacc acct cctg ctgt tgta gtac taca acac cact actt cttc ttct tctg ctga tgaa gaat aata ataa taag aagc agcc gcca ccac cacc acct ccta ctac tact acta ctag tagc agcc gcct cctc ctca tcag cagt agta gtaa taat aata atac taca acaa caat aatg atga tgaa gaaa aaag aagc agca gcag cagg aggg gggg gggt ggtc gtca tcag cagt agtt gttg ttgt tgtt gttg ttga tgaa gaaa aaaa aaac aact actc ctcc tcca ccag cagg aggt ggta gtat tatg atgc tgca gcag cagc agca gcat catc atct tctc ctca tcat cata atac tacg acgg cggt ggtc gtcc tcct cctc ctca tcat cata atag tagt agtc gtcg tcgt cgtt gtta ttaa taag aagt agta gtag tagc agcc gcct cctg ctgc tgct gctc ctca tcag cagg aggg gggt ggtc gtca tcac caca acaa caat aatg atgc tgct gcta ctat tata ataa taaa aaat aatt attg ttga tgat gatt attt tttg ttga tgaa gaac aact actt ctta ttat tata atac tact actt cttt tttc ttca tcag cagg aggc ggct gctt cttt tttg ttga tgag gaga agag gagt agtt gttg ttgg tggg gggc ggct gctt ctta ttaa taaa aaaa aaac aaca acag cagg aggg ggga ggac gaca acat catc atct tctg ctgt tgta gtat tatt attt tttt tttt ttta ttaa taat aatc atct tcta ctaa taat aatg atgc tgct gctt cttt tttg ttgt tgtt gtta ttac tact actg ctgt tgta gtaa taaa aaag aaga agat gatt attt tttg ttgt tgtt gttt tttt tttg ttgg tggg gggg ggga ggaa gaaa aaag aagc agcc gcct cctg ctgt tgtt gttt tttc ttcc tccc ccct cctg ctgg tggg ggga ggaa gaaa aaac aaca acag caga agac gact actt ctta ttac taca acag caga agat gatt attt tttc ttca tcat catg atgt tgta gtag tagc agca gcag caga agaa gaag aaga agaa gaag aaga agaa gaag aaga agaa gaaa aaag aagg aggt ggtt gttc ttca tcag cagt agtt gtta ttag tagt agtc gtcc tccc ccca ccac caca acag cagg aggg ggga ggac gact actt cttc ttct tctg ctgg tgga ggag gagc agct gctg ctgg tggg gggt ggtg gtgg tggc ggcc gccc ccct cctt cttc ttcc tcca ccat cata atag tagc agcc gcct cctt ctta ttaa taag aagc agca gcaa caag aaga agac gaca acaa caat aatg atgc tgcc gcct cctt cttt tttc ttcg tcga cgac gaca acag caga agag gagg aggg gggc ggca gcaa caag aagt agtc gtcc tcca ccag cagg agga ggag gagg aggg ggga ggaa gaac aact actc ctca tcag caga agag gagg aggg gggg gggg ggga ggat gatc atct tctg ctgc tgca gcac cacc accc cccg ccgc cgca gcac cacc acca ccat catg atgg tggc ggca gcat catc atcc tcca ccac cact actc ctcc tcca ccag cagg aggt ggtg gtgg tgga ggaa gaat aatc atcg tcgg cggt ggtg gtga tgac gaca acag cagt agtg gtgg tggt ggtt gttt tttt ttta ttat tatg atga tgaa gaat aatt attc ttct tcta ctat tatg atgc tgca gcaa caag aagt agtt gttc ttca tcag caga agag gagt agta gtag tagg aggc ggcc gcca ccag caga agac gacc acca ccac caca acaa caaa aaag aagc agct gctg ctgc tgca gcaa caaa aaaa aaat aata ataa taag aagt agtt gttt tttc ttct tctt cttc ttct tctt cttt tttc ttct tctt cttc ttcc tcca ccag cagt agtt gttg ttgt tgtt gtta ttat tatc atca tcag cagt agtt gttg ttgt tgta gtat tatg atga tgat gata ataa taat aatt atta ttaa taaa aaag aaga agaa gaaa aaat aata ataa taag aagg aggc ggct gctt cttc ttcc tcca ccat catt attt tttc ttct tctt cttt tttt tttg ttga tgat gatg atgg tggt ggtt gttt ttta ttac tact actt cttt tttt tttt ttta ttat tatt attt tttt tttt tttc ttct tctg ctgt tgta gtat tatt attc ttct tcta ctaa taaa aaat aatg atgt tgtt gttt tttt tttt tttc ttca tcaa caat aata ataa taaa aaac aaca acat catg atgt tgta gtat tatt attt tttt ttta ttat tata atat tatt attt tttg ttgt tgtt gttg ttga tgaa gaat aata atat tata ataa taat aatt atta ttag taga agag gagg aggc ggca gcaa caag aagt agtt gttc ttcc tcca ccaa caaa aaaa aaat aatt atta ttag taga agaa gaaa aaaa aaat aatg atgg tgga ggaa gaac aaca acat catg atgc tgct gctt cttg ttga tgag gaga agaa gaaa aaac aact actt ctta ttat tata ataa taag aaga agaa gaaa aaaa aaag aaga agat gatg atga tgaa gaac aacc acca ccat catc atca tcat catt attt tttg ttgc tgca gcaa caat aata atag taga agaa gaat aata ataa taaa aaac aaca acaa caaa aaat aatc atcc tcct cctt ctta ttat tatc atct tctg ctga tgag gaga agaa gaat aatg atga tgac gaca acat catt attt ttta ttaa taaa aaag aaga agag gagt agta gtag taga agaa gaat aatt atta ttaa taaa aaat aatg atgc tgct gctt ctta ttag tagt agtg gtgc tgcc gcct cctc ctct tctt cttc ttcc tcca ccaa caac aact actc ctcc tcca ccag cagc agct gctt cttt tttc ttcc tcct ccta ctag tagc agcc gcct cctc ctca tcag cagt agtt gttc ttct tcta ctat tata ataa taac aact actc ctct tctt cttg ttgg tggc ggct gcta ctag tagg aggc ggca gcac caca acag cagt agtg gtgg tggc ggct gctc ctca tcat catg atgc tgcc gcct cctg ctgt tgta gtaa taat aatc atcc tccc ccca ccag cagc agca gcac cact actt cttt tttg ttgg tggg ggga ggag gagg aggc ggcc gcca ccaa caac aacg acgg cggg ggga ggag gagg aggc ggcg gcgg cggg gggg gggg gggc ggct gctg ctgc tgcg gcgg cggt ggtg gtga tgac gacc accc ccca ccaa caag aaga agat gatt attg ttgc tgca gcac cacc acca ccac cact actg ctgc tgca gcac cacc accc ccct ccta ctag tagc agcc gcct ccta ctag tagg aggc ggcc gcca ccac caca acag cagt agtc gtca tcag caga agac gacc acct cctt cttt ttta ttaa taaa aaac aaca acaa caag aagt agtt gttg ttgc tgca gcaa caaa aaaa aaaa aaat aatc atcg tcgt cgtg gtgg tgga ggaa gaat aatt attt tttc ttcc tcca ccaa caaa aaat aata atat tatt attc ttcc tcct cctc ctca tcac cacc acct ccta ctag tagc agct gctt cttc ttca tcat cata ataa taat aatt atta ttat tatt atta ttac tacc accc ccca ccat cata atac tact actg ctgt tgta gtag taga agat gatg atgt tgta gtat tatt attt tttg ttga tgaa gaaa aaaa aaaa aaat aatt attg ttgt tgtt gttt tttg ttga tgag gagt agtt gttt ttta ttaa taag aagg aggt ggta gtat tatt attt tttt ttta ttac tact actt cttt tttc ttct tcta ctac tacc acca ccag cagt agtc gtct tctt cttt ttta ttaa taat aata atac tact actt cttc ttcc tcct cctg ctgt tgtc gtct tctt cttc ttct tctt cttt tttt tttt tttc ttca tcat catg atga tgat gatc atca tcat catt atta ttat tatg atgc tgct gctt cttt tttt tttg ttga tgaa gaat aata atag taga agaa gaat aatt attt tttg ttga tgag gagt agtt gttc ttcg tcgt cgtc gtct tctg ctga tgat gatg atgt tgtt gttt tttt tttc ttct tctc ctca tcat catg atga tgac gact acta ctag tagg agga ggat gatg atga tgaa gaag aagt agtt gtta ttat tatg atgc tgca gcat catt attt tttc ttct tctg ctgg tggc ggca gcaa caag aaga agag gaga agat gatc atct tctt ctta ttaa taat aatc atca tcac cact actt cttg ttga tgat gatt atta ttaa taag aagg aggt ggtg gtga tgat gata ataa taat aatc atct tctg ctgc tgct gctg ctgg tggg gggt ggtt gttt tttc ttct tctc ctcc tcct cctc ctct tctg ctgt tgta gtac taca acaa caat aata ataa taac aact actt cttc ttca tcac caca acat catc atca tcaa caaa aaac aact acta ctag tagc agca gcat catt attc ttca tcat catc atca tcag cagt agtt gttg ttga tgat gatt attt tttt tttg ttgt tgtt gttt tttg ttgc tgca gcaa caac aaca acaa caat aatg atga tgat gatt atta ttac tact actg ctgt tgtg gtgg tggt ggta gtat tatt attt tttg ttgc tgcg gcgc cgct gctg ctgt tgtg gtgc tgcc gccc ccct cctt cttt tttc ttcc tcca ccac cacc acca ccaa caat aatg atgt tgta gtat tatt attt ttta ttat tatt attt tttg ttgg tggt ggtt gtta ttat tatt attt ttta ttat tata atat tatc atca tcag cagt agta gtat tatg atgg tgga ggac gact actc ctca tcaa caag aaga agaa gaac aact actt cttt tttt tttt tttt ttta ttag tagc agct gctt cttt tttg ttga tgac gacc acca ccat catt atta ttag tagg agga ggag gagc agct gctt cttt tttc ttct tctc ctca tcat cata atat tatg atgg tgga ggac gact actc ctcg tcgt cgtg gtgt tgtg gtgt tgtt gttc ttct tctt cttt tttc ttca tcaa caac aacc acca ccag cagc agct gctt ctta ttat tata atat tatg atgt tgtt gttc ttcc tccc ccct cctg ctgc tgcc gccc ccct ccta ctag tagt agtc gtct tctt cttg ttgg tgga ggaa gaat aatc atca tcag cagc agcc gcca ccat catt attt tttc ttct tctc ctct tctt cttg ttgg tggc ggct gctt cttc ttct tctt cttt tttt tttt tttt tttt tttt ttta ttag tagt agtg gtgg tggc ggca gcat catc atca tcag cagt agta gtac tact actg ctgc tgcc gcca ccag cagg aggc ggcc gccc ccct cctc ctct tctc ctca tcag cagc agca gcag caga agac gaca acag caga agag gagg aggt ggtg gtgg tggg ggga ggaa gaaa aaat aatg atgt tgtt gttt tttg ttgt tgtc gtct tctt cttc ttcc tcca ccat catt attt tttt tttc ttca tcac cact actg ctgt tgtg gtgg tggt ggtt gttc ttct tcta ctag tagg aggg ggga ggag gagt agtc gtca tcag caga agac gacc acct cctg ctgt tgta gtac taca acaa caaa aaaa aaaa aaag aaga agat gata atat tata atac tact actt cttc ttca tcat catg atgt tgtc gtca tcac cact actt cttc ttcc tcct cctc ctcc tccg ccgt cgtt gttt tttc ttct tctg ctga tgag gagt agtt gttt ttta ttat tatc atcc tcct cctt cttc ttcc tcct cctg ctga tgat gatt attt tttc ttct tctt cttt tttt tttg ttgc tgct gctc ctca tcaa caaa aaat aatg atga tgaa gaac aaca acag caga agat gata atac taca acat catg atgt tgtg gtgt tgta gtat tatt attt tttt tttt tttc ttct tctt cttt tttt tttt tttt ttta ttaa taac aact actc ctca tcaa caac aaca acac cact actg ctgt tgtc gtcc tcct cctg ctgg tgga ggag gaga agat gatc atca tcag cagt agtt gttc ttca tcat cata atag taga agaa gaaa aaat aatc atcg tcgt cgtc gtcc tcct cctc ctca tcac cact actc ctct tctt cttt tttt tttt ttta ttat tata atat tatg atga tgag gagc agct gcta ctaa taat aata ataa taaa aaaa aaag aagt agtt gttg ttgc tgct gctt cttc ttcc tcca ccaa caat aata atat tatt attt tttt ttta ttat tata ataa taat aatt atta ttat tata ataa taat aatg atgt tgtt gttt tttc ttca tcag cagt agtg gtga tgag gagt agta gtaa taac aacc acct ccta ctat tatc atct tctt cttc ttca tcag caga agag gaga agag gagg agga ggag gagt agta gtac taca acaa caag aaga agaa gaaa aaat aatg atgg tggg ggga ggat gatt atta ttac tact actg ctgg tggg gggt ggtg gtgc tgca gcaa caaa aaag aagg aggt ggta gtaa taaa aaat aatg atgg tgga ggat gata atat tatg atgt tgtg gtga tgag gagc agca gcaa caat aatg atgt tgtg gtgt tgtg gtgc tgcg gcgt cgta gtat tata atac tacc acct cctg ctgc tgct gctt cttc ttcc tcca ccac caca acat catg atga tgac gacc acct cctc ctca tcag cagt agta gtaa taaa aaaa aaag aaga agaa gaat aatg atgt tgtg gtgt tgtt gttg ttgt tgtc gtca tcat cata atat tatt atta ttaa taat aatt attc ttca tcag cagc agct gcta ctat tatt attt tttt tttg ttga tgat gatt attt tttg ttgc tgct gctt cttt tttt ttta ttat tatt atta ttat tatt atta ttag tagc agca gcat cata atat tata atac tacc acca ccaa caaa aaaa aaat aata ataa taaa aaat aata atag tagg aggc ggca gcat cata atat tatt atta ttat tatt attt tttt tttt tttt tttc ttcc tcca ccat catt attc ttct tcta ctag tagg agga ggac gact actt cttg ttgc tgcc gccc cccc ccct cctt cttt tttc ttcg tcgt cgtc gtct tcta ctat tatt attt tttg ttgt tgtc gtca tcag caga agac gacg acga cgaa gaat aatg atgt tgtt gtta ttac taca acaa caat aatt attt ttta ttac tacc acct cctg ctgc tgca gcaa caag aagc agca gcaa caac aacc acct cctc ctcc tcca ccag cagt agtg gtgg tggc ggcg gcga cgac gacc acca ccag caga agaa gaat aatc atcc tcca ccaa caaa aaat aatc atca tcag cagg aggc ggcc gcct cctt cttc ttct tctt ctta ttac tact actt cttt ttta ttat tatt attt tttg ttgc tgct gctg ctga tgaa gaaa aaat aatg atga tgaa gaaa aaaa aaaa aaat aata atac tact actg ctgt tgtt gttg ttga tgag gagg aggt ggta gtaa taag aagg aggt ggtt gtta ttac tact actt cttt tttt tttc ttca tcag cagc agca gcat catc atca tcac cacc acca ccac caca acac caca acat catt attt tttt tttg ttgg tggt ggta gtat tatt attt ttta ttag tagt agta gtat tatg atgt tgtg gtga tgag gagg aggt ggta gtaa taaa aaag aagt agtt gttt ttta ttaa taat aatc atca tcat cata atat tata atat tatt atta ttaa taat aatt attg ttgc tgcc gccc ccca ccat catg atga tgaa gaac aacc acct cctc ctca tcag cagg agga ggag gaga agat gatg atgg tggg gggg gggg ggga ggaa gaaa aaat aatt attg ttgt tgtg gtga tgag gaga agaa gaag aagg agga ggat gatg atgt tgtt gttc ttca tcag caga agaa gaaa aaat aatg atgc tgca gcag caga agac gact actt cttt tttg ttgt tgta gtaa taag aagc agca gcaa caaa aaac aact actg ctgg tgga ggaa gaaa aaat aatt attg ttgg tggt ggtt gtta ttac taca acaa caaa aaag aaga agac gact acta ctac taca acag cagg aggt ggtt gttt ttta ttac taca acat catt attt ttta ttaa taaa aaac aact actc ctcc tcca ccat cata atat tatc atct tcta ctag tagt agtg gtgt tgtt gttt tttt ttta ttat tata atac taca acag caga agat gatt atta ttat tata atat tatt attt tttc ttct tctt cttt tttg ttgt tgtt gttc ttct tctg ctgc tgct gctt ctta ttaa taaa aaat aatc atct tcta ctat tata atat tata atat tata atac taca acat catt atta ttat tata atat tata ataa taat aata atat tatt atta ttag tagc agct gctg ctgg tggt ggtg gtgt tgtt gttt ttta ttat tatt attg ttga tgag gagt agtg gtgt tgtt gttt ttta ttac tact acta ctaa taac aact actg ctgt tgtt gttt tttt tttt tttc ttct tcta ctat tatt attt tttt ttta ttat tatc atca tcag cagt agtg gtga tgag gaga agaa gaaa aaac aaca acag cagg aggt ggtt gtta ttaa taaa aaat aatg atgg tggc ggct gctt cttg ttgc tgcc gcct cctt ctta ttag tagg aggt ggtc gtca tcaa caaa aaat aatg atgc tgct gctg ctgc tgct gcta ctat tatg atgc tgca gcaa caat aatg atgc tgct gctg ctgc tgct gctt cttc ttcc tccc ccca ccag cagt agta gtaa taaa aaaa aaat aatt attt tttg ttga tgag gaga agat gatt attt tttc ttca tcat catg atga tgag gagt agtt gttg ttgg tggt ggta gtaa taac aact acta ctag tagt agtg gtga tgaa gaag aagg agga ggaa gaat aatt attt ttta ttat tata atat tata ataa taaa aaaa aaaa aaat aata atat tata atat tatt attt tttt ttta ttaa taaa aaaa aaag aagc agca gcat catt atta ttag taga agag gagt agta gtag tagc agct gctg ctgt tgta gtat tata ataa taaa aaag aaga agaa gaaa aaag aagc agct gctg ctgt tgtg gtgt tgtt gtta ttat tatt atta ttag tagg aggg gggg gggt ggtg gtgg tggg ggga ggag gagt agtt gttg ttgt tgta gtat tatt attc ttca tcat catt atta ttat tatt attt ttta ttag tagt agtt gttc ttcc tccc ccca ccat cata atac taca acag cagc agca gcat cata atat tatc atct tcta ctac tact actg ctgt tgtt gttt ttta ttac taca acac cacc acca ccag caga agag gagt agtc gtct tctt cttg ttgc tgct gctt cttt tttg ttgt tgtc gtca tcac cacc accc cccc cccc ccca ccag cagg aggc ggct gctg ctgg tgga ggag gagt agta gtac taca acaa caat aata atag tagc agca gcac caca acaa caat aatc atct tctc ctcg tcgg cgga ggat gatc atca tcac cact actg ctgc tgca gcac caca acag cagg aggt ggtg gtgc tgcg gcgt cgtg gtgc tgcc gcca ccac cacc acca ccac cacg acgc cgcc gccc ccca ccag cagc agct gcta ctaa taat aatt attt tttt tttt tttg ttgt tgta gtat tatt attt tttt tttt ttta ttag tagt agta gtag taga agag gaga agac gaca acat catg atgg tggt ggtt gttt tttc ttca tcac cacc accc ccca ccaa caag aagt agta gtac tact actg ctgg tggg gggt ggtt gttt ttta ttac taca acag cagg aggc ggca gcat catg atga tgag gagc agcc gcca ccac cacc accg ccga cgag gagc agcc gccc cccg ccgc cgca gcat catt attt tttt tttc ttct tctc ctct tctg ctga tgag gaga agac gacg acgt cgtc gtct tctt cttc ttca tcaa caaa aaac aaca acaa caaa aaaa aaat aata atac tact actg ctgt tgtc gtca tcat catg atga tgaa gaat aatt atta ttag tagg aggt ggtt gtta ttaa taaa aaac aacc acca ccat cata atat tatg atga tgaa gaaa aaat aatt attg ttgc tgct gctg ctga tgat gata atat tatt attt tttg ttga tgac gacc acca ccag cagt agtt gttg ttgt tgta gtaa taac aaca acag caga agac gacg acgt cgtg gtga tgag gagg aggt ggta gtag tagg aggt ggtg gtga tgag gagg aggc ggca gcaa caat aatt attc ttct tctt cttt tttc ttct tctt cttt tttt tttc ttct tctc ctct tcta ctaa taac aacc acca ccaa caaa aaag aaga agaa gaag aagt agta gtac tacc acct cctt cttt ttta ttat tatt attt tttc ttcc tcca ccag cagc agct gctt cttc ttca tcaa caat aatc atcc tcca ccag caga agat gatc atca tcat cata atat tatg atga tgac gaca acag cagc agct gctt cttg ttgc tgct gctg ctga tgat gatt atta ttaa taaa aaac aact acta ctag taga agat gatg atga tgac gaca acag caga agag gaga agaa gaag aaga agat gatc atcc tcct ccta ctaa taaa aaat aatc atca tcac cact actg ctga tgat gata atac tact actg ctgg tggt ggtt gttt tttt tttg ttgt tgta gtaa taat aatt attt tttt tttg ttgc tgca gcat catc atcg tcgg cggc ggca gcat catg atgt tgtt gttt tttg ttga tgac gaca acaa caat aatt attg ttgg tggt ggta gtat tatc atca tcac cacc acct cctt cttt tttt tttg ttgg tgga ggaa gaaa aaac aaca acat cata ataa taaa aaat aata atat tatg atgt tgtg gtgg tggg gggt ggtt gttt tttg ttgc tgca gcaa caat aatt attt ttta ttat tata ataa taaa aaag aagc agca gcag cagc agct gctt cttt tttt tttc ttcc tcca ccac cact actt ctta ttat tatt attt tttt tttc ttca tcaa caaa aaat aatg atga tgat gatc atcc tccc ccca ccaa caag aagt agtg gtgg tggt ggtc gtcc tcca ccac cacc accc cccc ccca ccaa caac aact acta ctaa taaa aaag aaga agac gact actg ctgt tgta gtac tact actt cttc ttca tcag cagg aggg gggc ggcc gccg ccgt cgta gtac taca acac cact actg ctgc tgct gctc ctca tcat cata ataa taag aaga agaa gaag aagt agta gtat tata atat tata atat tatg atgg tgga ggag gagg aggc ggcc gcca ccat catc atcg tcgt cgta gtat tata atat tatt attc ttct tctg ctgt tgtt gttg ttgt tgta gtat tata atac tacc acct ccta ctag tagt agta gtaa taaa aaac aaca acat catg atgg tggt ggta gtaa taaa aaaa aaaa aaag aaga agaa gaaa aaat aatt attt tttt ttta ttat tatt attt ttta ttat tatt attg ttga tgaa gaag aagc agca gcaa caag aaga agat gata atat tatg atga tgaa gaaa aaac aact actc ctct tctg ctgg tggg gggt ggtg gtgc tgca gcac caca acac cact actt cttt tttc ttcc tcca ccaa caaa aaac aaca acag cagg aggt ggtg gtgt tgta gtag tagg aggg gggt ggtt gttg ttgt tgtt gttt tttc ttct tcta ctaa taag aagc agct gctg ctgt tgtt gttt tttg ttgt tgta gtaa taag aagc agct gctg ctgt tgtt gttt tttc ttct tcta ctaa taag aagc agct gcta ctat tatt attt ttta ttaa taag aagt agtg gtgg tggt ggtt gtta ttaa taaa aaat aatc atca tcac caca acaa caat aata atac tact actt cttg ttgc tgct gcta ctaa taag aagg aggg gggt ggta gtat tatc atct tcta ctat tata atat tatt atta ttaa taac aact actc ctca tcat catt attt ttta ttaa taat aatc atcc tcct cctc ctca tcat cata ataa taac aaca acaa caac aacc accc ccct ccta ctat tatg atga tgag gaga agat gata ataa taaa aaat aatg atgt tgta gtat tata ataa taac aaca acaa caaa aaaa aaac aacc acca ccat catt attt tttt tttt tttt tttt tttt tttt tttc ttct tctc ctca tcat catc atca tcac cact actg ctgt tgtt gttc ttct tcta ctaa taac aaca acaa caaa aaaa aaat aatg atga tgat gatg atgt tgtt gttg ttga tgaa gaag aaga agat gatt atta ttaa taac aacc acct ccta ctat tatc atca tcaa caat aatt atta ttat tatg atgt tgtt gtta ttaa taag aagt agtg gtga tgag gagg agga ggac gact actt cttg ttga tgac gact actc ctct tcta ctat tatt atta ttat tatc atcc tcct cctg ctga tgat gatt attt tttt tttg ttgt tgta gtag taga agat gatg atga tgag gagg agga ggag gagg aggt ggta gtat tatt atta ttag taga agaa gaac aacc accc ccca ccag caga agat gata atag tagt agtg gtgt tgtg gtgt tgtg gtgt tgtt gttc ttct tctc ctca tcaa caag aaga agat gatg atgg tggc ggct gctt cttt ttta ttaa taaa aaaa aaat aata atat tatt attt ttta ttat tatc atct tctt cttt tttg ttgt tgtt gttt tttt tttt ttta ttat tatc atct tctt cttt tttt ttta ttac tact actg ctgt tgtg gtga tgat gatt atta ttat tatt attc ttct tctt cttc ttca tcat catc atct tctt cttc ttcc tcct cctt cttc ttcc tcct cctt cttt tttt tttc ttca tcat catg atgt tgtc gtca tcat catt attt tttt ttta ttat tata atat tatg atgt tgtt gttc ttct tcta ctag tagg agga ggag gagt agtt gtta ttag tagg aggg gggg ggga ggag gagg aggg ggga ggag gaga agac gact actg ctgt tgtg gtgt tgtg gtgt tgta gtaa taat aata atat tatt attt tttg ttgc tgcg gcgt cgtg gtgc tgct gctt ctta ttaa taaa aaat aata atat tatt attt tttt tttc ttca tcaa caat aatg atga tgaa gaaa aaaa aaat aatt attt ttta ttat tatc atca tcag caga agat gatg atgt tgtc gtct tctt cttc ttct tctc ctcc tcct ccta ctaa taat aatt attg ttgt tgtg gtga tgag gaga agat gata atat tata atat tatt atta ttat tatc atca tcaa caaa aaag aagt agtc gtcc tcct cctt cttt ttta ttat tatc atca tcac cact actt cttt tttg ttgt tgta gtaa taaa aaag aagg aggg gggg ggga ggag gaga agaa gaaa aaag aaga agag gaga agat gatt attg ttga tgat gatg atga tgac gacc acca ccaa caaa aaaa aaag aaga agaa gaac aact actg ctgc tgca gcaa caaa aaaa aaaa aaag aaga agag gaga agaa gaag aaga agag gagc agcc gcct cctt cttg ttgg tgga ggat gatt attt tttc ttct tctc ctca tcac caca acag caga agaa gaag aagg aggc ggca gcat catt attt tttc ttca tcag cagc agcc gcca ccac cacc acca ccaa caag aagg agga ggag gagt agtt gttg ttgt tgtg gtgg tggc ggca gcac cacc acca ccaa caaa aaat aata atac tacg acga cgaa gaaa aaac aaca acac cacc accc ccca ccat cata ataa taaa aaag aaga agat gatg atgg tgga ggaa gaaa aaag aagt agta gtaa taat aatt attc ttca tcaa caat aata atag tagc agct gctg ctga tgac gacg acga cgaa gaag aaga agaa gaac aact actt cttg ttgc tgca gcat catt attg ttga tgat gata ataa taaa aaat aata atac tacc accc ccca ccaa caag aagc agct gctc ctct tctt cttt tttt tttg ttgt tgtc gtcc tcca ccag cagt agtt gttc ttca tcag caga agaa gaag aaga agat gatt atta ttat tatc atct tctc ctca tcag caga agac gact actg ctga tgaa gaaa aaac aacg acga cgac gacg acgt cgtt gttg ttgt tgta gtac tact acta ctac taca acat catc atct tctc ctct tctg ctga tgat gatc atca tcaa caaa aaag aaga agaa gaac aacc acct ccta ctaa taaa aaaa aaaa aaaa aaat aata atat tata atat tatc atct tcta ctaa taag aagc agca gcat catt attt tttg ttgc tgca gcaa caaa aaag aagg aggc ggcg gcga cgac gaca acaa caat aata ataa taaa aaat aatt atta ttat tatt attg ttga tgac gacg acgc cgct gctt ctta ttaa taac aacc acct cctt cttt tttc ttcg tcga cgaa gaaa aaaa aaag aaga agaa gaaa aaat aatt atta ttag tagt agtt gttt tttc ttca tcaa caaa aaat aatt attt ttta ttac tacc acct cctc ctca tcag cagc agcg gcgt cgtt gttt tttg ttgt tgtg gtgt tgta gtat tatc atcg tcgg cggg gggc ggca gcaa caaa aaaa aaaa aaat aatc atcg tcgt cgtt gttt tttt tttg ttgc tgct gctt ctta ttaa taac aact acta ctaa taat aatc atca tcaa caag aaga agaa gaaa aaaa aaaa aaac aaca acat catc atct tctt cttt tttg ttgg tggc ggct gctg ctga tgag gagc agct gctc ctcg tcgg cggt ggtg gtgg tggc ggct gctc ctca tcat catg atgc tgcc gcct cctg ctgt tgta gtaa taat aatc atcc tccc ccca ccaa caac aaca acaa caac aaca acat cata atag tagg aggg ggga ggag gaga agac gacc accc cccc cccc ccca ccat catc atct tctt cttt ttta ttac taca acaa caaa aaag aaga agaa gaaa aaaa aaaa aaaa aaaa aaaa aaaa aaaa aaag aagg aggg gggg ggga ggaa gaaa aaaa aaag aaga agaa gaaa aaaa aaat aatc atct tctt cttt tttt ttta ttaa taat aatt attt ttta ttag taga agat gatt attg ttgt tgtg gtgt tgtc gtca tcat catt atta ttaa taaa aaat aatg atgg tgga ggaa gaat aatg atga tgag gagg aggt ggtc gtct tctc ctct tctt ctta ttag tagt agta gtac taca acag cagt agtt gtta ttat tatt attt tttt tttg ttga tgat gatg atgc tgca gcag caga agat gata ataa taaa aaag aagt agtt gttc ttct tctc ctcc tcct cctt ctta ttaa taat aatg atgc tgca gcaa caaa aaat aata atat tatg atgt tgtt gttg ttgg tggt ggtt gttc ttct tctg ctgc tgct gcta ctat tata atag tagt agtt gttc ttcc tcca ccat catc atcc tcct cctg ctgt tgtt gttc ttca tcaa caaa aaaa aaag aagt agtc gtca tcag cagg agga ggat gata ataa taag aaga agaa gaaa aaaa aaaa aaat aata atag taga agaa gaac aacc accc ccct cctc ctca tcag cagt agtg gtgt tgta gtaa taac aact actc ctct tcta ctaa taat aatt attc ttcc tcct cctt cttt tttt tttt ttta ttac tact acta ctat tatt attc ttcc tcca ccag cagt agtg gtgt tgtg gtga tgat gatc atct tcta ctaa taat aatt attt ttta ttat tatt attt tttt tttt tttt tttt tttt tttt tttt tttc ttca tcaa caac aaca acaa caaa aaaa aaat aatg atgg tggt ggtc gtca tcat catc atcc tcca ccaa caaa aaac aact actc ctca tcaa caaa aaac aact actt cttg ttga tgag gaga agaa gaaa aaaa aaat aata atat tatc atct tctt cttg ttgc tgct gcta ctat tatg atgc tgcc gccc ccct cctt cttt tttt ttta ttaa taaa aaac aact actt ctta ttac tacc acca ccac caca acaa caaa aaaa aaag aagc agca gcag caga agaa gaag aaga agat gatt atta ttaa taat aatt attc ttca tcaa caat aatt attt ttta ttaa taag aaga agat gatg atga tgat gata atac tact actc ctct tctc ctcg tcga cgag gagt agtg gtgc tgca gcag cagt agtg gtgg tggc ggca gcat catg atga tgat gatc atcc tcct cctg ctgg tggc ggct gctc ctca tcac cact actg ctgc tgca gcag cagc agcc gcct cctc ctcc tcca ccac cact actt cttc ttcc tccc cccg ccgg cggg gggt ggtt gttc ttca tcac cacg acgt cgta gtaa taat aatt attc ttct tctt cttt tttt tttt tttg ttgc tgca gcat catt attt tttt tttt ttta ttag tagt agta gtag taga agag gaga agac gact actg ctgg tggg gggt ggtt gttt tttt ttta ttac tacc acca ccat catg atgt tgtt gttg ttgg tggc ggcc gcca ccaa caag aagc agct gctg ctgg tggt ggtc gtct tctc ctca tcaa caaa aaac aact actc ctcc tcct cctc ctct tctg ctgt tgtg gtgc tgcc gccc cccg ccgg cggc ggcc gcca ccaa caat aata atat tatt attt tttg ttgt tgtt gtta ttac tact actt cttt tttc ttct tctt ctta ttag tagg aggt ggtt gttt ttta ttaa taat aata atag taga agag gaga agaa gaaa aaaa aaag aagg aggg ggga ggat gata ataa taaa aaaa aaac aaca acat catt attg ttgt tgtc gtct tctg ctgt tgta gtat tata ataa taat aata atat tatc atca tcat catg atgt tgtt gttt tttt tttc ttca tcaa caaa aaat aatc atct tcta ctaa taat aatt atta ttat tata ataa taaa aaat aata atac tacg acgt cgtt gttt ttta ttaa taaa aaag aagc agcc gcca ccaa caag aaga agaa gaat aata ataa taaa aaat'"
      ]
     },
     "execution_count": 57,
     "metadata": {},
     "output_type": "execute_result"
    }
   ],
   "source": [
    "df_texts[1]"
   ]
  },
  {
   "cell_type": "code",
   "execution_count": 58,
   "metadata": {},
   "outputs": [
    {
     "data": {
      "text/html": [
       "<div>\n",
       "<style scoped>\n",
       "    .dataframe tbody tr th:only-of-type {\n",
       "        vertical-align: middle;\n",
       "    }\n",
       "\n",
       "    .dataframe tbody tr th {\n",
       "        vertical-align: top;\n",
       "    }\n",
       "\n",
       "    .dataframe thead th {\n",
       "        text-align: right;\n",
       "    }\n",
       "</style>\n",
       "<table border=\"1\" class=\"dataframe\">\n",
       "  <thead>\n",
       "    <tr style=\"text-align: right;\">\n",
       "      <th></th>\n",
       "      <th>Class</th>\n",
       "      <th>words</th>\n",
       "    </tr>\n",
       "  </thead>\n",
       "  <tbody>\n",
       "    <tr>\n",
       "      <th>0</th>\n",
       "      <td>0</td>\n",
       "      <td>[ggca, gcag, caga, agag, gagg, aggc, ggcg, gcg...</td>\n",
       "    </tr>\n",
       "    <tr>\n",
       "      <th>1</th>\n",
       "      <td>0</td>\n",
       "      <td>[gggc, ggct, gctt, cttg, ttgt, tgtg, gtgg, tgg...</td>\n",
       "    </tr>\n",
       "    <tr>\n",
       "      <th>2</th>\n",
       "      <td>0</td>\n",
       "      <td>[tcat, catc, atct, tctg, ctgg, tgga, ggat, gat...</td>\n",
       "    </tr>\n",
       "    <tr>\n",
       "      <th>3</th>\n",
       "      <td>0</td>\n",
       "      <td>[aatc, atct, tcta, ctaa, taaa, aaaa, aaag, aag...</td>\n",
       "    </tr>\n",
       "    <tr>\n",
       "      <th>4</th>\n",
       "      <td>0</td>\n",
       "      <td>[atgc, tgcc, gcct, ccta, ctat, tatt, attg, ttg...</td>\n",
       "    </tr>\n",
       "  </tbody>\n",
       "</table>\n",
       "</div>"
      ],
      "text/plain": [
       "   Class                                              words\n",
       "0      0  [ggca, gcag, caga, agag, gagg, aggc, ggcg, gcg...\n",
       "1      0  [gggc, ggct, gctt, cttg, ttgt, tgtg, gtgg, tgg...\n",
       "2      0  [tcat, catc, atct, tctg, ctgg, tgga, ggat, gat...\n",
       "3      0  [aatc, atct, tcta, ctaa, taaa, aaaa, aaag, aag...\n",
       "4      0  [atgc, tgcc, gcct, ccta, ctat, tatt, attg, ttg..."
      ]
     },
     "execution_count": 58,
     "metadata": {},
     "output_type": "execute_result"
    }
   ],
   "source": [
    "df.head()"
   ]
  },
  {
   "cell_type": "code",
   "execution_count": 59,
   "metadata": {},
   "outputs": [
    {
     "data": {
      "text/plain": [
       "array([0, 0, 0, 0, 0, 0, 0, 0, 0, 0, 1, 1, 1])"
      ]
     },
     "execution_count": 59,
     "metadata": {},
     "output_type": "execute_result"
    }
   ],
   "source": [
    "y_h"
   ]
  },
  {
   "cell_type": "code",
   "execution_count": 60,
   "metadata": {},
   "outputs": [
    {
     "data": {
      "text/plain": [
       "13"
      ]
     },
     "execution_count": 60,
     "metadata": {},
     "output_type": "execute_result"
    }
   ],
   "source": [
    "len(y_h)"
   ]
  },
  {
   "cell_type": "code",
   "execution_count": 61,
   "metadata": {},
   "outputs": [],
   "source": [
    "# Creating the Bag of Words model using CountVectorizer()\n",
    "# This is equivalent to k-mer counting\n",
    "# The n-gram size of 4 was previously determined by testing\n",
    "from sklearn.feature_extraction.text import CountVectorizer\n",
    "cv = CountVectorizer(ngram_range=(4,4))\n",
    "X = cv.fit_transform(df_texts)"
   ]
  },
  {
   "cell_type": "code",
   "execution_count": 62,
   "metadata": {},
   "outputs": [
    {
     "name": "stdout",
     "output_type": "stream",
     "text": [
      "(13, 13383)\n"
     ]
    }
   ],
   "source": [
    "print(X.shape)\n"
   ]
  },
  {
   "cell_type": "code",
   "execution_count": 63,
   "metadata": {},
   "outputs": [
    {
     "data": {
      "text/plain": [
       "<matplotlib.axes._subplots.AxesSubplot at 0x7f65f8caf7f0>"
      ]
     },
     "execution_count": 63,
     "metadata": {},
     "output_type": "execute_result"
    },
    {
     "data": {
      "image/png": "[encoded data removed]",
      "text/plain": [
       "<Figure size 432x288 with 1 Axes>"
      ]
     },
     "metadata": {},
     "output_type": "display_data"
    }
   ],
   "source": [
    "df['Class'].value_counts().sort_index().plot.bar()\n"
   ]
  },
  {
   "cell_type": "code",
   "execution_count": 64,
   "metadata": {},
   "outputs": [],
   "source": [
    "# Splitting the human dataset into the training set and test set\n",
    "from sklearn.model_selection import train_test_split\n",
    "X_train, X_test, y_train, y_test = train_test_split(X, \n",
    "                                                    y_h, \n",
    "                                                    test_size = 0.30, \n",
    "                                                    random_state=1)"
   ]
  },
  {
   "cell_type": "code",
   "execution_count": 65,
   "metadata": {},
   "outputs": [
    {
     "name": "stdout",
     "output_type": "stream",
     "text": [
      "(9, 13383)\n",
      "(4, 13383)\n"
     ]
    }
   ],
   "source": [
    "print(X_train.shape)\n",
    "print(X_test.shape)"
   ]
  },
  {
   "cell_type": "code",
   "execution_count": 66,
   "metadata": {},
   "outputs": [
    {
     "data": {
      "text/plain": [
       "array([0, 0, 0, 1])"
      ]
     },
     "execution_count": 66,
     "metadata": {},
     "output_type": "execute_result"
    }
   ],
   "source": [
    "y_test"
   ]
  },
  {
   "cell_type": "markdown",
   "metadata": {},
   "source": [
    "# Naive Bayes"
   ]
  },
  {
   "cell_type": "code",
   "execution_count": 67,
   "metadata": {},
   "outputs": [
    {
     "data": {
      "text/plain": [
       "MultinomialNB(alpha=0.1, class_prior=None, fit_prior=True)"
      ]
     },
     "execution_count": 67,
     "metadata": {},
     "output_type": "execute_result"
    }
   ],
   "source": [
    "### Multinomial Naive Bayes Classifier ###\n",
    "# The alpha parameter was determined by grid search previously\n",
    "from sklearn.naive_bayes import MultinomialNB\n",
    "classifier = MultinomialNB(alpha=0.1)\n",
    "classifier.fit(X_train, y_train)"
   ]
  },
  {
   "cell_type": "code",
   "execution_count": 68,
   "metadata": {},
   "outputs": [],
   "source": [
    "y_pred = classifier.predict(X_test)\n"
   ]
  },
  {
   "cell_type": "code",
   "execution_count": 69,
   "metadata": {},
   "outputs": [
    {
     "data": {
      "text/plain": [
       "array([0, 0, 0, 0])"
      ]
     },
     "execution_count": 69,
     "metadata": {},
     "output_type": "execute_result"
    }
   ],
   "source": [
    "y_pred"
   ]
  },
  {
   "cell_type": "code",
   "execution_count": 70,
   "metadata": {},
   "outputs": [
    {
     "data": {
      "text/plain": [
       "(1, 13383)"
      ]
     },
     "execution_count": 70,
     "metadata": {},
     "output_type": "execute_result"
    }
   ],
   "source": [
    "X_test[1].shape"
   ]
  },
  {
   "cell_type": "code",
   "execution_count": 71,
   "metadata": {},
   "outputs": [
    {
     "name": "stdout",
     "output_type": "stream",
     "text": [
      "Confusion matrix\n",
      "\n",
      "Predicted  0\n",
      "Actual      \n",
      "0          3\n",
      "1          1\n",
      "accuracy = 0.750 \n",
      "precision = 0.562 \n",
      "recall = 0.750 \n",
      "f1 = 0.643\n"
     ]
    },
    {
     "name": "stderr",
     "output_type": "stream",
     "text": [
      "/home/ubuntu/anaconda3/lib/python3.6/site-packages/sklearn/metrics/classification.py:1135: UndefinedMetricWarning: Precision is ill-defined and being set to 0.0 in labels with no predicted samples.\n",
      "  'precision', 'predicted', average, warn_for)\n",
      "/home/ubuntu/anaconda3/lib/python3.6/site-packages/sklearn/metrics/classification.py:1135: UndefinedMetricWarning: F-score is ill-defined and being set to 0.0 in labels with no predicted samples.\n",
      "  'precision', 'predicted', average, warn_for)\n"
     ]
    }
   ],
   "source": [
    "from sklearn.metrics import accuracy_score, f1_score, precision_score, recall_score\n",
    "print(\"Confusion matrix\\n\")\n",
    "print(pd.crosstab(pd.Series(y_test, name='Actual'), pd.Series(y_pred, name='Predicted')))\n",
    "def get_metrics(y_test, y_predicted):\n",
    "    accuracy = accuracy_score(y_test, y_predicted)\n",
    "    precision = precision_score(y_test, y_predicted, average='weighted')\n",
    "    recall = recall_score(y_test, y_predicted, average='weighted')\n",
    "    f1 = f1_score(y_test, y_predicted, average='weighted')\n",
    "    return accuracy, precision, recall, f1\n",
    "accuracy, precision, recall, f1 = get_metrics(y_test, y_pred)\n",
    "print(\"accuracy = %.3f \\nprecision = %.3f \\nrecall = %.3f \\nf1 = %.3f\" % (accuracy, precision, recall, f1))"
   ]
  },
  {
   "cell_type": "markdown",
   "metadata": {},
   "source": [
    "# SVM"
   ]
  },
  {
   "cell_type": "code",
   "execution_count": 72,
   "metadata": {},
   "outputs": [
    {
     "name": "stdout",
     "output_type": "stream",
     "text": [
      "# Tuning hyper-parameters for precision\n",
      "\n"
     ]
    },
    {
     "name": "stderr",
     "output_type": "stream",
     "text": [
      "/home/ubuntu/anaconda3/lib/python3.6/site-packages/sklearn/model_selection/_split.py:605: Warning: The least populated class in y has only 2 members, which is too few. The minimum number of members in any class cannot be less than n_splits=5.\n",
      "  % (min_groups, self.n_splits)), Warning)\n",
      "/home/ubuntu/anaconda3/lib/python3.6/site-packages/sklearn/metrics/classification.py:1135: UndefinedMetricWarning: Precision is ill-defined and being set to 0.0 in labels with no predicted samples.\n",
      "  'precision', 'predicted', average, warn_for)\n",
      "/home/ubuntu/anaconda3/lib/python3.6/site-packages/sklearn/metrics/classification.py:1135: UndefinedMetricWarning: Precision is ill-defined and being set to 0.0 in labels with no predicted samples.\n",
      "  'precision', 'predicted', average, warn_for)\n",
      "/home/ubuntu/anaconda3/lib/python3.6/site-packages/sklearn/metrics/classification.py:1135: UndefinedMetricWarning: Precision is ill-defined and being set to 0.0 in labels with no predicted samples.\n",
      "  'precision', 'predicted', average, warn_for)\n",
      "/home/ubuntu/anaconda3/lib/python3.6/site-packages/sklearn/metrics/classification.py:1135: UndefinedMetricWarning: Precision is ill-defined and being set to 0.0 in labels with no predicted samples.\n",
      "  'precision', 'predicted', average, warn_for)\n",
      "/home/ubuntu/anaconda3/lib/python3.6/site-packages/sklearn/metrics/classification.py:1135: UndefinedMetricWarning: Precision is ill-defined and being set to 0.0 in labels with no predicted samples.\n",
      "  'precision', 'predicted', average, warn_for)\n",
      "/home/ubuntu/anaconda3/lib/python3.6/site-packages/sklearn/metrics/classification.py:1135: UndefinedMetricWarning: Precision is ill-defined and being set to 0.0 in labels with no predicted samples.\n",
      "  'precision', 'predicted', average, warn_for)\n",
      "/home/ubuntu/anaconda3/lib/python3.6/site-packages/sklearn/metrics/classification.py:1135: UndefinedMetricWarning: Precision is ill-defined and being set to 0.0 in labels with no predicted samples.\n",
      "  'precision', 'predicted', average, warn_for)\n",
      "/home/ubuntu/anaconda3/lib/python3.6/site-packages/sklearn/metrics/classification.py:1135: UndefinedMetricWarning: Precision is ill-defined and being set to 0.0 in labels with no predicted samples.\n",
      "  'precision', 'predicted', average, warn_for)\n",
      "/home/ubuntu/anaconda3/lib/python3.6/site-packages/sklearn/metrics/classification.py:1135: UndefinedMetricWarning: Precision is ill-defined and being set to 0.0 in labels with no predicted samples.\n",
      "  'precision', 'predicted', average, warn_for)\n",
      "/home/ubuntu/anaconda3/lib/python3.6/site-packages/sklearn/metrics/classification.py:1135: UndefinedMetricWarning: Precision is ill-defined and being set to 0.0 in labels with no predicted samples.\n",
      "  'precision', 'predicted', average, warn_for)\n",
      "/home/ubuntu/anaconda3/lib/python3.6/site-packages/sklearn/metrics/classification.py:1135: UndefinedMetricWarning: Precision is ill-defined and being set to 0.0 in labels with no predicted samples.\n",
      "  'precision', 'predicted', average, warn_for)\n",
      "/home/ubuntu/anaconda3/lib/python3.6/site-packages/sklearn/metrics/classification.py:1135: UndefinedMetricWarning: Precision is ill-defined and being set to 0.0 in labels with no predicted samples.\n",
      "  'precision', 'predicted', average, warn_for)\n",
      "/home/ubuntu/anaconda3/lib/python3.6/site-packages/sklearn/metrics/classification.py:1135: UndefinedMetricWarning: Precision is ill-defined and being set to 0.0 in labels with no predicted samples.\n",
      "  'precision', 'predicted', average, warn_for)\n",
      "/home/ubuntu/anaconda3/lib/python3.6/site-packages/sklearn/metrics/classification.py:1135: UndefinedMetricWarning: Precision is ill-defined and being set to 0.0 in labels with no predicted samples.\n",
      "  'precision', 'predicted', average, warn_for)\n",
      "/home/ubuntu/anaconda3/lib/python3.6/site-packages/sklearn/metrics/classification.py:1135: UndefinedMetricWarning: Precision is ill-defined and being set to 0.0 in labels with no predicted samples.\n",
      "  'precision', 'predicted', average, warn_for)\n",
      "/home/ubuntu/anaconda3/lib/python3.6/site-packages/sklearn/metrics/classification.py:1135: UndefinedMetricWarning: Precision is ill-defined and being set to 0.0 in labels with no predicted samples.\n",
      "  'precision', 'predicted', average, warn_for)\n",
      "/home/ubuntu/anaconda3/lib/python3.6/site-packages/sklearn/metrics/classification.py:1135: UndefinedMetricWarning: Precision is ill-defined and being set to 0.0 in labels with no predicted samples.\n",
      "  'precision', 'predicted', average, warn_for)\n",
      "/home/ubuntu/anaconda3/lib/python3.6/site-packages/sklearn/metrics/classification.py:1135: UndefinedMetricWarning: Precision is ill-defined and being set to 0.0 in labels with no predicted samples.\n",
      "  'precision', 'predicted', average, warn_for)\n",
      "/home/ubuntu/anaconda3/lib/python3.6/site-packages/sklearn/metrics/classification.py:1135: UndefinedMetricWarning: Precision is ill-defined and being set to 0.0 in labels with no predicted samples.\n",
      "  'precision', 'predicted', average, warn_for)\n",
      "/home/ubuntu/anaconda3/lib/python3.6/site-packages/sklearn/metrics/classification.py:1135: UndefinedMetricWarning: Precision is ill-defined and being set to 0.0 in labels with no predicted samples.\n",
      "  'precision', 'predicted', average, warn_for)\n",
      "/home/ubuntu/anaconda3/lib/python3.6/site-packages/sklearn/metrics/classification.py:1135: UndefinedMetricWarning: Precision and F-score are ill-defined and being set to 0.0 in labels with no predicted samples.\n",
      "  'precision', 'predicted', average, warn_for)\n",
      "/home/ubuntu/anaconda3/lib/python3.6/site-packages/sklearn/model_selection/_split.py:605: Warning: The least populated class in y has only 2 members, which is too few. The minimum number of members in any class cannot be less than n_splits=5.\n",
      "  % (min_groups, self.n_splits)), Warning)\n",
      "/home/ubuntu/anaconda3/lib/python3.6/site-packages/sklearn/metrics/classification.py:1137: UndefinedMetricWarning: Recall is ill-defined and being set to 0.0 in labels with no true samples.\n",
      "  'recall', 'true', average, warn_for)\n",
      "/home/ubuntu/anaconda3/lib/python3.6/site-packages/sklearn/metrics/classification.py:1137: UndefinedMetricWarning: Recall is ill-defined and being set to 0.0 in labels with no true samples.\n",
      "  'recall', 'true', average, warn_for)\n",
      "/home/ubuntu/anaconda3/lib/python3.6/site-packages/sklearn/metrics/classification.py:1137: UndefinedMetricWarning: Recall is ill-defined and being set to 0.0 in labels with no true samples.\n",
      "  'recall', 'true', average, warn_for)\n"
     ]
    },
    {
     "name": "stdout",
     "output_type": "stream",
     "text": [
      "Best parameters set found on development set:\n",
      "\n",
      "{'C': 10, 'gamma': 0.0001, 'kernel': 'rbf'}\n",
      "\n",
      "Grid scores on development set:\n",
      "\n",
      "0.556 (+/-0.629) for {'C': 1, 'gamma': 0.001, 'kernel': 'rbf'}\n",
      "0.444 (+/-0.629) for {'C': 1, 'gamma': 0.0001, 'kernel': 'rbf'}\n",
      "0.556 (+/-0.629) for {'C': 10, 'gamma': 0.001, 'kernel': 'rbf'}\n",
      "0.889 (+/-0.629) for {'C': 10, 'gamma': 0.0001, 'kernel': 'rbf'}\n",
      "0.556 (+/-0.629) for {'C': 100, 'gamma': 0.001, 'kernel': 'rbf'}\n",
      "0.889 (+/-0.629) for {'C': 100, 'gamma': 0.0001, 'kernel': 'rbf'}\n",
      "0.556 (+/-0.629) for {'C': 1000, 'gamma': 0.001, 'kernel': 'rbf'}\n",
      "0.889 (+/-0.629) for {'C': 1000, 'gamma': 0.0001, 'kernel': 'rbf'}\n",
      "0.889 (+/-0.629) for {'C': 1, 'kernel': 'linear'}\n",
      "0.889 (+/-0.629) for {'C': 10, 'kernel': 'linear'}\n",
      "0.889 (+/-0.629) for {'C': 100, 'kernel': 'linear'}\n",
      "0.889 (+/-0.629) for {'C': 1000, 'kernel': 'linear'}\n",
      "\n",
      "Detailed classification report:\n",
      "\n",
      "The model is trained on the full development set.\n",
      "The scores are computed on the full evaluation set.\n",
      "\n",
      "             precision    recall  f1-score   support\n",
      "\n",
      "          0       0.75      1.00      0.86         3\n",
      "          1       0.00      0.00      0.00         1\n",
      "\n",
      "avg / total       0.56      0.75      0.64         4\n",
      "\n",
      "\n",
      "# Tuning hyper-parameters for recall\n",
      "\n",
      "Best parameters set found on development set:\n",
      "\n",
      "{'C': 10, 'gamma': 0.0001, 'kernel': 'rbf'}\n",
      "\n",
      "Grid scores on development set:\n",
      "\n",
      "0.667 (+/-0.471) for {'C': 1, 'gamma': 0.001, 'kernel': 'rbf'}\n",
      "0.556 (+/-0.567) for {'C': 1, 'gamma': 0.0001, 'kernel': 'rbf'}\n",
      "0.667 (+/-0.471) for {'C': 10, 'gamma': 0.001, 'kernel': 'rbf'}\n",
      "0.889 (+/-0.629) for {'C': 10, 'gamma': 0.0001, 'kernel': 'rbf'}\n",
      "0.667 (+/-0.471) for {'C': 100, 'gamma': 0.001, 'kernel': 'rbf'}\n",
      "0.889 (+/-0.629) for {'C': 100, 'gamma': 0.0001, 'kernel': 'rbf'}\n",
      "0.667 (+/-0.471) for {'C': 1000, 'gamma': 0.001, 'kernel': 'rbf'}\n",
      "0.889 (+/-0.629) for {'C': 1000, 'gamma': 0.0001, 'kernel': 'rbf'}\n",
      "0.889 (+/-0.629) for {'C': 1, 'kernel': 'linear'}\n",
      "0.889 (+/-0.629) for {'C': 10, 'kernel': 'linear'}\n",
      "0.889 (+/-0.629) for {'C': 100, 'kernel': 'linear'}\n",
      "0.889 (+/-0.629) for {'C': 1000, 'kernel': 'linear'}\n",
      "\n",
      "Detailed classification report:\n",
      "\n",
      "The model is trained on the full development set.\n",
      "The scores are computed on the full evaluation set.\n",
      "\n",
      "             precision    recall  f1-score   support\n",
      "\n",
      "          0       0.75      1.00      0.86         3\n",
      "          1       0.00      0.00      0.00         1\n",
      "\n",
      "avg / total       0.56      0.75      0.64         4\n",
      "\n",
      "\n"
     ]
    },
    {
     "name": "stderr",
     "output_type": "stream",
     "text": [
      "/home/ubuntu/anaconda3/lib/python3.6/site-packages/sklearn/metrics/classification.py:1137: UndefinedMetricWarning: Recall is ill-defined and being set to 0.0 in labels with no true samples.\n",
      "  'recall', 'true', average, warn_for)\n",
      "/home/ubuntu/anaconda3/lib/python3.6/site-packages/sklearn/metrics/classification.py:1137: UndefinedMetricWarning: Recall is ill-defined and being set to 0.0 in labels with no true samples.\n",
      "  'recall', 'true', average, warn_for)\n",
      "/home/ubuntu/anaconda3/lib/python3.6/site-packages/sklearn/metrics/classification.py:1137: UndefinedMetricWarning: Recall is ill-defined and being set to 0.0 in labels with no true samples.\n",
      "  'recall', 'true', average, warn_for)\n",
      "/home/ubuntu/anaconda3/lib/python3.6/site-packages/sklearn/metrics/classification.py:1137: UndefinedMetricWarning: Recall is ill-defined and being set to 0.0 in labels with no true samples.\n",
      "  'recall', 'true', average, warn_for)\n",
      "/home/ubuntu/anaconda3/lib/python3.6/site-packages/sklearn/metrics/classification.py:1137: UndefinedMetricWarning: Recall is ill-defined and being set to 0.0 in labels with no true samples.\n",
      "  'recall', 'true', average, warn_for)\n",
      "/home/ubuntu/anaconda3/lib/python3.6/site-packages/sklearn/metrics/classification.py:1135: UndefinedMetricWarning: Precision and F-score are ill-defined and being set to 0.0 in labels with no predicted samples.\n",
      "  'precision', 'predicted', average, warn_for)\n"
     ]
    }
   ],
   "source": [
    "from sklearn.model_selection import train_test_split\n",
    "from sklearn.model_selection import GridSearchCV\n",
    "from sklearn.metrics import classification_report\n",
    "from sklearn.svm import SVC\n",
    "\n",
    "\n",
    "tuned_parameters = [{'kernel': ['rbf'], 'gamma': [1e-3, 1e-4],\n",
    "                     'C': [1, 10, 100, 1000]},\n",
    "                    {'kernel': ['linear'], 'C': [1, 10, 100, 1000]}]\n",
    "\n",
    "scores = ['precision', 'recall']\n",
    "\n",
    "\n",
    "for score in scores:\n",
    "    print(\"# Tuning hyper-parameters for %s\" % score)\n",
    "    print()\n",
    "\n",
    "    clf = GridSearchCV(SVC(), tuned_parameters, cv=5,\n",
    "                       scoring='%s_macro' % score)\n",
    "    clf.fit(X_train, y_train)\n",
    "\n",
    "    print(\"Best parameters set found on development set:\")\n",
    "    print()\n",
    "    print(clf.best_params_)\n",
    "    print()\n",
    "    print(\"Grid scores on development set:\")\n",
    "    print()\n",
    "    means = clf.cv_results_['mean_test_score']\n",
    "    stds = clf.cv_results_['std_test_score']\n",
    "    for mean, std, params in zip(means, stds, clf.cv_results_['params']):\n",
    "        print(\"%0.3f (+/-%0.03f) for %r\"\n",
    "              % (mean, std * 2, params))\n",
    "    print()\n",
    "\n",
    "    print(\"Detailed classification report:\")\n",
    "    print()\n",
    "    print(\"The model is trained on the full development set.\")\n",
    "    print(\"The scores are computed on the full evaluation set.\")\n",
    "    print()\n",
    "    y_true, y_pred = y_test, clf.predict(X_test)\n",
    "    print(classification_report(y_true, y_pred))\n",
    "    print()"
   ]
  },
  {
   "cell_type": "code",
   "execution_count": 73,
   "metadata": {},
   "outputs": [
    {
     "data": {
      "text/plain": [
       "SVC(C=10, cache_size=200, class_weight=None, coef0=0.0,\n",
       "  decision_function_shape='ovr', degree=3, gamma=0.0001, kernel='rbf',\n",
       "  max_iter=-1, probability=False, random_state=None, shrinking=True,\n",
       "  tol=0.001, verbose=False)"
      ]
     },
     "execution_count": 73,
     "metadata": {},
     "output_type": "execute_result"
    }
   ],
   "source": [
    "from sklearn import svm\n",
    "clf = svm.SVC(C = 10, gamma= 0.0001, kernel = 'rbf')\n",
    "clf.fit(X_train, y_train)"
   ]
  },
  {
   "cell_type": "code",
   "execution_count": 74,
   "metadata": {},
   "outputs": [],
   "source": [
    "y_pred = clf.predict(X_test)"
   ]
  },
  {
   "cell_type": "code",
   "execution_count": 75,
   "metadata": {},
   "outputs": [
    {
     "data": {
      "text/plain": [
       "array([0, 0, 0, 0])"
      ]
     },
     "execution_count": 75,
     "metadata": {},
     "output_type": "execute_result"
    }
   ],
   "source": [
    "y_pred"
   ]
  },
  {
   "cell_type": "code",
   "execution_count": 76,
   "metadata": {},
   "outputs": [
    {
     "name": "stdout",
     "output_type": "stream",
     "text": [
      "Confusion matrix\n",
      "\n",
      "Predicted  0\n",
      "Actual      \n",
      "0          3\n",
      "1          1\n",
      "accuracy = 0.750 \n",
      "precision = 0.562 \n",
      "recall = 0.750 \n",
      "f1 = 0.643\n"
     ]
    },
    {
     "name": "stderr",
     "output_type": "stream",
     "text": [
      "/home/ubuntu/anaconda3/lib/python3.6/site-packages/sklearn/metrics/classification.py:1135: UndefinedMetricWarning: Precision is ill-defined and being set to 0.0 in labels with no predicted samples.\n",
      "  'precision', 'predicted', average, warn_for)\n",
      "/home/ubuntu/anaconda3/lib/python3.6/site-packages/sklearn/metrics/classification.py:1135: UndefinedMetricWarning: F-score is ill-defined and being set to 0.0 in labels with no predicted samples.\n",
      "  'precision', 'predicted', average, warn_for)\n"
     ]
    }
   ],
   "source": [
    "from sklearn.metrics import accuracy_score, f1_score, precision_score, recall_score\n",
    "print(\"Confusion matrix\\n\")\n",
    "print(pd.crosstab(pd.Series(y_test, name='Actual'), pd.Series(y_pred, name='Predicted')))\n",
    "def get_metrics(y_test, y_predicted):\n",
    "    accuracy = accuracy_score(y_test, y_predicted)\n",
    "    precision = precision_score(y_test, y_predicted, average='weighted')\n",
    "    recall = recall_score(y_test, y_predicted, average='weighted')\n",
    "    f1 = f1_score(y_test, y_predicted, average='weighted')\n",
    "    return accuracy, precision, recall, f1\n",
    "accuracy, precision, recall, f1 = get_metrics(y_test, y_pred)\n",
    "print(\"accuracy = %.3f \\nprecision = %.3f \\nrecall = %.3f \\nf1 = %.3f\" % (accuracy, precision, recall, f1))"
   ]
  },
  {
   "cell_type": "markdown",
   "metadata": {},
   "source": [
    "# Neural Network"
   ]
  },
  {
   "cell_type": "code",
   "execution_count": 77,
   "metadata": {},
   "outputs": [
    {
     "data": {
      "text/plain": [
       "MLPClassifier(activation='relu', alpha=1e-05, batch_size='auto', beta_1=0.9,\n",
       "       beta_2=0.999, early_stopping=False, epsilon=1e-08,\n",
       "       hidden_layer_sizes=(5, 2), learning_rate='constant',\n",
       "       learning_rate_init=0.001, max_iter=200, momentum=0.9,\n",
       "       nesterovs_momentum=True, power_t=0.5, random_state=1, shuffle=True,\n",
       "       solver='lbfgs', tol=0.0001, validation_fraction=0.1, verbose=False,\n",
       "       warm_start=False)"
      ]
     },
     "execution_count": 77,
     "metadata": {},
     "output_type": "execute_result"
    }
   ],
   "source": [
    "from sklearn.neural_network import MLPClassifier\n",
    "\n",
    "NNclassifier = MLPClassifier(solver='lbfgs', alpha=1e-5,\n",
    "                     hidden_layer_sizes=(5, 2), random_state=1)\n",
    "\n",
    "NNclassifier.fit(X_train, y_train)                         \n"
   ]
  },
  {
   "cell_type": "code",
   "execution_count": 78,
   "metadata": {},
   "outputs": [],
   "source": [
    "y_pred = NNclassifier.predict(X_test)"
   ]
  },
  {
   "cell_type": "code",
   "execution_count": 79,
   "metadata": {},
   "outputs": [
    {
     "name": "stdout",
     "output_type": "stream",
     "text": [
      "Confusion matrix\n",
      "\n",
      "Predicted  0  1\n",
      "Actual         \n",
      "0          2  1\n",
      "1          1  0\n",
      "accuracy = 0.500 \n",
      "precision = 0.500 \n",
      "recall = 0.500 \n",
      "f1 = 0.500\n"
     ]
    }
   ],
   "source": [
    "from sklearn.metrics import accuracy_score, f1_score, precision_score, recall_score\n",
    "print(\"Confusion matrix\\n\")\n",
    "print(pd.crosstab(pd.Series(y_test, name='Actual'), pd.Series(y_pred, name='Predicted')))\n",
    "def get_metrics(y_test, y_predicted):\n",
    "    accuracy = accuracy_score(y_test, y_predicted)\n",
    "    precision = precision_score(y_test, y_predicted, average='weighted')\n",
    "    recall = recall_score(y_test, y_predicted, average='weighted')\n",
    "    f1 = f1_score(y_test, y_predicted, average='weighted')\n",
    "    return accuracy, precision, recall, f1\n",
    "accuracy, precision, recall, f1 = get_metrics(y_test, y_pred)\n",
    "print(\"accuracy = %.3f \\nprecision = %.3f \\nrecall = %.3f \\nf1 = %.3f\" % (accuracy, precision, recall, f1))"
   ]
  },
  {
   "cell_type": "code",
   "execution_count": 80,
   "metadata": {},
   "outputs": [
    {
     "data": {
      "text/plain": [
       "array([0, 1, 0, 0])"
      ]
     },
     "execution_count": 80,
     "metadata": {},
     "output_type": "execute_result"
    }
   ],
   "source": [
    "y_pred"
   ]
  },
  {
   "cell_type": "markdown",
   "metadata": {},
   "source": [
    "# Random Forest Classifier"
   ]
  },
  {
   "cell_type": "code",
   "execution_count": 81,
   "metadata": {},
   "outputs": [
    {
     "name": "stderr",
     "output_type": "stream",
     "text": [
      "/home/ubuntu/anaconda3/lib/python3.6/site-packages/sklearn/ensemble/weight_boosting.py:29: DeprecationWarning: numpy.core.umath_tests is an internal NumPy module and should not be imported. It will be removed in a future NumPy release.\n",
      "  from numpy.core.umath_tests import inner1d\n"
     ]
    },
    {
     "data": {
      "text/plain": [
       "RandomForestClassifier(bootstrap=True, class_weight=None, criterion='gini',\n",
       "            max_depth=2, max_features='auto', max_leaf_nodes=None,\n",
       "            min_impurity_decrease=0.0, min_impurity_split=None,\n",
       "            min_samples_leaf=1, min_samples_split=2,\n",
       "            min_weight_fraction_leaf=0.0, n_estimators=100, n_jobs=1,\n",
       "            oob_score=False, random_state=0, verbose=0, warm_start=False)"
      ]
     },
     "execution_count": 81,
     "metadata": {},
     "output_type": "execute_result"
    }
   ],
   "source": [
    ">>> from sklearn.ensemble import RandomForestClassifier\n",
    "\n",
    "RFC = RandomForestClassifier(n_estimators=100, max_depth=2,\n",
    "                              random_state=0)\n",
    "RFC.fit(X_train, y_train)                         \n"
   ]
  },
  {
   "cell_type": "code",
   "execution_count": 82,
   "metadata": {},
   "outputs": [],
   "source": [
    "y_pred = RFC.predict(X_test)"
   ]
  },
  {
   "cell_type": "code",
   "execution_count": 83,
   "metadata": {},
   "outputs": [
    {
     "name": "stdout",
     "output_type": "stream",
     "text": [
      "Confusion matrix\n",
      "\n",
      "Predicted  0  1\n",
      "Actual         \n",
      "0          2  1\n",
      "1          1  0\n",
      "accuracy = 0.500 \n",
      "precision = 0.500 \n",
      "recall = 0.500 \n",
      "f1 = 0.500\n"
     ]
    }
   ],
   "source": [
    "from sklearn.metrics import accuracy_score, f1_score, precision_score, recall_score\n",
    "print(\"Confusion matrix\\n\")\n",
    "print(pd.crosstab(pd.Series(y_test, name='Actual'), pd.Series(y_pred, name='Predicted')))\n",
    "def get_metrics(y_test, y_predicted):\n",
    "    accuracy = accuracy_score(y_test, y_predicted)\n",
    "    precision = precision_score(y_test, y_predicted, average='weighted')\n",
    "    recall = recall_score(y_test, y_predicted, average='weighted')\n",
    "    f1 = f1_score(y_test, y_predicted, average='weighted')\n",
    "    return accuracy, precision, recall, f1\n",
    "accuracy, precision, recall, f1 = get_metrics(y_test, y_pred)\n",
    "print(\"accuracy = %.3f \\nprecision = %.3f \\nrecall = %.3f \\nf1 = %.3f\" % (accuracy, precision, recall, f1))"
   ]
  }
 ],
 "metadata": {
  "kernelspec": {
   "display_name": "Python 3",
   "language": "python",
   "name": "python3"
  },
  "language_info": {
   "codemirror_mode": {
    "name": "ipython",
    "version": 3
   },
   "file_extension": ".py",
   "mimetype": "text/x-python",
   "name": "python",
   "nbconvert_exporter": "python",
   "pygments_lexer": "ipython3",
   "version": "3.7.1"
  }
 },
 "nbformat": 4,
 "nbformat_minor": 2
}
