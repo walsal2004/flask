{
 "cells": [
  {
   "cell_type": "code",
   "execution_count": 1,
   "metadata": {},
   "outputs": [],
   "source": [
    "def readFasta(filename):\n",
    "    sequences = []\n",
    "    \n",
    "    with open(filename) as fh:\n",
    "        while True:\n",
    "            fh.readline()\n",
    "            seq = fh.readline().rstrip()\n",
    "            if len(seq) == 0:\n",
    "                break\n",
    "            sequences.append(seq)\n",
    "            \n",
    "        return sequences"
   ]
  },
  {
   "cell_type": "code",
   "execution_count": 2,
   "metadata": {},
   "outputs": [],
   "source": [
    "def readFastq(filename):\n",
    "    sequences = []\n",
    "    \n",
    "    with open(filename) as fh:\n",
    "        while True:\n",
    "            fh.readline()\n",
    "            seq = fh.readline().rstrip()\n",
    "            fh.readline()\n",
    "            fh.readline()\n",
    "            if len(seq) == 0:\n",
    "                break\n",
    "            sequences.append(seq)\n",
    "            \n",
    "        return sequences"
   ]
  },
  {
   "cell_type": "code",
   "execution_count": 3,
   "metadata": {},
   "outputs": [],
   "source": [
    "seqs = readFastq('SRR8483185-Copy1.trimmed.fastq')\n",
    "seqs= [i.replace('N', '') for i in seqs]"
   ]
  },
  {
   "cell_type": "code",
   "execution_count": 4,
   "metadata": {},
   "outputs": [],
   "source": [
    "import pandas as pd\n",
    "\n",
    "newDf = pd.DataFrame()\n",
    "number = 1\n",
    "elements = 109138\n",
    "\n",
    "thelist = [number] * elements\n",
    "\n",
    "#newDf.assign(sequence=seqs)\n",
    "newDf['sequence'] = seqs\n",
    "\n",
    "newDf['Class'] = thelist\n"
   ]
  },
  {
   "cell_type": "code",
   "execution_count": 5,
   "metadata": {},
   "outputs": [
    {
     "data": {
      "text/html": [
       "<div>\n",
       "<style scoped>\n",
       "    .dataframe tbody tr th:only-of-type {\n",
       "        vertical-align: middle;\n",
       "    }\n",
       "\n",
       "    .dataframe tbody tr th {\n",
       "        vertical-align: top;\n",
       "    }\n",
       "\n",
       "    .dataframe thead th {\n",
       "        text-align: right;\n",
       "    }\n",
       "</style>\n",
       "<table border=\"1\" class=\"dataframe\">\n",
       "  <thead>\n",
       "    <tr style=\"text-align: right;\">\n",
       "      <th></th>\n",
       "      <th>sequence</th>\n",
       "      <th>Class</th>\n",
       "    </tr>\n",
       "  </thead>\n",
       "  <tbody>\n",
       "    <tr>\n",
       "      <th>0</th>\n",
       "      <td>TTAGTCGAAGAGCAGGAAAATGAAAGAATGACAACAAAAAAGAATA...</td>\n",
       "      <td>1</td>\n",
       "    </tr>\n",
       "    <tr>\n",
       "      <th>1</th>\n",
       "      <td>GCCAGATGTGGTGGCTCACATCTGTAATCCAGCACTTTCAGAGGCT...</td>\n",
       "      <td>1</td>\n",
       "    </tr>\n",
       "    <tr>\n",
       "      <th>2</th>\n",
       "      <td>ACCTATAATCCCAGCACTTTGGGAGGCTGAGGTGAGTGGATCAGGA...</td>\n",
       "      <td>1</td>\n",
       "    </tr>\n",
       "    <tr>\n",
       "      <th>3</th>\n",
       "      <td>CTTGTCACACAGGCTGGCACCTTTGCCCAGAGCAGGCACCAAGACT...</td>\n",
       "      <td>1</td>\n",
       "    </tr>\n",
       "    <tr>\n",
       "      <th>4</th>\n",
       "      <td>CTAAGAGTATAAAAAGTTCAGGCGACCTCCAGGGGCTTTTGCCTAC...</td>\n",
       "      <td>1</td>\n",
       "    </tr>\n",
       "    <tr>\n",
       "      <th>5</th>\n",
       "      <td>TAAGAATACAAAAATTAGCTGGGCGTGGTGATGGGCATCTGTAATC...</td>\n",
       "      <td>1</td>\n",
       "    </tr>\n",
       "    <tr>\n",
       "      <th>6</th>\n",
       "      <td>CCTGCCCAAACAGGACAGGCAGGAAAAACTGGCTTGGTTCTGAGTA...</td>\n",
       "      <td>1</td>\n",
       "    </tr>\n",
       "    <tr>\n",
       "      <th>7</th>\n",
       "      <td>GAGAGGAGATGCCCAGGCCTGGCGGCCGGCGCACGCGGGTTCTCTG...</td>\n",
       "      <td>1</td>\n",
       "    </tr>\n",
       "    <tr>\n",
       "      <th>8</th>\n",
       "      <td>CATGGTGATAATTGGGCTCATGAACCCATGACCTCAGCTTCATCAG...</td>\n",
       "      <td>1</td>\n",
       "    </tr>\n",
       "    <tr>\n",
       "      <th>9</th>\n",
       "      <td>GAAAATCACTAATAAAAACTTGTTGGTTTTGCGGCTTGGGGGGCAT...</td>\n",
       "      <td>1</td>\n",
       "    </tr>\n",
       "    <tr>\n",
       "      <th>10</th>\n",
       "      <td>TGGAATCGAATGGAATGGAATGCAATGGAATGGAATAGAATGGAAT...</td>\n",
       "      <td>1</td>\n",
       "    </tr>\n",
       "    <tr>\n",
       "      <th>11</th>\n",
       "      <td>TGGAATGGAATGGAATTGAAAGGAATGGAATGAATCGAATGGAATG...</td>\n",
       "      <td>1</td>\n",
       "    </tr>\n",
       "    <tr>\n",
       "      <th>12</th>\n",
       "      <td>GGAATGGAATGGAATGCAATGCATTGGAACAGACTGGAATGTAATG...</td>\n",
       "      <td>1</td>\n",
       "    </tr>\n",
       "    <tr>\n",
       "      <th>13</th>\n",
       "      <td>GGTTTTTTGTAGTTTGTACTGAATCACACACCATGCTGCTTCCATG...</td>\n",
       "      <td>1</td>\n",
       "    </tr>\n",
       "    <tr>\n",
       "      <th>14</th>\n",
       "      <td>TCACGCCAGGTCCACAGAGGCACCCACGCCCGCCAAAAGGATGCCA...</td>\n",
       "      <td>1</td>\n",
       "    </tr>\n",
       "    <tr>\n",
       "      <th>15</th>\n",
       "      <td>GCGCGGCCAGGCGCCTCCCCGGCCCCCGCGACCCAACTCCAGCCCG...</td>\n",
       "      <td>1</td>\n",
       "    </tr>\n",
       "    <tr>\n",
       "      <th>16</th>\n",
       "      <td>AGCCAGGACGGCAACCTTCCCACCCTCATATCCAGCGTCCACCGCA...</td>\n",
       "      <td>1</td>\n",
       "    </tr>\n",
       "    <tr>\n",
       "      <th>17</th>\n",
       "      <td>TCCTAGGGCTCCTGGACGGAAGGGGTCCCCGGTCCCGCCTCCTAGG...</td>\n",
       "      <td>1</td>\n",
       "    </tr>\n",
       "    <tr>\n",
       "      <th>18</th>\n",
       "      <td>ATGATTTTTCCGTGTTGGTCAGGCTGGTCTCGAATTCCTGACCTCA...</td>\n",
       "      <td>1</td>\n",
       "    </tr>\n",
       "    <tr>\n",
       "      <th>19</th>\n",
       "      <td>GAACAACACTGGGCATCTTCTCACGTGTGCATTTGTTATCCATGTA...</td>\n",
       "      <td>1</td>\n",
       "    </tr>\n",
       "    <tr>\n",
       "      <th>20</th>\n",
       "      <td>GAATCGCTTGAACCCGGGAGGTAAAGGTTATGGTGAGCCAAGATCA...</td>\n",
       "      <td>1</td>\n",
       "    </tr>\n",
       "    <tr>\n",
       "      <th>21</th>\n",
       "      <td>GGGTGTGTGTTCCGCTCGCCTCTGCCGCGTGTCTGTCCCTTTCTCT...</td>\n",
       "      <td>1</td>\n",
       "    </tr>\n",
       "    <tr>\n",
       "      <th>22</th>\n",
       "      <td>GCGGGGGCTTCACCTGCAGCTGCCCGGCAGGCAGGGGAGGCGCCGT...</td>\n",
       "      <td>1</td>\n",
       "    </tr>\n",
       "    <tr>\n",
       "      <th>23</th>\n",
       "      <td>CCGGGGGCAGGGCGGCCACCCTTGCCTGTGTGGGGAAGATGAAGAA...</td>\n",
       "      <td>1</td>\n",
       "    </tr>\n",
       "    <tr>\n",
       "      <th>24</th>\n",
       "      <td>CCCCGCCCCCCCCGGGGGGGGGGGGGACCCCTGCCAGTTCCATGAG...</td>\n",
       "      <td>1</td>\n",
       "    </tr>\n",
       "    <tr>\n",
       "      <th>25</th>\n",
       "      <td>ATTCTCGGCTCACTGCAAGCTCCGCCTCCCGGGTTCACGCCATTCT...</td>\n",
       "      <td>1</td>\n",
       "    </tr>\n",
       "    <tr>\n",
       "      <th>26</th>\n",
       "      <td>ACCACAGCTTCCAAAAGTCACACTCTTCACGTTTTATTTTATTTTT...</td>\n",
       "      <td>1</td>\n",
       "    </tr>\n",
       "    <tr>\n",
       "      <th>27</th>\n",
       "      <td>GGCAACGCGAAAAGCGTCCGGGACGTGGGGCTTGTGGGGCGCCGGG...</td>\n",
       "      <td>1</td>\n",
       "    </tr>\n",
       "    <tr>\n",
       "      <th>28</th>\n",
       "      <td>CTCTCCAACCACAGCTTCCAAAAGTCACACTCTTCACGTTTTATTT...</td>\n",
       "      <td>1</td>\n",
       "    </tr>\n",
       "    <tr>\n",
       "      <th>29</th>\n",
       "      <td>GATGTCGGCTCACTGCAACCTCCGCCTCCCGGGTTCAAGCGATTCT...</td>\n",
       "      <td>1</td>\n",
       "    </tr>\n",
       "    <tr>\n",
       "      <th>...</th>\n",
       "      <td>...</td>\n",
       "      <td>...</td>\n",
       "    </tr>\n",
       "    <tr>\n",
       "      <th>109108</th>\n",
       "      <td>CTCAGATTCGGGACTGGATTCAGACGTGTGCTCTCGATCTCCACGA...</td>\n",
       "      <td>1</td>\n",
       "    </tr>\n",
       "    <tr>\n",
       "      <th>109109</th>\n",
       "      <td>TCTGCTTCTCTTGGCGTGACCTGTGGATGCTGAGAATGAGAGTAGA...</td>\n",
       "      <td>1</td>\n",
       "    </tr>\n",
       "    <tr>\n",
       "      <th>109110</th>\n",
       "      <td>CACCTCCCCAGCTGCTGCAGTGCCCCCC</td>\n",
       "      <td>1</td>\n",
       "    </tr>\n",
       "    <tr>\n",
       "      <th>109111</th>\n",
       "      <td>TCACCTTCAGGGCTCCCAGGGCCCAGGCT</td>\n",
       "      <td>1</td>\n",
       "    </tr>\n",
       "    <tr>\n",
       "      <th>109112</th>\n",
       "      <td>GGGGGTATGCCCGCTCCGGGTAGAGGGGGGG</td>\n",
       "      <td>1</td>\n",
       "    </tr>\n",
       "    <tr>\n",
       "      <th>109113</th>\n",
       "      <td>TGCTGAGGAAGTGTCGGTGACAGGAAGAGGG</td>\n",
       "      <td>1</td>\n",
       "    </tr>\n",
       "    <tr>\n",
       "      <th>109114</th>\n",
       "      <td>CTGAGGAAGTGTCGGTGACAGGAAGAGGGGG</td>\n",
       "      <td>1</td>\n",
       "    </tr>\n",
       "    <tr>\n",
       "      <th>109115</th>\n",
       "      <td>CCTGTCACCAGCCTTTCCTCAGTATCCA</td>\n",
       "      <td>1</td>\n",
       "    </tr>\n",
       "    <tr>\n",
       "      <th>109116</th>\n",
       "      <td>GTGACAGGAAGAGGGGTGGCGTGACCTGTGGA</td>\n",
       "      <td>1</td>\n",
       "    </tr>\n",
       "    <tr>\n",
       "      <th>109117</th>\n",
       "      <td>CTGAGGAAGTGTCGGTGACAGGAAGAGGGGG</td>\n",
       "      <td>1</td>\n",
       "    </tr>\n",
       "    <tr>\n",
       "      <th>109118</th>\n",
       "      <td>CCGCTTCCTGTCACCGACACTTCCTCAGC</td>\n",
       "      <td>1</td>\n",
       "    </tr>\n",
       "    <tr>\n",
       "      <th>109119</th>\n",
       "      <td>GAGAAGTGTCGGTGACAGGAAGCGGGGT</td>\n",
       "      <td>1</td>\n",
       "    </tr>\n",
       "    <tr>\n",
       "      <th>109120</th>\n",
       "      <td>CTCAGCATCCACAGGTCACGCCACCCCTCTTCCT</td>\n",
       "      <td>1</td>\n",
       "    </tr>\n",
       "    <tr>\n",
       "      <th>109121</th>\n",
       "      <td>GAGGAGTGCGTGACCTGTGGATGCTGAG</td>\n",
       "      <td>1</td>\n",
       "    </tr>\n",
       "    <tr>\n",
       "      <th>109122</th>\n",
       "      <td>AAGTGCTGGTGACAGGAAGAGGGGTGG</td>\n",
       "      <td>1</td>\n",
       "    </tr>\n",
       "    <tr>\n",
       "      <th>109123</th>\n",
       "      <td>GGTCACGCCACCTCTCTTCCTGTCACCGACAC</td>\n",
       "      <td>1</td>\n",
       "    </tr>\n",
       "    <tr>\n",
       "      <th>109124</th>\n",
       "      <td>CACAGGTCAGGCCACCCCTCTTCTGTCACC</td>\n",
       "      <td>1</td>\n",
       "    </tr>\n",
       "    <tr>\n",
       "      <th>109125</th>\n",
       "      <td>ACCAGCCTTTCCTCAGTATCCACAGGTGACACC</td>\n",
       "      <td>1</td>\n",
       "    </tr>\n",
       "    <tr>\n",
       "      <th>109126</th>\n",
       "      <td>ACAGGTCACACCACCCCTCTTCTGTCACCGA</td>\n",
       "      <td>1</td>\n",
       "    </tr>\n",
       "    <tr>\n",
       "      <th>109127</th>\n",
       "      <td>TAGCAGCAACAGCAGTGATAGCAGTGAAA</td>\n",
       "      <td>1</td>\n",
       "    </tr>\n",
       "    <tr>\n",
       "      <th>109128</th>\n",
       "      <td>TCCCTTCCTTCCCCTCTTTCCTGTGGCATCTCTTCTT</td>\n",
       "      <td>1</td>\n",
       "    </tr>\n",
       "    <tr>\n",
       "      <th>109129</th>\n",
       "      <td>ACTGCTGTTAGCTCCAGTTTACTCACCTG</td>\n",
       "      <td>1</td>\n",
       "    </tr>\n",
       "    <tr>\n",
       "      <th>109130</th>\n",
       "      <td>CTGCCCGGGCCCTCCTCCTCCTCTTCGTTC</td>\n",
       "      <td>1</td>\n",
       "    </tr>\n",
       "    <tr>\n",
       "      <th>109131</th>\n",
       "      <td>CTGCCCGGGCCCTCCTCCTCCTCTTCGTTC</td>\n",
       "      <td>1</td>\n",
       "    </tr>\n",
       "    <tr>\n",
       "      <th>109132</th>\n",
       "      <td>TGAGGGCTCTGTTCTGTTCCATTGGTC</td>\n",
       "      <td>1</td>\n",
       "    </tr>\n",
       "    <tr>\n",
       "      <th>109133</th>\n",
       "      <td>CTAAGCTGCAGGAGATCTACCAGGAGCTGACC</td>\n",
       "      <td>1</td>\n",
       "    </tr>\n",
       "    <tr>\n",
       "      <th>109134</th>\n",
       "      <td>CTAAGCTGCAGGAGATCTACCAGGAGCTGACC</td>\n",
       "      <td>1</td>\n",
       "    </tr>\n",
       "    <tr>\n",
       "      <th>109135</th>\n",
       "      <td>CAGGGTGGAGTCTGTGCAGTGATCAGTAAATCCTG</td>\n",
       "      <td>1</td>\n",
       "    </tr>\n",
       "    <tr>\n",
       "      <th>109136</th>\n",
       "      <td>CTATGTCCCCCACCCAGACTAACCCCGGCAAG</td>\n",
       "      <td>1</td>\n",
       "    </tr>\n",
       "    <tr>\n",
       "      <th>109137</th>\n",
       "      <td>CTAGACTGCACACAGCATGGGGACCCT</td>\n",
       "      <td>1</td>\n",
       "    </tr>\n",
       "  </tbody>\n",
       "</table>\n",
       "<p>109138 rows × 2 columns</p>\n",
       "</div>"
      ],
      "text/plain": [
       "                                                 sequence  Class\n",
       "0       TTAGTCGAAGAGCAGGAAAATGAAAGAATGACAACAAAAAAGAATA...      1\n",
       "1       GCCAGATGTGGTGGCTCACATCTGTAATCCAGCACTTTCAGAGGCT...      1\n",
       "2       ACCTATAATCCCAGCACTTTGGGAGGCTGAGGTGAGTGGATCAGGA...      1\n",
       "3       CTTGTCACACAGGCTGGCACCTTTGCCCAGAGCAGGCACCAAGACT...      1\n",
       "4       CTAAGAGTATAAAAAGTTCAGGCGACCTCCAGGGGCTTTTGCCTAC...      1\n",
       "5       TAAGAATACAAAAATTAGCTGGGCGTGGTGATGGGCATCTGTAATC...      1\n",
       "6       CCTGCCCAAACAGGACAGGCAGGAAAAACTGGCTTGGTTCTGAGTA...      1\n",
       "7       GAGAGGAGATGCCCAGGCCTGGCGGCCGGCGCACGCGGGTTCTCTG...      1\n",
       "8       CATGGTGATAATTGGGCTCATGAACCCATGACCTCAGCTTCATCAG...      1\n",
       "9       GAAAATCACTAATAAAAACTTGTTGGTTTTGCGGCTTGGGGGGCAT...      1\n",
       "10      TGGAATCGAATGGAATGGAATGCAATGGAATGGAATAGAATGGAAT...      1\n",
       "11      TGGAATGGAATGGAATTGAAAGGAATGGAATGAATCGAATGGAATG...      1\n",
       "12      GGAATGGAATGGAATGCAATGCATTGGAACAGACTGGAATGTAATG...      1\n",
       "13      GGTTTTTTGTAGTTTGTACTGAATCACACACCATGCTGCTTCCATG...      1\n",
       "14      TCACGCCAGGTCCACAGAGGCACCCACGCCCGCCAAAAGGATGCCA...      1\n",
       "15      GCGCGGCCAGGCGCCTCCCCGGCCCCCGCGACCCAACTCCAGCCCG...      1\n",
       "16      AGCCAGGACGGCAACCTTCCCACCCTCATATCCAGCGTCCACCGCA...      1\n",
       "17      TCCTAGGGCTCCTGGACGGAAGGGGTCCCCGGTCCCGCCTCCTAGG...      1\n",
       "18      ATGATTTTTCCGTGTTGGTCAGGCTGGTCTCGAATTCCTGACCTCA...      1\n",
       "19      GAACAACACTGGGCATCTTCTCACGTGTGCATTTGTTATCCATGTA...      1\n",
       "20      GAATCGCTTGAACCCGGGAGGTAAAGGTTATGGTGAGCCAAGATCA...      1\n",
       "21      GGGTGTGTGTTCCGCTCGCCTCTGCCGCGTGTCTGTCCCTTTCTCT...      1\n",
       "22      GCGGGGGCTTCACCTGCAGCTGCCCGGCAGGCAGGGGAGGCGCCGT...      1\n",
       "23      CCGGGGGCAGGGCGGCCACCCTTGCCTGTGTGGGGAAGATGAAGAA...      1\n",
       "24      CCCCGCCCCCCCCGGGGGGGGGGGGGACCCCTGCCAGTTCCATGAG...      1\n",
       "25      ATTCTCGGCTCACTGCAAGCTCCGCCTCCCGGGTTCACGCCATTCT...      1\n",
       "26      ACCACAGCTTCCAAAAGTCACACTCTTCACGTTTTATTTTATTTTT...      1\n",
       "27      GGCAACGCGAAAAGCGTCCGGGACGTGGGGCTTGTGGGGCGCCGGG...      1\n",
       "28      CTCTCCAACCACAGCTTCCAAAAGTCACACTCTTCACGTTTTATTT...      1\n",
       "29      GATGTCGGCTCACTGCAACCTCCGCCTCCCGGGTTCAAGCGATTCT...      1\n",
       "...                                                   ...    ...\n",
       "109108  CTCAGATTCGGGACTGGATTCAGACGTGTGCTCTCGATCTCCACGA...      1\n",
       "109109  TCTGCTTCTCTTGGCGTGACCTGTGGATGCTGAGAATGAGAGTAGA...      1\n",
       "109110                       CACCTCCCCAGCTGCTGCAGTGCCCCCC      1\n",
       "109111                      TCACCTTCAGGGCTCCCAGGGCCCAGGCT      1\n",
       "109112                    GGGGGTATGCCCGCTCCGGGTAGAGGGGGGG      1\n",
       "109113                    TGCTGAGGAAGTGTCGGTGACAGGAAGAGGG      1\n",
       "109114                    CTGAGGAAGTGTCGGTGACAGGAAGAGGGGG      1\n",
       "109115                       CCTGTCACCAGCCTTTCCTCAGTATCCA      1\n",
       "109116                   GTGACAGGAAGAGGGGTGGCGTGACCTGTGGA      1\n",
       "109117                    CTGAGGAAGTGTCGGTGACAGGAAGAGGGGG      1\n",
       "109118                      CCGCTTCCTGTCACCGACACTTCCTCAGC      1\n",
       "109119                       GAGAAGTGTCGGTGACAGGAAGCGGGGT      1\n",
       "109120                 CTCAGCATCCACAGGTCACGCCACCCCTCTTCCT      1\n",
       "109121                       GAGGAGTGCGTGACCTGTGGATGCTGAG      1\n",
       "109122                        AAGTGCTGGTGACAGGAAGAGGGGTGG      1\n",
       "109123                   GGTCACGCCACCTCTCTTCCTGTCACCGACAC      1\n",
       "109124                     CACAGGTCAGGCCACCCCTCTTCTGTCACC      1\n",
       "109125                  ACCAGCCTTTCCTCAGTATCCACAGGTGACACC      1\n",
       "109126                    ACAGGTCACACCACCCCTCTTCTGTCACCGA      1\n",
       "109127                      TAGCAGCAACAGCAGTGATAGCAGTGAAA      1\n",
       "109128              TCCCTTCCTTCCCCTCTTTCCTGTGGCATCTCTTCTT      1\n",
       "109129                      ACTGCTGTTAGCTCCAGTTTACTCACCTG      1\n",
       "109130                     CTGCCCGGGCCCTCCTCCTCCTCTTCGTTC      1\n",
       "109131                     CTGCCCGGGCCCTCCTCCTCCTCTTCGTTC      1\n",
       "109132                        TGAGGGCTCTGTTCTGTTCCATTGGTC      1\n",
       "109133                   CTAAGCTGCAGGAGATCTACCAGGAGCTGACC      1\n",
       "109134                   CTAAGCTGCAGGAGATCTACCAGGAGCTGACC      1\n",
       "109135                CAGGGTGGAGTCTGTGCAGTGATCAGTAAATCCTG      1\n",
       "109136                   CTATGTCCCCCACCCAGACTAACCCCGGCAAG      1\n",
       "109137                        CTAGACTGCACACAGCATGGGGACCCT      1\n",
       "\n",
       "[109138 rows x 2 columns]"
      ]
     },
     "execution_count": 5,
     "metadata": {},
     "output_type": "execute_result"
    }
   ],
   "source": [
    "newDf"
   ]
  },
  {
   "cell_type": "code",
   "execution_count": 6,
   "metadata": {},
   "outputs": [],
   "source": [
    "#newDf = newDf[0:41892]"
   ]
  },
  {
   "cell_type": "code",
   "execution_count": 7,
   "metadata": {},
   "outputs": [],
   "source": [
    "seqs2 = readFastq('SRR8483193.fastq')\n",
    "seqs2= [i.replace('N', '') for i in seqs2]"
   ]
  },
  {
   "cell_type": "code",
   "execution_count": 8,
   "metadata": {},
   "outputs": [],
   "source": [
    "#seqs2 = readFastq('SRR020192.fastq')\n",
    "#seqs2= [i.replace('N', '') for i in seqs2]"
   ]
  },
  {
   "cell_type": "code",
   "execution_count": 9,
   "metadata": {},
   "outputs": [
    {
     "data": {
      "text/plain": [
       "45663"
      ]
     },
     "execution_count": 9,
     "metadata": {},
     "output_type": "execute_result"
    }
   ],
   "source": [
    "len(seqs2)"
   ]
  },
  {
   "cell_type": "code",
   "execution_count": 10,
   "metadata": {},
   "outputs": [],
   "source": [
    "import pandas as pd\n",
    "\n",
    "newDf1 = pd.DataFrame()\n",
    "number = 0\n",
    "elements = len(seqs2)\n",
    "\n",
    "thelist = [number] * elements\n",
    "\n",
    "#newDf.assign(sequence=seqs)\n",
    "newDf1['sequence'] = seqs2\n",
    "\n",
    "newDf1['Class'] = thelist\n"
   ]
  },
  {
   "cell_type": "code",
   "execution_count": 11,
   "metadata": {},
   "outputs": [
    {
     "data": {
      "text/html": [
       "<div>\n",
       "<style scoped>\n",
       "    .dataframe tbody tr th:only-of-type {\n",
       "        vertical-align: middle;\n",
       "    }\n",
       "\n",
       "    .dataframe tbody tr th {\n",
       "        vertical-align: top;\n",
       "    }\n",
       "\n",
       "    .dataframe thead th {\n",
       "        text-align: right;\n",
       "    }\n",
       "</style>\n",
       "<table border=\"1\" class=\"dataframe\">\n",
       "  <thead>\n",
       "    <tr style=\"text-align: right;\">\n",
       "      <th></th>\n",
       "      <th>sequence</th>\n",
       "      <th>Class</th>\n",
       "    </tr>\n",
       "  </thead>\n",
       "  <tbody>\n",
       "    <tr>\n",
       "      <th>90804</th>\n",
       "      <td>GGGACTACAGGCACCCGCCGCCACGCCCGGCTAATTTTTTTGTATT...</td>\n",
       "      <td>1</td>\n",
       "    </tr>\n",
       "    <tr>\n",
       "      <th>37929</th>\n",
       "      <td>CGACATTGCGCGCCATGGAGTCCAGGAGGTTCTTGGTGGCGCCGCT...</td>\n",
       "      <td>1</td>\n",
       "    </tr>\n",
       "    <tr>\n",
       "      <th>100581</th>\n",
       "      <td>AAATGCAGCTGGACATCTTTCACCTCCAGGGTGCTAGACTTGCGAT...</td>\n",
       "      <td>1</td>\n",
       "    </tr>\n",
       "    <tr>\n",
       "      <th>47731</th>\n",
       "      <td>GGAAAACAGGGGTGAGCCAGAGCAAAGAGGGAAGTATGGTTGCCTT...</td>\n",
       "      <td>1</td>\n",
       "    </tr>\n",
       "    <tr>\n",
       "      <th>29092</th>\n",
       "      <td>ACCCGCCCCGCACCCCCCGCGCGGGCCACTCACCCGGGCCAGCCAG...</td>\n",
       "      <td>0</td>\n",
       "    </tr>\n",
       "    <tr>\n",
       "      <th>27872</th>\n",
       "      <td>AGTATTTAGGCTTCATCCAGAACATCTACTCCACTTAAAAAGCGTA...</td>\n",
       "      <td>1</td>\n",
       "    </tr>\n",
       "    <tr>\n",
       "      <th>13681</th>\n",
       "      <td>TAGCTGTGAGAGGTGACAGCGTGCTGGCAGCCCTTGCAGCCCTCGC...</td>\n",
       "      <td>1</td>\n",
       "    </tr>\n",
       "    <tr>\n",
       "      <th>33495</th>\n",
       "      <td>GGAGAACCCCAAGATGCACAACTCGGAGATCAGCAAGCGCCTGGGG...</td>\n",
       "      <td>0</td>\n",
       "    </tr>\n",
       "    <tr>\n",
       "      <th>82903</th>\n",
       "      <td>AAGCTTTGCCACATTCTTCACATTTGTAGGTTTCTCTCCAGTATGA...</td>\n",
       "      <td>1</td>\n",
       "    </tr>\n",
       "    <tr>\n",
       "      <th>20142</th>\n",
       "      <td>CAGATCCGTTGGGACATTAGCCTGGTGTTGAGTTTACGGAAAAAGG...</td>\n",
       "      <td>0</td>\n",
       "    </tr>\n",
       "    <tr>\n",
       "      <th>60095</th>\n",
       "      <td>TTTTTGTACCCCAGCTTCACCGTAAATTTGATGTTTGTTCTTGCTT...</td>\n",
       "      <td>1</td>\n",
       "    </tr>\n",
       "    <tr>\n",
       "      <th>30208</th>\n",
       "      <td>TTGAAGGAACAGGGGCAGCTGAGATGCCGGGATGAGTTTATCGTTT...</td>\n",
       "      <td>1</td>\n",
       "    </tr>\n",
       "    <tr>\n",
       "      <th>34730</th>\n",
       "      <td>GATAGGAGCTCTACAAATATTACCAGCTGCAGAGTGAGGACACTTG...</td>\n",
       "      <td>1</td>\n",
       "    </tr>\n",
       "    <tr>\n",
       "      <th>18008</th>\n",
       "      <td>CTTGGTCTCCTGTGGATTCTGAGGAAGTGTGACAGGAAGAGGGGTG...</td>\n",
       "      <td>1</td>\n",
       "    </tr>\n",
       "    <tr>\n",
       "      <th>80358</th>\n",
       "      <td>GCCCTGGTTCCAGATACTCACCCACTGCAGCCTTCAGCGGGTCAGC...</td>\n",
       "      <td>1</td>\n",
       "    </tr>\n",
       "    <tr>\n",
       "      <th>8759</th>\n",
       "      <td>AGCCCCTGGCCTTGCAGGTCCCCCGGGGGGGGGGGGGGGGGGGGGG...</td>\n",
       "      <td>1</td>\n",
       "    </tr>\n",
       "    <tr>\n",
       "      <th>96354</th>\n",
       "      <td>AATTTGCAGCCTGACAATGTGATAGAAAAGAAAATCCCATTTTCTG...</td>\n",
       "      <td>1</td>\n",
       "    </tr>\n",
       "    <tr>\n",
       "      <th>90398</th>\n",
       "      <td>GCTCGCTCCCTCCGTACTGAGACGGTGAAACCTGCTCTTCCTTGAT...</td>\n",
       "      <td>1</td>\n",
       "    </tr>\n",
       "    <tr>\n",
       "      <th>9852</th>\n",
       "      <td>ACCCCACTTCCCACCCTGCTCCCTTCTCCTCAGCTAGCTCTGCATG...</td>\n",
       "      <td>1</td>\n",
       "    </tr>\n",
       "    <tr>\n",
       "      <th>61349</th>\n",
       "      <td>AAATTGAAAGTTAGGATGAATCAAGTCACGTAGAACATAGAACAAA...</td>\n",
       "      <td>1</td>\n",
       "    </tr>\n",
       "    <tr>\n",
       "      <th>32394</th>\n",
       "      <td>GTAATCTCAGCACTGTGGGAGGCCGAGGTGGGCGGATCACCTGAGG...</td>\n",
       "      <td>1</td>\n",
       "    </tr>\n",
       "    <tr>\n",
       "      <th>53138</th>\n",
       "      <td>GGAAAGTGTTAAGAATCTGGGGAGGGGGCTGGGGAATGAAGGTGGC...</td>\n",
       "      <td>1</td>\n",
       "    </tr>\n",
       "    <tr>\n",
       "      <th>67752</th>\n",
       "      <td>ATAAACAGGATAAAAAGTTCATATTTTTCTCTCTTCCTCAATTTCA...</td>\n",
       "      <td>1</td>\n",
       "    </tr>\n",
       "    <tr>\n",
       "      <th>20801</th>\n",
       "      <td>AGAGTTATAAACGGGTCGGTTACTTGACGAGATCTTCCGGATGGGC...</td>\n",
       "      <td>0</td>\n",
       "    </tr>\n",
       "    <tr>\n",
       "      <th>9558</th>\n",
       "      <td>CCACCCGGTCAAGTGCAGAACTCACCTTGTTCATCTAAAAAACAAA...</td>\n",
       "      <td>0</td>\n",
       "    </tr>\n",
       "    <tr>\n",
       "      <th>90147</th>\n",
       "      <td>CACACTGGGGCAGCTGAGCCCCCGTAACGAGTGAAAGGCTTACTTG...</td>\n",
       "      <td>1</td>\n",
       "    </tr>\n",
       "    <tr>\n",
       "      <th>3052</th>\n",
       "      <td>CCCACCTGCTCCCCAGGTTCAGCCCTGCCCTACCCTCATTTTGCTC...</td>\n",
       "      <td>1</td>\n",
       "    </tr>\n",
       "    <tr>\n",
       "      <th>30343</th>\n",
       "      <td>CTTTGAAGACCTCATCCTGTTTAGCAAGACCCAGAAGGTGGAGGGC...</td>\n",
       "      <td>1</td>\n",
       "    </tr>\n",
       "    <tr>\n",
       "      <th>5147</th>\n",
       "      <td>GGAGGGCCAATAGGATCGCCCACCCTACCACATGCTTGCCCTCACC...</td>\n",
       "      <td>0</td>\n",
       "    </tr>\n",
       "    <tr>\n",
       "      <th>33975</th>\n",
       "      <td>CGAGATCTTCCGGATGGGCGAGTCGGGGTCCGGGCGGGACAGCCAC...</td>\n",
       "      <td>1</td>\n",
       "    </tr>\n",
       "    <tr>\n",
       "      <th>...</th>\n",
       "      <td>...</td>\n",
       "      <td>...</td>\n",
       "    </tr>\n",
       "    <tr>\n",
       "      <th>76157</th>\n",
       "      <td>ATGCGCCGCTGCGCCGTGGGGCTAGTGGACGCCGTGAAGGCCACCG...</td>\n",
       "      <td>1</td>\n",
       "    </tr>\n",
       "    <tr>\n",
       "      <th>9073</th>\n",
       "      <td>TTCCCCAGAGCCCAAGGTGGTGTTTGCCAAGGAGCAGCCAGTGCAC...</td>\n",
       "      <td>0</td>\n",
       "    </tr>\n",
       "    <tr>\n",
       "      <th>13123</th>\n",
       "      <td>GTATAGTTAGGTTCTCCCAAGTCTCTCCCAAGGATGTGGGAAGGTG...</td>\n",
       "      <td>1</td>\n",
       "    </tr>\n",
       "    <tr>\n",
       "      <th>7535</th>\n",
       "      <td>ATCTTGCCTTCCCCAGAGCCCAAGGTGGTGTTTGCCAAGGAGCAGC...</td>\n",
       "      <td>1</td>\n",
       "    </tr>\n",
       "    <tr>\n",
       "      <th>75957</th>\n",
       "      <td>ACTCGGGAGGCTGAGGCAGGAGTAATCGCTTGAACCCGGGAGGCGG...</td>\n",
       "      <td>1</td>\n",
       "    </tr>\n",
       "    <tr>\n",
       "      <th>83153</th>\n",
       "      <td>CAGTATGAATTATCTTATGTTTAGTAAGGGTTGAGGACCACTTAAA...</td>\n",
       "      <td>1</td>\n",
       "    </tr>\n",
       "    <tr>\n",
       "      <th>67367</th>\n",
       "      <td>GCGGCCCGGAAGGCGAGGACCCCCTGCCGCCTGCCGCCGCCCGCCC...</td>\n",
       "      <td>1</td>\n",
       "    </tr>\n",
       "    <tr>\n",
       "      <th>35664</th>\n",
       "      <td>CTGTTATTGATTTACTGGCCTTCTTCTCCCCCACCCCTTTCCTCTG...</td>\n",
       "      <td>1</td>\n",
       "    </tr>\n",
       "    <tr>\n",
       "      <th>24850</th>\n",
       "      <td>CCTCCTCCCTGTCTAGAGGCTGAGGAATAAGCTGATTACCCACAAA...</td>\n",
       "      <td>0</td>\n",
       "    </tr>\n",
       "    <tr>\n",
       "      <th>84522</th>\n",
       "      <td>GGAACAGGGGTGGCGTGACCGGTGGATGCTGAGGAAGTGCTGGTGA...</td>\n",
       "      <td>1</td>\n",
       "    </tr>\n",
       "    <tr>\n",
       "      <th>28271</th>\n",
       "      <td>GACAGCAGCGATAGCAACAGCAGTGATAGCAGCGACAGCAGCGAAG...</td>\n",
       "      <td>1</td>\n",
       "    </tr>\n",
       "    <tr>\n",
       "      <th>34630</th>\n",
       "      <td>CAATTACTTGCCTGTTGCAGAGCTTTTTGGGAAGATTTACATCAAG...</td>\n",
       "      <td>0</td>\n",
       "    </tr>\n",
       "    <tr>\n",
       "      <th>91362</th>\n",
       "      <td>GGGTGGCGTGACCTGTGGATGCTGAGGAAGTGTCGGTGACAGGAAG...</td>\n",
       "      <td>1</td>\n",
       "    </tr>\n",
       "    <tr>\n",
       "      <th>28138</th>\n",
       "      <td>GCAGTGATAGCAACGACAGCAGCAATAGCAGTGACAGCAGTGATAG...</td>\n",
       "      <td>1</td>\n",
       "    </tr>\n",
       "    <tr>\n",
       "      <th>25814</th>\n",
       "      <td>AATGACTTTGCCAGATTCCTTACATTTGTAGGTGTTCTCTCCATTA...</td>\n",
       "      <td>1</td>\n",
       "    </tr>\n",
       "    <tr>\n",
       "      <th>511</th>\n",
       "      <td>TCCATACTTCAGGGAGAAACAAGACCACATACCTAAATGCAGCTGG...</td>\n",
       "      <td>1</td>\n",
       "    </tr>\n",
       "    <tr>\n",
       "      <th>32789</th>\n",
       "      <td>CATCACTGGCCCAGGGCCCCCAAGCACCCCCATTAAAGTCAGGATG...</td>\n",
       "      <td>1</td>\n",
       "    </tr>\n",
       "    <tr>\n",
       "      <th>67459</th>\n",
       "      <td>AGGGACCCCTGCTCTGTGCAGCCTTGGGACATGGTGTCCTGCTCCC...</td>\n",
       "      <td>1</td>\n",
       "    </tr>\n",
       "    <tr>\n",
       "      <th>55285</th>\n",
       "      <td>CTTGGGGCTTCCACCCTCTGAAGCCACAGCCCAAGCTGTATGTTGG...</td>\n",
       "      <td>1</td>\n",
       "    </tr>\n",
       "    <tr>\n",
       "      <th>1059</th>\n",
       "      <td>ACTGCAGCTGTCAGAGTGTCCACCCCAGAGGAGCCCGCCTCCCCAG...</td>\n",
       "      <td>1</td>\n",
       "    </tr>\n",
       "    <tr>\n",
       "      <th>23888</th>\n",
       "      <td>TGGCCTGACCTGTGGATGATGAGGAAGGGCTGGTGGGGATCTTGAG...</td>\n",
       "      <td>1</td>\n",
       "    </tr>\n",
       "    <tr>\n",
       "      <th>30331</th>\n",
       "      <td>GGAACCAGGGCGAGGGGGCCGCCGAGCGCGAGGTGTCGGTGCCCAC...</td>\n",
       "      <td>0</td>\n",
       "    </tr>\n",
       "    <tr>\n",
       "      <th>6412</th>\n",
       "      <td>CAGGGTGACATCCTCATGATAAAACCAGTACAGGATTGGGGGAGAG...</td>\n",
       "      <td>0</td>\n",
       "    </tr>\n",
       "    <tr>\n",
       "      <th>32184</th>\n",
       "      <td>TGGGCTGGGGAGCTGTTAAGCTGAGGTGGCCCTAGGGCCTGCCGGG...</td>\n",
       "      <td>0</td>\n",
       "    </tr>\n",
       "    <tr>\n",
       "      <th>45427</th>\n",
       "      <td>CAGGAAGAGGGGTGGTGTGACCTGTGGATGCTGAGGAAGTGTCGGT...</td>\n",
       "      <td>1</td>\n",
       "    </tr>\n",
       "    <tr>\n",
       "      <th>49775</th>\n",
       "      <td>GTGATCTGCCACCCGCGGGGGGGGGGGGGGGGGGGGGGGGGGGGGG...</td>\n",
       "      <td>1</td>\n",
       "    </tr>\n",
       "    <tr>\n",
       "      <th>37337</th>\n",
       "      <td>TGCACCAGCATGAGGACCACGGCGAGCCTGGCTGGACAAGGCAGAG...</td>\n",
       "      <td>1</td>\n",
       "    </tr>\n",
       "    <tr>\n",
       "      <th>1841</th>\n",
       "      <td>CAAAAAAGCATCTCTAGAAATATGGTCCGCTGTTCTTGCCACATCT...</td>\n",
       "      <td>0</td>\n",
       "    </tr>\n",
       "    <tr>\n",
       "      <th>4357</th>\n",
       "      <td>TCCTCCAGAGGGGGCTGAGATCTTACCCAGGGTGACATCTTCATGA...</td>\n",
       "      <td>1</td>\n",
       "    </tr>\n",
       "    <tr>\n",
       "      <th>91093</th>\n",
       "      <td>ATACAAAAATTAGCTGGGCATGGTGGCAGTCGCCTGTAATCCCAGC...</td>\n",
       "      <td>1</td>\n",
       "    </tr>\n",
       "  </tbody>\n",
       "</table>\n",
       "<p>154801 rows × 2 columns</p>\n",
       "</div>"
      ],
      "text/plain": [
       "                                                 sequence  Class\n",
       "90804   GGGACTACAGGCACCCGCCGCCACGCCCGGCTAATTTTTTTGTATT...      1\n",
       "37929   CGACATTGCGCGCCATGGAGTCCAGGAGGTTCTTGGTGGCGCCGCT...      1\n",
       "100581  AAATGCAGCTGGACATCTTTCACCTCCAGGGTGCTAGACTTGCGAT...      1\n",
       "47731   GGAAAACAGGGGTGAGCCAGAGCAAAGAGGGAAGTATGGTTGCCTT...      1\n",
       "29092   ACCCGCCCCGCACCCCCCGCGCGGGCCACTCACCCGGGCCAGCCAG...      0\n",
       "27872   AGTATTTAGGCTTCATCCAGAACATCTACTCCACTTAAAAAGCGTA...      1\n",
       "13681   TAGCTGTGAGAGGTGACAGCGTGCTGGCAGCCCTTGCAGCCCTCGC...      1\n",
       "33495   GGAGAACCCCAAGATGCACAACTCGGAGATCAGCAAGCGCCTGGGG...      0\n",
       "82903   AAGCTTTGCCACATTCTTCACATTTGTAGGTTTCTCTCCAGTATGA...      1\n",
       "20142   CAGATCCGTTGGGACATTAGCCTGGTGTTGAGTTTACGGAAAAAGG...      0\n",
       "60095   TTTTTGTACCCCAGCTTCACCGTAAATTTGATGTTTGTTCTTGCTT...      1\n",
       "30208   TTGAAGGAACAGGGGCAGCTGAGATGCCGGGATGAGTTTATCGTTT...      1\n",
       "34730   GATAGGAGCTCTACAAATATTACCAGCTGCAGAGTGAGGACACTTG...      1\n",
       "18008   CTTGGTCTCCTGTGGATTCTGAGGAAGTGTGACAGGAAGAGGGGTG...      1\n",
       "80358   GCCCTGGTTCCAGATACTCACCCACTGCAGCCTTCAGCGGGTCAGC...      1\n",
       "8759    AGCCCCTGGCCTTGCAGGTCCCCCGGGGGGGGGGGGGGGGGGGGGG...      1\n",
       "96354   AATTTGCAGCCTGACAATGTGATAGAAAAGAAAATCCCATTTTCTG...      1\n",
       "90398   GCTCGCTCCCTCCGTACTGAGACGGTGAAACCTGCTCTTCCTTGAT...      1\n",
       "9852    ACCCCACTTCCCACCCTGCTCCCTTCTCCTCAGCTAGCTCTGCATG...      1\n",
       "61349   AAATTGAAAGTTAGGATGAATCAAGTCACGTAGAACATAGAACAAA...      1\n",
       "32394   GTAATCTCAGCACTGTGGGAGGCCGAGGTGGGCGGATCACCTGAGG...      1\n",
       "53138   GGAAAGTGTTAAGAATCTGGGGAGGGGGCTGGGGAATGAAGGTGGC...      1\n",
       "67752   ATAAACAGGATAAAAAGTTCATATTTTTCTCTCTTCCTCAATTTCA...      1\n",
       "20801   AGAGTTATAAACGGGTCGGTTACTTGACGAGATCTTCCGGATGGGC...      0\n",
       "9558    CCACCCGGTCAAGTGCAGAACTCACCTTGTTCATCTAAAAAACAAA...      0\n",
       "90147   CACACTGGGGCAGCTGAGCCCCCGTAACGAGTGAAAGGCTTACTTG...      1\n",
       "3052    CCCACCTGCTCCCCAGGTTCAGCCCTGCCCTACCCTCATTTTGCTC...      1\n",
       "30343   CTTTGAAGACCTCATCCTGTTTAGCAAGACCCAGAAGGTGGAGGGC...      1\n",
       "5147    GGAGGGCCAATAGGATCGCCCACCCTACCACATGCTTGCCCTCACC...      0\n",
       "33975   CGAGATCTTCCGGATGGGCGAGTCGGGGTCCGGGCGGGACAGCCAC...      1\n",
       "...                                                   ...    ...\n",
       "76157   ATGCGCCGCTGCGCCGTGGGGCTAGTGGACGCCGTGAAGGCCACCG...      1\n",
       "9073    TTCCCCAGAGCCCAAGGTGGTGTTTGCCAAGGAGCAGCCAGTGCAC...      0\n",
       "13123   GTATAGTTAGGTTCTCCCAAGTCTCTCCCAAGGATGTGGGAAGGTG...      1\n",
       "7535    ATCTTGCCTTCCCCAGAGCCCAAGGTGGTGTTTGCCAAGGAGCAGC...      1\n",
       "75957   ACTCGGGAGGCTGAGGCAGGAGTAATCGCTTGAACCCGGGAGGCGG...      1\n",
       "83153   CAGTATGAATTATCTTATGTTTAGTAAGGGTTGAGGACCACTTAAA...      1\n",
       "67367   GCGGCCCGGAAGGCGAGGACCCCCTGCCGCCTGCCGCCGCCCGCCC...      1\n",
       "35664   CTGTTATTGATTTACTGGCCTTCTTCTCCCCCACCCCTTTCCTCTG...      1\n",
       "24850   CCTCCTCCCTGTCTAGAGGCTGAGGAATAAGCTGATTACCCACAAA...      0\n",
       "84522   GGAACAGGGGTGGCGTGACCGGTGGATGCTGAGGAAGTGCTGGTGA...      1\n",
       "28271   GACAGCAGCGATAGCAACAGCAGTGATAGCAGCGACAGCAGCGAAG...      1\n",
       "34630   CAATTACTTGCCTGTTGCAGAGCTTTTTGGGAAGATTTACATCAAG...      0\n",
       "91362   GGGTGGCGTGACCTGTGGATGCTGAGGAAGTGTCGGTGACAGGAAG...      1\n",
       "28138   GCAGTGATAGCAACGACAGCAGCAATAGCAGTGACAGCAGTGATAG...      1\n",
       "25814   AATGACTTTGCCAGATTCCTTACATTTGTAGGTGTTCTCTCCATTA...      1\n",
       "511     TCCATACTTCAGGGAGAAACAAGACCACATACCTAAATGCAGCTGG...      1\n",
       "32789   CATCACTGGCCCAGGGCCCCCAAGCACCCCCATTAAAGTCAGGATG...      1\n",
       "67459   AGGGACCCCTGCTCTGTGCAGCCTTGGGACATGGTGTCCTGCTCCC...      1\n",
       "55285   CTTGGGGCTTCCACCCTCTGAAGCCACAGCCCAAGCTGTATGTTGG...      1\n",
       "1059    ACTGCAGCTGTCAGAGTGTCCACCCCAGAGGAGCCCGCCTCCCCAG...      1\n",
       "23888   TGGCCTGACCTGTGGATGATGAGGAAGGGCTGGTGGGGATCTTGAG...      1\n",
       "30331   GGAACCAGGGCGAGGGGGCCGCCGAGCGCGAGGTGTCGGTGCCCAC...      0\n",
       "6412    CAGGGTGACATCCTCATGATAAAACCAGTACAGGATTGGGGGAGAG...      0\n",
       "32184   TGGGCTGGGGAGCTGTTAAGCTGAGGTGGCCCTAGGGCCTGCCGGG...      0\n",
       "45427   CAGGAAGAGGGGTGGTGTGACCTGTGGATGCTGAGGAAGTGTCGGT...      1\n",
       "49775   GTGATCTGCCACCCGCGGGGGGGGGGGGGGGGGGGGGGGGGGGGGG...      1\n",
       "37337   TGCACCAGCATGAGGACCACGGCGAGCCTGGCTGGACAAGGCAGAG...      1\n",
       "1841    CAAAAAAGCATCTCTAGAAATATGGTCCGCTGTTCTTGCCACATCT...      0\n",
       "4357    TCCTCCAGAGGGGGCTGAGATCTTACCCAGGGTGACATCTTCATGA...      1\n",
       "91093   ATACAAAAATTAGCTGGGCATGGTGGCAGTCGCCTGTAATCCCAGC...      1\n",
       "\n",
       "[154801 rows x 2 columns]"
      ]
     },
     "execution_count": 11,
     "metadata": {},
     "output_type": "execute_result"
    }
   ],
   "source": [
    "frames = [newDf1, newDf]\n",
    "finalDataSet = pd.concat(frames)\n",
    "finalDataSet1 = finalDataSet.sample(frac=1)\n",
    "finalDataSet1"
   ]
  },
  {
   "cell_type": "code",
   "execution_count": 12,
   "metadata": {},
   "outputs": [],
   "source": [
    "#from xgboost import XGBClassifier\n",
    "from sklearn.model_selection import train_test_split\n",
    "from sklearn.metrics import accuracy_score\n",
    "from sklearn.metrics import confusion_matrix\n",
    "from matplotlib import pyplot as plt"
   ]
  },
  {
   "cell_type": "code",
   "execution_count": 13,
   "metadata": {},
   "outputs": [],
   "source": [
    "#df = df_test\n",
    "\n",
    "df = finalDataSet1"
   ]
  },
  {
   "cell_type": "code",
   "execution_count": 14,
   "metadata": {},
   "outputs": [],
   "source": [
    "df.to_pickle('finaldata')  # where to save it, usually as a .pkl\n"
   ]
  },
  {
   "cell_type": "code",
   "execution_count": 15,
   "metadata": {},
   "outputs": [],
   "source": [
    "import numpy as np\n",
    "import pandas as pd\n",
    "import matplotlib.pyplot as plt\n",
    "%matplotlib inline"
   ]
  },
  {
   "cell_type": "code",
   "execution_count": 16,
   "metadata": {},
   "outputs": [],
   "source": [
    "# function to convert sequence strings into k-mer words, default size = 8 (hexamer words)\n",
    "def getKmers(sequence, size=4):\n",
    "    return [sequence[x:x+size].lower() for x in range(len(sequence) - size + 1)]"
   ]
  },
  {
   "cell_type": "code",
   "execution_count": 17,
   "metadata": {},
   "outputs": [],
   "source": [
    "df['words'] = df.apply(lambda x: getKmers(x['sequence']), axis=1)\n",
    "df = df.drop('sequence', axis=1)"
   ]
  },
  {
   "cell_type": "code",
   "execution_count": 18,
   "metadata": {},
   "outputs": [
    {
     "data": {
      "text/html": [
       "<div>\n",
       "<style scoped>\n",
       "    .dataframe tbody tr th:only-of-type {\n",
       "        vertical-align: middle;\n",
       "    }\n",
       "\n",
       "    .dataframe tbody tr th {\n",
       "        vertical-align: top;\n",
       "    }\n",
       "\n",
       "    .dataframe thead th {\n",
       "        text-align: right;\n",
       "    }\n",
       "</style>\n",
       "<table border=\"1\" class=\"dataframe\">\n",
       "  <thead>\n",
       "    <tr style=\"text-align: right;\">\n",
       "      <th></th>\n",
       "      <th>Class</th>\n",
       "      <th>words</th>\n",
       "    </tr>\n",
       "  </thead>\n",
       "  <tbody>\n",
       "    <tr>\n",
       "      <th>90804</th>\n",
       "      <td>1</td>\n",
       "      <td>[ggga, ggac, gact, acta, ctac, taca, acag, cag...</td>\n",
       "    </tr>\n",
       "    <tr>\n",
       "      <th>37929</th>\n",
       "      <td>1</td>\n",
       "      <td>[cgac, gaca, acat, catt, attg, ttgc, tgcg, gcg...</td>\n",
       "    </tr>\n",
       "    <tr>\n",
       "      <th>100581</th>\n",
       "      <td>1</td>\n",
       "      <td>[aaat, aatg, atgc, tgca, gcag, cagc, agct, gct...</td>\n",
       "    </tr>\n",
       "    <tr>\n",
       "      <th>47731</th>\n",
       "      <td>1</td>\n",
       "      <td>[ggaa, gaaa, aaaa, aaac, aaca, acag, cagg, agg...</td>\n",
       "    </tr>\n",
       "    <tr>\n",
       "      <th>29092</th>\n",
       "      <td>0</td>\n",
       "      <td>[accc, cccg, ccgc, cgcc, gccc, cccc, cccg, ccg...</td>\n",
       "    </tr>\n",
       "  </tbody>\n",
       "</table>\n",
       "</div>"
      ],
      "text/plain": [
       "        Class                                              words\n",
       "90804       1  [ggga, ggac, gact, acta, ctac, taca, acag, cag...\n",
       "37929       1  [cgac, gaca, acat, catt, attg, ttgc, tgcg, gcg...\n",
       "100581      1  [aaat, aatg, atgc, tgca, gcag, cagc, agct, gct...\n",
       "47731       1  [ggaa, gaaa, aaaa, aaac, aaca, acag, cagg, agg...\n",
       "29092       0  [accc, cccg, ccgc, cgcc, gccc, cccc, cccg, ccg..."
      ]
     },
     "execution_count": 18,
     "metadata": {},
     "output_type": "execute_result"
    }
   ],
   "source": [
    "df.head()"
   ]
  },
  {
   "cell_type": "code",
   "execution_count": 19,
   "metadata": {},
   "outputs": [
    {
     "data": {
      "text/plain": [
       "154801"
      ]
     },
     "execution_count": 19,
     "metadata": {},
     "output_type": "execute_result"
    }
   ],
   "source": [
    "len(df)"
   ]
  },
  {
   "cell_type": "code",
   "execution_count": 20,
   "metadata": {},
   "outputs": [],
   "source": [
    "df_texts = list(df['words'])\n",
    "for item in range(len(df_texts)):\n",
    "    df_texts[item] = ' '.join(df_texts[item])\n",
    "y_h = df.iloc[:, 0].values               "
   ]
  },
  {
   "cell_type": "code",
   "execution_count": 21,
   "metadata": {},
   "outputs": [
    {
     "data": {
      "text/plain": [
       "'ggga ggac gact acta ctac taca acag cagg aggc ggca gcac cacc accc cccg ccgc cgcc gccg ccgc cgcc gcca ccac cacg acgc cgcc gccc cccg ccgg cggc ggct gcta ctaa taat aatt attt tttt tttt tttt tttt tttg ttgt tgta gtat tatt attt tttt tttt ttta ttag tagt agta gtag taga agag gaga agac gacg acgg cggg gggg gggg ggga ggat gatc atcc tccg ccgc cgcc gccc cccg ccgc cgcc gcct cctc ctcg tcgg cggc ggcc gcct cctc ctcc tccc ccca ccaa caaa aaag aagt agtg gtgc tgct gctg ctgg tggg ggga ggat gatt atta ttat tata atag tagg aggc ggcg gcgt cgtg gtga tgag gagc agcc gcct cctt cttc ttct tctt ctta ttaa taaa aaag aaga agag gagt agtg'"
      ]
     },
     "execution_count": 21,
     "metadata": {},
     "output_type": "execute_result"
    }
   ],
   "source": [
    "df_texts[0]"
   ]
  },
  {
   "cell_type": "code",
   "execution_count": 22,
   "metadata": {},
   "outputs": [
    {
     "data": {
      "text/plain": [
       "'cgac gaca acat catt attg ttgc tgcg gcgc cgcg gcgc cgcc gcca ccat catg atgg tgga ggag gagt agtc gtcc tcca ccag cagg agga ggag gagg aggt ggtt gttc ttct tctt cttg ttgg tggt ggtg gtgg tggc ggcg gcgc cgcc gccg ccgc cgct gctc ctct tctc ctcc tccg ccgc cgcg gcga cgaa gaag aagc agct gctg ctgc tgcc gcca ccaa caag aagg aggc ggcg gcgt cgtg gtgg tgga ggag gagg aggt ggtt gttc ttct tctg ctga tgag gagg agga ggag gagt agtg gtgc tgcg gcgg cggt ggtc gtcg tcgc cgct gcta ctaa taag aagc agca gcac caca acag cagc agcc gcca ccag cagg aggt ggta gtag taga agag gagc agcc gccg ccgc cgca gcac cacc acca ccac cacc acct cctc ctcc'"
      ]
     },
     "execution_count": 22,
     "metadata": {},
     "output_type": "execute_result"
    }
   ],
   "source": [
    "df_texts[1]"
   ]
  },
  {
   "cell_type": "code",
   "execution_count": 23,
   "metadata": {},
   "outputs": [
    {
     "data": {
      "text/html": [
       "<div>\n",
       "<style scoped>\n",
       "    .dataframe tbody tr th:only-of-type {\n",
       "        vertical-align: middle;\n",
       "    }\n",
       "\n",
       "    .dataframe tbody tr th {\n",
       "        vertical-align: top;\n",
       "    }\n",
       "\n",
       "    .dataframe thead th {\n",
       "        text-align: right;\n",
       "    }\n",
       "</style>\n",
       "<table border=\"1\" class=\"dataframe\">\n",
       "  <thead>\n",
       "    <tr style=\"text-align: right;\">\n",
       "      <th></th>\n",
       "      <th>Class</th>\n",
       "      <th>words</th>\n",
       "    </tr>\n",
       "  </thead>\n",
       "  <tbody>\n",
       "    <tr>\n",
       "      <th>90804</th>\n",
       "      <td>1</td>\n",
       "      <td>[ggga, ggac, gact, acta, ctac, taca, acag, cag...</td>\n",
       "    </tr>\n",
       "    <tr>\n",
       "      <th>37929</th>\n",
       "      <td>1</td>\n",
       "      <td>[cgac, gaca, acat, catt, attg, ttgc, tgcg, gcg...</td>\n",
       "    </tr>\n",
       "    <tr>\n",
       "      <th>100581</th>\n",
       "      <td>1</td>\n",
       "      <td>[aaat, aatg, atgc, tgca, gcag, cagc, agct, gct...</td>\n",
       "    </tr>\n",
       "    <tr>\n",
       "      <th>47731</th>\n",
       "      <td>1</td>\n",
       "      <td>[ggaa, gaaa, aaaa, aaac, aaca, acag, cagg, agg...</td>\n",
       "    </tr>\n",
       "    <tr>\n",
       "      <th>29092</th>\n",
       "      <td>0</td>\n",
       "      <td>[accc, cccg, ccgc, cgcc, gccc, cccc, cccg, ccg...</td>\n",
       "    </tr>\n",
       "  </tbody>\n",
       "</table>\n",
       "</div>"
      ],
      "text/plain": [
       "        Class                                              words\n",
       "90804       1  [ggga, ggac, gact, acta, ctac, taca, acag, cag...\n",
       "37929       1  [cgac, gaca, acat, catt, attg, ttgc, tgcg, gcg...\n",
       "100581      1  [aaat, aatg, atgc, tgca, gcag, cagc, agct, gct...\n",
       "47731       1  [ggaa, gaaa, aaaa, aaac, aaca, acag, cagg, agg...\n",
       "29092       0  [accc, cccg, ccgc, cgcc, gccc, cccc, cccg, ccg..."
      ]
     },
     "execution_count": 23,
     "metadata": {},
     "output_type": "execute_result"
    }
   ],
   "source": [
    "df.head()"
   ]
  },
  {
   "cell_type": "code",
   "execution_count": 24,
   "metadata": {},
   "outputs": [
    {
     "data": {
      "text/plain": [
       "array([1, 1, 1, ..., 0, 1, 1])"
      ]
     },
     "execution_count": 24,
     "metadata": {},
     "output_type": "execute_result"
    }
   ],
   "source": [
    "y_h"
   ]
  },
  {
   "cell_type": "code",
   "execution_count": 25,
   "metadata": {},
   "outputs": [
    {
     "data": {
      "text/plain": [
       "154801"
      ]
     },
     "execution_count": 25,
     "metadata": {},
     "output_type": "execute_result"
    }
   ],
   "source": [
    "len(y_h)"
   ]
  },
  {
   "cell_type": "code",
   "execution_count": 26,
   "metadata": {},
   "outputs": [],
   "source": [
    "# Creating the Bag of Words model using CountVectorizer()\n",
    "# This is equivalent to k-mer counting\n",
    "# The n-gram size of 4 was previously determined by testing\n",
    "from sklearn.feature_extraction.text import CountVectorizer\n",
    "cv = CountVectorizer(ngram_range=(4,4))\n",
    "X = cv.fit_transform(df_texts)"
   ]
  },
  {
   "cell_type": "code",
   "execution_count": 27,
   "metadata": {},
   "outputs": [
    {
     "name": "stdout",
     "output_type": "stream",
     "text": [
      "(154801, 16384)\n"
     ]
    }
   ],
   "source": [
    "print(X.shape)\n"
   ]
  },
  {
   "cell_type": "code",
   "execution_count": 28,
   "metadata": {},
   "outputs": [
    {
     "data": {
      "text/plain": [
       "<matplotlib.axes._subplots.AxesSubplot at 0x7f33bf26e9b0>"
      ]
     },
     "execution_count": 28,
     "metadata": {},
     "output_type": "execute_result"
    },
    {
     "data": {
      "image/png": "[encoded data removed]",
      "text/plain": [
       "<Figure size 432x288 with 1 Axes>"
      ]
     },
     "metadata": {},
     "output_type": "display_data"
    }
   ],
   "source": [
    "df['Class'].value_counts().sort_index().plot.bar()\n",
    "    \n",
    "    "
   ]
  },
  {
   "cell_type": "code",
   "execution_count": 29,
   "metadata": {},
   "outputs": [],
   "source": [
    "# Splitting the human dataset into the training set and test set\n",
    "from sklearn.model_selection import train_test_split\n",
    "X_train, X_test, y_train, y_test = train_test_split(X, \n",
    "                                                    y_h, \n",
    "                                                    test_size = 0.40, \n",
    "                                                    random_state=1)"
   ]
  },
  {
   "cell_type": "code",
   "execution_count": 30,
   "metadata": {},
   "outputs": [
    {
     "name": "stdout",
     "output_type": "stream",
     "text": [
      "(92880, 16384)\n",
      "(61921, 16384)\n"
     ]
    }
   ],
   "source": [
    "print(X_train.shape)\n",
    "print(X_test.shape)"
   ]
  },
  {
   "cell_type": "code",
   "execution_count": 31,
   "metadata": {},
   "outputs": [
    {
     "data": {
      "text/plain": [
       "array([1, 0, 1, ..., 1, 0, 0])"
      ]
     },
     "execution_count": 31,
     "metadata": {},
     "output_type": "execute_result"
    }
   ],
   "source": [
    "y_test"
   ]
  },
  {
   "cell_type": "markdown",
   "metadata": {},
   "source": [
    "# Naive Bayes"
   ]
  },
  {
   "cell_type": "code",
   "execution_count": 32,
   "metadata": {},
   "outputs": [
    {
     "data": {
      "text/plain": [
       "MultinomialNB(alpha=0.1, class_prior=None, fit_prior=True)"
      ]
     },
     "execution_count": 32,
     "metadata": {},
     "output_type": "execute_result"
    }
   ],
   "source": [
    "### Multinomial Naive Bayes Classifier ###\n",
    "# The alpha parameter was determined by grid search previously\n",
    "from sklearn.naive_bayes import MultinomialNB\n",
    "classifier = MultinomialNB(alpha=0.1)\n",
    "classifier.fit(X_train, y_train)"
   ]
  },
  {
   "cell_type": "code",
   "execution_count": 33,
   "metadata": {},
   "outputs": [],
   "source": [
    "y_pred = classifier.predict(X_test)\n"
   ]
  },
  {
   "cell_type": "code",
   "execution_count": 34,
   "metadata": {},
   "outputs": [
    {
     "data": {
      "text/plain": [
       "61921"
      ]
     },
     "execution_count": 34,
     "metadata": {},
     "output_type": "execute_result"
    }
   ],
   "source": [
    "len(y_pred)"
   ]
  },
  {
   "cell_type": "code",
   "execution_count": 35,
   "metadata": {},
   "outputs": [
    {
     "data": {
      "text/plain": [
       "(1, 16384)"
      ]
     },
     "execution_count": 35,
     "metadata": {},
     "output_type": "execute_result"
    }
   ],
   "source": [
    "X_test[1].shape"
   ]
  },
  {
   "cell_type": "code",
   "execution_count": 36,
   "metadata": {},
   "outputs": [
    {
     "name": "stdout",
     "output_type": "stream",
     "text": [
      "Confusion matrix\n",
      "\n",
      "Predicted      0      1\n",
      "Actual                 \n",
      "0          15202   3039\n",
      "1           7067  36613\n",
      "accuracy = 0.837 \n",
      "precision = 0.852 \n",
      "recall = 0.837 \n",
      "f1 = 0.841\n"
     ]
    }
   ],
   "source": [
    "from sklearn.metrics import accuracy_score, f1_score, precision_score, recall_score\n",
    "print(\"Confusion matrix\\n\")\n",
    "print(pd.crosstab(pd.Series(y_test, name='Actual'), pd.Series(y_pred, name='Predicted')))\n",
    "def get_metrics(y_test, y_predicted):\n",
    "    accuracy = accuracy_score(y_test, y_predicted)\n",
    "    precision = precision_score(y_test, y_predicted, average='weighted')\n",
    "    recall = recall_score(y_test, y_predicted, average='weighted')\n",
    "    f1 = f1_score(y_test, y_predicted, average='weighted')\n",
    "    return accuracy, precision, recall, f1\n",
    "accuracy, precision, recall, f1 = get_metrics(y_test, y_pred)\n",
    "print(\"accuracy = %.3f \\nprecision = %.3f \\nrecall = %.3f \\nf1 = %.3f\" % (accuracy, precision, recall, f1))"
   ]
  },
  {
   "cell_type": "code",
   "execution_count": 37,
   "metadata": {},
   "outputs": [],
   "source": [
    "import pickle\n",
    "\n",
    "\n",
    "#file = open('MultinomialNB.pickle', 'wb')\n",
    "#pickle.dump(X, file)  #<=== Add this\n",
    "#pickle.dump(classifier, file)\n",
    "\n",
    "\n",
    "tuple_objects = (classifier, cv)\n",
    "pickle.dump(tuple_objects, open(\"tuple_model.pkl\", 'wb'))\n"
   ]
  },
  {
   "cell_type": "markdown",
   "metadata": {},
   "source": [
    "# SVM"
   ]
  },
  {
   "cell_type": "code",
   "execution_count": 49,
   "metadata": {},
   "outputs": [
    {
     "data": {
      "text/plain": [
       "SVC(C=1.0, cache_size=200, class_weight=None, coef0=0.0,\n",
       "  decision_function_shape='ovr', degree=3, gamma='auto', kernel='rbf',\n",
       "  max_iter=-1, probability=False, random_state=None, shrinking=True,\n",
       "  tol=0.001, verbose=False)"
      ]
     },
     "execution_count": 49,
     "metadata": {},
     "output_type": "execute_result"
    }
   ],
   "source": [
    "from sklearn import svm\n",
    "clf = svm.SVC()\n",
    "clf.fit(X_train, y_train)"
   ]
  },
  {
   "cell_type": "code",
   "execution_count": 50,
   "metadata": {},
   "outputs": [],
   "source": [
    "y_pred = clf.predict(X_test)"
   ]
  },
  {
   "cell_type": "code",
   "execution_count": 51,
   "metadata": {},
   "outputs": [
    {
     "data": {
      "text/plain": [
       "array([1, 0, 1, ..., 1, 1, 0])"
      ]
     },
     "execution_count": 51,
     "metadata": {},
     "output_type": "execute_result"
    }
   ],
   "source": [
    "y_pred"
   ]
  },
  {
   "cell_type": "code",
   "execution_count": 52,
   "metadata": {},
   "outputs": [
    {
     "name": "stdout",
     "output_type": "stream",
     "text": [
      "Confusion matrix\n",
      "\n",
      "Predicted     0      1\n",
      "Actual                \n",
      "0          9066   9175\n",
      "1          1233  42447\n",
      "accuracy = 0.832 \n",
      "precision = 0.839 \n",
      "recall = 0.832 \n",
      "f1 = 0.816\n"
     ]
    }
   ],
   "source": [
    "from sklearn.metrics import accuracy_score, f1_score, precision_score, recall_score\n",
    "print(\"Confusion matrix\\n\")\n",
    "print(pd.crosstab(pd.Series(y_test, name='Actual'), pd.Series(y_pred, name='Predicted')))\n",
    "def get_metrics(y_test, y_predicted):\n",
    "    accuracy = accuracy_score(y_test, y_predicted)\n",
    "    precision = precision_score(y_test, y_predicted, average='weighted')\n",
    "    recall = recall_score(y_test, y_predicted, average='weighted')\n",
    "    f1 = f1_score(y_test, y_predicted, average='weighted')\n",
    "    return accuracy, precision, recall, f1\n",
    "accuracy, precision, recall, f1 = get_metrics(y_test, y_pred)\n",
    "print(\"accuracy = %.3f \\nprecision = %.3f \\nrecall = %.3f \\nf1 = %.3f\" % (accuracy, precision, recall, f1))"
   ]
  },
  {
   "cell_type": "markdown",
   "metadata": {},
   "source": [
    "# Neural Network"
   ]
  },
  {
   "cell_type": "code",
   "execution_count": 38,
   "metadata": {},
   "outputs": [
    {
     "data": {
      "text/plain": [
       "MLPClassifier(activation='relu', alpha=1e-05, batch_size='auto', beta_1=0.9,\n",
       "       beta_2=0.999, early_stopping=False, epsilon=1e-08,\n",
       "       hidden_layer_sizes=(5, 2), learning_rate='constant',\n",
       "       learning_rate_init=0.001, max_iter=200, momentum=0.9,\n",
       "       nesterovs_momentum=True, power_t=0.5, random_state=1, shuffle=True,\n",
       "       solver='lbfgs', tol=0.0001, validation_fraction=0.1, verbose=False,\n",
       "       warm_start=False)"
      ]
     },
     "execution_count": 38,
     "metadata": {},
     "output_type": "execute_result"
    }
   ],
   "source": [
    "from sklearn.neural_network import MLPClassifier\n",
    "\n",
    "NNclassifier = MLPClassifier(solver='lbfgs', alpha=1e-5,\n",
    "                     hidden_layer_sizes=(5, 2), random_state=1)\n",
    "\n",
    "NNclassifier.fit(X_train, y_train)                         \n"
   ]
  },
  {
   "cell_type": "code",
   "execution_count": 39,
   "metadata": {},
   "outputs": [],
   "source": [
    "y_pred = NNclassifier.predict(X_test)"
   ]
  },
  {
   "cell_type": "code",
   "execution_count": 40,
   "metadata": {},
   "outputs": [
    {
     "name": "stdout",
     "output_type": "stream",
     "text": [
      "Confusion matrix\n",
      "\n",
      "Predicted      0      1\n",
      "Actual                 \n",
      "0          14741   3500\n",
      "1           3103  40577\n",
      "accuracy = 0.893 \n",
      "precision = 0.893 \n",
      "recall = 0.893 \n",
      "f1 = 0.893\n"
     ]
    }
   ],
   "source": [
    "from sklearn.metrics import accuracy_score, f1_score, precision_score, recall_score\n",
    "print(\"Confusion matrix\\n\")\n",
    "print(pd.crosstab(pd.Series(y_test, name='Actual'), pd.Series(y_pred, name='Predicted')))\n",
    "def get_metrics(y_test, y_predicted):\n",
    "    accuracy = accuracy_score(y_test, y_predicted)\n",
    "    precision = precision_score(y_test, y_predicted, average='weighted')\n",
    "    recall = recall_score(y_test, y_predicted, average='weighted')\n",
    "    f1 = f1_score(y_test, y_predicted, average='weighted')\n",
    "    return accuracy, precision, recall, f1\n",
    "accuracy, precision, recall, f1 = get_metrics(y_test, y_pred)\n",
    "print(\"accuracy = %.3f \\nprecision = %.3f \\nrecall = %.3f \\nf1 = %.3f\" % (accuracy, precision, recall, f1))"
   ]
  },
  {
   "cell_type": "code",
   "execution_count": 41,
   "metadata": {},
   "outputs": [
    {
     "data": {
      "text/plain": [
       "array([1, 0, 1, ..., 1, 1, 0])"
      ]
     },
     "execution_count": 41,
     "metadata": {},
     "output_type": "execute_result"
    }
   ],
   "source": [
    "y_pred"
   ]
  },
  {
   "cell_type": "markdown",
   "metadata": {},
   "source": [
    "# Random Forest Classifier"
   ]
  },
  {
   "cell_type": "code",
   "execution_count": 42,
   "metadata": {},
   "outputs": [
    {
     "name": "stderr",
     "output_type": "stream",
     "text": [
      "/home/ubuntu/anaconda3/lib/python3.6/site-packages/sklearn/ensemble/weight_boosting.py:29: DeprecationWarning: numpy.core.umath_tests is an internal NumPy module and should not be imported. It will be removed in a future NumPy release.\n",
      "  from numpy.core.umath_tests import inner1d\n"
     ]
    },
    {
     "data": {
      "text/plain": [
       "RandomForestClassifier(bootstrap=True, class_weight=None, criterion='gini',\n",
       "            max_depth=2, max_features='auto', max_leaf_nodes=None,\n",
       "            min_impurity_decrease=0.0, min_impurity_split=None,\n",
       "            min_samples_leaf=1, min_samples_split=2,\n",
       "            min_weight_fraction_leaf=0.0, n_estimators=100, n_jobs=1,\n",
       "            oob_score=False, random_state=0, verbose=0, warm_start=False)"
      ]
     },
     "execution_count": 42,
     "metadata": {},
     "output_type": "execute_result"
    }
   ],
   "source": [
    "from sklearn.ensemble import RandomForestClassifier\n",
    "\n",
    "RFC = RandomForestClassifier(n_estimators=100, max_depth=2,\n",
    "                              random_state=0)\n",
    "RFC.fit(X_train, y_train)                         \n"
   ]
  },
  {
   "cell_type": "code",
   "execution_count": 43,
   "metadata": {},
   "outputs": [],
   "source": [
    "y_pred = RFC.predict(X_test)"
   ]
  },
  {
   "cell_type": "markdown",
   "metadata": {},
   "source": [
    "from sklearn.metrics import accuracy_score, f1_score, precision_score, recall_score\n",
    "print(\"Confusion matrix\\n\")\n",
    "print(pd.crosstab(pd.Series(y_test, name='Actual'), pd.Series(y_pred, name='Predicted')))\n",
    "def get_metrics(y_test, y_predicted):\n",
    "    accuracy = accuracy_score(y_test, y_predicted)\n",
    "    precision = precision_score(y_test, y_predicted, average='weighted')\n",
    "    recall = recall_score(y_test, y_predicted, average='weighted')\n",
    "    f1 = f1_score(y_test, y_predicted, average='weighted')\n",
    "    return accuracy, precision, recall, f1\n",
    "accuracy, precision, recall, f1 = get_metrics(y_test, y_pred)\n",
    "print(\"accuracy = %.3f \\nprecision = %.3f \\nrecall = %.3f \\nf1 = %.3f\" % (accuracy, precision, recall, f1))"
   ]
  },
  {
   "cell_type": "markdown",
   "metadata": {},
   "source": [
    "# Decision Tree"
   ]
  },
  {
   "cell_type": "code",
   "execution_count": 45,
   "metadata": {},
   "outputs": [],
   "source": [
    "from sklearn import tree\n",
    "clf = tree.DecisionTreeClassifier()\n",
    "clf = clf.fit(X_train, y_train)\n"
   ]
  },
  {
   "cell_type": "code",
   "execution_count": 46,
   "metadata": {},
   "outputs": [],
   "source": [
    "y_pred = clf.predict(X_test)"
   ]
  },
  {
   "cell_type": "code",
   "execution_count": 47,
   "metadata": {},
   "outputs": [
    {
     "name": "stdout",
     "output_type": "stream",
     "text": [
      "Confusion matrix\n",
      "\n",
      "Predicted      0      1\n",
      "Actual                 \n",
      "0          14392   3849\n",
      "1           3017  40663\n",
      "accuracy = 0.889 \n",
      "precision = 0.888 \n",
      "recall = 0.889 \n",
      "f1 = 0.888\n"
     ]
    }
   ],
   "source": [
    "from sklearn.metrics import accuracy_score, f1_score, precision_score, recall_score\n",
    "print(\"Confusion matrix\\n\")\n",
    "print(pd.crosstab(pd.Series(y_test, name='Actual'), pd.Series(y_pred, name='Predicted')))\n",
    "def get_metrics(y_test, y_predicted):\n",
    "    accuracy = accuracy_score(y_test, y_predicted)\n",
    "    precision = precision_score(y_test, y_predicted, average='weighted')\n",
    "    recall = recall_score(y_test, y_predicted, average='weighted')\n",
    "    f1 = f1_score(y_test, y_predicted, average='weighted')\n",
    "    return accuracy, precision, recall, f1\n",
    "accuracy, precision, recall, f1 = get_metrics(y_test, y_pred)\n",
    "print(\"accuracy = %.3f \\nprecision = %.3f \\nrecall = %.3f \\nf1 = %.3f\" % (accuracy, precision, recall, f1))"
   ]
  },
  {
   "cell_type": "code",
   "execution_count": 48,
   "metadata": {},
   "outputs": [],
   "source": [
    "import pickle\n",
    "\n",
    "\n",
    "#file = open('MultinomialNB.pickle', 'wb')\n",
    "#pickle.dump(X, file)  #<=== Add this\n",
    "#pickle.dump(classifier, file)\n",
    "\n",
    "\n",
    "tuple_objects = (clf, cv)\n",
    "pickle.dump(tuple_objects, open(\"tuple_model.pkl\", 'wb'))\n"
   ]
  },
  {
   "cell_type": "code",
   "execution_count": null,
   "metadata": {},
   "outputs": [],
   "source": []
  },
  {
   "cell_type": "code",
   "execution_count": null,
   "metadata": {},
   "outputs": [],
   "source": []
  },
  {
   "cell_type": "code",
   "execution_count": null,
   "metadata": {},
   "outputs": [],
   "source": []
  },
  {
   "cell_type": "code",
   "execution_count": null,
   "metadata": {},
   "outputs": [],
   "source": []
  },
  {
   "cell_type": "code",
   "execution_count": null,
   "metadata": {},
   "outputs": [],
   "source": []
  },
  {
   "cell_type": "code",
   "execution_count": null,
   "metadata": {},
   "outputs": [],
   "source": []
  }
 ],
 "metadata": {
  "kernelspec": {
   "display_name": "Python 3",
   "language": "python",
   "name": "python3"
  },
  "language_info": {
   "codemirror_mode": {
    "name": "ipython",
    "version": 3
   },
   "file_extension": ".py",
   "mimetype": "text/x-python",
   "name": "python",
   "nbconvert_exporter": "python",
   "pygments_lexer": "ipython3",
   "version": "3.6.5"
  }
 },
 "nbformat": 4,
 "nbformat_minor": 2
}
