{
 "cells": [
  {
   "cell_type": "code",
   "execution_count": 1,
   "metadata": {},
   "outputs": [],
   "source": [
    "def readFasta(filename):\n",
    "    sequences = []\n",
    "    \n",
    "    with open(filename) as fh:\n",
    "        while True:\n",
    "            fh.readline()\n",
    "            seq = fh.readline().rstrip()\n",
    "            if len(seq) == 0:\n",
    "                break\n",
    "            sequences.append(seq)\n",
    "            \n",
    "        return sequences"
   ]
  },
  {
   "cell_type": "code",
   "execution_count": 2,
   "metadata": {},
   "outputs": [],
   "source": [
    "def readFastq(filename):\n",
    "    sequences = []\n",
    "    \n",
    "    with open(filename) as fh:\n",
    "        while True:\n",
    "            fh.readline()\n",
    "            seq = fh.readline().rstrip()\n",
    "            fh.readline()\n",
    "            fh.readline()\n",
    "            if len(seq) == 0:\n",
    "                break\n",
    "            sequences.append(seq)\n",
    "            \n",
    "        return sequences"
   ]
  },
  {
   "cell_type": "code",
   "execution_count": 3,
   "metadata": {},
   "outputs": [],
   "source": [
    "seqs = readFastq('SRR8483185-Copy1.trimmed.fastq')\n",
    "seqs= [i.replace('N', '') for i in seqs]"
   ]
  },
  {
   "cell_type": "code",
   "execution_count": 4,
   "metadata": {},
   "outputs": [],
   "source": [
    "import pandas as pd\n",
    "\n",
    "newDf = pd.DataFrame()\n",
    "number = 1\n",
    "elements = 109138\n",
    "\n",
    "thelist = [number] * elements\n",
    "\n",
    "#newDf.assign(sequence=seqs)\n",
    "newDf['sequence'] = seqs\n",
    "\n",
    "newDf['Class'] = thelist\n"
   ]
  },
  {
   "cell_type": "code",
   "execution_count": 5,
   "metadata": {},
   "outputs": [
    {
     "data": {
      "text/html": [
       "<div>\n",
       "<style scoped>\n",
       "    .dataframe tbody tr th:only-of-type {\n",
       "        vertical-align: middle;\n",
       "    }\n",
       "\n",
       "    .dataframe tbody tr th {\n",
       "        vertical-align: top;\n",
       "    }\n",
       "\n",
       "    .dataframe thead th {\n",
       "        text-align: right;\n",
       "    }\n",
       "</style>\n",
       "<table border=\"1\" class=\"dataframe\">\n",
       "  <thead>\n",
       "    <tr style=\"text-align: right;\">\n",
       "      <th></th>\n",
       "      <th>sequence</th>\n",
       "      <th>Class</th>\n",
       "    </tr>\n",
       "  </thead>\n",
       "  <tbody>\n",
       "    <tr>\n",
       "      <th>0</th>\n",
       "      <td>TTAGTCGAAGAGCAGGAAAATGAAAGAATGACAACAAAAAAGAATA...</td>\n",
       "      <td>1</td>\n",
       "    </tr>\n",
       "    <tr>\n",
       "      <th>1</th>\n",
       "      <td>GCCAGATGTGGTGGCTCACATCTGTAATCCAGCACTTTCAGAGGCT...</td>\n",
       "      <td>1</td>\n",
       "    </tr>\n",
       "    <tr>\n",
       "      <th>2</th>\n",
       "      <td>ACCTATAATCCCAGCACTTTGGGAGGCTGAGGTGAGTGGATCAGGA...</td>\n",
       "      <td>1</td>\n",
       "    </tr>\n",
       "    <tr>\n",
       "      <th>3</th>\n",
       "      <td>CTTGTCACACAGGCTGGCACCTTTGCCCAGAGCAGGCACCAAGACT...</td>\n",
       "      <td>1</td>\n",
       "    </tr>\n",
       "    <tr>\n",
       "      <th>4</th>\n",
       "      <td>CTAAGAGTATAAAAAGTTCAGGCGACCTCCAGGGGCTTTTGCCTAC...</td>\n",
       "      <td>1</td>\n",
       "    </tr>\n",
       "    <tr>\n",
       "      <th>5</th>\n",
       "      <td>TAAGAATACAAAAATTAGCTGGGCGTGGTGATGGGCATCTGTAATC...</td>\n",
       "      <td>1</td>\n",
       "    </tr>\n",
       "    <tr>\n",
       "      <th>6</th>\n",
       "      <td>CCTGCCCAAACAGGACAGGCAGGAAAAACTGGCTTGGTTCTGAGTA...</td>\n",
       "      <td>1</td>\n",
       "    </tr>\n",
       "    <tr>\n",
       "      <th>7</th>\n",
       "      <td>GAGAGGAGATGCCCAGGCCTGGCGGCCGGCGCACGCGGGTTCTCTG...</td>\n",
       "      <td>1</td>\n",
       "    </tr>\n",
       "    <tr>\n",
       "      <th>8</th>\n",
       "      <td>CATGGTGATAATTGGGCTCATGAACCCATGACCTCAGCTTCATCAG...</td>\n",
       "      <td>1</td>\n",
       "    </tr>\n",
       "    <tr>\n",
       "      <th>9</th>\n",
       "      <td>GAAAATCACTAATAAAAACTTGTTGGTTTTGCGGCTTGGGGGGCAT...</td>\n",
       "      <td>1</td>\n",
       "    </tr>\n",
       "    <tr>\n",
       "      <th>10</th>\n",
       "      <td>TGGAATCGAATGGAATGGAATGCAATGGAATGGAATAGAATGGAAT...</td>\n",
       "      <td>1</td>\n",
       "    </tr>\n",
       "    <tr>\n",
       "      <th>11</th>\n",
       "      <td>TGGAATGGAATGGAATTGAAAGGAATGGAATGAATCGAATGGAATG...</td>\n",
       "      <td>1</td>\n",
       "    </tr>\n",
       "    <tr>\n",
       "      <th>12</th>\n",
       "      <td>GGAATGGAATGGAATGCAATGCATTGGAACAGACTGGAATGTAATG...</td>\n",
       "      <td>1</td>\n",
       "    </tr>\n",
       "    <tr>\n",
       "      <th>13</th>\n",
       "      <td>GGTTTTTTGTAGTTTGTACTGAATCACACACCATGCTGCTTCCATG...</td>\n",
       "      <td>1</td>\n",
       "    </tr>\n",
       "    <tr>\n",
       "      <th>14</th>\n",
       "      <td>TCACGCCAGGTCCACAGAGGCACCCACGCCCGCCAAAAGGATGCCA...</td>\n",
       "      <td>1</td>\n",
       "    </tr>\n",
       "    <tr>\n",
       "      <th>15</th>\n",
       "      <td>GCGCGGCCAGGCGCCTCCCCGGCCCCCGCGACCCAACTCCAGCCCG...</td>\n",
       "      <td>1</td>\n",
       "    </tr>\n",
       "    <tr>\n",
       "      <th>16</th>\n",
       "      <td>AGCCAGGACGGCAACCTTCCCACCCTCATATCCAGCGTCCACCGCA...</td>\n",
       "      <td>1</td>\n",
       "    </tr>\n",
       "    <tr>\n",
       "      <th>17</th>\n",
       "      <td>TCCTAGGGCTCCTGGACGGAAGGGGTCCCCGGTCCCGCCTCCTAGG...</td>\n",
       "      <td>1</td>\n",
       "    </tr>\n",
       "    <tr>\n",
       "      <th>18</th>\n",
       "      <td>ATGATTTTTCCGTGTTGGTCAGGCTGGTCTCGAATTCCTGACCTCA...</td>\n",
       "      <td>1</td>\n",
       "    </tr>\n",
       "    <tr>\n",
       "      <th>19</th>\n",
       "      <td>GAACAACACTGGGCATCTTCTCACGTGTGCATTTGTTATCCATGTA...</td>\n",
       "      <td>1</td>\n",
       "    </tr>\n",
       "    <tr>\n",
       "      <th>20</th>\n",
       "      <td>GAATCGCTTGAACCCGGGAGGTAAAGGTTATGGTGAGCCAAGATCA...</td>\n",
       "      <td>1</td>\n",
       "    </tr>\n",
       "    <tr>\n",
       "      <th>21</th>\n",
       "      <td>GGGTGTGTGTTCCGCTCGCCTCTGCCGCGTGTCTGTCCCTTTCTCT...</td>\n",
       "      <td>1</td>\n",
       "    </tr>\n",
       "    <tr>\n",
       "      <th>22</th>\n",
       "      <td>GCGGGGGCTTCACCTGCAGCTGCCCGGCAGGCAGGGGAGGCGCCGT...</td>\n",
       "      <td>1</td>\n",
       "    </tr>\n",
       "    <tr>\n",
       "      <th>23</th>\n",
       "      <td>CCGGGGGCAGGGCGGCCACCCTTGCCTGTGTGGGGAAGATGAAGAA...</td>\n",
       "      <td>1</td>\n",
       "    </tr>\n",
       "    <tr>\n",
       "      <th>24</th>\n",
       "      <td>CCCCGCCCCCCCCGGGGGGGGGGGGGACCCCTGCCAGTTCCATGAG...</td>\n",
       "      <td>1</td>\n",
       "    </tr>\n",
       "    <tr>\n",
       "      <th>25</th>\n",
       "      <td>ATTCTCGGCTCACTGCAAGCTCCGCCTCCCGGGTTCACGCCATTCT...</td>\n",
       "      <td>1</td>\n",
       "    </tr>\n",
       "    <tr>\n",
       "      <th>26</th>\n",
       "      <td>ACCACAGCTTCCAAAAGTCACACTCTTCACGTTTTATTTTATTTTT...</td>\n",
       "      <td>1</td>\n",
       "    </tr>\n",
       "    <tr>\n",
       "      <th>27</th>\n",
       "      <td>GGCAACGCGAAAAGCGTCCGGGACGTGGGGCTTGTGGGGCGCCGGG...</td>\n",
       "      <td>1</td>\n",
       "    </tr>\n",
       "    <tr>\n",
       "      <th>28</th>\n",
       "      <td>CTCTCCAACCACAGCTTCCAAAAGTCACACTCTTCACGTTTTATTT...</td>\n",
       "      <td>1</td>\n",
       "    </tr>\n",
       "    <tr>\n",
       "      <th>29</th>\n",
       "      <td>GATGTCGGCTCACTGCAACCTCCGCCTCCCGGGTTCAAGCGATTCT...</td>\n",
       "      <td>1</td>\n",
       "    </tr>\n",
       "    <tr>\n",
       "      <th>...</th>\n",
       "      <td>...</td>\n",
       "      <td>...</td>\n",
       "    </tr>\n",
       "    <tr>\n",
       "      <th>109108</th>\n",
       "      <td>CTCAGATTCGGGACTGGATTCAGACGTGTGCTCTCGATCTCCACGA...</td>\n",
       "      <td>1</td>\n",
       "    </tr>\n",
       "    <tr>\n",
       "      <th>109109</th>\n",
       "      <td>TCTGCTTCTCTTGGCGTGACCTGTGGATGCTGAGAATGAGAGTAGA...</td>\n",
       "      <td>1</td>\n",
       "    </tr>\n",
       "    <tr>\n",
       "      <th>109110</th>\n",
       "      <td>CACCTCCCCAGCTGCTGCAGTGCCCCCC</td>\n",
       "      <td>1</td>\n",
       "    </tr>\n",
       "    <tr>\n",
       "      <th>109111</th>\n",
       "      <td>TCACCTTCAGGGCTCCCAGGGCCCAGGCT</td>\n",
       "      <td>1</td>\n",
       "    </tr>\n",
       "    <tr>\n",
       "      <th>109112</th>\n",
       "      <td>GGGGGTATGCCCGCTCCGGGTAGAGGGGGGG</td>\n",
       "      <td>1</td>\n",
       "    </tr>\n",
       "    <tr>\n",
       "      <th>109113</th>\n",
       "      <td>TGCTGAGGAAGTGTCGGTGACAGGAAGAGGG</td>\n",
       "      <td>1</td>\n",
       "    </tr>\n",
       "    <tr>\n",
       "      <th>109114</th>\n",
       "      <td>CTGAGGAAGTGTCGGTGACAGGAAGAGGGGG</td>\n",
       "      <td>1</td>\n",
       "    </tr>\n",
       "    <tr>\n",
       "      <th>109115</th>\n",
       "      <td>CCTGTCACCAGCCTTTCCTCAGTATCCA</td>\n",
       "      <td>1</td>\n",
       "    </tr>\n",
       "    <tr>\n",
       "      <th>109116</th>\n",
       "      <td>GTGACAGGAAGAGGGGTGGCGTGACCTGTGGA</td>\n",
       "      <td>1</td>\n",
       "    </tr>\n",
       "    <tr>\n",
       "      <th>109117</th>\n",
       "      <td>CTGAGGAAGTGTCGGTGACAGGAAGAGGGGG</td>\n",
       "      <td>1</td>\n",
       "    </tr>\n",
       "    <tr>\n",
       "      <th>109118</th>\n",
       "      <td>CCGCTTCCTGTCACCGACACTTCCTCAGC</td>\n",
       "      <td>1</td>\n",
       "    </tr>\n",
       "    <tr>\n",
       "      <th>109119</th>\n",
       "      <td>GAGAAGTGTCGGTGACAGGAAGCGGGGT</td>\n",
       "      <td>1</td>\n",
       "    </tr>\n",
       "    <tr>\n",
       "      <th>109120</th>\n",
       "      <td>CTCAGCATCCACAGGTCACGCCACCCCTCTTCCT</td>\n",
       "      <td>1</td>\n",
       "    </tr>\n",
       "    <tr>\n",
       "      <th>109121</th>\n",
       "      <td>GAGGAGTGCGTGACCTGTGGATGCTGAG</td>\n",
       "      <td>1</td>\n",
       "    </tr>\n",
       "    <tr>\n",
       "      <th>109122</th>\n",
       "      <td>AAGTGCTGGTGACAGGAAGAGGGGTGG</td>\n",
       "      <td>1</td>\n",
       "    </tr>\n",
       "    <tr>\n",
       "      <th>109123</th>\n",
       "      <td>GGTCACGCCACCTCTCTTCCTGTCACCGACAC</td>\n",
       "      <td>1</td>\n",
       "    </tr>\n",
       "    <tr>\n",
       "      <th>109124</th>\n",
       "      <td>CACAGGTCAGGCCACCCCTCTTCTGTCACC</td>\n",
       "      <td>1</td>\n",
       "    </tr>\n",
       "    <tr>\n",
       "      <th>109125</th>\n",
       "      <td>ACCAGCCTTTCCTCAGTATCCACAGGTGACACC</td>\n",
       "      <td>1</td>\n",
       "    </tr>\n",
       "    <tr>\n",
       "      <th>109126</th>\n",
       "      <td>ACAGGTCACACCACCCCTCTTCTGTCACCGA</td>\n",
       "      <td>1</td>\n",
       "    </tr>\n",
       "    <tr>\n",
       "      <th>109127</th>\n",
       "      <td>TAGCAGCAACAGCAGTGATAGCAGTGAAA</td>\n",
       "      <td>1</td>\n",
       "    </tr>\n",
       "    <tr>\n",
       "      <th>109128</th>\n",
       "      <td>TCCCTTCCTTCCCCTCTTTCCTGTGGCATCTCTTCTT</td>\n",
       "      <td>1</td>\n",
       "    </tr>\n",
       "    <tr>\n",
       "      <th>109129</th>\n",
       "      <td>ACTGCTGTTAGCTCCAGTTTACTCACCTG</td>\n",
       "      <td>1</td>\n",
       "    </tr>\n",
       "    <tr>\n",
       "      <th>109130</th>\n",
       "      <td>CTGCCCGGGCCCTCCTCCTCCTCTTCGTTC</td>\n",
       "      <td>1</td>\n",
       "    </tr>\n",
       "    <tr>\n",
       "      <th>109131</th>\n",
       "      <td>CTGCCCGGGCCCTCCTCCTCCTCTTCGTTC</td>\n",
       "      <td>1</td>\n",
       "    </tr>\n",
       "    <tr>\n",
       "      <th>109132</th>\n",
       "      <td>TGAGGGCTCTGTTCTGTTCCATTGGTC</td>\n",
       "      <td>1</td>\n",
       "    </tr>\n",
       "    <tr>\n",
       "      <th>109133</th>\n",
       "      <td>CTAAGCTGCAGGAGATCTACCAGGAGCTGACC</td>\n",
       "      <td>1</td>\n",
       "    </tr>\n",
       "    <tr>\n",
       "      <th>109134</th>\n",
       "      <td>CTAAGCTGCAGGAGATCTACCAGGAGCTGACC</td>\n",
       "      <td>1</td>\n",
       "    </tr>\n",
       "    <tr>\n",
       "      <th>109135</th>\n",
       "      <td>CAGGGTGGAGTCTGTGCAGTGATCAGTAAATCCTG</td>\n",
       "      <td>1</td>\n",
       "    </tr>\n",
       "    <tr>\n",
       "      <th>109136</th>\n",
       "      <td>CTATGTCCCCCACCCAGACTAACCCCGGCAAG</td>\n",
       "      <td>1</td>\n",
       "    </tr>\n",
       "    <tr>\n",
       "      <th>109137</th>\n",
       "      <td>CTAGACTGCACACAGCATGGGGACCCT</td>\n",
       "      <td>1</td>\n",
       "    </tr>\n",
       "  </tbody>\n",
       "</table>\n",
       "<p>109138 rows × 2 columns</p>\n",
       "</div>"
      ],
      "text/plain": [
       "                                                 sequence  Class\n",
       "0       TTAGTCGAAGAGCAGGAAAATGAAAGAATGACAACAAAAAAGAATA...      1\n",
       "1       GCCAGATGTGGTGGCTCACATCTGTAATCCAGCACTTTCAGAGGCT...      1\n",
       "2       ACCTATAATCCCAGCACTTTGGGAGGCTGAGGTGAGTGGATCAGGA...      1\n",
       "3       CTTGTCACACAGGCTGGCACCTTTGCCCAGAGCAGGCACCAAGACT...      1\n",
       "4       CTAAGAGTATAAAAAGTTCAGGCGACCTCCAGGGGCTTTTGCCTAC...      1\n",
       "5       TAAGAATACAAAAATTAGCTGGGCGTGGTGATGGGCATCTGTAATC...      1\n",
       "6       CCTGCCCAAACAGGACAGGCAGGAAAAACTGGCTTGGTTCTGAGTA...      1\n",
       "7       GAGAGGAGATGCCCAGGCCTGGCGGCCGGCGCACGCGGGTTCTCTG...      1\n",
       "8       CATGGTGATAATTGGGCTCATGAACCCATGACCTCAGCTTCATCAG...      1\n",
       "9       GAAAATCACTAATAAAAACTTGTTGGTTTTGCGGCTTGGGGGGCAT...      1\n",
       "10      TGGAATCGAATGGAATGGAATGCAATGGAATGGAATAGAATGGAAT...      1\n",
       "11      TGGAATGGAATGGAATTGAAAGGAATGGAATGAATCGAATGGAATG...      1\n",
       "12      GGAATGGAATGGAATGCAATGCATTGGAACAGACTGGAATGTAATG...      1\n",
       "13      GGTTTTTTGTAGTTTGTACTGAATCACACACCATGCTGCTTCCATG...      1\n",
       "14      TCACGCCAGGTCCACAGAGGCACCCACGCCCGCCAAAAGGATGCCA...      1\n",
       "15      GCGCGGCCAGGCGCCTCCCCGGCCCCCGCGACCCAACTCCAGCCCG...      1\n",
       "16      AGCCAGGACGGCAACCTTCCCACCCTCATATCCAGCGTCCACCGCA...      1\n",
       "17      TCCTAGGGCTCCTGGACGGAAGGGGTCCCCGGTCCCGCCTCCTAGG...      1\n",
       "18      ATGATTTTTCCGTGTTGGTCAGGCTGGTCTCGAATTCCTGACCTCA...      1\n",
       "19      GAACAACACTGGGCATCTTCTCACGTGTGCATTTGTTATCCATGTA...      1\n",
       "20      GAATCGCTTGAACCCGGGAGGTAAAGGTTATGGTGAGCCAAGATCA...      1\n",
       "21      GGGTGTGTGTTCCGCTCGCCTCTGCCGCGTGTCTGTCCCTTTCTCT...      1\n",
       "22      GCGGGGGCTTCACCTGCAGCTGCCCGGCAGGCAGGGGAGGCGCCGT...      1\n",
       "23      CCGGGGGCAGGGCGGCCACCCTTGCCTGTGTGGGGAAGATGAAGAA...      1\n",
       "24      CCCCGCCCCCCCCGGGGGGGGGGGGGACCCCTGCCAGTTCCATGAG...      1\n",
       "25      ATTCTCGGCTCACTGCAAGCTCCGCCTCCCGGGTTCACGCCATTCT...      1\n",
       "26      ACCACAGCTTCCAAAAGTCACACTCTTCACGTTTTATTTTATTTTT...      1\n",
       "27      GGCAACGCGAAAAGCGTCCGGGACGTGGGGCTTGTGGGGCGCCGGG...      1\n",
       "28      CTCTCCAACCACAGCTTCCAAAAGTCACACTCTTCACGTTTTATTT...      1\n",
       "29      GATGTCGGCTCACTGCAACCTCCGCCTCCCGGGTTCAAGCGATTCT...      1\n",
       "...                                                   ...    ...\n",
       "109108  CTCAGATTCGGGACTGGATTCAGACGTGTGCTCTCGATCTCCACGA...      1\n",
       "109109  TCTGCTTCTCTTGGCGTGACCTGTGGATGCTGAGAATGAGAGTAGA...      1\n",
       "109110                       CACCTCCCCAGCTGCTGCAGTGCCCCCC      1\n",
       "109111                      TCACCTTCAGGGCTCCCAGGGCCCAGGCT      1\n",
       "109112                    GGGGGTATGCCCGCTCCGGGTAGAGGGGGGG      1\n",
       "109113                    TGCTGAGGAAGTGTCGGTGACAGGAAGAGGG      1\n",
       "109114                    CTGAGGAAGTGTCGGTGACAGGAAGAGGGGG      1\n",
       "109115                       CCTGTCACCAGCCTTTCCTCAGTATCCA      1\n",
       "109116                   GTGACAGGAAGAGGGGTGGCGTGACCTGTGGA      1\n",
       "109117                    CTGAGGAAGTGTCGGTGACAGGAAGAGGGGG      1\n",
       "109118                      CCGCTTCCTGTCACCGACACTTCCTCAGC      1\n",
       "109119                       GAGAAGTGTCGGTGACAGGAAGCGGGGT      1\n",
       "109120                 CTCAGCATCCACAGGTCACGCCACCCCTCTTCCT      1\n",
       "109121                       GAGGAGTGCGTGACCTGTGGATGCTGAG      1\n",
       "109122                        AAGTGCTGGTGACAGGAAGAGGGGTGG      1\n",
       "109123                   GGTCACGCCACCTCTCTTCCTGTCACCGACAC      1\n",
       "109124                     CACAGGTCAGGCCACCCCTCTTCTGTCACC      1\n",
       "109125                  ACCAGCCTTTCCTCAGTATCCACAGGTGACACC      1\n",
       "109126                    ACAGGTCACACCACCCCTCTTCTGTCACCGA      1\n",
       "109127                      TAGCAGCAACAGCAGTGATAGCAGTGAAA      1\n",
       "109128              TCCCTTCCTTCCCCTCTTTCCTGTGGCATCTCTTCTT      1\n",
       "109129                      ACTGCTGTTAGCTCCAGTTTACTCACCTG      1\n",
       "109130                     CTGCCCGGGCCCTCCTCCTCCTCTTCGTTC      1\n",
       "109131                     CTGCCCGGGCCCTCCTCCTCCTCTTCGTTC      1\n",
       "109132                        TGAGGGCTCTGTTCTGTTCCATTGGTC      1\n",
       "109133                   CTAAGCTGCAGGAGATCTACCAGGAGCTGACC      1\n",
       "109134                   CTAAGCTGCAGGAGATCTACCAGGAGCTGACC      1\n",
       "109135                CAGGGTGGAGTCTGTGCAGTGATCAGTAAATCCTG      1\n",
       "109136                   CTATGTCCCCCACCCAGACTAACCCCGGCAAG      1\n",
       "109137                        CTAGACTGCACACAGCATGGGGACCCT      1\n",
       "\n",
       "[109138 rows x 2 columns]"
      ]
     },
     "execution_count": 5,
     "metadata": {},
     "output_type": "execute_result"
    }
   ],
   "source": [
    "newDf"
   ]
  },
  {
   "cell_type": "code",
   "execution_count": 6,
   "metadata": {},
   "outputs": [],
   "source": [
    "seqs = readFasta('class1_1.fasta') "
   ]
  },
  {
   "cell_type": "code",
   "execution_count": 7,
   "metadata": {},
   "outputs": [],
   "source": [
    "class1_1 =  ''.join(seqs)\n"
   ]
  },
  {
   "cell_type": "code",
   "execution_count": 8,
   "metadata": {},
   "outputs": [],
   "source": [
    "seqs = readFasta('class1_2.fasta') "
   ]
  },
  {
   "cell_type": "code",
   "execution_count": 9,
   "metadata": {},
   "outputs": [],
   "source": [
    "class1_2 =  ''.join(seqs)\n"
   ]
  },
  {
   "cell_type": "code",
   "execution_count": 10,
   "metadata": {},
   "outputs": [],
   "source": [
    "seqs = readFasta('class1_3.fasta') "
   ]
  },
  {
   "cell_type": "code",
   "execution_count": 11,
   "metadata": {},
   "outputs": [],
   "source": [
    "class1_3 =  ''.join(seqs)"
   ]
  },
  {
   "cell_type": "code",
   "execution_count": 12,
   "metadata": {},
   "outputs": [],
   "source": [
    "seqs = readFasta('class1_4.fasta') "
   ]
  },
  {
   "cell_type": "code",
   "execution_count": 13,
   "metadata": {},
   "outputs": [],
   "source": [
    "class1_4 =  ''.join(seqs)"
   ]
  },
  {
   "cell_type": "code",
   "execution_count": 14,
   "metadata": {},
   "outputs": [],
   "source": [
    "seqs = readFasta('class1_5.fasta') "
   ]
  },
  {
   "cell_type": "code",
   "execution_count": 15,
   "metadata": {},
   "outputs": [],
   "source": [
    "class1_5 =  ''.join(seqs)"
   ]
  },
  {
   "cell_type": "code",
   "execution_count": 16,
   "metadata": {},
   "outputs": [],
   "source": [
    "seqs = readFasta('class1_6.fasta') "
   ]
  },
  {
   "cell_type": "code",
   "execution_count": 17,
   "metadata": {},
   "outputs": [],
   "source": [
    "class1_6 =  ''.join(seqs)"
   ]
  },
  {
   "cell_type": "code",
   "execution_count": 18,
   "metadata": {},
   "outputs": [],
   "source": [
    "seqs = readFasta('class1_7.fasta') "
   ]
  },
  {
   "cell_type": "code",
   "execution_count": 19,
   "metadata": {},
   "outputs": [],
   "source": [
    "class1_7 =  ''.join(seqs)"
   ]
  },
  {
   "cell_type": "code",
   "execution_count": 20,
   "metadata": {},
   "outputs": [],
   "source": [
    "seqs = readFasta('class1_8.fasta') "
   ]
  },
  {
   "cell_type": "code",
   "execution_count": 21,
   "metadata": {},
   "outputs": [],
   "source": [
    "class1_8 =  ''.join(seqs)"
   ]
  },
  {
   "cell_type": "code",
   "execution_count": 22,
   "metadata": {},
   "outputs": [],
   "source": [
    "seqs = readFasta('class1_9.fasta') "
   ]
  },
  {
   "cell_type": "code",
   "execution_count": 23,
   "metadata": {},
   "outputs": [],
   "source": [
    "class1_9 =  ''.join(seqs)"
   ]
  },
  {
   "cell_type": "code",
   "execution_count": 24,
   "metadata": {},
   "outputs": [],
   "source": [
    "seqs = readFasta('class1_10.fasta') "
   ]
  },
  {
   "cell_type": "code",
   "execution_count": 25,
   "metadata": {},
   "outputs": [],
   "source": [
    "class1_10 =  ''.join(seqs)"
   ]
  },
  {
   "cell_type": "code",
   "execution_count": 26,
   "metadata": {},
   "outputs": [],
   "source": [
    "seqs = readFasta('class2_1.fasta') "
   ]
  },
  {
   "cell_type": "code",
   "execution_count": 27,
   "metadata": {},
   "outputs": [],
   "source": [
    "class2_1 =  ''.join(seqs)"
   ]
  },
  {
   "cell_type": "code",
   "execution_count": 28,
   "metadata": {},
   "outputs": [],
   "source": [
    "seqs = readFasta('class2_2.fasta') "
   ]
  },
  {
   "cell_type": "code",
   "execution_count": 29,
   "metadata": {},
   "outputs": [],
   "source": [
    "class2_2 =  ''.join(seqs)"
   ]
  },
  {
   "cell_type": "code",
   "execution_count": 30,
   "metadata": {},
   "outputs": [],
   "source": [
    "seqs = readFasta('class2_4.fasta') "
   ]
  },
  {
   "cell_type": "code",
   "execution_count": 31,
   "metadata": {},
   "outputs": [],
   "source": [
    "class2_4 =  ''.join(seqs)"
   ]
  },
  {
   "cell_type": "code",
   "execution_count": 32,
   "metadata": {},
   "outputs": [],
   "source": [
    "seqs = readFasta('class2_5.fasta') "
   ]
  },
  {
   "cell_type": "code",
   "execution_count": 33,
   "metadata": {},
   "outputs": [],
   "source": [
    "class2_5 =  ''.join(seqs)"
   ]
  },
  {
   "cell_type": "code",
   "execution_count": 34,
   "metadata": {},
   "outputs": [],
   "source": [
    "seqs = readFasta('class2_6.fasta') "
   ]
  },
  {
   "cell_type": "code",
   "execution_count": 35,
   "metadata": {},
   "outputs": [],
   "source": [
    "class2_6 =  ''.join(seqs)"
   ]
  },
  {
   "cell_type": "code",
   "execution_count": 36,
   "metadata": {},
   "outputs": [],
   "source": [
    "seqs = readFasta('class2_7.fasta') "
   ]
  },
  {
   "cell_type": "code",
   "execution_count": 37,
   "metadata": {},
   "outputs": [],
   "source": [
    "class2_7 =  ''.join(seqs)"
   ]
  },
  {
   "cell_type": "code",
   "execution_count": 38,
   "metadata": {},
   "outputs": [],
   "source": [
    "seqs = readFasta('class2_8.fasta') "
   ]
  },
  {
   "cell_type": "code",
   "execution_count": 39,
   "metadata": {},
   "outputs": [],
   "source": [
    "class2_8 =  ''.join(seqs)"
   ]
  },
  {
   "cell_type": "code",
   "execution_count": 40,
   "metadata": {},
   "outputs": [],
   "source": [
    "seqs = readFasta('class2_9.fasta') "
   ]
  },
  {
   "cell_type": "code",
   "execution_count": 41,
   "metadata": {},
   "outputs": [],
   "source": [
    "class2_9 =  ''.join(seqs)"
   ]
  },
  {
   "cell_type": "code",
   "execution_count": 42,
   "metadata": {},
   "outputs": [],
   "source": [
    "seqs = readFasta('class2_10.fasta') "
   ]
  },
  {
   "cell_type": "code",
   "execution_count": 43,
   "metadata": {},
   "outputs": [],
   "source": [
    "class2_10 =  ''.join(seqs)"
   ]
  },
  {
   "cell_type": "code",
   "execution_count": 44,
   "metadata": {},
   "outputs": [],
   "source": [
    "seqs = readFasta('class2_11.fasta') "
   ]
  },
  {
   "cell_type": "code",
   "execution_count": 45,
   "metadata": {},
   "outputs": [],
   "source": [
    "class2_11 =  ''.join(seqs)"
   ]
  },
  {
   "cell_type": "code",
   "execution_count": 46,
   "metadata": {},
   "outputs": [
    {
     "data": {
      "text/plain": [
       "['AATCTAAAAGTAAATCTGAAAGAGCTAACATACAGTTAGCAGCGACAAAAAAAACTCAGT',\n",
       " 'TTCACTTCAGCAAATTTTTAGATCCAGACTTTCAGCCATCTTGTTCTGAGGTGGACCTAA',\n",
       " 'ACGAATGTTACAATTTACTGGCAATAAAGTTTTGGATAGACCTTAATGAGGACATTATTA',\n",
       " 'TTCTTACTTTATTTGCTGGAGATTTTTCTGTGTTTTCTGCTAGTCCAAAAGAGGGCCACT',\n",
       " 'CCCCAGGCTGGAGTACAATAGCACAATCTCGGATCACTGCAGTGTCTGCCTCCTGGGCTC',\n",
       " 'GCAATGAAGCAGAAAACAAGCTTATGCATATACTGCATGCAAATGATCCCAAGTGGTCCA',\n",
       " 'ACAAGCTTCTGATGTCTTCTCCTAATTGTGAGATATATTATCAAAGTCCTTTATCACTTT',\n",
       " 'GT']"
      ]
     },
     "execution_count": 46,
     "metadata": {},
     "output_type": "execute_result"
    }
   ],
   "source": [
    "seqs"
   ]
  },
  {
   "cell_type": "code",
   "execution_count": 47,
   "metadata": {},
   "outputs": [
    {
     "data": {
      "text/plain": [
       "'AATCTAAAAGTAAATCTGAAAGAGCTAACATACAGTTAGCAGCGACAAAAAAAACTCAGTTTCACTTCAGCAAATTTTTAGATCCAGACTTTCAGCCATCTTGTTCTGAGGTGGACCTAAACGAATGTTACAATTTACTGGCAATAAAGTTTTGGATAGACCTTAATGAGGACATTATTATTCTTACTTTATTTGCTGGAGATTTTTCTGTGTTTTCTGCTAGTCCAAAAGAGGGCCACTCCCCAGGCTGGAGTACAATAGCACAATCTCGGATCACTGCAGTGTCTGCCTCCTGGGCTCGCAATGAAGCAGAAAACAAGCTTATGCATATACTGCATGCAAATGATCCCAAGTGGTCCAACAAGCTTCTGATGTCTTCTCCTAATTGTGAGATATATTATCAAAGTCCTTTATCACTTTGT'"
      ]
     },
     "execution_count": 47,
     "metadata": {},
     "output_type": "execute_result"
    }
   ],
   "source": [
    "class2_11"
   ]
  },
  {
   "cell_type": "code",
   "execution_count": 48,
   "metadata": {},
   "outputs": [],
   "source": [
    "dnadata = [{'seq': class1_1 , 'Class': 0},\n",
    "           {'seq': class1_2, 'Class': 0},\n",
    "           {'seq': class1_3, 'Class': 0},\n",
    "           {'seq': class1_4, 'Class': 0},\n",
    "           {'seq': class1_5 , 'Class': 0},\n",
    "           {'seq': class1_6, 'Class': 0},\n",
    "           {'seq': class1_7, 'Class': 0},\n",
    "           {'seq': class1_8, 'Class': 0},\n",
    "           {'seq': class1_9, 'Class': 0},\n",
    "           {'seq': class1_10, 'Class': 0},\n",
    "           {'seq': class2_1, 'Class': 1},\n",
    "           {'seq': class2_2, 'Class': 1},\n",
    "           {'seq': class2_4, 'Class': 1},\n",
    "           {'seq': class2_5, 'Class': 1},\n",
    "           {'seq': class2_6, 'Class': 1},\n",
    "           {'seq': class2_7, 'Class': 1},\n",
    "           {'seq': class2_8, 'Class': 1},\n",
    "           {'seq': class2_9, 'Class': 1},\n",
    "           {'seq': class2_10, 'Class': 1},\n",
    "           {'seq': class2_11, 'Class': 1},]\n"
   ]
  },
  {
   "cell_type": "code",
   "execution_count": 49,
   "metadata": {},
   "outputs": [],
   "source": [
    "import pandas as pd\n",
    "\n",
    "df = pd.DataFrame(dnadata)\n"
   ]
  },
  {
   "cell_type": "code",
   "execution_count": 50,
   "metadata": {},
   "outputs": [
    {
     "data": {
      "text/html": [
       "<div>\n",
       "<style scoped>\n",
       "    .dataframe tbody tr th:only-of-type {\n",
       "        vertical-align: middle;\n",
       "    }\n",
       "\n",
       "    .dataframe tbody tr th {\n",
       "        vertical-align: top;\n",
       "    }\n",
       "\n",
       "    .dataframe thead th {\n",
       "        text-align: right;\n",
       "    }\n",
       "</style>\n",
       "<table border=\"1\" class=\"dataframe\">\n",
       "  <thead>\n",
       "    <tr style=\"text-align: right;\">\n",
       "      <th></th>\n",
       "      <th>Class</th>\n",
       "      <th>seq</th>\n",
       "    </tr>\n",
       "  </thead>\n",
       "  <tbody>\n",
       "    <tr>\n",
       "      <th>0</th>\n",
       "      <td>0</td>\n",
       "      <td>GGCAGAGGCGGAGCCGCTGTGGCACTGCTGCGCCTCTGCTGCGCCT...</td>\n",
       "    </tr>\n",
       "    <tr>\n",
       "      <th>1</th>\n",
       "      <td>0</td>\n",
       "      <td>GGGCTTGTGGCGCGAGCTTCTGAAACTAGGCGGCAGAGGCGGAGCC...</td>\n",
       "    </tr>\n",
       "    <tr>\n",
       "      <th>2</th>\n",
       "      <td>0</td>\n",
       "      <td>TCATCTGGATTATACATATTTCGCAATGAAAGAGAGGAAGAAAAGG...</td>\n",
       "    </tr>\n",
       "    <tr>\n",
       "      <th>3</th>\n",
       "      <td>0</td>\n",
       "      <td>AATCTAAAAGTAAATCTGAAAGAGCTAACATACAGTTAGCAGCGAC...</td>\n",
       "    </tr>\n",
       "    <tr>\n",
       "      <th>4</th>\n",
       "      <td>0</td>\n",
       "      <td>ATGCCTATTGGATCCAAAGAGAGGCCAACATTTTTTGAAATTTTTA...</td>\n",
       "    </tr>\n",
       "    <tr>\n",
       "      <th>5</th>\n",
       "      <td>0</td>\n",
       "      <td>AGCATTCATAGAAACTTCTTTGTGATGTATGCATTCAACTCACAGA...</td>\n",
       "    </tr>\n",
       "    <tr>\n",
       "      <th>6</th>\n",
       "      <td>0</td>\n",
       "      <td>AGCATTCTGAGAAATTACTTTGTGATGTGTGCATTCATCACAAAGA...</td>\n",
       "    </tr>\n",
       "    <tr>\n",
       "      <th>7</th>\n",
       "      <td>0</td>\n",
       "      <td>GGCATTCTGAGAAACTTCTTCGTGATGTGTGCATTCATCTCACAGA...</td>\n",
       "    </tr>\n",
       "    <tr>\n",
       "      <th>8</th>\n",
       "      <td>0</td>\n",
       "      <td>AATATTCTGGGAAAGTTCTTTGTGGTGCGTGCATTCATGTCATAGA...</td>\n",
       "    </tr>\n",
       "    <tr>\n",
       "      <th>9</th>\n",
       "      <td>0</td>\n",
       "      <td>GGAATTCTGAGAGACTTCTTTGTGATGCGTGTACTCATCTTACAGA...</td>\n",
       "    </tr>\n",
       "    <tr>\n",
       "      <th>10</th>\n",
       "      <td>1</td>\n",
       "      <td>GGGCTTGTGGCGCGAGCTTCTGAAACTAGGCGGCAGAGGCGGAGCC...</td>\n",
       "    </tr>\n",
       "    <tr>\n",
       "      <th>11</th>\n",
       "      <td>1</td>\n",
       "      <td>GGCAGAGGCGGAGCCGCTGTGGCACTGCTGCGCCTCTGCTGCGCCT...</td>\n",
       "    </tr>\n",
       "    <tr>\n",
       "      <th>12</th>\n",
       "      <td>1</td>\n",
       "      <td>ATGCCTATTGGATCCAAAGAGAGGCCAACATTTTTTGAAATTTTTA...</td>\n",
       "    </tr>\n",
       "    <tr>\n",
       "      <th>13</th>\n",
       "      <td>1</td>\n",
       "      <td>GTTTATTGCATTCTTCTGTGAAAAGAAGCTGTTCACAGAATGATTC...</td>\n",
       "    </tr>\n",
       "    <tr>\n",
       "      <th>14</th>\n",
       "      <td>1</td>\n",
       "      <td>GTGAGAGAGTAAGAGGACATATAATGAGGCTTGATGATTATTCAAG...</td>\n",
       "    </tr>\n",
       "    <tr>\n",
       "      <th>15</th>\n",
       "      <td>1</td>\n",
       "      <td>GTAAAATTAGTTATATGGTACACATTGTTATTTCTAATATGAGAAC...</td>\n",
       "    </tr>\n",
       "    <tr>\n",
       "      <th>16</th>\n",
       "      <td>1</td>\n",
       "      <td>GTAAGTTAATGTAAACTCAAGGAATATTATAAGAAGTATATATGGA...</td>\n",
       "    </tr>\n",
       "    <tr>\n",
       "      <th>17</th>\n",
       "      <td>1</td>\n",
       "      <td>GTAATGCACAATATAGTTAATTTTTTTTATTGATTCTTTTAAAAAA...</td>\n",
       "    </tr>\n",
       "    <tr>\n",
       "      <th>18</th>\n",
       "      <td>1</td>\n",
       "      <td>GTAAGTTAATGTAAACTCAAGGAATATTATAAGAAGTATATATGGA...</td>\n",
       "    </tr>\n",
       "    <tr>\n",
       "      <th>19</th>\n",
       "      <td>1</td>\n",
       "      <td>AATCTAAAAGTAAATCTGAAAGAGCTAACATACAGTTAGCAGCGAC...</td>\n",
       "    </tr>\n",
       "  </tbody>\n",
       "</table>\n",
       "</div>"
      ],
      "text/plain": [
       "    Class                                                seq\n",
       "0       0  GGCAGAGGCGGAGCCGCTGTGGCACTGCTGCGCCTCTGCTGCGCCT...\n",
       "1       0  GGGCTTGTGGCGCGAGCTTCTGAAACTAGGCGGCAGAGGCGGAGCC...\n",
       "2       0  TCATCTGGATTATACATATTTCGCAATGAAAGAGAGGAAGAAAAGG...\n",
       "3       0  AATCTAAAAGTAAATCTGAAAGAGCTAACATACAGTTAGCAGCGAC...\n",
       "4       0  ATGCCTATTGGATCCAAAGAGAGGCCAACATTTTTTGAAATTTTTA...\n",
       "5       0  AGCATTCATAGAAACTTCTTTGTGATGTATGCATTCAACTCACAGA...\n",
       "6       0  AGCATTCTGAGAAATTACTTTGTGATGTGTGCATTCATCACAAAGA...\n",
       "7       0  GGCATTCTGAGAAACTTCTTCGTGATGTGTGCATTCATCTCACAGA...\n",
       "8       0  AATATTCTGGGAAAGTTCTTTGTGGTGCGTGCATTCATGTCATAGA...\n",
       "9       0  GGAATTCTGAGAGACTTCTTTGTGATGCGTGTACTCATCTTACAGA...\n",
       "10      1  GGGCTTGTGGCGCGAGCTTCTGAAACTAGGCGGCAGAGGCGGAGCC...\n",
       "11      1  GGCAGAGGCGGAGCCGCTGTGGCACTGCTGCGCCTCTGCTGCGCCT...\n",
       "12      1  ATGCCTATTGGATCCAAAGAGAGGCCAACATTTTTTGAAATTTTTA...\n",
       "13      1  GTTTATTGCATTCTTCTGTGAAAAGAAGCTGTTCACAGAATGATTC...\n",
       "14      1  GTGAGAGAGTAAGAGGACATATAATGAGGCTTGATGATTATTCAAG...\n",
       "15      1  GTAAAATTAGTTATATGGTACACATTGTTATTTCTAATATGAGAAC...\n",
       "16      1  GTAAGTTAATGTAAACTCAAGGAATATTATAAGAAGTATATATGGA...\n",
       "17      1  GTAATGCACAATATAGTTAATTTTTTTTATTGATTCTTTTAAAAAA...\n",
       "18      1  GTAAGTTAATGTAAACTCAAGGAATATTATAAGAAGTATATATGGA...\n",
       "19      1  AATCTAAAAGTAAATCTGAAAGAGCTAACATACAGTTAGCAGCGAC..."
      ]
     },
     "execution_count": 50,
     "metadata": {},
     "output_type": "execute_result"
    }
   ],
   "source": [
    "df"
   ]
  },
  {
   "cell_type": "code",
   "execution_count": 51,
   "metadata": {},
   "outputs": [],
   "source": [
    "df.columns = ['Class','sequence']"
   ]
  },
  {
   "cell_type": "code",
   "execution_count": 52,
   "metadata": {},
   "outputs": [
    {
     "data": {
      "text/plain": [
       "(20, 2)"
      ]
     },
     "execution_count": 52,
     "metadata": {},
     "output_type": "execute_result"
    }
   ],
   "source": [
    "df.shape"
   ]
  },
  {
   "cell_type": "code",
   "execution_count": 53,
   "metadata": {},
   "outputs": [
    {
     "data": {
      "text/html": [
       "<div>\n",
       "<style scoped>\n",
       "    .dataframe tbody tr th:only-of-type {\n",
       "        vertical-align: middle;\n",
       "    }\n",
       "\n",
       "    .dataframe tbody tr th {\n",
       "        vertical-align: top;\n",
       "    }\n",
       "\n",
       "    .dataframe thead th {\n",
       "        text-align: right;\n",
       "    }\n",
       "</style>\n",
       "<table border=\"1\" class=\"dataframe\">\n",
       "  <thead>\n",
       "    <tr style=\"text-align: right;\">\n",
       "      <th></th>\n",
       "      <th>Class</th>\n",
       "      <th>sequence</th>\n",
       "    </tr>\n",
       "  </thead>\n",
       "  <tbody>\n",
       "    <tr>\n",
       "      <th>27201</th>\n",
       "      <td>1</td>\n",
       "      <td>GCCTATAATCCCAGCTACGCGGGAGGCTGAGGCAGGAGAATCGCTT...</td>\n",
       "    </tr>\n",
       "    <tr>\n",
       "      <th>90911</th>\n",
       "      <td>1</td>\n",
       "      <td>GGCAGATTTTGGCTTGAGGAAGAGCTTCTAGCACGACTGGTTCATG...</td>\n",
       "    </tr>\n",
       "    <tr>\n",
       "      <th>68977</th>\n",
       "      <td>1</td>\n",
       "      <td>CGATCTGGCGCTTGACGAAGCTGTCGATGCGCTTGCGGTAGGTGCG...</td>\n",
       "    </tr>\n",
       "    <tr>\n",
       "      <th>39629</th>\n",
       "      <td>1</td>\n",
       "      <td>GAGGAACCATACAAATGTGAGGAATGTGGCAAAGCTTTTAACCTAT...</td>\n",
       "    </tr>\n",
       "    <tr>\n",
       "      <th>85273</th>\n",
       "      <td>1</td>\n",
       "      <td>TGGCAGCAGTGGCATGGTGGGATGCATGCACACTGGTGGGGAAGCA...</td>\n",
       "    </tr>\n",
       "    <tr>\n",
       "      <th>19715</th>\n",
       "      <td>1</td>\n",
       "      <td>CGGTGACAGGAAGAGGGGTGGATCACCTGTGGATGCTGAGGAAGTG...</td>\n",
       "    </tr>\n",
       "    <tr>\n",
       "      <th>82275</th>\n",
       "      <td>1</td>\n",
       "      <td>ATGCTGAGGAAGTGTCGGTGACATGAAGAGAGGTGGCGTGACCTGT...</td>\n",
       "    </tr>\n",
       "    <tr>\n",
       "      <th>97823</th>\n",
       "      <td>1</td>\n",
       "      <td>ACCTGTGGATGCTGAGGAAGTGTCGGTGACAGAAGAGAGGGGGGGG...</td>\n",
       "    </tr>\n",
       "    <tr>\n",
       "      <th>70189</th>\n",
       "      <td>1</td>\n",
       "      <td>TGAGGTCAGGAGTTAAGCCAGATGGGCCAACATAGTGAATCCCTCT...</td>\n",
       "    </tr>\n",
       "    <tr>\n",
       "      <th>24110</th>\n",
       "      <td>1</td>\n",
       "      <td>GAGGGGTGGTGTCACCTGTGGATGCTGAGGAAGTGCGGTACAGGAA...</td>\n",
       "    </tr>\n",
       "    <tr>\n",
       "      <th>55695</th>\n",
       "      <td>1</td>\n",
       "      <td>GGAAGGGAGGGAACCAGGGCGAGGGGGCCGCCGAGCGCGAGGTGTC...</td>\n",
       "    </tr>\n",
       "    <tr>\n",
       "      <th>38743</th>\n",
       "      <td>1</td>\n",
       "      <td>TGTTTAACTCTCTTTTTTTTTTTCCTTTTGGGTGGAGCCCTTTGCG...</td>\n",
       "    </tr>\n",
       "    <tr>\n",
       "      <th>13209</th>\n",
       "      <td>1</td>\n",
       "      <td>GAGGGAATGGAAAAGTCTGCTTTCCAGGGAAAGGAGTGAATTCTGG...</td>\n",
       "    </tr>\n",
       "    <tr>\n",
       "      <th>54015</th>\n",
       "      <td>1</td>\n",
       "      <td>AAATTAGCCAGGCGTGTACTCGCCTGTAATCCCAGCTACTCGGGAG...</td>\n",
       "    </tr>\n",
       "    <tr>\n",
       "      <th>86931</th>\n",
       "      <td>1</td>\n",
       "      <td>AAAAGACACATCAGAACCTTTAAATTCTATTTCCAGGTAATCTTTG...</td>\n",
       "    </tr>\n",
       "    <tr>\n",
       "      <th>35711</th>\n",
       "      <td>1</td>\n",
       "      <td>CGGTGACAGGAAGAGGGGTGGCGTGACCGGTGGATGCTGAGGAAGT...</td>\n",
       "    </tr>\n",
       "    <tr>\n",
       "      <th>66491</th>\n",
       "      <td>1</td>\n",
       "      <td>TGCGTGTGATCCAGCTGGGGTCTTCCATGTGGTGGTCGCGGGGCAG...</td>\n",
       "    </tr>\n",
       "    <tr>\n",
       "      <th>89626</th>\n",
       "      <td>1</td>\n",
       "      <td>GGCGTGACCTGTGGATGCTGAGGAAGCGTCGGTGACAGGAAGAGGG...</td>\n",
       "    </tr>\n",
       "    <tr>\n",
       "      <th>35968</th>\n",
       "      <td>1</td>\n",
       "      <td>TGCTGAGGAAGGGCTAGTGACAGGAAGAGGCATGGTGTCACCTGTG...</td>\n",
       "    </tr>\n",
       "    <tr>\n",
       "      <th>12491</th>\n",
       "      <td>1</td>\n",
       "      <td>CAGGAGGATCACTTGAGTCCAGGAGTTTTAGACCAGCCTGGCCAAC...</td>\n",
       "    </tr>\n",
       "    <tr>\n",
       "      <th>23636</th>\n",
       "      <td>1</td>\n",
       "      <td>TGACAGGAAGATGGGTGGTGTCATCTGTGGAAGCTGAGGAAAGGCC...</td>\n",
       "    </tr>\n",
       "    <tr>\n",
       "      <th>83836</th>\n",
       "      <td>1</td>\n",
       "      <td>TGTTTAGTCAGAGTTGAGGACCAATTAAAGGCTTTGCCACATTCTT...</td>\n",
       "    </tr>\n",
       "    <tr>\n",
       "      <th>87987</th>\n",
       "      <td>1</td>\n",
       "      <td>CTCTACTAAAAATACAAAAAATTAGCCAGGCGTGGTGGCGGGCGCC...</td>\n",
       "    </tr>\n",
       "    <tr>\n",
       "      <th>42449</th>\n",
       "      <td>1</td>\n",
       "      <td>TAGAGGCTGAGGAATAAGCTGATTACCCACAAATACGTAAGTGGTA...</td>\n",
       "    </tr>\n",
       "    <tr>\n",
       "      <th>80027</th>\n",
       "      <td>1</td>\n",
       "      <td>CTTCTAGGCTGGAGTACAGTAGCACAAACTCAGCTCACTGCAACCT...</td>\n",
       "    </tr>\n",
       "    <tr>\n",
       "      <th>75299</th>\n",
       "      <td>1</td>\n",
       "      <td>GGCAGTCTCCAGCCCTGGAGGACTCAGGAGACAAGGGACACTGGCC...</td>\n",
       "    </tr>\n",
       "    <tr>\n",
       "      <th>81277</th>\n",
       "      <td>1</td>\n",
       "      <td>AAGCTCACCCACTGCAGCCTTCAGCAGGGTCAGCTCTGGTAGATCT...</td>\n",
       "    </tr>\n",
       "    <tr>\n",
       "      <th>74661</th>\n",
       "      <td>1</td>\n",
       "      <td>CTGCATCCCAGCTGTGGCTAAAAGAGGGCAACATACAGCTCTGGCT...</td>\n",
       "    </tr>\n",
       "    <tr>\n",
       "      <th>41052</th>\n",
       "      <td>1</td>\n",
       "      <td>AGACAATGGGGAAAATGTCTCCAGGGCATGTCACAGGTCTTCATGG...</td>\n",
       "    </tr>\n",
       "    <tr>\n",
       "      <th>45916</th>\n",
       "      <td>1</td>\n",
       "      <td>GATAGTAGTGACAGCAGTGACAGCAACGAAAGCAGCAATAGCAGTG...</td>\n",
       "    </tr>\n",
       "    <tr>\n",
       "      <th>...</th>\n",
       "      <td>...</td>\n",
       "      <td>...</td>\n",
       "    </tr>\n",
       "    <tr>\n",
       "      <th>53214</th>\n",
       "      <td>1</td>\n",
       "      <td>CGGGCGCGAGTGCTTCTTCTTCCCGTCCTTGTCCAGGACGCCGCCG...</td>\n",
       "    </tr>\n",
       "    <tr>\n",
       "      <th>91591</th>\n",
       "      <td>1</td>\n",
       "      <td>CCAGGAGGAATAGAAGCATCCTGCTCTGCCTTGCTGGGCTGTGGAT...</td>\n",
       "    </tr>\n",
       "    <tr>\n",
       "      <th>64299</th>\n",
       "      <td>1</td>\n",
       "      <td>GCATGGGGACCCTGGGCCTGGCCCGTGAAACCACCACTTTTTCCTC...</td>\n",
       "    </tr>\n",
       "    <tr>\n",
       "      <th>73115</th>\n",
       "      <td>1</td>\n",
       "      <td>CAGAACTAAAACAGAAGCATTCTCAGAACCCTCTTCGTGATGTTTG...</td>\n",
       "    </tr>\n",
       "    <tr>\n",
       "      <th>71263</th>\n",
       "      <td>1</td>\n",
       "      <td>TCGAAAGAATCATCGAATGGACCCGAATGGAATCATCTAATGGAAT...</td>\n",
       "    </tr>\n",
       "    <tr>\n",
       "      <th>22623</th>\n",
       "      <td>1</td>\n",
       "      <td>AGAGGGGTGGCCTGACCTGTGGATGCTGAGGAAGTGTCGGTGACAG...</td>\n",
       "    </tr>\n",
       "    <tr>\n",
       "      <th>63478</th>\n",
       "      <td>1</td>\n",
       "      <td>CGAGACGTCGGCCGCACTGCACCACAACACGAGGGAGCTCTTCGAG...</td>\n",
       "    </tr>\n",
       "    <tr>\n",
       "      <th>28742</th>\n",
       "      <td>1</td>\n",
       "      <td>CACAAAACCACTTTTTCCTCCTAGTCTTCCAGGCCTGTGACGAGAG...</td>\n",
       "    </tr>\n",
       "    <tr>\n",
       "      <th>74966</th>\n",
       "      <td>1</td>\n",
       "      <td>TGAGAAGTCGGCTGCAGTGTTCTCGGGGATCTGGAGGCCGCCTGCG...</td>\n",
       "    </tr>\n",
       "    <tr>\n",
       "      <th>50173</th>\n",
       "      <td>1</td>\n",
       "      <td>AAATGTTAATAGCCAAAACAATGGGGAAAATGTCTCCAGAGCCTGT...</td>\n",
       "    </tr>\n",
       "    <tr>\n",
       "      <th>74382</th>\n",
       "      <td>1</td>\n",
       "      <td>ATGATTTTTGACTGTATGCCAAAGTAGCAAGAAGCCTAACGTTAAT...</td>\n",
       "    </tr>\n",
       "    <tr>\n",
       "      <th>31416</th>\n",
       "      <td>1</td>\n",
       "      <td>CAGGGCATTTCAGAGATCTTTGCAGCAGCCCCTCTCATCACAGGAC...</td>\n",
       "    </tr>\n",
       "    <tr>\n",
       "      <th>16481</th>\n",
       "      <td>1</td>\n",
       "      <td>TCCACCCTAATAGATCTCTTCCTGTTCACCAACCACTGTCACTGTT...</td>\n",
       "    </tr>\n",
       "    <tr>\n",
       "      <th>35116</th>\n",
       "      <td>1</td>\n",
       "      <td>AGCACTCCTGGGTCCACGCTGTCCTCAACCCCATCTCCCTCCCAGG...</td>\n",
       "    </tr>\n",
       "    <tr>\n",
       "      <th>51451</th>\n",
       "      <td>1</td>\n",
       "      <td>TAATCGACGGACTCGAATGCAATCATCATCGAATGGAATCGAATGG...</td>\n",
       "    </tr>\n",
       "    <tr>\n",
       "      <th>42796</th>\n",
       "      <td>1</td>\n",
       "      <td>AAATATAATGAAAAAGTCTTCTTTGAAAGGAAGCAGAGAGGTCTTA...</td>\n",
       "    </tr>\n",
       "    <tr>\n",
       "      <th>106812</th>\n",
       "      <td>1</td>\n",
       "      <td>GTAAGGAATCACTGTCAGGAATCTACAGGACTTGGCTCTTATTTAC...</td>\n",
       "    </tr>\n",
       "    <tr>\n",
       "      <th>47408</th>\n",
       "      <td>1</td>\n",
       "      <td>GGCTGGAGTGCAGTGGCAGGATCTCGGCTCACTGCAACCTCCACCT...</td>\n",
       "    </tr>\n",
       "    <tr>\n",
       "      <th>81394</th>\n",
       "      <td>1</td>\n",
       "      <td>CATTATCACCCACATCCTCATGAGTGTGAGGGTCCAAATGGTACTG...</td>\n",
       "    </tr>\n",
       "    <tr>\n",
       "      <th>86926</th>\n",
       "      <td>1</td>\n",
       "      <td>AATCCACATTGTTTAATCTCATCTTCAGGGTTACAGGAAATTGTGA...</td>\n",
       "    </tr>\n",
       "    <tr>\n",
       "      <th>41495</th>\n",
       "      <td>1</td>\n",
       "      <td>AATAAATAAAGTAATACAGGCTGGGAGCGGTGGCTCACGCCTGTAA...</td>\n",
       "    </tr>\n",
       "    <tr>\n",
       "      <th>15597</th>\n",
       "      <td>1</td>\n",
       "      <td>TGTCCAAGGAAGCATTTTATTGTGGAAATAAACAAAAAGACCAACC...</td>\n",
       "    </tr>\n",
       "    <tr>\n",
       "      <th>18559</th>\n",
       "      <td>1</td>\n",
       "      <td>GGAGCTGTTGTGCGATTTGACAGGAAGAGGGGTGGTGTCACCTGTG...</td>\n",
       "    </tr>\n",
       "    <tr>\n",
       "      <th>98716</th>\n",
       "      <td>1</td>\n",
       "      <td>AATTATTCAAACCTTATATAAAATTAAATCTAACCCTCACCACTAC...</td>\n",
       "    </tr>\n",
       "    <tr>\n",
       "      <th>3179</th>\n",
       "      <td>1</td>\n",
       "      <td>CTCACCGCAGCCCTGCCCCCCTGAGCAGCCAGCCCCCGGGCCCTGC...</td>\n",
       "    </tr>\n",
       "    <tr>\n",
       "      <th>72514</th>\n",
       "      <td>1</td>\n",
       "      <td>GACATTTTTATTACAGAGCTTCAAGGTTTTGTTATTCTCTGTCTCT...</td>\n",
       "    </tr>\n",
       "    <tr>\n",
       "      <th>21852</th>\n",
       "      <td>1</td>\n",
       "      <td>AGGAAGCGTCGGTGACATGAAGAGGGGTGGCGTGACCTGTGGATGC...</td>\n",
       "    </tr>\n",
       "    <tr>\n",
       "      <th>80690</th>\n",
       "      <td>1</td>\n",
       "      <td>AGCTCACCCACTGCAGCCTTCAGCCGAGTGAGTAAGCTGCTGCTCA...</td>\n",
       "    </tr>\n",
       "    <tr>\n",
       "      <th>43597</th>\n",
       "      <td>1</td>\n",
       "      <td>ATCTGTCCACGGGCACCATGACCGGGCTGGCCATCCAGTATGCCCT...</td>\n",
       "    </tr>\n",
       "    <tr>\n",
       "      <th>78203</th>\n",
       "      <td>1</td>\n",
       "      <td>GTAATCCCAGCTACTCAGGAGGCTGGGACACAAGAACCACTTGAAC...</td>\n",
       "    </tr>\n",
       "  </tbody>\n",
       "</table>\n",
       "<p>109158 rows × 2 columns</p>\n",
       "</div>"
      ],
      "text/plain": [
       "        Class                                           sequence\n",
       "27201       1  GCCTATAATCCCAGCTACGCGGGAGGCTGAGGCAGGAGAATCGCTT...\n",
       "90911       1  GGCAGATTTTGGCTTGAGGAAGAGCTTCTAGCACGACTGGTTCATG...\n",
       "68977       1  CGATCTGGCGCTTGACGAAGCTGTCGATGCGCTTGCGGTAGGTGCG...\n",
       "39629       1  GAGGAACCATACAAATGTGAGGAATGTGGCAAAGCTTTTAACCTAT...\n",
       "85273       1  TGGCAGCAGTGGCATGGTGGGATGCATGCACACTGGTGGGGAAGCA...\n",
       "19715       1  CGGTGACAGGAAGAGGGGTGGATCACCTGTGGATGCTGAGGAAGTG...\n",
       "82275       1  ATGCTGAGGAAGTGTCGGTGACATGAAGAGAGGTGGCGTGACCTGT...\n",
       "97823       1  ACCTGTGGATGCTGAGGAAGTGTCGGTGACAGAAGAGAGGGGGGGG...\n",
       "70189       1  TGAGGTCAGGAGTTAAGCCAGATGGGCCAACATAGTGAATCCCTCT...\n",
       "24110       1  GAGGGGTGGTGTCACCTGTGGATGCTGAGGAAGTGCGGTACAGGAA...\n",
       "55695       1  GGAAGGGAGGGAACCAGGGCGAGGGGGCCGCCGAGCGCGAGGTGTC...\n",
       "38743       1  TGTTTAACTCTCTTTTTTTTTTTCCTTTTGGGTGGAGCCCTTTGCG...\n",
       "13209       1  GAGGGAATGGAAAAGTCTGCTTTCCAGGGAAAGGAGTGAATTCTGG...\n",
       "54015       1  AAATTAGCCAGGCGTGTACTCGCCTGTAATCCCAGCTACTCGGGAG...\n",
       "86931       1  AAAAGACACATCAGAACCTTTAAATTCTATTTCCAGGTAATCTTTG...\n",
       "35711       1  CGGTGACAGGAAGAGGGGTGGCGTGACCGGTGGATGCTGAGGAAGT...\n",
       "66491       1  TGCGTGTGATCCAGCTGGGGTCTTCCATGTGGTGGTCGCGGGGCAG...\n",
       "89626       1  GGCGTGACCTGTGGATGCTGAGGAAGCGTCGGTGACAGGAAGAGGG...\n",
       "35968       1  TGCTGAGGAAGGGCTAGTGACAGGAAGAGGCATGGTGTCACCTGTG...\n",
       "12491       1  CAGGAGGATCACTTGAGTCCAGGAGTTTTAGACCAGCCTGGCCAAC...\n",
       "23636       1  TGACAGGAAGATGGGTGGTGTCATCTGTGGAAGCTGAGGAAAGGCC...\n",
       "83836       1  TGTTTAGTCAGAGTTGAGGACCAATTAAAGGCTTTGCCACATTCTT...\n",
       "87987       1  CTCTACTAAAAATACAAAAAATTAGCCAGGCGTGGTGGCGGGCGCC...\n",
       "42449       1  TAGAGGCTGAGGAATAAGCTGATTACCCACAAATACGTAAGTGGTA...\n",
       "80027       1  CTTCTAGGCTGGAGTACAGTAGCACAAACTCAGCTCACTGCAACCT...\n",
       "75299       1  GGCAGTCTCCAGCCCTGGAGGACTCAGGAGACAAGGGACACTGGCC...\n",
       "81277       1  AAGCTCACCCACTGCAGCCTTCAGCAGGGTCAGCTCTGGTAGATCT...\n",
       "74661       1  CTGCATCCCAGCTGTGGCTAAAAGAGGGCAACATACAGCTCTGGCT...\n",
       "41052       1  AGACAATGGGGAAAATGTCTCCAGGGCATGTCACAGGTCTTCATGG...\n",
       "45916       1  GATAGTAGTGACAGCAGTGACAGCAACGAAAGCAGCAATAGCAGTG...\n",
       "...       ...                                                ...\n",
       "53214       1  CGGGCGCGAGTGCTTCTTCTTCCCGTCCTTGTCCAGGACGCCGCCG...\n",
       "91591       1  CCAGGAGGAATAGAAGCATCCTGCTCTGCCTTGCTGGGCTGTGGAT...\n",
       "64299       1  GCATGGGGACCCTGGGCCTGGCCCGTGAAACCACCACTTTTTCCTC...\n",
       "73115       1  CAGAACTAAAACAGAAGCATTCTCAGAACCCTCTTCGTGATGTTTG...\n",
       "71263       1  TCGAAAGAATCATCGAATGGACCCGAATGGAATCATCTAATGGAAT...\n",
       "22623       1  AGAGGGGTGGCCTGACCTGTGGATGCTGAGGAAGTGTCGGTGACAG...\n",
       "63478       1  CGAGACGTCGGCCGCACTGCACCACAACACGAGGGAGCTCTTCGAG...\n",
       "28742       1  CACAAAACCACTTTTTCCTCCTAGTCTTCCAGGCCTGTGACGAGAG...\n",
       "74966       1  TGAGAAGTCGGCTGCAGTGTTCTCGGGGATCTGGAGGCCGCCTGCG...\n",
       "50173       1  AAATGTTAATAGCCAAAACAATGGGGAAAATGTCTCCAGAGCCTGT...\n",
       "74382       1  ATGATTTTTGACTGTATGCCAAAGTAGCAAGAAGCCTAACGTTAAT...\n",
       "31416       1  CAGGGCATTTCAGAGATCTTTGCAGCAGCCCCTCTCATCACAGGAC...\n",
       "16481       1  TCCACCCTAATAGATCTCTTCCTGTTCACCAACCACTGTCACTGTT...\n",
       "35116       1  AGCACTCCTGGGTCCACGCTGTCCTCAACCCCATCTCCCTCCCAGG...\n",
       "51451       1  TAATCGACGGACTCGAATGCAATCATCATCGAATGGAATCGAATGG...\n",
       "42796       1  AAATATAATGAAAAAGTCTTCTTTGAAAGGAAGCAGAGAGGTCTTA...\n",
       "106812      1  GTAAGGAATCACTGTCAGGAATCTACAGGACTTGGCTCTTATTTAC...\n",
       "47408       1  GGCTGGAGTGCAGTGGCAGGATCTCGGCTCACTGCAACCTCCACCT...\n",
       "81394       1  CATTATCACCCACATCCTCATGAGTGTGAGGGTCCAAATGGTACTG...\n",
       "86926       1  AATCCACATTGTTTAATCTCATCTTCAGGGTTACAGGAAATTGTGA...\n",
       "41495       1  AATAAATAAAGTAATACAGGCTGGGAGCGGTGGCTCACGCCTGTAA...\n",
       "15597       1  TGTCCAAGGAAGCATTTTATTGTGGAAATAAACAAAAAGACCAACC...\n",
       "18559       1  GGAGCTGTTGTGCGATTTGACAGGAAGAGGGGTGGTGTCACCTGTG...\n",
       "98716       1  AATTATTCAAACCTTATATAAAATTAAATCTAACCCTCACCACTAC...\n",
       "3179        1  CTCACCGCAGCCCTGCCCCCCTGAGCAGCCAGCCCCCGGGCCCTGC...\n",
       "72514       1  GACATTTTTATTACAGAGCTTCAAGGTTTTGTTATTCTCTGTCTCT...\n",
       "21852       1  AGGAAGCGTCGGTGACATGAAGAGGGGTGGCGTGACCTGTGGATGC...\n",
       "80690       1  AGCTCACCCACTGCAGCCTTCAGCCGAGTGAGTAAGCTGCTGCTCA...\n",
       "43597       1  ATCTGTCCACGGGCACCATGACCGGGCTGGCCATCCAGTATGCCCT...\n",
       "78203       1  GTAATCCCAGCTACTCAGGAGGCTGGGACACAAGAACCACTTGAAC...\n",
       "\n",
       "[109158 rows x 2 columns]"
      ]
     },
     "execution_count": 53,
     "metadata": {},
     "output_type": "execute_result"
    }
   ],
   "source": [
    "frames = [df, newDf]\n",
    "finalDataSet = pd.concat(frames)\n",
    "finalDataSet1 = finalDataSet.sample(frac=1)\n",
    "finalDataSet1"
   ]
  },
  {
   "cell_type": "code",
   "execution_count": 54,
   "metadata": {},
   "outputs": [],
   "source": [
    "X = finalDataSet1['sequence']\n",
    "y = finalDataSet1['Class']\n",
    "target_count = finalDataSet1.Class.value_counts()\n",
    "\n",
    "count_class_0, count_class_1 = finalDataSet1.Class.value_counts()\n",
    "\n"
   ]
  },
  {
   "cell_type": "code",
   "execution_count": 55,
   "metadata": {},
   "outputs": [],
   "source": [
    "df_class_0 = finalDataSet1[finalDataSet1['Class'] == 0]\n",
    "df_class_1 = finalDataSet1[finalDataSet1['Class'] == 1]\n"
   ]
  },
  {
   "cell_type": "code",
   "execution_count": 56,
   "metadata": {},
   "outputs": [
    {
     "name": "stdout",
     "output_type": "stream",
     "text": [
      "Random over-sampling:\n",
      "1    109148\n",
      "0     20010\n",
      "Name: Class, dtype: int64\n"
     ]
    }
   ],
   "source": [
    "#from xgboost import XGBClassifier\n",
    "from sklearn.model_selection import train_test_split\n",
    "from sklearn.metrics import accuracy_score\n",
    "from sklearn.metrics import confusion_matrix\n",
    "from matplotlib import pyplot as plt\n",
    "\n",
    "df_class_0_over = df_class_0.sample(20010, replace=True)\n",
    "df_test_over = pd.concat([df_class_1, df_class_0_over], axis=0)\n",
    "\n",
    "print('Random over-sampling:')\n",
    "print(df_test_over.Class.value_counts())\n",
    "\n",
    "df_test_over.Class.value_counts().plot(kind='bar', title='Count (target)');"
   ]
  },
  {
   "cell_type": "code",
   "execution_count": 57,
   "metadata": {},
   "outputs": [],
   "source": [
    "df_class_1_under = df_class_1.sample(20010, replace=True)\n",
    "\n",
    "df_test = pd.concat([df_class_0_over, df_class_1_under], axis=0)\n",
    "\n"
   ]
  },
  {
   "cell_type": "code",
   "execution_count": 58,
   "metadata": {},
   "outputs": [
    {
     "name": "stdout",
     "output_type": "stream",
     "text": [
      "Random under-sampling:\n",
      "1    20010\n",
      "0    20010\n",
      "Name: Class, dtype: int64\n"
     ]
    },
    {
     "data": {
      "image/png": "[encoded data removed]",
      "text/plain": [
       "<Figure size 432x288 with 1 Axes>"
      ]
     },
     "metadata": {},
     "output_type": "display_data"
    }
   ],
   "source": [
    "print('Random under-sampling:')\n",
    "print(df_test.Class.value_counts())\n",
    "\n",
    "df_test.Class.value_counts().plot(kind='bar', title='Count (target)');"
   ]
  },
  {
   "cell_type": "code",
   "execution_count": 59,
   "metadata": {},
   "outputs": [
    {
     "data": {
      "text/plain": [
       "(40020, 2)"
      ]
     },
     "execution_count": 59,
     "metadata": {},
     "output_type": "execute_result"
    }
   ],
   "source": [
    "df_test.shape"
   ]
  },
  {
   "cell_type": "code",
   "execution_count": 60,
   "metadata": {},
   "outputs": [],
   "source": [
    "df = df_test"
   ]
  },
  {
   "cell_type": "code",
   "execution_count": 61,
   "metadata": {},
   "outputs": [],
   "source": [
    "df.to_pickle('finaldata')  # where to save it, usually as a .pkl\n"
   ]
  },
  {
   "cell_type": "code",
   "execution_count": 62,
   "metadata": {},
   "outputs": [],
   "source": [
    "import numpy as np\n",
    "import pandas as pd\n",
    "import matplotlib.pyplot as plt\n",
    "%matplotlib inline"
   ]
  },
  {
   "cell_type": "code",
   "execution_count": 63,
   "metadata": {},
   "outputs": [],
   "source": [
    "# function to convert sequence strings into k-mer words, default size = 8 (hexamer words)\n",
    "def getKmers(sequence, size=4):\n",
    "    return [sequence[x:x+size].lower() for x in range(len(sequence) - size + 1)]"
   ]
  },
  {
   "cell_type": "code",
   "execution_count": 64,
   "metadata": {},
   "outputs": [],
   "source": [
    "df['words'] = df.apply(lambda x: getKmers(x['sequence']), axis=1)\n",
    "df = df.drop('sequence', axis=1)"
   ]
  },
  {
   "cell_type": "code",
   "execution_count": 65,
   "metadata": {},
   "outputs": [
    {
     "data": {
      "text/html": [
       "<div>\n",
       "<style scoped>\n",
       "    .dataframe tbody tr th:only-of-type {\n",
       "        vertical-align: middle;\n",
       "    }\n",
       "\n",
       "    .dataframe tbody tr th {\n",
       "        vertical-align: top;\n",
       "    }\n",
       "\n",
       "    .dataframe thead th {\n",
       "        text-align: right;\n",
       "    }\n",
       "</style>\n",
       "<table border=\"1\" class=\"dataframe\">\n",
       "  <thead>\n",
       "    <tr style=\"text-align: right;\">\n",
       "      <th></th>\n",
       "      <th>Class</th>\n",
       "      <th>words</th>\n",
       "    </tr>\n",
       "  </thead>\n",
       "  <tbody>\n",
       "    <tr>\n",
       "      <th>7</th>\n",
       "      <td>0</td>\n",
       "      <td>[ggca, gcat, catt, attc, ttct, tctg, ctga, tga...</td>\n",
       "    </tr>\n",
       "    <tr>\n",
       "      <th>8</th>\n",
       "      <td>0</td>\n",
       "      <td>[aata, atat, tatt, attc, ttct, tctg, ctgg, tgg...</td>\n",
       "    </tr>\n",
       "    <tr>\n",
       "      <th>1</th>\n",
       "      <td>0</td>\n",
       "      <td>[gggc, ggct, gctt, cttg, ttgt, tgtg, gtgg, tgg...</td>\n",
       "    </tr>\n",
       "    <tr>\n",
       "      <th>4</th>\n",
       "      <td>0</td>\n",
       "      <td>[atgc, tgcc, gcct, ccta, ctat, tatt, attg, ttg...</td>\n",
       "    </tr>\n",
       "    <tr>\n",
       "      <th>7</th>\n",
       "      <td>0</td>\n",
       "      <td>[ggca, gcat, catt, attc, ttct, tctg, ctga, tga...</td>\n",
       "    </tr>\n",
       "  </tbody>\n",
       "</table>\n",
       "</div>"
      ],
      "text/plain": [
       "   Class                                              words\n",
       "7      0  [ggca, gcat, catt, attc, ttct, tctg, ctga, tga...\n",
       "8      0  [aata, atat, tatt, attc, ttct, tctg, ctgg, tgg...\n",
       "1      0  [gggc, ggct, gctt, cttg, ttgt, tgtg, gtgg, tgg...\n",
       "4      0  [atgc, tgcc, gcct, ccta, ctat, tatt, attg, ttg...\n",
       "7      0  [ggca, gcat, catt, attc, ttct, tctg, ctga, tga..."
      ]
     },
     "execution_count": 65,
     "metadata": {},
     "output_type": "execute_result"
    }
   ],
   "source": [
    "df.head()"
   ]
  },
  {
   "cell_type": "code",
   "execution_count": 66,
   "metadata": {},
   "outputs": [],
   "source": [
    "df_texts = list(df['words'])\n",
    "for item in range(len(df_texts)):\n",
    "    df_texts[item] = ' '.join(df_texts[item])\n",
    "y_h = df.iloc[:, 0].values               "
   ]
  },
  {
   "cell_type": "code",
   "execution_count": 67,
   "metadata": {},
   "outputs": [
    {
     "data": {
      "text/plain": [
       "'ggca gcat catt attc ttct tctg ctga tgag gaga agaa gaaa aaac aact actt cttc ttct tctt cttc ttcg tcgt cgtg gtga tgat gatg atgt tgtg gtgt tgtg gtgc tgca gcat catt attc ttca tcat catc atct tctc ctca tcac caca acag caga agag gagt agtt gttg ttga tgaa gaac aacc acct ccta ctat tatc atct tctt cttt tttt tttt tttg ttga tgag gagg aggc ggcc gcct ccta ctac tact actg ctgt tgtg gtgg tgga ggaa gaaa aaaa aaag aagg agga ggaa gaaa aaat aata atat tatt attt tttt tttc ttca tcac caca acat cata ataa taaa aaaa aaaa aaac aacc acca ccac caca acac caca acag caga agaa gaag aagc agcc gcct cctt cttc ttct tctg ctgc tgca gcag cagt agtt gttt tttc ttcg tcgg cgga ggat gatc atct tctc ctct tctc ctct tctt cttt tttt tttt tttc ttca tcag cagg agga ggaa gaac aacc acct cctg ctgc tgca gcaa caag aagt agtg gtgg tgga ggat gatg atgt tgtt gttt tttg ttgg tgga ggag gagc agcc gccc ccct cctt cttt tttg ttgc tgcg gcgg cggt ggtc gtct tctt cttt tttg ttgt tgtg gtga tgat gatg atgt tgtg gtgt tgtg gtgc tgca gcat catt attc ttca tcat catc atct tctc ctca tcac caca acag caga agag gaga agaa gaag aaga agaa gaac aacc acct ccta ctat tatc atct tctt ctta ttat tatg atga tgac gact actg ctga tgag gagc agca gcag cagc agct gctt cttt tttg ttga tgaa gaaa aaaa aaag aagg agga ggaa gaaa aaat aata atat tatc atct tctt cttc ttca tcac caca acat cata ataa taaa aaaa aaac aacc acct ccta ctac taca acac caca acag caga agat gatt attt ttta ttat tatt attc ttct tctg ctga tgag gaga agaa gaaa aaac aact acta ctac tact actt cttt tttt tttt tttg ttgt tgtt gttg ttgt tgtt gttt ttta ttac taca acag caga agaa gaat aatg atgt tgtg gtgc tgca gcaa caag aagt agtg gtgg tgga ggat gata atat tatt attt tttg ttgg tgga ggag gagc agcg gcgc cgct gctt cttt tttg ttgg tggg gggg gggc ggcc gcct ccta ctac tact actg ctgt tgtg gtgg tgga ggaa gaaa aaaa aaag aagc agca gcaa caaa aaat aata atat tatc atcc tccc ccca ccac caca acag caga agag gaga agat gatg atga tgaa gaaa aaag aagt agtt gttt tttc ttct tctt cttt tttt tttg ttga tgat gatt attg ttga tgag gaga agaa gaac aact actt cttt tttt tttg ttga tgaa gaaa aaac aaca acac cact actc ctct tctt cttt tttt tttt tttg ttgt tgta gtag taga agaa gaat aata ataa taaa aaaa aaaa aaac aact acta ctac taca acac caca acag caga agaa gaag aagc agca gcat catt attc ttct tctg ctga tgag gaga agaa gaaa aaac aact actt cttc ttct tctt cttt tttg ttgc tgca gcaa caat aatg atgt tgtg gtgt tgtg gtgc tgca gcat catt attc ttca tcaa caac aact actc ctca tcat cata atag tagg aggg ggga ggat gata atat tatt attt tttg ttga tgaa gaaa aaac aacc accc ccct cctt cttt tttg ttgc tgca gcag cagc agcc gcca ccaa caat aatg atgg tgga ggag gagg agga ggat gata ataa taag aagg agga ggaa gaaa aaat aata atat tatc atct tctt cttc ttca tcaa caaa aaat aata ataa taaa aaat aata atac tact acta ctat tata atat tatc atct tctt ctta ttat tatg atga tgat gatt attg ttga tgag gagt agta gtac taca acat catt attt tttg ttga tgaa gaaa aaac aaca acac cact actc ctct tctc ctct tctt cttt tttg ttgt tgta gtag taga agaa gaat aatc atct tctg ctgc tgca gcaa caag aagt agtg gtgg tgga ggat gata atac tact actt cttg ttga tgat gatt attc ttct tctg ctga tgag gaga agat gata atac tact actt cttc ttct tctt cttt ttta ttat tatg atga tgat gatg atgt tgta gtat tatg atgc tgca gcac cact actc ctca tcaa caac aact actc ctca tcag caga agag gaga agag gagt agtt gttg ttga tgaa gaac aacc acct ccta ctat tatc atct tctt cttt tttt tttg ttgg tgga ggag gagg aggc ggcc gcct ccta ctat tatt attg ttgt tgtg gtgg tgga ggaa gaaa aaaa aaag aagg aggt ggta gtaa taat aata atat tatc atct tctt cttc ttca tcac caca acat cata ataa taaa aaaa aaaa aaac aact acta ctac taca acaa caaa aaat aata ataa taag aagc agca gcat catt attc ttct tctg ctga tgag gaga agat gatt attt tttt tttg ttga tgaa gaat aatc atct tctc ctct tctc ctct tctt cttt tttt tttt tttg ttgt tgta gtag taga agaa gaat aatc atct tctg ctgc tgca gcaa caag aagt agtg gtgg tgga ggat gata atat tatt attt tttg ttgg tggt ggtg gtgg tggg gggc ggct gctt cttt tttg ttga tgag gagg aggc ggcc gcct ccta ctat tatg atgt tgtg gtga tgat gatg atgt tgtg gtgt tgtc gtcc tcca ccat catt attc ttca tcaa caac aact actc ctca tcac caca acag cagc agcc gcct cctt cttg ttga tgaa gaac aacc acct ccta ctat tatc atct tctt cttt tttt tttg ttga tgat gatt attg ttga tgag gagc agca gcag cagt agtt gttt tttc ttcg tcgg cgga ggat gatc atcg tcgg cgga ggaa gaaa aaat aata atat tatc atct tctt cttc ttca tcaa caaa aaat aata ataa taaa aaaa aaaa aaac aact acta ctac taca acac caca acag caga agaa gaag aagc agca gcat catt attc ttct tcta ctaa taag aaga agaa gaaa aaac aact actt cttc ttct tctt cttt tttg ttgt tgtg gtga tgat gatg atgt tgtg gtgt tgtg gtgg tgga ggat gatt attt tttg ttgc tgca gcaa caag aagt agtg gtgg tgga ggat gata atat tatt attt tttg ttgg tgga ggag gagc agcc gccc ccct cctt cttt tttg ttgc tgca gcag cagt agtc gtcc tcca ccat catg atgg tgga ggag gagg aggc ggca gcaa caaa aaag aagg agga ggaa gaaa aaat aata atat tatc atct tctt cttc ttcc tcca ccag caga agag gagt agtt gttg ttgt tgta gtac tacg acgt cgtt gttt tttc ttct tctt cttt tttt tttg ttga tgat gatt attg ttga tgag gagc agca gcag cagt agtt gttt tttt tttg ttga tgaa gaaa aaac aaca acac caca acag cagt agtt gttt tttt tttt ttta ttac taca acag caga agaa gaat aatg atgt tgtg gtgc tgca gcac cacc acca ccac caca acac caca acag caga agaa gaag aagc agca gcat catt attc ttct tctg ctga tgag gaga agaa gaaa aaac aaca acaa caac aact actc ctct tctg ctgt tgtg gtga tgat gatg atgt tgtg gtgt tgtg gtgc tgca gcat catt attc ttca tcat catc atcc tccc ccca ccac caca acag caga agag gagt agtt gttg ttga tgat gatt attg ttgg tgga ggag gagt agtg gtgc tgct gctt cttt tttt ttta ttag taga agac gacc acct ccta ctat tatt attg ttgt tgtg gtgg tgga ggaa gaaa aaaa aaag aagg agga ggaa gaaa aaat aata atat tatc atct tctt cttc ttcc tccc ccca ccat cata ataa taaa aaaa aaaa aaac aact acta ctac taca acac caca acag caga agat gatt attg ttga tgat gatt attg ttga tgaa gaac aaca acag cagt agtt gttt tttt tttg ttga tgaa gaat aatt attt tttc ttct tctc ctct tctt cttt tttt tttt tttg ttgc tgca gcag caga agaa gaat aatc atct tctg ctgc tgca gcaa caag aagt agtg gtgg tgga ggat gata atat tatt attt tttg ttga tgaa gaag aagc agcc gccc ccca ccag caga agaa gaaa aaac aact actt cttc ttct tctt cttt tttg ttgt tgtg gtga tgat gatg atgt tgtg gtgt tgtg gtgc tgca gcat catt attc ttca tcat catc atct tctc ctca tcat cata atag taga agat gatt attt tttg ttgg tgga ggac gaca acat cata atat tatc atct tctt ctta ttat tatg atga tgat gatt attg ttga tgag gagt agtg gtgt tgtt gttg ttgt tgtg gtgg tgga ggaa gaaa aaaa aaag aaga agaa gaaa aaaa aaat aata atat tatc atct tctt cttc ttca tcac cacg acgt cgta gtaa taaa aaaa aaaa aaac aact acta ctac taca acac caca acaa caaa aaaa aaag aagc agca gcat catt attc ttct tctg ctga tgag gaga agat gata atac tact actt cttc ttca tcaa caac aaca acac cact actc ctct tctg ctgt tgtt gttt tttg ttgt tgta gtag taga agaa gaat aatc atct tctg ctgc tgca gcaa caag aagt agtg gtgg tgga ggat gata atat tatt attt tttg ttgg tgga ggag gagt agtg gtgc tgct gctt cttt tttg ttga tgag gagg aggc ggcc gcct ccta ctat tatt attg ttgt tgtg gtgg tgga ggat gatg atgt tgtg gtgt tgtg gtgt tgtt gtta ttaa taaa aaac aact actc ctca tcac caca acag caga agag gagg aggt ggtg gtga tgaa gaac aact actt ctta ttat tatc atct tctt cttt tttt tttg ttga tgat gatt attg ttga tgag gagc agca gcag caga agat gatt attt tttg ttga tgaa gaat aata atat tatc atct tctc ctct tctt ctta ttat tatc atct tctt cttc ttca tcac caca acat cata ataa taaa aaaa aaaa aaac aaca acaa caac aaca acac caca acag caga agaa gaag aagc agca gcat catt attc ttct tctg ctga tgag gaga agaa gaaa aaac aact actt cttc ttct tctt cttt tttg ttgt tgtg gtga tgat gatg atgt tgtg gtgt tgtg gtgc tgca gcat catt attc ttct tctt cttt tttg ttgc tgca gcaa caag aagt agtg gtgg tgga ggat gata atat tatt attt tttg ttgg tgga ggag gagc agcc gccc ccct cctt cttt tttg ttgc tgca gcag cagt agtc gtcc tcca ccat catg atgg tgga ggag gagg aggc ggca gcaa caaa aaag aagg agga ggaa gaaa aaat aata atat tatc atct tctt cttc ttca tcaa caaa aaaa aaag aaga agat gatg atga tgaa gaac aacc acct ccta ctat tatc atct tctt ctta ttat tatg atga tgac gact actg ctga tgag gagc agca gcag cagc agct gctt cttt tttg ttga tgaa gaaa aaac aaca acag cagt agtc gtct tctc ctct tctt cttt tttg ttgc tgca gcaa caaa aaaa aaat aatc atct tctt cttc ttca tcag cagg aggt ggta gtac taca acag caga'"
      ]
     },
     "execution_count": 67,
     "metadata": {},
     "output_type": "execute_result"
    }
   ],
   "source": [
    "df_texts[0]"
   ]
  },
  {
   "cell_type": "code",
   "execution_count": 68,
   "metadata": {},
   "outputs": [
    {
     "data": {
      "text/plain": [
       "'aata atat tatt attc ttct tctg ctgg tggg ggga ggaa gaaa aaag aagt agtt gttc ttct tctt cttt tttg ttgt tgtg gtgg tggt ggtg gtgc tgcg gcgt cgtg gtgc tgca gcat catt attc ttca tcat catg atgt tgtc gtca tcat cata atag taga agag gagt agtt gttg ttga tgaa gaaa aaac aact actt cttt tttc ttct tctt cttt tttt tttt tttg ttga tgag gagg agga ggac gact acta ctat tatt attg ttgt tgtg gtgg tgga ggaa gaaa aaaa aaag aagg agga ggaa gaaa aaat aata atat tatc atct tctt cttc ttca tcac cacg acgt cgta gtaa taaa aaaa aaaa aaac aact acta ctac taca acat cata atag taga agaa gaac aacc acca ccat catt attc ttct tctg ctgc tgca gcag cagt agtt gttt tttt tttg ttga tgaa gaaa aaac aaca acac cact actc ctct tctt cttt tttt tttt tttg ttgt tgta gtag taga agaa gaat aatc atct tctg ctgc tgca gcaa caag aagt agtg gtga tgaa gaat aata ataa taat aatt attg ttgg tgga ggag gagc agcc gccc ccct cctt cttt tttg ttga tgag gagg aggg gggc ggct gctt cttt tttg ttgt tgtg gtga tgat gatg atgt tgtg gtgt tgtg gtgc tgca gcat catt attc ttca tcaa caac aact actc ctca tcac caca acag cagg aggg gggc ggct gctg ctga tgaa gaac aaca acat cata atat tatc atct tctt cttt tttt tttg ttga tgat gatt attt ttta ttag tagc agca gcag cagt agtt gttt tttt tttg ttga tgaa gaaa aaag aagg aggg ggga ggaa gaaa aaat aata atat tatt attt tttt tttc ttca tcac caca acat cata ataa taaa aaaa aaaa aaac aact acta ctac taca acac caca acag caga agaa gaac aacc acca ccat catt attc ttct tctg ctga tgag gaga agaa gaaa aaac aact actt cttc ttct tctt cttt tttg ttgt tgtg gtgt tgtc gtcg tcgt cgtt gttt tttg ttgt tgta gtag taga agaa gaat aatg atgt tgta gtac taca acaa caag aagt agtg gtgg tgga ggat gata atat tatt attt tttg ttgg tgga ggag gagc agcc gccc ccca ccat catt attg ttgt tgtg gtgt tgtc gtcc tcct ccta ctat tatg atgg tggt ggtg gtgg tgga ggaa gaaa aaaa aaag aagg agga ggaa gaaa aaat aata ataa taac aact actc ctca tcac caca acag caga agac gact actt cttg ttga tgaa gaac aacc acct ccta ctat tatc atct tctt ctta ttaa taag aaga agaa gaat aatg atga tgag gagc agca gcag cagt agtt gttt tttt tttg ttga tgaa gaat aatc atct tctc ctct tctc ctct tctt cttt tttt tttt tttg ttgc tgca gcag caga agaa gaat aatt atta ttaa taaa aaaa aaac aact acta ctac taca acac caca acag caga agaa gaag aagc agca gcat catt attc ttca tcag caga agag gaga agaa gaaa aaac aaca acat catc atct tctt cttt tttg ttgt tgtg gtga tgat gatg atgt tgtt gttt tttg ttgc tgca gcat catt attc ttca tcat catc atct tctc ctca tcac caca acag cagg aggg ggga ggat gata atat tatt attt tttg ttgg tgga ggag gagc agcc gccc ccct cctt cttt tttg ttga tgag gagg aggc ggcc gcct cctg ctgt tgtt gttg ttgt tgtg gtgg tgga ggaa gaaa aaaa aaag aagg agga ggaa gaaa aaat aata atat tatc atct tctt cttc ttcc tccc ccca ccat catg atga tgaa gaaa aaaa aaac aact acta ctac tact acta ctat tatc atct tctt cttt tttt tttg ttga tgat gatt attg ttga tgag gagg agga ggat gatt attt tttt tttt tttg ttga tgaa gaat aatc atct tctt cttt tttc ttct tctt cttt tttt tttt tttg ttgc tgca gcag caga agaa gaat aatc atct tctg ctgc tgca gcaa caag aagt agtg gtgt tgta gtat tatg atgt tgtt gttt'"
      ]
     },
     "execution_count": 68,
     "metadata": {},
     "output_type": "execute_result"
    }
   ],
   "source": [
    "df_texts[1]"
   ]
  },
  {
   "cell_type": "code",
   "execution_count": 69,
   "metadata": {},
   "outputs": [
    {
     "data": {
      "text/html": [
       "<div>\n",
       "<style scoped>\n",
       "    .dataframe tbody tr th:only-of-type {\n",
       "        vertical-align: middle;\n",
       "    }\n",
       "\n",
       "    .dataframe tbody tr th {\n",
       "        vertical-align: top;\n",
       "    }\n",
       "\n",
       "    .dataframe thead th {\n",
       "        text-align: right;\n",
       "    }\n",
       "</style>\n",
       "<table border=\"1\" class=\"dataframe\">\n",
       "  <thead>\n",
       "    <tr style=\"text-align: right;\">\n",
       "      <th></th>\n",
       "      <th>Class</th>\n",
       "      <th>words</th>\n",
       "    </tr>\n",
       "  </thead>\n",
       "  <tbody>\n",
       "    <tr>\n",
       "      <th>7</th>\n",
       "      <td>0</td>\n",
       "      <td>[ggca, gcat, catt, attc, ttct, tctg, ctga, tga...</td>\n",
       "    </tr>\n",
       "    <tr>\n",
       "      <th>8</th>\n",
       "      <td>0</td>\n",
       "      <td>[aata, atat, tatt, attc, ttct, tctg, ctgg, tgg...</td>\n",
       "    </tr>\n",
       "    <tr>\n",
       "      <th>1</th>\n",
       "      <td>0</td>\n",
       "      <td>[gggc, ggct, gctt, cttg, ttgt, tgtg, gtgg, tgg...</td>\n",
       "    </tr>\n",
       "    <tr>\n",
       "      <th>4</th>\n",
       "      <td>0</td>\n",
       "      <td>[atgc, tgcc, gcct, ccta, ctat, tatt, attg, ttg...</td>\n",
       "    </tr>\n",
       "    <tr>\n",
       "      <th>7</th>\n",
       "      <td>0</td>\n",
       "      <td>[ggca, gcat, catt, attc, ttct, tctg, ctga, tga...</td>\n",
       "    </tr>\n",
       "  </tbody>\n",
       "</table>\n",
       "</div>"
      ],
      "text/plain": [
       "   Class                                              words\n",
       "7      0  [ggca, gcat, catt, attc, ttct, tctg, ctga, tga...\n",
       "8      0  [aata, atat, tatt, attc, ttct, tctg, ctgg, tgg...\n",
       "1      0  [gggc, ggct, gctt, cttg, ttgt, tgtg, gtgg, tgg...\n",
       "4      0  [atgc, tgcc, gcct, ccta, ctat, tatt, attg, ttg...\n",
       "7      0  [ggca, gcat, catt, attc, ttct, tctg, ctga, tga..."
      ]
     },
     "execution_count": 69,
     "metadata": {},
     "output_type": "execute_result"
    }
   ],
   "source": [
    "df.head()"
   ]
  },
  {
   "cell_type": "code",
   "execution_count": 70,
   "metadata": {},
   "outputs": [
    {
     "data": {
      "text/plain": [
       "array([0, 0, 0, ..., 1, 1, 1])"
      ]
     },
     "execution_count": 70,
     "metadata": {},
     "output_type": "execute_result"
    }
   ],
   "source": [
    "y_h"
   ]
  },
  {
   "cell_type": "code",
   "execution_count": 71,
   "metadata": {},
   "outputs": [
    {
     "data": {
      "text/plain": [
       "40020"
      ]
     },
     "execution_count": 71,
     "metadata": {},
     "output_type": "execute_result"
    }
   ],
   "source": [
    "len(y_h)"
   ]
  },
  {
   "cell_type": "code",
   "execution_count": 72,
   "metadata": {},
   "outputs": [],
   "source": [
    "# Creating the Bag of Words model using CountVectorizer()\n",
    "# This is equivalent to k-mer counting\n",
    "# The n-gram size of 4 was previously determined by testing\n",
    "from sklearn.feature_extraction.text import CountVectorizer\n",
    "cv = CountVectorizer(ngram_range=(4,4))\n",
    "X = cv.fit_transform(df_texts)"
   ]
  },
  {
   "cell_type": "code",
   "execution_count": 73,
   "metadata": {},
   "outputs": [
    {
     "name": "stdout",
     "output_type": "stream",
     "text": [
      "(40020, 16382)\n"
     ]
    }
   ],
   "source": [
    "print(X.shape)\n"
   ]
  },
  {
   "cell_type": "code",
   "execution_count": 74,
   "metadata": {},
   "outputs": [
    {
     "data": {
      "text/plain": [
       "<matplotlib.axes._subplots.AxesSubplot at 0x7f681c574be0>"
      ]
     },
     "execution_count": 74,
     "metadata": {},
     "output_type": "execute_result"
    },
    {
     "data": {
      "image/png": "[encoded data removed]",
      "text/plain": [
       "<Figure size 432x288 with 1 Axes>"
      ]
     },
     "metadata": {},
     "output_type": "display_data"
    }
   ],
   "source": [
    "df['Class'].value_counts().sort_index().plot.bar()\n",
    "    \n",
    "    "
   ]
  },
  {
   "cell_type": "code",
   "execution_count": 75,
   "metadata": {},
   "outputs": [],
   "source": [
    "# Splitting the human dataset into the training set and test set\n",
    "from sklearn.model_selection import train_test_split\n",
    "X_train, X_test, y_train, y_test = train_test_split(X, \n",
    "                                                    y_h, \n",
    "                                                    test_size = 0.60, \n",
    "                                                    random_state=1)"
   ]
  },
  {
   "cell_type": "code",
   "execution_count": 76,
   "metadata": {},
   "outputs": [
    {
     "name": "stdout",
     "output_type": "stream",
     "text": [
      "(16008, 16382)\n",
      "(24012, 16382)\n"
     ]
    }
   ],
   "source": [
    "print(X_train.shape)\n",
    "print(X_test.shape)"
   ]
  },
  {
   "cell_type": "code",
   "execution_count": 77,
   "metadata": {},
   "outputs": [
    {
     "data": {
      "text/plain": [
       "array([0, 0, 1, ..., 0, 0, 1])"
      ]
     },
     "execution_count": 77,
     "metadata": {},
     "output_type": "execute_result"
    }
   ],
   "source": [
    "y_test"
   ]
  },
  {
   "cell_type": "markdown",
   "metadata": {},
   "source": [
    "# Naive Bayes"
   ]
  },
  {
   "cell_type": "code",
   "execution_count": 78,
   "metadata": {},
   "outputs": [
    {
     "data": {
      "text/plain": [
       "MultinomialNB(alpha=0.1, class_prior=None, fit_prior=True)"
      ]
     },
     "execution_count": 78,
     "metadata": {},
     "output_type": "execute_result"
    }
   ],
   "source": [
    "### Multinomial Naive Bayes Classifier ###\n",
    "# The alpha parameter was determined by grid search previously\n",
    "from sklearn.naive_bayes import MultinomialNB\n",
    "classifier = MultinomialNB(alpha=0.1)\n",
    "classifier.fit(X_train, y_train)"
   ]
  },
  {
   "cell_type": "code",
   "execution_count": 79,
   "metadata": {},
   "outputs": [],
   "source": [
    "y_pred = classifier.predict(X_test)\n"
   ]
  },
  {
   "cell_type": "code",
   "execution_count": 80,
   "metadata": {},
   "outputs": [
    {
     "data": {
      "text/plain": [
       "array([0, 0, 1, ..., 0, 0, 1])"
      ]
     },
     "execution_count": 80,
     "metadata": {},
     "output_type": "execute_result"
    }
   ],
   "source": [
    "y_pred"
   ]
  },
  {
   "cell_type": "code",
   "execution_count": 81,
   "metadata": {},
   "outputs": [
    {
     "data": {
      "text/plain": [
       "(1, 16382)"
      ]
     },
     "execution_count": 81,
     "metadata": {},
     "output_type": "execute_result"
    }
   ],
   "source": [
    "X_test[1].shape"
   ]
  },
  {
   "cell_type": "code",
   "execution_count": 82,
   "metadata": {},
   "outputs": [
    {
     "name": "stdout",
     "output_type": "stream",
     "text": [
      "Confusion matrix\n",
      "\n",
      "Predicted      0      1\n",
      "Actual                 \n",
      "0          12094      0\n",
      "1            975  10943\n",
      "accuracy = 0.959 \n",
      "precision = 0.962 \n",
      "recall = 0.959 \n",
      "f1 = 0.959\n"
     ]
    }
   ],
   "source": [
    "from sklearn.metrics import accuracy_score, f1_score, precision_score, recall_score\n",
    "print(\"Confusion matrix\\n\")\n",
    "print(pd.crosstab(pd.Series(y_test, name='Actual'), pd.Series(y_pred, name='Predicted')))\n",
    "def get_metrics(y_test, y_predicted):\n",
    "    accuracy = accuracy_score(y_test, y_predicted)\n",
    "    precision = precision_score(y_test, y_predicted, average='weighted')\n",
    "    recall = recall_score(y_test, y_predicted, average='weighted')\n",
    "    f1 = f1_score(y_test, y_predicted, average='weighted')\n",
    "    return accuracy, precision, recall, f1\n",
    "accuracy, precision, recall, f1 = get_metrics(y_test, y_pred)\n",
    "print(\"accuracy = %.3f \\nprecision = %.3f \\nrecall = %.3f \\nf1 = %.3f\" % (accuracy, precision, recall, f1))"
   ]
  },
  {
   "cell_type": "code",
   "execution_count": 83,
   "metadata": {},
   "outputs": [],
   "source": [
    "import pickle\n",
    "\n",
    "\n",
    "#file = open('MultinomialNB.pickle', 'wb')\n",
    "#pickle.dump(X, file)  #<=== Add this\n",
    "#pickle.dump(classifier, file)\n",
    "\n",
    "\n",
    "tuple_objects = (classifier, cv)\n",
    "pickle.dump(tuple_objects, open(\"tuple_model.pkl\", 'wb'))\n"
   ]
  },
  {
   "cell_type": "markdown",
   "metadata": {},
   "source": [
    "# SVM"
   ]
  },
  {
   "cell_type": "code",
   "execution_count": 84,
   "metadata": {},
   "outputs": [
    {
     "data": {
      "text/plain": [
       "SVC(C=1, cache_size=200, class_weight=None, coef0=0.0,\n",
       "  decision_function_shape='ovr', degree=3, gamma='auto', kernel='linear',\n",
       "  max_iter=-1, probability=False, random_state=None, shrinking=True,\n",
       "  tol=0.001, verbose=False)"
      ]
     },
     "execution_count": 84,
     "metadata": {},
     "output_type": "execute_result"
    }
   ],
   "source": [
    "from sklearn import svm\n",
    "clf = svm.SVC(C = 1, #gamma= 0.0001, \n",
    "              kernel = 'linear')\n",
    "clf.fit(X_train, y_train)"
   ]
  },
  {
   "cell_type": "code",
   "execution_count": 85,
   "metadata": {},
   "outputs": [],
   "source": [
    "y_pred = clf.predict(X_test)"
   ]
  },
  {
   "cell_type": "code",
   "execution_count": 86,
   "metadata": {},
   "outputs": [
    {
     "data": {
      "text/plain": [
       "array([0, 0, 1, ..., 0, 0, 1])"
      ]
     },
     "execution_count": 86,
     "metadata": {},
     "output_type": "execute_result"
    }
   ],
   "source": [
    "y_pred"
   ]
  },
  {
   "cell_type": "code",
   "execution_count": 87,
   "metadata": {},
   "outputs": [
    {
     "name": "stdout",
     "output_type": "stream",
     "text": [
      "Confusion matrix\n",
      "\n",
      "Predicted      0      1\n",
      "Actual                 \n",
      "0          12094      0\n",
      "1              0  11918\n",
      "accuracy = 1.000 \n",
      "precision = 1.000 \n",
      "recall = 1.000 \n",
      "f1 = 1.000\n"
     ]
    }
   ],
   "source": [
    "from sklearn.metrics import accuracy_score, f1_score, precision_score, recall_score\n",
    "print(\"Confusion matrix\\n\")\n",
    "print(pd.crosstab(pd.Series(y_test, name='Actual'), pd.Series(y_pred, name='Predicted')))\n",
    "def get_metrics(y_test, y_predicted):\n",
    "    accuracy = accuracy_score(y_test, y_predicted)\n",
    "    precision = precision_score(y_test, y_predicted, average='weighted')\n",
    "    recall = recall_score(y_test, y_predicted, average='weighted')\n",
    "    f1 = f1_score(y_test, y_predicted, average='weighted')\n",
    "    return accuracy, precision, recall, f1\n",
    "accuracy, precision, recall, f1 = get_metrics(y_test, y_pred)\n",
    "print(\"accuracy = %.3f \\nprecision = %.3f \\nrecall = %.3f \\nf1 = %.3f\" % (accuracy, precision, recall, f1))"
   ]
  },
  {
   "cell_type": "markdown",
   "metadata": {},
   "source": [
    "# Neural Network"
   ]
  },
  {
   "cell_type": "code",
   "execution_count": 88,
   "metadata": {},
   "outputs": [
    {
     "data": {
      "text/plain": [
       "MLPClassifier(activation='relu', alpha=1e-05, batch_size='auto', beta_1=0.9,\n",
       "       beta_2=0.999, early_stopping=False, epsilon=1e-08,\n",
       "       hidden_layer_sizes=(5, 2), learning_rate='constant',\n",
       "       learning_rate_init=0.001, max_iter=200, momentum=0.9,\n",
       "       nesterovs_momentum=True, power_t=0.5, random_state=1, shuffle=True,\n",
       "       solver='lbfgs', tol=0.0001, validation_fraction=0.1, verbose=False,\n",
       "       warm_start=False)"
      ]
     },
     "execution_count": 88,
     "metadata": {},
     "output_type": "execute_result"
    }
   ],
   "source": [
    "from sklearn.neural_network import MLPClassifier\n",
    "\n",
    "NNclassifier = MLPClassifier(solver='lbfgs', alpha=1e-5,\n",
    "                     hidden_layer_sizes=(5, 2), random_state=1)\n",
    "\n",
    "NNclassifier.fit(X_train, y_train)                         \n"
   ]
  },
  {
   "cell_type": "code",
   "execution_count": 89,
   "metadata": {},
   "outputs": [],
   "source": [
    "y_pred = NNclassifier.predict(X_test)"
   ]
  },
  {
   "cell_type": "code",
   "execution_count": 90,
   "metadata": {},
   "outputs": [
    {
     "name": "stdout",
     "output_type": "stream",
     "text": [
      "Confusion matrix\n",
      "\n",
      "Predicted      0      1\n",
      "Actual                 \n",
      "0          12094      0\n",
      "1              0  11918\n",
      "accuracy = 1.000 \n",
      "precision = 1.000 \n",
      "recall = 1.000 \n",
      "f1 = 1.000\n"
     ]
    }
   ],
   "source": [
    "from sklearn.metrics import accuracy_score, f1_score, precision_score, recall_score\n",
    "print(\"Confusion matrix\\n\")\n",
    "print(pd.crosstab(pd.Series(y_test, name='Actual'), pd.Series(y_pred, name='Predicted')))\n",
    "def get_metrics(y_test, y_predicted):\n",
    "    accuracy = accuracy_score(y_test, y_predicted)\n",
    "    precision = precision_score(y_test, y_predicted, average='weighted')\n",
    "    recall = recall_score(y_test, y_predicted, average='weighted')\n",
    "    f1 = f1_score(y_test, y_predicted, average='weighted')\n",
    "    return accuracy, precision, recall, f1\n",
    "accuracy, precision, recall, f1 = get_metrics(y_test, y_pred)\n",
    "print(\"accuracy = %.3f \\nprecision = %.3f \\nrecall = %.3f \\nf1 = %.3f\" % (accuracy, precision, recall, f1))"
   ]
  },
  {
   "cell_type": "code",
   "execution_count": 91,
   "metadata": {},
   "outputs": [
    {
     "data": {
      "text/plain": [
       "array([0, 0, 1, ..., 0, 0, 1])"
      ]
     },
     "execution_count": 91,
     "metadata": {},
     "output_type": "execute_result"
    }
   ],
   "source": [
    "y_pred"
   ]
  },
  {
   "cell_type": "markdown",
   "metadata": {},
   "source": [
    "# Random Forest Classifier"
   ]
  },
  {
   "cell_type": "code",
   "execution_count": 92,
   "metadata": {},
   "outputs": [
    {
     "name": "stderr",
     "output_type": "stream",
     "text": [
      "/home/ubuntu/anaconda3/lib/python3.6/site-packages/sklearn/ensemble/weight_boosting.py:29: DeprecationWarning: numpy.core.umath_tests is an internal NumPy module and should not be imported. It will be removed in a future NumPy release.\n",
      "  from numpy.core.umath_tests import inner1d\n"
     ]
    },
    {
     "data": {
      "text/plain": [
       "RandomForestClassifier(bootstrap=True, class_weight=None, criterion='gini',\n",
       "            max_depth=2, max_features='auto', max_leaf_nodes=None,\n",
       "            min_impurity_decrease=0.0, min_impurity_split=None,\n",
       "            min_samples_leaf=1, min_samples_split=2,\n",
       "            min_weight_fraction_leaf=0.0, n_estimators=100, n_jobs=1,\n",
       "            oob_score=False, random_state=0, verbose=0, warm_start=False)"
      ]
     },
     "execution_count": 92,
     "metadata": {},
     "output_type": "execute_result"
    }
   ],
   "source": [
    ">>> from sklearn.ensemble import RandomForestClassifier\n",
    "\n",
    "RFC = RandomForestClassifier(n_estimators=100, max_depth=2,\n",
    "                              random_state=0)\n",
    "RFC.fit(X_train, y_train)                         \n"
   ]
  },
  {
   "cell_type": "code",
   "execution_count": 93,
   "metadata": {},
   "outputs": [],
   "source": [
    "y_pred = RFC.predict(X_test)"
   ]
  },
  {
   "cell_type": "code",
   "execution_count": 94,
   "metadata": {},
   "outputs": [
    {
     "name": "stdout",
     "output_type": "stream",
     "text": [
      "Confusion matrix\n",
      "\n",
      "Predicted      0      1\n",
      "Actual                 \n",
      "0          12094      0\n",
      "1              0  11918\n",
      "accuracy = 1.000 \n",
      "precision = 1.000 \n",
      "recall = 1.000 \n",
      "f1 = 1.000\n"
     ]
    }
   ],
   "source": [
    "from sklearn.metrics import accuracy_score, f1_score, precision_score, recall_score\n",
    "print(\"Confusion matrix\\n\")\n",
    "print(pd.crosstab(pd.Series(y_test, name='Actual'), pd.Series(y_pred, name='Predicted')))\n",
    "def get_metrics(y_test, y_predicted):\n",
    "    accuracy = accuracy_score(y_test, y_predicted)\n",
    "    precision = precision_score(y_test, y_predicted, average='weighted')\n",
    "    recall = recall_score(y_test, y_predicted, average='weighted')\n",
    "    f1 = f1_score(y_test, y_predicted, average='weighted')\n",
    "    return accuracy, precision, recall, f1\n",
    "accuracy, precision, recall, f1 = get_metrics(y_test, y_pred)\n",
    "print(\"accuracy = %.3f \\nprecision = %.3f \\nrecall = %.3f \\nf1 = %.3f\" % (accuracy, precision, recall, f1))"
   ]
  },
  {
   "cell_type": "markdown",
   "metadata": {},
   "source": [
    "# Decision Tree"
   ]
  },
  {
   "cell_type": "code",
   "execution_count": null,
   "metadata": {},
   "outputs": [],
   "source": [
    "from sklearn import tree\n",
    "clf = tree.DecisionTreeClassifier()\n",
    "clf = clf.fit(X_train, y_train)\n"
   ]
  },
  {
   "cell_type": "code",
   "execution_count": null,
   "metadata": {},
   "outputs": [],
   "source": [
    "y_pred = clf.predict(X_test)"
   ]
  },
  {
   "cell_type": "code",
   "execution_count": null,
   "metadata": {},
   "outputs": [],
   "source": [
    "from sklearn.metrics import accuracy_score, f1_score, precision_score, recall_score\n",
    "print(\"Confusion matrix\\n\")\n",
    "print(pd.crosstab(pd.Series(y_test, name='Actual'), pd.Series(y_pred, name='Predicted')))\n",
    "def get_metrics(y_test, y_predicted):\n",
    "    accuracy = accuracy_score(y_test, y_predicted)\n",
    "    precision = precision_score(y_test, y_predicted, average='weighted')\n",
    "    recall = recall_score(y_test, y_predicted, average='weighted')\n",
    "    f1 = f1_score(y_test, y_predicted, average='weighted')\n",
    "    return accuracy, precision, recall, f1\n",
    "accuracy, precision, recall, f1 = get_metrics(y_test, y_pred)\n",
    "print(\"accuracy = %.3f \\nprecision = %.3f \\nrecall = %.3f \\nf1 = %.3f\" % (accuracy, precision, recall, f1))"
   ]
  },
  {
   "cell_type": "code",
   "execution_count": null,
   "metadata": {},
   "outputs": [],
   "source": []
  }
 ],
 "metadata": {
  "kernelspec": {
   "display_name": "Python 3",
   "language": "python",
   "name": "python3"
  },
  "language_info": {
   "codemirror_mode": {
    "name": "ipython",
    "version": 3
   },
   "file_extension": ".py",
   "mimetype": "text/x-python",
   "name": "python",
   "nbconvert_exporter": "python",
   "pygments_lexer": "ipython3",
   "version": "3.6.5"
  }
 },
 "nbformat": 4,
 "nbformat_minor": 2
}
